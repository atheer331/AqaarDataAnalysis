{
 "cells": [
  {
   "cell_type": "code",
   "execution_count": 2,
   "id": "3eda57ae",
   "metadata": {},
   "outputs": [],
   "source": [
    "import requests\n",
    "from bs4 import BeautifulSoup\n",
    "import pandas as pd\n",
    "import numpy as np\n"
   ]
  },
  {
   "cell_type": "code",
   "execution_count": 3,
   "id": "d4f9daa3",
   "metadata": {},
   "outputs": [],
   "source": [
    "url = 'https://sa.aqar.fm/%D9%81%D9%84%D9%84-%D9%84%D9%84%D8%A8%D9%8A%D8%B9/1'\n",
    "response = requests.get(url)"
   ]
  },
  {
   "cell_type": "code",
   "execution_count": 8,
   "id": "a378ac9c",
   "metadata": {},
   "outputs": [],
   "source": [
    "response =response.content\n",
    "#soup = BeautifulSoup(response,'html.parser')\n"
   ]
  },
  {
   "cell_type": "code",
   "execution_count": 9,
   "id": "d9de93de",
   "metadata": {},
   "outputs": [],
   "source": [
    "soup = BeautifulSoup(response,'html.parser')"
   ]
  },
  {
   "cell_type": "code",
   "execution_count": 10,
   "id": "55a9c2f5",
   "metadata": {},
   "outputs": [
    {
     "data": {
      "text/plain": [
       "<!DOCTYPE html>\n",
       "<html lang=\"ar\"><head><meta charset=\"utf-8\"/><link as=\"image\" imagesrcset=\"https://assets.aqar.fm/icons/AqarLogoH-colored.svg 1x, https://assets.aqar.fm/icons/AqarLogoH-colored.svg 2x\" rel=\"preload\"/><title>فلل للبيع   - الصفحة 1 | تطبيق عقار</title><link href=\"https://assets.aqar.fm/\" rel=\"dns-prefetch\"/><link href=\"https://images.aqar.fm/\" rel=\"dns-prefetch\"/><meta content=\"أفضل إعلانات الفلل للبيع في جميع مدن ومناطق السعودية بالصور، تواصل مع المالك مباشرة أو المكتب و اعرف تفاصيل الحي مع خدمة تقييم الأحياء على تطبيق عقار ، تطبيق عقار\" name=\"description\"/><meta content=\"width=device-width,maximum-scale=1,initial-scale=1\" name=\"viewport\"/><meta content=\"article\" property=\"og:type\"/><meta content=\"ar_SA\" property=\"og:locale\"/><meta content=\"فلل للبيع   - الصفحة 1 | تطبيق عقار\" name=\"og:title\" property=\"og:title\"/><meta content=\"أفضل إعلانات الفلل للبيع في جميع مدن ومناطق السعودية بالصور، تواصل مع المالك مباشرة أو المكتب و اعرف تفاصيل الحي مع خدمة تقييم الأحياء على تطبيق عقار ، تطبيق عقار\" name=\"og:description\" property=\"og:description\"/><meta content=\"https://sa.aqar.fm/فلل-للبيع\" property=\"og:url\"/><meta content=\"app\" name=\"twitter:card\"/><meta content=\"فلل للبيع   - الصفحة 1 | تطبيق عقار\" name=\"twitter:title\"/><meta content=\"أفضل إعلانات الفلل للبيع في جميع مدن ومناطق السعودية بالصور، تواصل مع المالك مباشرة أو المكتب و اعرف تفاصيل الحي مع خدمة تقييم الأحياء على تطبيق عقار ، تطبيق عقار\" name=\"twitter:description\"/><meta content=\"@aqarapp\" name=\"twitter:site\"/><meta content=\"SA\" name=\"twitter:app:country\"/><meta content=\"عقار\" name=\"twitter:app:name:iphone\"/><meta content=\"879992882\" name=\"twitter:app:id:iphone\"/><meta content=\"تطبيق,عقار,العقار,السعودي,فيلا,دوبلكس,دبلكس,دوبلكسات,فلل,للبيع\" name=\"keywords\"/><link href=\"https://sa.aqar.fm/فلل-للبيع\" rel=\"canonical\"/><meta content=\"app-id=879992882\" name=\"apple-itunes-app\"/><meta content=\"879992882\" property=\"al:ios:app_store_id\"/><meta content=\"عقار\" property=\"al:ios:app_name\"/><link crossorigin=\"true\" href=\"https://images.aqar.fm/\" rel=\"preconnect\"/><meta content=\"index, follow\" name=\"robots\"/><meta content=\"DPR, Viewport-Width\" http-equiv=\"Accept-CH\"/><meta content=\"text/html; charset=utf-8\" http-equiv=\"Content-Type\"/><meta content=\"Arabic\" name=\"language\"/><link as=\"image\" imagesizes=\"100vw\" imagesrcset=\"https://images.aqar.fm/webp/250x0/props/006378172_1678288360091.jpg 640w, https://images.aqar.fm/webp/250x0/props/006378172_1678288360091.jpg 750w, https://images.aqar.fm/webp/300x0/props/006378172_1678288360091.jpg 828w, https://images.aqar.fm/webp/300x0/props/006378172_1678288360091.jpg 1080w, https://images.aqar.fm/webp/350x0/props/006378172_1678288360091.jpg 1200w, https://images.aqar.fm/webp/350x0/props/006378172_1678288360091.jpg 1920w, https://images.aqar.fm/webp/350x0/props/006378172_1678288360091.jpg 2048w, https://images.aqar.fm/webp/350x0/props/006378172_1678288360091.jpg 3840w\" rel=\"preload\"/><link as=\"image\" imagesizes=\"100vw\" imagesrcset=\"https://images.aqar.fm/webp/250x0/props/000512268_1678371578461.jpg 640w, https://images.aqar.fm/webp/250x0/props/000512268_1678371578461.jpg 750w, https://images.aqar.fm/webp/300x0/props/000512268_1678371578461.jpg 828w, https://images.aqar.fm/webp/300x0/props/000512268_1678371578461.jpg 1080w, https://images.aqar.fm/webp/350x0/props/000512268_1678371578461.jpg 1200w, https://images.aqar.fm/webp/350x0/props/000512268_1678371578461.jpg 1920w, https://images.aqar.fm/webp/350x0/props/000512268_1678371578461.jpg 2048w, https://images.aqar.fm/webp/350x0/props/000512268_1678371578461.jpg 3840w\" rel=\"preload\"/><link as=\"image\" imagesizes=\"100vw\" imagesrcset=\"https://images.aqar.fm/webp/250x0/props/009238698_1679079035561.jpg 640w, https://images.aqar.fm/webp/250x0/props/009238698_1679079035561.jpg 750w, https://images.aqar.fm/webp/300x0/props/009238698_1679079035561.jpg 828w, https://images.aqar.fm/webp/300x0/props/009238698_1679079035561.jpg 1080w, https://images.aqar.fm/webp/350x0/props/009238698_1679079035561.jpg 1200w, https://images.aqar.fm/webp/350x0/props/009238698_1679079035561.jpg 1920w, https://images.aqar.fm/webp/350x0/props/009238698_1679079035561.jpg 2048w, https://images.aqar.fm/webp/350x0/props/009238698_1679079035561.jpg 3840w\" rel=\"preload\"/><link as=\"image\" imagesizes=\"100vw\" imagesrcset=\"https://images.aqar.fm/webp/250x0/props/009493604_1678007767569.png 640w, https://images.aqar.fm/webp/250x0/props/009493604_1678007767569.png 750w, https://images.aqar.fm/webp/300x0/props/009493604_1678007767569.png 828w, https://images.aqar.fm/webp/300x0/props/009493604_1678007767569.png 1080w, https://images.aqar.fm/webp/350x0/props/009493604_1678007767569.png 1200w, https://images.aqar.fm/webp/350x0/props/009493604_1678007767569.png 1920w, https://images.aqar.fm/webp/350x0/props/009493604_1678007767569.png 2048w, https://images.aqar.fm/webp/350x0/props/009493604_1678007767569.png 3840w\" rel=\"preload\"/><link as=\"image\" imagesizes=\"100vw\" imagesrcset=\"https://assets.aqar.fm/icons/AqarLogo-colored.svg 640w, https://assets.aqar.fm/icons/AqarLogo-colored.svg 750w, https://assets.aqar.fm/icons/AqarLogo-colored.svg 828w, https://assets.aqar.fm/icons/AqarLogo-colored.svg 1080w, https://assets.aqar.fm/icons/AqarLogo-colored.svg 1200w, https://assets.aqar.fm/icons/AqarLogo-colored.svg 1920w, https://assets.aqar.fm/icons/AqarLogo-colored.svg 2048w, https://assets.aqar.fm/icons/AqarLogo-colored.svg 3840w\" rel=\"preload\"/><link as=\"image\" imagesizes=\"100vw\" imagesrcset=\"https://assets.aqar.fm/icons/Circle.svg 640w, https://assets.aqar.fm/icons/Circle.svg 750w, https://assets.aqar.fm/icons/Circle.svg 828w, https://assets.aqar.fm/icons/Circle.svg 1080w, https://assets.aqar.fm/icons/Circle.svg 1200w, https://assets.aqar.fm/icons/Circle.svg 1920w, https://assets.aqar.fm/icons/Circle.svg 2048w, https://assets.aqar.fm/icons/Circle.svg 3840w\" rel=\"preload\"/><link as=\"image\" imagesizes=\"100vw\" imagesrcset=\"https://assets.aqar.fm/icons/AddCircle-colored.svg 640w, https://assets.aqar.fm/icons/AddCircle-colored.svg 750w, https://assets.aqar.fm/icons/AddCircle-colored.svg 828w, https://assets.aqar.fm/icons/AddCircle-colored.svg 1080w, https://assets.aqar.fm/icons/AddCircle-colored.svg 1200w, https://assets.aqar.fm/icons/AddCircle-colored.svg 1920w, https://assets.aqar.fm/icons/AddCircle-colored.svg 2048w, https://assets.aqar.fm/icons/AddCircle-colored.svg 3840w\" rel=\"preload\"/><link as=\"image\" imagesizes=\"100vw\" imagesrcset=\"https://assets.aqar.fm/icons/Fees.svg 640w, https://assets.aqar.fm/icons/Fees.svg 750w, https://assets.aqar.fm/icons/Fees.svg 828w, https://assets.aqar.fm/icons/Fees.svg 1080w, https://assets.aqar.fm/icons/Fees.svg 1200w, https://assets.aqar.fm/icons/Fees.svg 1920w, https://assets.aqar.fm/icons/Fees.svg 2048w, https://assets.aqar.fm/icons/Fees.svg 3840w\" rel=\"preload\"/><link as=\"image\" imagesizes=\"100vw\" imagesrcset=\"https://assets.aqar.fm/icons/Calculator.svg 640w, https://assets.aqar.fm/icons/Calculator.svg 750w, https://assets.aqar.fm/icons/Calculator.svg 828w, https://assets.aqar.fm/icons/Calculator.svg 1080w, https://assets.aqar.fm/icons/Calculator.svg 1200w, https://assets.aqar.fm/icons/Calculator.svg 1920w, https://assets.aqar.fm/icons/Calculator.svg 2048w, https://assets.aqar.fm/icons/Calculator.svg 3840w\" rel=\"preload\"/><link as=\"image\" imagesizes=\"100vw\" imagesrcset=\"https://assets.aqar.fm/icons/Equalizer.svg 640w, https://assets.aqar.fm/icons/Equalizer.svg 750w, https://assets.aqar.fm/icons/Equalizer.svg 828w, https://assets.aqar.fm/icons/Equalizer.svg 1080w, https://assets.aqar.fm/icons/Equalizer.svg 1200w, https://assets.aqar.fm/icons/Equalizer.svg 1920w, https://assets.aqar.fm/icons/Equalizer.svg 2048w, https://assets.aqar.fm/icons/Equalizer.svg 3840w\" rel=\"preload\"/><link as=\"image\" imagesizes=\"100vw\" imagesrcset=\"https://assets.aqar.fm/icons/Contracts.svg 640w, https://assets.aqar.fm/icons/Contracts.svg 750w, https://assets.aqar.fm/icons/Contracts.svg 828w, https://assets.aqar.fm/icons/Contracts.svg 1080w, https://assets.aqar.fm/icons/Contracts.svg 1200w, https://assets.aqar.fm/icons/Contracts.svg 1920w, https://assets.aqar.fm/icons/Contracts.svg 2048w, https://assets.aqar.fm/icons/Contracts.svg 3840w\" rel=\"preload\"/><link as=\"image\" imagesizes=\"100vw\" imagesrcset=\"https://assets.aqar.fm/icons/WebFeatured.svg 640w, https://assets.aqar.fm/icons/WebFeatured.svg 750w, https://assets.aqar.fm/icons/WebFeatured.svg 828w, https://assets.aqar.fm/icons/WebFeatured.svg 1080w, https://assets.aqar.fm/icons/WebFeatured.svg 1200w, https://assets.aqar.fm/icons/WebFeatured.svg 1920w, https://assets.aqar.fm/icons/WebFeatured.svg 2048w, https://assets.aqar.fm/icons/WebFeatured.svg 3840w\" rel=\"preload\"/><link as=\"image\" imagesizes=\"100vw\" imagesrcset=\"https://assets.aqar.fm/icons/Message.svg 640w, https://assets.aqar.fm/icons/Message.svg 750w, https://assets.aqar.fm/icons/Message.svg 828w, https://assets.aqar.fm/icons/Message.svg 1080w, https://assets.aqar.fm/icons/Message.svg 1200w, https://assets.aqar.fm/icons/Message.svg 1920w, https://assets.aqar.fm/icons/Message.svg 2048w, https://assets.aqar.fm/icons/Message.svg 3840w\" rel=\"preload\"/><link as=\"image\" imagesizes=\"100vw\" imagesrcset=\"https://assets.aqar.fm/icons/Profile.svg 640w, https://assets.aqar.fm/icons/Profile.svg 750w, https://assets.aqar.fm/icons/Profile.svg 828w, https://assets.aqar.fm/icons/Profile.svg 1080w, https://assets.aqar.fm/icons/Profile.svg 1200w, https://assets.aqar.fm/icons/Profile.svg 1920w, https://assets.aqar.fm/icons/Profile.svg 2048w, https://assets.aqar.fm/icons/Profile.svg 3840w\" rel=\"preload\"/><link as=\"image\" imagesizes=\"100vw\" imagesrcset=\"https://assets.aqar.fm/icons/Terms.svg 640w, https://assets.aqar.fm/icons/Terms.svg 750w, https://assets.aqar.fm/icons/Terms.svg 828w, https://assets.aqar.fm/icons/Terms.svg 1080w, https://assets.aqar.fm/icons/Terms.svg 1200w, https://assets.aqar.fm/icons/Terms.svg 1920w, https://assets.aqar.fm/icons/Terms.svg 2048w, https://assets.aqar.fm/icons/Terms.svg 3840w\" rel=\"preload\"/><link as=\"image\" imagesizes=\"100vw\" imagesrcset=\"https://assets.aqar.fm/icons/BuildingCalc.svg 640w, https://assets.aqar.fm/icons/BuildingCalc.svg 750w, https://assets.aqar.fm/icons/BuildingCalc.svg 828w, https://assets.aqar.fm/icons/BuildingCalc.svg 1080w, https://assets.aqar.fm/icons/BuildingCalc.svg 1200w, https://assets.aqar.fm/icons/BuildingCalc.svg 1920w, https://assets.aqar.fm/icons/BuildingCalc.svg 2048w, https://assets.aqar.fm/icons/BuildingCalc.svg 3840w\" rel=\"preload\"/><link as=\"image\" imagesizes=\"100vw\" imagesrcset=\"https://assets.aqar.fm/icons/ContactUs.svg 640w, https://assets.aqar.fm/icons/ContactUs.svg 750w, https://assets.aqar.fm/icons/ContactUs.svg 828w, https://assets.aqar.fm/icons/ContactUs.svg 1080w, https://assets.aqar.fm/icons/ContactUs.svg 1200w, https://assets.aqar.fm/icons/ContactUs.svg 1920w, https://assets.aqar.fm/icons/ContactUs.svg 2048w, https://assets.aqar.fm/icons/ContactUs.svg 3840w\" rel=\"preload\"/><link as=\"image\" imagesizes=\"100vw\" imagesrcset=\"https://assets.aqar.fm/icons/Facebook.svg 640w, https://assets.aqar.fm/icons/Facebook.svg 750w, https://assets.aqar.fm/icons/Facebook.svg 828w, https://assets.aqar.fm/icons/Facebook.svg 1080w, https://assets.aqar.fm/icons/Facebook.svg 1200w, https://assets.aqar.fm/icons/Facebook.svg 1920w, https://assets.aqar.fm/icons/Facebook.svg 2048w, https://assets.aqar.fm/icons/Facebook.svg 3840w\" rel=\"preload\"/><link as=\"image\" imagesizes=\"100vw\" imagesrcset=\"https://assets.aqar.fm/icons/Linkedin.svg 640w, https://assets.aqar.fm/icons/Linkedin.svg 750w, https://assets.aqar.fm/icons/Linkedin.svg 828w, https://assets.aqar.fm/icons/Linkedin.svg 1080w, https://assets.aqar.fm/icons/Linkedin.svg 1200w, https://assets.aqar.fm/icons/Linkedin.svg 1920w, https://assets.aqar.fm/icons/Linkedin.svg 2048w, https://assets.aqar.fm/icons/Linkedin.svg 3840w\" rel=\"preload\"/><link as=\"image\" imagesizes=\"100vw\" imagesrcset=\"https://assets.aqar.fm/icons/Twitter.svg 640w, https://assets.aqar.fm/icons/Twitter.svg 750w, https://assets.aqar.fm/icons/Twitter.svg 828w, https://assets.aqar.fm/icons/Twitter.svg 1080w, https://assets.aqar.fm/icons/Twitter.svg 1200w, https://assets.aqar.fm/icons/Twitter.svg 1920w, https://assets.aqar.fm/icons/Twitter.svg 2048w, https://assets.aqar.fm/icons/Twitter.svg 3840w\" rel=\"preload\"/><link as=\"image\" imagesizes=\"100vw\" imagesrcset=\"https://assets.aqar.fm/icons/Instagram.svg 640w, https://assets.aqar.fm/icons/Instagram.svg 750w, https://assets.aqar.fm/icons/Instagram.svg 828w, https://assets.aqar.fm/icons/Instagram.svg 1080w, https://assets.aqar.fm/icons/Instagram.svg 1200w, https://assets.aqar.fm/icons/Instagram.svg 1920w, https://assets.aqar.fm/icons/Instagram.svg 2048w, https://assets.aqar.fm/icons/Instagram.svg 3840w\" rel=\"preload\"/><link as=\"image\" imagesizes=\"100vw\" imagesrcset=\"https://assets.aqar.fm/icons/Youtube.svg 640w, https://assets.aqar.fm/icons/Youtube.svg 750w, https://assets.aqar.fm/icons/Youtube.svg 828w, https://assets.aqar.fm/icons/Youtube.svg 1080w, https://assets.aqar.fm/icons/Youtube.svg 1200w, https://assets.aqar.fm/icons/Youtube.svg 1920w, https://assets.aqar.fm/icons/Youtube.svg 2048w, https://assets.aqar.fm/icons/Youtube.svg 3840w\" rel=\"preload\"/><link as=\"image\" imagesizes=\"100vw\" imagesrcset=\"https://assets.aqar.fm/icons/Snapchat.svg 640w, https://assets.aqar.fm/icons/Snapchat.svg 750w, https://assets.aqar.fm/icons/Snapchat.svg 828w, https://assets.aqar.fm/icons/Snapchat.svg 1080w, https://assets.aqar.fm/icons/Snapchat.svg 1200w, https://assets.aqar.fm/icons/Snapchat.svg 1920w, https://assets.aqar.fm/icons/Snapchat.svg 2048w, https://assets.aqar.fm/icons/Snapchat.svg 3840w\" rel=\"preload\"/><link as=\"image\" imagesizes=\"100vw\" imagesrcset=\"https://assets.aqar.fm/icons/vat_2.svg 640w, https://assets.aqar.fm/icons/vat_2.svg 750w, https://assets.aqar.fm/icons/vat_2.svg 828w, https://assets.aqar.fm/icons/vat_2.svg 1080w, https://assets.aqar.fm/icons/vat_2.svg 1200w, https://assets.aqar.fm/icons/vat_2.svg 1920w, https://assets.aqar.fm/icons/vat_2.svg 2048w, https://assets.aqar.fm/icons/vat_2.svg 3840w\" rel=\"preload\"/><link as=\"image\" imagesizes=\"100vw\" imagesrcset=\"https://assets.aqar.fm/icons/REGA-License.png 640w, https://assets.aqar.fm/icons/REGA-License.png 750w, https://assets.aqar.fm/icons/REGA-License.png 828w, https://assets.aqar.fm/icons/REGA-License.png 1080w, https://assets.aqar.fm/icons/REGA-License.png 1200w, https://assets.aqar.fm/icons/REGA-License.png 1920w, https://assets.aqar.fm/icons/REGA-License.png 2048w, https://assets.aqar.fm/icons/REGA-License.png 3840w\" rel=\"preload\"/><meta content=\"54\" name=\"next-head-count\"/><script async=\"\" src=\"https://www.googletagmanager.com/gtag/js?id=GTM-N8GZGTM\"></script><link href=\"/favicon.ico\" rel=\"shortcut icon\"/><link href=\"https://assets.aqar.fm/v3/favicon/apple-icon-57x57.png\" rel=\"apple-touch-icon\" sizes=\"57x57\"/><link href=\"https://assets.aqar.fm/v3/favicon/apple-icon-60x60.png\" rel=\"apple-touch-icon\" sizes=\"60x60\"/><link href=\"https://assets.aqar.fm/v3/favicon/apple-icon-72x72.png\" rel=\"apple-touch-icon\" sizes=\"72x72\"/><link href=\"https://assets.aqar.fm/v3/favicon/apple-icon-76x76.png\" rel=\"apple-touch-icon\" sizes=\"76x76\"/><link href=\"https://assets.aqar.fm/v3/favicon/apple-icon-114x114.png\" rel=\"apple-touch-icon\" sizes=\"114x114\"/><link href=\"https://assets.aqar.fm/v3/favicon/apple-icon-120x120.png\" rel=\"apple-touch-icon\" sizes=\"120x120\"/><link href=\"https://assets.aqar.fm/v3/favicon/apple-icon-144x144.png\" rel=\"apple-touch-icon\" sizes=\"144x144\"/><link href=\"https://assets.aqar.fm/v3/favicon/apple-icon-152x152.png\" rel=\"apple-touch-icon\" sizes=\"152x152\"/><link href=\"https://assets.aqar.fm/v3/favicon/apple-icon-180x180.png\" rel=\"apple-touch-icon\" sizes=\"180x180\"/><link href=\"https://assets.aqar.fm/v3/favicon/android-icon-192x192.png\" rel=\"icon\" sizes=\"192x192\" type=\"image/png\"/><link href=\"https://assets.aqar.fm/v3/favicon/favicon.ico\" rel=\"favicon\"/><link href=\"https://assets.aqar.fm/v3/favicon/favicon-32x32.png\" rel=\"icon\" sizes=\"32x32\" type=\"image/png\"/><link href=\"https://assets.aqar.fm/v3/favicon/favicon-96x96.png\" rel=\"icon\" sizes=\"96x96\" type=\"image/png\"/><link href=\"https://assets.aqar.fm/v3/favicon/favicon-16x16.png\" rel=\"icon\" sizes=\"16x16\" type=\"image/png\"/><link href=\"/manifest.json\" rel=\"manifest\"/><meta content=\"#ffffff\" name=\"msapplication-TileColor\"/><meta content=\"https://assets.aqar.fm/v3/favicon/ms-icon-144x144.png\" name=\"msapplication-TileImage\"/><meta content=\"#fffff\" name=\"theme-color\"/><meta content=\"1QVVuakFFboe0bd5McBKclTvHs2_eB6t3I5WEJsULY0\" name=\"google-site-verification\"/><link as=\"font\" crossorigin=\"anonymous\" href=\"https://assets.aqar.fm/fonts/sky.woff2\" rel=\"preload\" type=\"font/woff2\"/><link as=\"style\" href=\"https://assets.aqar.fm/next/_next/static/css/77de0ac75c7957f4.css\" rel=\"preload\"/><link data-n-g=\"\" href=\"https://assets.aqar.fm/next/_next/static/css/77de0ac75c7957f4.css\" rel=\"stylesheet\"/><link as=\"style\" href=\"https://assets.aqar.fm/next/_next/static/css/e2e3bc0abb65d869.css\" rel=\"preload\"/><link data-n-p=\"\" href=\"https://assets.aqar.fm/next/_next/static/css/e2e3bc0abb65d869.css\" rel=\"stylesheet\"/><link as=\"style\" href=\"https://assets.aqar.fm/next/_next/static/css/dcecc91e5fdf844d.css\" rel=\"preload\"/><link data-n-p=\"\" href=\"https://assets.aqar.fm/next/_next/static/css/dcecc91e5fdf844d.css\" rel=\"stylesheet\"/><link as=\"style\" href=\"https://assets.aqar.fm/next/_next/static/css/0de3349ae93c9174.css\" rel=\"preload\"/><link data-n-p=\"\" href=\"https://assets.aqar.fm/next/_next/static/css/0de3349ae93c9174.css\" rel=\"stylesheet\"/><noscript data-n-css=\"\"></noscript><script defer=\"\" nomodule=\"\" src=\"https://assets.aqar.fm/next/_next/static/chunks/polyfills-5cd94c89d3acac5f.js\"></script><script defer=\"\" src=\"https://assets.aqar.fm/next/_next/static/chunks/webpack-4c548505120b32cf.js\"></script><script defer=\"\" src=\"https://assets.aqar.fm/next/_next/static/chunks/framework-560765ab0625ba27.js\"></script><script defer=\"\" src=\"https://assets.aqar.fm/next/_next/static/chunks/main-63066b8d5f5799b6.js\"></script><script defer=\"\" src=\"https://assets.aqar.fm/next/_next/static/chunks/pages/_app-8571f38972c1c0e2.js\"></script><script defer=\"\" src=\"https://assets.aqar.fm/next/_next/static/chunks/0dca6ef0-9517f5be96e15fda.js\"></script><script defer=\"\" src=\"https://assets.aqar.fm/next/_next/static/chunks/5964-e070bb181d1550e1.js\"></script><script defer=\"\" src=\"https://assets.aqar.fm/next/_next/static/chunks/5661-e7bf3fa5a5b6f088.js\"></script><script defer=\"\" src=\"https://assets.aqar.fm/next/_next/static/chunks/7020-b62b692881df115b.js\"></script><script defer=\"\" src=\"https://assets.aqar.fm/next/_next/static/chunks/7198-852c65707f4fbc61.js\"></script><script defer=\"\" src=\"https://assets.aqar.fm/next/_next/static/chunks/4809-e6e62140a393091b.js\"></script><script defer=\"\" src=\"https://assets.aqar.fm/next/_next/static/chunks/7897-18e3de8fe32a1186.js\"></script><script defer=\"\" src=\"https://assets.aqar.fm/next/_next/static/chunks/6876-84c225f32f8f4ed1.js\"></script><script defer=\"\" src=\"https://assets.aqar.fm/next/_next/static/chunks/2381-53018b0c0371b064.js\"></script><script defer=\"\" src=\"https://assets.aqar.fm/next/_next/static/chunks/4884-06138f17d0743969.js\"></script><script defer=\"\" src=\"https://assets.aqar.fm/next/_next/static/chunks/352-a4c079f0fc67f458.js\"></script><script defer=\"\" src=\"https://assets.aqar.fm/next/_next/static/chunks/466-a4abd34d10da83ff.js\"></script><script defer=\"\" src=\"https://assets.aqar.fm/next/_next/static/chunks/5682-7ff199e32a5a25e6.js\"></script><script defer=\"\" src=\"https://assets.aqar.fm/next/_next/static/chunks/168-276471c9cd7b8961.js\"></script><script defer=\"\" src=\"https://assets.aqar.fm/next/_next/static/chunks/pages/%5Bcategory%5D/%5B...params%5D-d88f171c0fa693c6.js\"></script><script defer=\"\" src=\"https://assets.aqar.fm/next/_next/static/nYI97201IBMfkCx_SeIw9/_buildManifest.js\"></script><script defer=\"\" src=\"https://assets.aqar.fm/next/_next/static/nYI97201IBMfkCx_SeIw9/_ssgManifest.js\"></script><script defer=\"\" src=\"https://assets.aqar.fm/next/_next/static/nYI97201IBMfkCx_SeIw9/_middlewareManifest.js\"></script></head><body><noscript><iframe height=\"0\" src=\"https://www.googletagmanager.com/ns.html?id=GTM-N8GZGTM\" style=\"display:none;visibility:hidden\" width=\"0\"></iframe></noscript><div data-reactroot=\"\" id=\"__next\"><div class=\"layouts_layoutWrapper__eSdLv\" dir=\"rtl\"><div class=\"header_header__NR1L2\"><div class=\"header_rightMenu___xmNo\"><img alt=\"قائمة الخدمات\" class=\"iconS3-module_iconS3__TzNuQ iconS3-module_x-small__ptqUd header_serviceBtn__ccmHv\" height=\"30\" loading=\"lazy\" src=\"https://assets.aqar.fm/icons/ServiceList-blue.svg\" width=\"30\"/><a class=\"header_logoWrapper__w6Z8H\" href=\"/\"><span style=\"box-sizing:border-box;display:inline-block;overflow:hidden;width:initial;height:initial;background:none;opacity:1;border:0;margin:0;padding:0;position:relative;max-width:100%\"><span style=\"box-sizing:border-box;display:block;width:initial;height:initial;background:none;opacity:1;border:0;margin:0;padding:0;max-width:100%\"><img alt=\"\" aria-hidden=\"true\" src=\"data:image/svg+xml,%3csvg%20xmlns=%27http://www.w3.org/2000/svg%27%20version=%271.1%27%20width=%2790%27%20height=%2740%27/%3e\" style=\"display:block;max-width:100%;width:initial;height:initial;background:none;opacity:1;border:0;margin:0;padding:0\"/></span><img alt=\"عقار\" class=\"header_logo__AOcGo\" data-nimg=\"intrinsic\" decoding=\"async\" src=\"https://assets.aqar.fm/icons/AqarLogoH-colored.svg\" srcset=\"https://assets.aqar.fm/icons/AqarLogoH-colored.svg 1x, https://assets.aqar.fm/icons/AqarLogoH-colored.svg 2x\" style=\"position:absolute;top:0;left:0;bottom:0;right:0;box-sizing:border-box;padding:0;border:none;margin:auto;display:block;width:0;height:0;min-width:100%;max-width:100%;min-height:100%;max-height:100%\"/></span></a></div><div class=\"header_leftMenu__YT0jS\"><button class=\"header_dailyRentBtn__qLFFz header_daily__nh_55 button-module_button__EwgON\" dir=\"rtl\" href=\"/%D8%A7%D9%84%D8%A5%D9%8A%D8%AC%D8%A7%D8%B1-%D8%A7%D9%84%D9%81%D9%88%D8%B1%D9%8A/%D8%B9%D9%82%D8%A7%D8%B1%D8%A7%D8%AA\" type=\"button\"><div class=\"button-module_buttonContent__4c1PK button-module_x-small__5kpuC\"><span>الإيجار الفوري</span><img alt=\"dailyRent\" class=\"iconS3-module_iconS3__TzNuQ iconS3-module_x-small__ptqUd button-module_suffixIcon__TKsrd\" height=\"25\" loading=\"lazy\" src=\"https://assets.aqar.fm/icons/dailyRent-colored.svg\" width=\"25\"/></div></button><button class=\"header_dailyRentBtn_m__t_6bH button-module_button__EwgON button-module_icon__8xXv4\" dir=\"rtl\" href=\"/%D8%A7%D9%84%D8%A5%D9%8A%D8%AC%D8%A7%D8%B1-%D8%A7%D9%84%D9%81%D9%88%D8%B1%D9%8A/%D8%B9%D9%82%D8%A7%D8%B1%D8%A7%D8%AA\" type=\"button\"><img alt=\"الإيجار الفوري\" class=\"iconS3-module_iconS3__TzNuQ\" height=\"30\" loading=\"lazy\" src=\"https://assets.aqar.fm/icons/dailyRent-colored.svg\" width=\"30\"/></button><button class=\"header_searchMapBtn__TP7Ab button-module_button__EwgON\" dir=\"rtl\" href=\"/map/%D9%81%D9%84%D9%84-%D9%84%D9%84%D8%A8%D9%8A%D8%B9/1\" type=\"button\"><div class=\"button-module_buttonContent__4c1PK button-module_x-small__5kpuC\"><span>بحث بالخريطة</span><img alt=\"MapSearch\" class=\"iconS3-module_iconS3__TzNuQ iconS3-module_x-small__ptqUd button-module_suffixIcon__TKsrd\" height=\"25\" loading=\"lazy\" src=\"https://assets.aqar.fm/icons/MapSearch-colored.svg\" width=\"25\"/></div></button><button class=\"header_searchMapBtn_m__02_n_ button-module_button__EwgON button-module_icon__8xXv4\" dir=\"rtl\" href=\"/map/%D9%81%D9%84%D9%84-%D9%84%D9%84%D8%A8%D9%8A%D8%B9/1\" type=\"button\"><img alt=\"بحث بالخريطة\" class=\"iconS3-module_iconS3__TzNuQ\" height=\"30\" loading=\"lazy\" src=\"https://assets.aqar.fm/icons/MapSearch-colored.svg\" width=\"30\"/></button><button class=\"header_addLisingBtn__0tU1F button-module_button__EwgON\" dir=\"rtl\" href=\"/add-listing/init/terms\" type=\"button\"><div class=\"button-module_buttonContent__4c1PK button-module_x-small__5kpuC\"><span>إضافة إعلان</span><img alt=\"add\" class=\"iconS3-module_iconS3__TzNuQ iconS3-module_x-small__ptqUd button-module_suffixIcon__TKsrd\" height=\"25\" loading=\"lazy\" src=\"https://assets.aqar.fm/icons/add-green.svg\" width=\"25\"/></div></button><button class=\"header_addLisingBtn_m__ssDC6 button-module_button__EwgON button-module_icon__8xXv4\" dir=\"rtl\" href=\"/add-listing/init/terms\" type=\"button\"><img alt=\"إضافة إعلان\" class=\"iconS3-module_iconS3__TzNuQ\" height=\"30\" loading=\"lazy\" src=\"https://assets.aqar.fm/icons/SquareAdd-colored.svg\" width=\"30\"/></button><div style=\"position:relative\"><button class=\"header_headerBtn__jm58j header_userBtn__MhsSP button-module_button__EwgON\" dir=\"rtl\" type=\"button\"><img alt=\"معلومات الحساب\" class=\"iconS3-module_iconS3__TzNuQ iconS3-module_x-small__ptqUd\" height=\"25\" loading=\"lazy\" src=\"https://assets.aqar.fm/icons/Profile.svg\" width=\"25\"/></button></div></div></div><div class=\"categoriesList_categoriesContainer__4z0zM\"><div class=\"categoriesList_searchWrapper__dk7l0\"><button class=\"categoriesList_linkWidget__kV7k0 categoriesList_search__9XAAs button-module_button__EwgON\" dir=\"rtl\" type=\"button\"><div class=\"button-module_buttonContent__4c1PK button-module_x-small__5kpuC\"><span>بحث</span><img alt=\"search\" class=\"iconS3-module_iconS3__TzNuQ iconS3-module_x-small__ptqUd button-module_suffixIcon__TKsrd\" height=\"25\" loading=\"lazy\" src=\"https://assets.aqar.fm/icons/search-blue.svg\" width=\"25\"/></div></button></div><ul class=\"categoriesList_categoriesList__ategG\"><li id=\"\"><div role=\"button\" tabindex=\"0\"><a class=\"categoriesList_linkWidget__kV7k0 categoriesList_allCategory__zeGAv\" href=\"/%D8%B9%D9%82%D8%A7%D8%B1%D8%A7%D8%AA\">الكل</a></div></li><li id=\"\"><div role=\"button\" tabindex=\"1\"><a class=\"categoriesList_linkWidget__kV7k0\" href=\"/%D8%B4%D9%82%D9%82-%D9%84%D9%84%D8%A5%D9%8A%D8%AC%D8%A7%D8%B1\">شقق للإيجار</a></div></li><li id=\"\"><div role=\"button\" tabindex=\"2\"><a class=\"categoriesList_linkWidget__kV7k0\" href=\"/%D8%A3%D8%B1%D8%A7%D8%B6%D9%8A-%D9%84%D9%84%D8%A8%D9%8A%D8%B9\">أراضي للبيع</a></div></li><li id=\"selected-category\"><div role=\"button\" tabindex=\"3\"><a class=\"categoriesList_linkWidget__kV7k0 categoriesList_active__qLYU5\" href=\"/%D9%81%D9%84%D9%84-%D9%84%D9%84%D8%A8%D9%8A%D8%B9\">فلل للبيع</a></div></li><li id=\"\"><div role=\"button\" tabindex=\"4\"><a class=\"categoriesList_linkWidget__kV7k0\" href=\"/%D8%AF%D9%88%D8%B1-%D9%84%D9%84%D8%A5%D9%8A%D8%AC%D8%A7%D8%B1\">دور للإيجار</a></div></li><li id=\"\"><div role=\"button\" tabindex=\"5\"><a class=\"categoriesList_linkWidget__kV7k0\" href=\"/%D9%81%D9%84%D9%84-%D9%84%D9%84%D8%A5%D9%8A%D8%AC%D8%A7%D8%B1\">فلل للإيجار</a></div></li><li id=\"\"><div role=\"button\" tabindex=\"6\"><a class=\"categoriesList_linkWidget__kV7k0\" href=\"/%D8%B4%D9%82%D9%82-%D9%84%D9%84%D8%A8%D9%8A%D8%B9\">شقق للبيع</a></div></li><li id=\"\"><div role=\"button\" tabindex=\"7\"><a class=\"categoriesList_linkWidget__kV7k0\" href=\"/%D8%B9%D9%85%D8%A7%D8%A6%D8%B1-%D9%84%D9%84%D8%A8%D9%8A%D8%B9\">عمائر للبيع</a></div></li><li id=\"\"><div role=\"button\" tabindex=\"8\"><a class=\"categoriesList_linkWidget__kV7k0\" href=\"/%D9%85%D8%AD%D9%84%D8%A7%D8%AA-%D9%84%D9%84%D8%A5%D9%8A%D8%AC%D8%A7%D8%B1\">محلات للإيجار</a></div></li><li id=\"\"><div role=\"button\" tabindex=\"9\"><a class=\"categoriesList_linkWidget__kV7k0\" href=\"/%D8%A8%D9%8A%D8%AA-%D9%84%D9%84%D8%A8%D9%8A%D8%B9\">بيت للبيع</a></div></li><li id=\"\"><div role=\"button\" tabindex=\"10\"><a class=\"categoriesList_linkWidget__kV7k0\" href=\"/%D8%A7%D8%B3%D8%AA%D8%B1%D8%A7%D8%AD%D8%A9-%D9%84%D9%84%D8%A8%D9%8A%D8%B9\">استراحة للبيع</a></div></li><li id=\"\"><div role=\"button\" tabindex=\"11\"><a class=\"categoriesList_linkWidget__kV7k0\" href=\"/%D8%A8%D9%8A%D8%AA-%D9%84%D9%84%D8%A5%D9%8A%D8%AC%D8%A7%D8%B1\">بيت للإيجار</a></div></li><li id=\"\"><div role=\"button\" tabindex=\"12\"><a class=\"categoriesList_linkWidget__kV7k0\" href=\"/%D9%85%D8%B2%D8%B1%D8%B9%D8%A9-%D9%84%D9%84%D8%A8%D9%8A%D8%B9\">مزرعة للبيع</a></div></li><li id=\"\"><div role=\"button\" tabindex=\"13\"><a class=\"categoriesList_linkWidget__kV7k0\" href=\"/%D8%A7%D8%B3%D8%AA%D8%B1%D8%A7%D8%AD%D8%A9-%D9%84%D9%84%D8%A5%D9%8A%D8%AC%D8%A7%D8%B1\">استراحة للإيجار</a></div></li><li id=\"\"><div role=\"button\" tabindex=\"14\"><a class=\"categoriesList_linkWidget__kV7k0\" href=\"/%D9%85%D9%83%D8%AA%D8%A8-%D8%AA%D8%AC%D8%A7%D8%B1%D9%8A-%D9%84%D9%84%D8%A5%D9%8A%D8%AC%D8%A7%D8%B1\">مكتب تجاري للإيجار</a></div></li><li id=\"\"><div role=\"button\" tabindex=\"15\"><a class=\"categoriesList_linkWidget__kV7k0\" href=\"/%D8%A3%D8%B1%D8%A7%D8%B6%D9%8A-%D9%84%D9%84%D8%A5%D9%8A%D8%AC%D8%A7%D8%B1\">أراضي للإيجار</a></div></li><li id=\"\"><div role=\"button\" tabindex=\"16\"><a class=\"categoriesList_linkWidget__kV7k0\" href=\"/%D8%B9%D9%85%D8%A7%D8%A6%D8%B1-%D9%84%D9%84%D8%A5%D9%8A%D8%AC%D8%A7%D8%B1\">عمائر للإيجار</a></div></li><li id=\"\"><div role=\"button\" tabindex=\"17\"><a class=\"categoriesList_linkWidget__kV7k0\" href=\"/%D9%85%D8%B3%D8%AA%D9%88%D8%AF%D8%B9-%D9%84%D9%84%D8%A5%D9%8A%D8%AC%D8%A7%D8%B1\">مستودع للإيجار</a></div></li><li id=\"\"><div role=\"button\" tabindex=\"18\"><a class=\"categoriesList_linkWidget__kV7k0\" href=\"/%D9%85%D8%AE%D9%8A%D9%85-%D9%84%D9%84%D8%A5%D9%8A%D8%AC%D8%A7%D8%B1\">مخيم للإيجار</a></div></li><li id=\"\"><div role=\"button\" tabindex=\"19\"><a class=\"categoriesList_linkWidget__kV7k0\" href=\"/%D8%BA%D8%B1%D9%81-%D9%84%D9%84%D8%A5%D9%8A%D8%AC%D8%A7%D8%B1\">غرف للإيجار</a></div></li><li id=\"\"><div role=\"button\" tabindex=\"20\"><a class=\"categoriesList_linkWidget__kV7k0\" href=\"/%D9%85%D8%AD%D9%84%D8%A7%D8%AA-%D9%84%D9%84%D8%A8%D9%8A%D8%B9\">محلات للبيع</a></div></li><li id=\"\"><div role=\"button\" tabindex=\"21\"><a class=\"categoriesList_linkWidget__kV7k0\" href=\"/%D8%B4%D9%82%D8%A9-%D9%85%D9%81%D8%B1%D9%88%D8%B4%D8%A9\">شقة مفروشة</a></div></li><li id=\"\"><div role=\"button\" tabindex=\"22\"><a class=\"categoriesList_linkWidget__kV7k0\" href=\"/%D8%AF%D9%88%D8%B1-%D9%84%D9%84%D8%A8%D9%8A%D8%B9\">دور للبيع</a></div></li><li id=\"\"><div role=\"button\" tabindex=\"23\"><a class=\"categoriesList_linkWidget__kV7k0\" href=\"/%D8%B4%D8%A7%D9%84%D9%8A%D9%87-%D9%84%D9%84%D8%A5%D9%8A%D8%AC%D8%A7%D8%B1\">شاليه للإيجار</a></div></li></ul></div><div class=\"listings_container__lmOqZ\"><div class=\"listings_breadcrumbContainer__AxNZj\"><nav class=\"breadcrumb-module_breadcrumb__ovTaG breadcrumb-module_rtl__B7ER5\"><ol class=\"breadcrumb-module_list__BmcYf\"></ol></nav></div><h1 class=\"listings_title__Yx0mW\" href=\"/%D9%81%D9%84%D9%84-%D9%84%D9%84%D8%A8%D9%8A%D8%B9/1\">فلل للبيع</h1></div><div class=\"listings_container__lmOqZ\"><nav class=\"buttonsList-module_buttonsList__-5gtq buttonsList-module_rtl__tTDmO\"><ol class=\"buttonsList-module_list__F8vl6\"><li class=\"listings_regionItem__3U1dk buttonsList-module_item__iLPKz\"><a class=\"listings_regionBtn__YRuAK buttonsList-module_button__eB9iE\" href=\"/%D9%81%D9%84%D9%84-%D9%84%D9%84%D8%A8%D9%8A%D8%B9/%D8%A7%D9%84%D8%B1%D9%8A%D8%A7%D8%B6\">فلل للبيع في الرياض<span class=\"buttonsList-module_count__0B-MA\">(<!-- -->63466<!-- -->)</span></a></li><li class=\"listings_regionItem__3U1dk buttonsList-module_item__iLPKz\"><a class=\"listings_regionBtn__YRuAK buttonsList-module_button__eB9iE\" href=\"/%D9%81%D9%84%D9%84-%D9%84%D9%84%D8%A8%D9%8A%D8%B9/%D8%AC%D8%AF%D8%A9\">فلل للبيع في جدة<span class=\"buttonsList-module_count__0B-MA\">(<!-- -->11777<!-- -->)</span></a></li><li class=\"listings_regionItem__3U1dk buttonsList-module_item__iLPKz\"><a class=\"listings_regionBtn__YRuAK buttonsList-module_button__eB9iE\" href=\"/%D9%81%D9%84%D9%84-%D9%84%D9%84%D8%A8%D9%8A%D8%B9/%D8%A7%D9%84%D8%AF%D9%85%D8%A7%D9%85\">فلل للبيع في الدمام<span class=\"buttonsList-module_count__0B-MA\">(<!-- -->5351<!-- -->)</span></a></li><li class=\"listings_regionItem__3U1dk buttonsList-module_item__iLPKz\"><a class=\"listings_regionBtn__YRuAK buttonsList-module_button__eB9iE\" href=\"/%D9%81%D9%84%D9%84-%D9%84%D9%84%D8%A8%D9%8A%D8%B9/%D8%A7%D9%84%D8%AE%D8%A8%D8%B1\">فلل للبيع في الخبر<span class=\"buttonsList-module_count__0B-MA\">(<!-- -->4568<!-- -->)</span></a></li><li class=\"listings_regionItem__3U1dk buttonsList-module_item__iLPKz\"><a class=\"listings_regionBtn__YRuAK buttonsList-module_button__eB9iE\" href=\"/%D9%81%D9%84%D9%84-%D9%84%D9%84%D8%A8%D9%8A%D8%B9/%D9%85%D9%83%D8%A9-%D8%A7%D9%84%D9%85%D9%83%D8%B1%D9%85%D8%A9\">فلل للبيع في مكة المكرمة<span class=\"buttonsList-module_count__0B-MA\">(<!-- -->1975<!-- -->)</span></a></li><li class=\"listings_regionItem__3U1dk buttonsList-module_item__iLPKz\"><a class=\"listings_regionBtn__YRuAK buttonsList-module_button__eB9iE\"><img alt=\"Add\" class=\"iconS3-module_iconS3__TzNuQ listings_addIcon__UOY5X\" height=\"13\" loading=\"lazy\" src=\"https://assets.aqar.fm/icons/Add.svg\" width=\"13\"/></a></li></ol></nav></div><div class=\"listing_listings__MpXdv\"><div class=\"listing_container__DRUgb\"><div class=\"listing_LinkedListingCard__5SRvZ\" href=\"/%D9%81%D9%84%D9%84-%D9%84%D9%84%D8%A8%D9%8A%D8%B9/%D8%A7%D9%84%D8%B1%D9%8A%D8%A7%D8%B6/%D8%B4%D9%85%D8%A7%D9%84-%D8%A7%D9%84%D8%B1%D9%8A%D8%A7%D8%B6/%D8%AD%D9%8A-%D8%A7%D9%84%D9%8A%D8%A7%D8%B3%D9%85%D9%8A%D9%86/%D8%AD%D9%8A-%D8%A7%D9%84%D9%8A%D8%A7%D8%B3%D9%85%D9%8A%D9%86-%D8%A7%D9%84%D8%B1%D9%8A%D8%A7%D8%B6-%D8%A7%D9%84%D8%B1%D9%8A%D8%A7%D8%B6-5029203\"><div class=\"listingCard_listingCard__NpqM0\"><div class=\"listingCard_content__SLJJG\"><div class=\"listingCard_top__nVn1L\"><h4 class=\"listingCard_title__45XgY listingCard_truncatedText__otzLq\"><a href=\"/%D9%81%D9%84%D9%84-%D9%84%D9%84%D8%A8%D9%8A%D8%B9/%D8%A7%D9%84%D8%B1%D9%8A%D8%A7%D8%B6/%D8%B4%D9%85%D8%A7%D9%84-%D8%A7%D9%84%D8%B1%D9%8A%D8%A7%D8%B6/%D8%AD%D9%8A-%D8%A7%D9%84%D9%8A%D8%A7%D8%B3%D9%85%D9%8A%D9%86/%D8%AD%D9%8A-%D8%A7%D9%84%D9%8A%D8%A7%D8%B3%D9%85%D9%8A%D9%86-%D8%A7%D9%84%D8%B1%D9%8A%D8%A7%D8%B6-%D8%A7%D9%84%D8%B1%D9%8A%D8%A7%D8%B6-5029203\">فيلا للبيع في حي الياسمين ، الرياض ، الرياض</a></h4><div class=\"listingCard_time__dV1EB\">52 ثانية<img alt=\"الوقت\" class=\"iconS3-module_iconS3__TzNuQ listingCard_icon__iXeNr\" height=\"25\" loading=\"lazy\" src=\"https://assets.aqar.fm/icons/Alarm.svg\" width=\"25\"/></div></div><div class=\"listingCard_price__N5eJ4\"> <!-- -->3,500,000 ريال </div><div class=\"listingCard_specs__vxtg8\"><div class=\"listingCard_spec__iKaqt\">420 م² | </div><div class=\"listingCard_spec__iKaqt\"><img alt=\"Bed\" class=\"iconS3-module_iconS3__TzNuQ listingCard_icon__iXeNr\" height=\"25\" loading=\"lazy\" src=\"https://assets.aqar.fm/icons/Bed.svg\" width=\"25\"/>5 </div><div class=\"listingCard_spec__iKaqt\"><img alt=\"Couch\" class=\"iconS3-module_iconS3__TzNuQ listingCard_icon__iXeNr\" height=\"25\" loading=\"lazy\" src=\"https://assets.aqar.fm/icons/Couch.svg\" width=\"25\"/>2 </div><div class=\"listingCard_spec__iKaqt\"><img alt=\"Bath\" class=\"iconS3-module_iconS3__TzNuQ listingCard_icon__iXeNr\" height=\"25\" loading=\"lazy\" src=\"https://assets.aqar.fm/icons/Bath.svg\" width=\"25\"/>5 </div></div><div class=\"listingCard_description__dMJy_ listingCard_truncatedText__otzLq\">فيلا للبيع  بحي الياسمين مربع ١٥ من أفضل وارقي مربعات الياسمين الحي مقابل مستشفى المملكة  قريبه من طريق الثمامة و طريق الملك عبدالعزيز موجود جميع الخدمات كهرباء ماء صرف صحي فايبر انترنت \n",
       "\n",
       "المساحة ٤٢٠ متر \n",
       "مكونه من فلة درج بصالة وشقة بدور الأول \n",
       "الفلة \n",
       "دور الارضي مجلس مقلط صالة مطبخ وغرفة كبار السن\n",
       "دور الاول ٣ غرف نوم واحد ماستر و غرفتين بينهم دورة مياه \n",
       "الدور الثاني غرفة غسيل و مخزن وغرفة خادمة وخيمة\n",
       "\n",
       "الشقة بالدور الأول تتكون من ٣ غرف وصالة مع غرفة خادمة وسطح خاص \n",
       "\n",
       "الفلة بناء شخصي الارضيات رخام روزا كامل دور الارضي  والواجهة حجر  الفلة كالجديد لا تحتاج اي صيانة او تعديل \n",
       "البيع بالمكيفات   الشقة مؤجرة اجار قديم ب ٣٥٠٠٠ قابلة للزيادة\n",
       "يوجد شهادة إتمام البناء\n",
       "\n",
       "\n",
       " رقم رخصة فال للوساطة والتسويق: 1100048701</div><div class=\"listingCard_listingFooter___6kEQ\"><div class=\"listingCard_listingLocation___jVOg\"><div class=\"listingCard_district__5U3jm listingCard_truncatedText__otzLq\">حي الياسمين</div> - <div class=\"listingCard_city__ApOJt\">الرياض</div></div><div class=\"listingCard_listingTime__Q_g_J\">52 ثانية</div></div></div><div class=\"listingCard_imageWrapper__ylcNs\"><span style=\"box-sizing:border-box;display:block;overflow:hidden;width:initial;height:initial;background:none;opacity:1;border:0;margin:0;padding:0;position:relative\"><span style=\"box-sizing:border-box;display:block;width:initial;height:initial;background:none;opacity:1;border:0;margin:0;padding:0;padding-top:68.57142857142857%\"></span><img alt=\"[object Object]\" data-nimg=\"responsive\" decoding=\"async\" sizes=\"100vw\" src=\"https://images.aqar.fm/webp/350x0/props/006378172_1678288360091.jpg\" srcset=\"https://images.aqar.fm/webp/250x0/props/006378172_1678288360091.jpg 640w, https://images.aqar.fm/webp/250x0/props/006378172_1678288360091.jpg 750w, https://images.aqar.fm/webp/300x0/props/006378172_1678288360091.jpg 828w, https://images.aqar.fm/webp/300x0/props/006378172_1678288360091.jpg 1080w, https://images.aqar.fm/webp/350x0/props/006378172_1678288360091.jpg 1200w, https://images.aqar.fm/webp/350x0/props/006378172_1678288360091.jpg 1920w, https://images.aqar.fm/webp/350x0/props/006378172_1678288360091.jpg 2048w, https://images.aqar.fm/webp/350x0/props/006378172_1678288360091.jpg 3840w\" style=\"position:absolute;top:0;left:0;bottom:0;right:0;box-sizing:border-box;padding:0;border:none;margin:auto;display:block;width:0;height:0;min-width:100%;max-width:100%;min-height:100%;max-height:100%\"/></span></div></div></div><div class=\"listing_LinkedListingCard__5SRvZ\" href=\"/%D9%81%D9%84%D9%84-%D9%84%D9%84%D8%A8%D9%8A%D8%B9/%D8%A7%D9%84%D8%B7%D8%A7%D8%A6%D9%81/%D8%AD%D9%8A-%D8%A7%D9%84%D9%88%D8%B3%D8%A7%D9%85/%D8%B4%D8%A7%D8%B1%D8%B9-%D9%8A%D9%88%D8%B3%D9%81-%D8%A8%D9%86-%D8%A7%D9%84%D9%85%D8%B7%D9%87%D8%B1-%D8%AD%D9%8A-%D8%A7%D9%84%D8%A7%D8%AE%D8%A8%D8%A7%D8%A8-%D8%A7%D9%84%D8%B7%D8%A7%D8%A6%D9%81-%D8%A7%D9%84%D8%B7%D8%A7%D8%A6%D9%81-5218887\"><div class=\"listingCard_listingCard__NpqM0\"><div class=\"listingCard_content__SLJJG\"><div class=\"listingCard_top__nVn1L\"><h4 class=\"listingCard_title__45XgY listingCard_truncatedText__otzLq\"><a href=\"/%D9%81%D9%84%D9%84-%D9%84%D9%84%D8%A8%D9%8A%D8%B9/%D8%A7%D9%84%D8%B7%D8%A7%D8%A6%D9%81/%D8%AD%D9%8A-%D8%A7%D9%84%D9%88%D8%B3%D8%A7%D9%85/%D8%B4%D8%A7%D8%B1%D8%B9-%D9%8A%D9%88%D8%B3%D9%81-%D8%A8%D9%86-%D8%A7%D9%84%D9%85%D8%B7%D9%87%D8%B1-%D8%AD%D9%8A-%D8%A7%D9%84%D8%A7%D8%AE%D8%A8%D8%A7%D8%A8-%D8%A7%D9%84%D8%B7%D8%A7%D8%A6%D9%81-%D8%A7%D9%84%D8%B7%D8%A7%D8%A6%D9%81-5218887\">فيلا للبيع في شارع يوسف بن المطهر ، حي الاخباب ، الطائف ، الطائف</a></h4><div class=\"listingCard_time__dV1EB\">52 ثانية<img alt=\"الوقت\" class=\"iconS3-module_iconS3__TzNuQ listingCard_icon__iXeNr\" height=\"25\" loading=\"lazy\" src=\"https://assets.aqar.fm/icons/Alarm.svg\" width=\"25\"/></div></div><div class=\"listingCard_price__N5eJ4\"> <!-- -->1,300,000 ريال </div><div class=\"listingCard_specs__vxtg8\"><div class=\"listingCard_spec__iKaqt\">250 م² | </div><div class=\"listingCard_spec__iKaqt\"><img alt=\"Bed\" class=\"iconS3-module_iconS3__TzNuQ listingCard_icon__iXeNr\" height=\"25\" loading=\"lazy\" src=\"https://assets.aqar.fm/icons/Bed.svg\" width=\"25\"/>7 </div><div class=\"listingCard_spec__iKaqt\"><img alt=\"Couch\" class=\"iconS3-module_iconS3__TzNuQ listingCard_icon__iXeNr\" height=\"25\" loading=\"lazy\" src=\"https://assets.aqar.fm/icons/Couch.svg\" width=\"25\"/>3 </div><div class=\"listingCard_spec__iKaqt\"><img alt=\"Bath\" class=\"iconS3-module_iconS3__TzNuQ listingCard_icon__iXeNr\" height=\"25\" loading=\"lazy\" src=\"https://assets.aqar.fm/icons/Bath.svg\" width=\"25\"/>5 </div></div><div class=\"listingCard_description__dMJy_ listingCard_truncatedText__otzLq\">فلل دوبلكس مخطط الوسام ١ \n",
       "فاخرة\n",
       "\n",
       "\n",
       " رقم رخصة فال للوساطة والتسويق: 1100007777</div><div class=\"listingCard_listingFooter___6kEQ\"><div class=\"listingCard_listingLocation___jVOg\"><div class=\"listingCard_district__5U3jm listingCard_truncatedText__otzLq\">حي الوسام</div> - <div class=\"listingCard_city__ApOJt\">الطائف</div></div><div class=\"listingCard_listingTime__Q_g_J\">52 ثانية</div></div></div><div class=\"listingCard_imageWrapper__ylcNs\"><span style=\"box-sizing:border-box;display:block;overflow:hidden;width:initial;height:initial;background:none;opacity:1;border:0;margin:0;padding:0;position:relative\"><span style=\"box-sizing:border-box;display:block;width:initial;height:initial;background:none;opacity:1;border:0;margin:0;padding:0;padding-top:68.57142857142857%\"></span><img alt=\"[object Object]\" data-nimg=\"responsive\" decoding=\"async\" sizes=\"100vw\" src=\"https://images.aqar.fm/webp/350x0/props/000512268_1678371578461.jpg\" srcset=\"https://images.aqar.fm/webp/250x0/props/000512268_1678371578461.jpg 640w, https://images.aqar.fm/webp/250x0/props/000512268_1678371578461.jpg 750w, https://images.aqar.fm/webp/300x0/props/000512268_1678371578461.jpg 828w, https://images.aqar.fm/webp/300x0/props/000512268_1678371578461.jpg 1080w, https://images.aqar.fm/webp/350x0/props/000512268_1678371578461.jpg 1200w, https://images.aqar.fm/webp/350x0/props/000512268_1678371578461.jpg 1920w, https://images.aqar.fm/webp/350x0/props/000512268_1678371578461.jpg 2048w, https://images.aqar.fm/webp/350x0/props/000512268_1678371578461.jpg 3840w\" style=\"position:absolute;top:0;left:0;bottom:0;right:0;box-sizing:border-box;padding:0;border:none;margin:auto;display:block;width:0;height:0;min-width:100%;max-width:100%;min-height:100%;max-height:100%\"/></span></div></div></div><div class=\"listing_LinkedListingCard__5SRvZ\" href=\"/%D9%81%D9%84%D9%84-%D9%84%D9%84%D8%A8%D9%8A%D8%B9/%D8%A7%D9%84%D8%AF%D9%85%D8%A7%D9%85/%D8%AD%D9%8A-%D8%A7%D9%84%D9%85%D9%86%D8%A7%D8%B1/%D8%AD%D9%8A-%D8%A7%D9%84%D9%85%D9%86%D8%A7%D8%B1-%D8%A7%D9%84%D8%AF%D9%85%D8%A7%D9%85-%D8%A7%D9%84%D8%AF%D9%85%D8%A7%D9%85-5202088\"><div class=\"listingCard_listingCard__NpqM0\"><div class=\"listingCard_content__SLJJG\"><div class=\"listingCard_top__nVn1L\"><h4 class=\"listingCard_title__45XgY listingCard_truncatedText__otzLq\"><a href=\"/%D9%81%D9%84%D9%84-%D9%84%D9%84%D8%A8%D9%8A%D8%B9/%D8%A7%D9%84%D8%AF%D9%85%D8%A7%D9%85/%D8%AD%D9%8A-%D8%A7%D9%84%D9%85%D9%86%D8%A7%D8%B1/%D8%AD%D9%8A-%D8%A7%D9%84%D9%85%D9%86%D8%A7%D8%B1-%D8%A7%D9%84%D8%AF%D9%85%D8%A7%D9%85-%D8%A7%D9%84%D8%AF%D9%85%D8%A7%D9%85-5202088\">فيلا للبيع في حي المنار ، الدمام ، الدمام</a></h4><div class=\"listingCard_time__dV1EB\">52 ثانية<img alt=\"الوقت\" class=\"iconS3-module_iconS3__TzNuQ listingCard_icon__iXeNr\" height=\"25\" loading=\"lazy\" src=\"https://assets.aqar.fm/icons/Alarm.svg\" width=\"25\"/></div></div><div class=\"listingCard_price__N5eJ4\"> <!-- -->1,500,000 ريال </div><div class=\"listingCard_specs__vxtg8\"><div class=\"listingCard_spec__iKaqt\">360 م² | </div><div class=\"listingCard_spec__iKaqt\"><img alt=\"Bed\" class=\"iconS3-module_iconS3__TzNuQ listingCard_icon__iXeNr\" height=\"25\" loading=\"lazy\" src=\"https://assets.aqar.fm/icons/Bed.svg\" width=\"25\"/>5 </div><div class=\"listingCard_spec__iKaqt\"><img alt=\"Couch\" class=\"iconS3-module_iconS3__TzNuQ listingCard_icon__iXeNr\" height=\"25\" loading=\"lazy\" src=\"https://assets.aqar.fm/icons/Couch.svg\" width=\"25\"/>2 </div><div class=\"listingCard_spec__iKaqt\"><img alt=\"Bath\" class=\"iconS3-module_iconS3__TzNuQ listingCard_icon__iXeNr\" height=\"25\" loading=\"lazy\" src=\"https://assets.aqar.fm/icons/Bath.svg\" width=\"25\"/>5 </div></div><div class=\"listingCard_description__dMJy_ listingCard_truncatedText__otzLq\">فلة مساحة ٣٦٠ متر مربع الدور الأرضي مسطح البناء ٥٥٠ متر مربع مجلس وغرفة طعام وصالة ومجلس نساء ودورتين مياة ومطبخ مفتوح على صالة ومطبخ تحضير  .\n",
       "الدور الأول : ٥ غرف نوم منها ٣ ماستر وصالة وبوفيه.\n",
       "الدور الثاني: ٣ غرف نوم ودورتين مياة وغرفة غسيل.\n",
       "\n",
       "\n",
       " رقم رخصة فال للوساطة والتسويق: 1100004992</div><div class=\"listingCard_listingFooter___6kEQ\"><div class=\"listingCard_listingLocation___jVOg\"><div class=\"listingCard_district__5U3jm listingCard_truncatedText__otzLq\">حي المنار</div> - <div class=\"listingCard_city__ApOJt\">الدمام</div></div><div class=\"listingCard_listingTime__Q_g_J\">52 ثانية</div></div></div><div class=\"listingCard_imageWrapper__ylcNs\"><span style=\"box-sizing:border-box;display:block;overflow:hidden;width:initial;height:initial;background:none;opacity:1;border:0;margin:0;padding:0;position:relative\"><span style=\"box-sizing:border-box;display:block;width:initial;height:initial;background:none;opacity:1;border:0;margin:0;padding:0;padding-top:68.57142857142857%\"></span><img alt=\"[object Object]\" data-nimg=\"responsive\" decoding=\"async\" sizes=\"100vw\" src=\"https://images.aqar.fm/webp/350x0/props/009238698_1679079035561.jpg\" srcset=\"https://images.aqar.fm/webp/250x0/props/009238698_1679079035561.jpg 640w, https://images.aqar.fm/webp/250x0/props/009238698_1679079035561.jpg 750w, https://images.aqar.fm/webp/300x0/props/009238698_1679079035561.jpg 828w, https://images.aqar.fm/webp/300x0/props/009238698_1679079035561.jpg 1080w, https://images.aqar.fm/webp/350x0/props/009238698_1679079035561.jpg 1200w, https://images.aqar.fm/webp/350x0/props/009238698_1679079035561.jpg 1920w, https://images.aqar.fm/webp/350x0/props/009238698_1679079035561.jpg 2048w, https://images.aqar.fm/webp/350x0/props/009238698_1679079035561.jpg 3840w\" style=\"position:absolute;top:0;left:0;bottom:0;right:0;box-sizing:border-box;padding:0;border:none;margin:auto;display:block;width:0;height:0;min-width:100%;max-width:100%;min-height:100%;max-height:100%\"/></span></div></div></div><div class=\"listing_LinkedListingCard__5SRvZ\" href=\"/%D9%81%D9%84%D9%84-%D9%84%D9%84%D8%A8%D9%8A%D8%B9/%D8%A7%D9%84%D8%B1%D9%8A%D8%A7%D8%B6/%D8%B4%D9%85%D8%A7%D9%84-%D8%A7%D9%84%D8%B1%D9%8A%D8%A7%D8%B6/%D8%AD%D9%8A-%D8%A7%D9%84%D9%86%D8%AF%D9%89/%D8%B4%D8%A7%D8%B1%D8%B9-%D8%A7%D9%84%D9%82%D8%B7%D9%8A%D9%85-%D8%AD%D9%8A-%D8%A7%D9%84%D9%86%D8%AF%D9%89-%D8%A7%D9%84%D8%B1%D9%8A%D8%A7%D8%B6-%D8%A7%D9%84%D8%B1%D9%8A%D8%A7%D8%B6-5207117\"><div class=\"listingCard_listingCard__NpqM0\"><div class=\"listingCard_content__SLJJG\"><div class=\"listingCard_top__nVn1L\"><h4 class=\"listingCard_title__45XgY listingCard_truncatedText__otzLq\">مشروع ايفيا فيلا في حي الندى</h4></div><div class=\"listingCard_native__KKa4d\">إعلان</div><div class=\"listingCard_description__dMJy_ listingCard_truncatedText__otzLq\" style=\"width:calc(100% - 100px)\">يتجلى الذكاء والإبداع في مشروع الندى فيلا، فهي تتميز بتصميم عصري ينعكس في الاستغلال الأمثل للمساحات مع توفير كافة عناصر الرفاهية</div><div class=\"listingCard_nativeLogoContainer__WkA1a\"><span style=\"box-sizing:border-box;display:block;overflow:hidden;width:initial;height:initial;background:none;opacity:1;border:0;margin:0;padding:0;position:absolute;top:0;left:0;bottom:0;right:0\"><img alt=\"مشروع ايفيا فيلا في حي الندى\" data-nimg=\"fill\" decoding=\"async\" src=\"data:image/gif;base64,R0lGODlhAQABAIAAAAAAAP///yH5BAEAAAAALAAAAAABAAEAAAIBRAA7\" style=\"position:absolute;top:0;left:0;bottom:0;right:0;box-sizing:border-box;padding:0;border:none;margin:auto;display:block;width:0;height:0;min-width:100%;max-width:100%;min-height:100%;max-height:100%\"/><noscript><img alt=\"مشروع ايفيا فيلا في حي الندى\" data-nimg=\"fill\" decoding=\"async\" loading=\"lazy\" sizes=\"100vw\" src=\"/_next/image?url=https%3A%2F%2Fimages.aqar.fm%2Fwebp%2F120x0%2Fnative-listings-logos%2F001580683_1680819759042.png&amp;w=3840&amp;q=75\" srcset=\"/_next/image?url=https%3A%2F%2Fimages.aqar.fm%2Fwebp%2F120x0%2Fnative-listings-logos%2F001580683_1680819759042.png&amp;w=640&amp;q=75 640w, /_next/image?url=https%3A%2F%2Fimages.aqar.fm%2Fwebp%2F120x0%2Fnative-listings-logos%2F001580683_1680819759042.png&amp;w=750&amp;q=75 750w, /_next/image?url=https%3A%2F%2Fimages.aqar.fm%2Fwebp%2F120x0%2Fnative-listings-logos%2F001580683_1680819759042.png&amp;w=828&amp;q=75 828w, /_next/image?url=https%3A%2F%2Fimages.aqar.fm%2Fwebp%2F120x0%2Fnative-listings-logos%2F001580683_1680819759042.png&amp;w=1080&amp;q=75 1080w, /_next/image?url=https%3A%2F%2Fimages.aqar.fm%2Fwebp%2F120x0%2Fnative-listings-logos%2F001580683_1680819759042.png&amp;w=1200&amp;q=75 1200w, /_next/image?url=https%3A%2F%2Fimages.aqar.fm%2Fwebp%2F120x0%2Fnative-listings-logos%2F001580683_1680819759042.png&amp;w=1920&amp;q=75 1920w, /_next/image?url=https%3A%2F%2Fimages.aqar.fm%2Fwebp%2F120x0%2Fnative-listings-logos%2F001580683_1680819759042.png&amp;w=2048&amp;q=75 2048w, /_next/image?url=https%3A%2F%2Fimages.aqar.fm%2Fwebp%2F120x0%2Fnative-listings-logos%2F001580683_1680819759042.png&amp;w=3840&amp;q=75 3840w\" style=\"position:absolute;top:0;left:0;bottom:0;right:0;box-sizing:border-box;padding:0;border:none;margin:auto;display:block;width:0;height:0;min-width:100%;max-width:100%;min-height:100%;max-height:100%\"/></noscript></span></div></div><div class=\"listingCard_imageWrapper__ylcNs\"><span style=\"box-sizing:border-box;display:block;overflow:hidden;width:initial;height:initial;background:none;opacity:1;border:0;margin:0;padding:0;position:relative\"><span style=\"box-sizing:border-box;display:block;width:initial;height:initial;background:none;opacity:1;border:0;margin:0;padding:0;padding-top:68.57142857142857%\"></span><img alt=\"مشروع ايفيا فيلا في حي الندى\" data-nimg=\"responsive\" decoding=\"async\" sizes=\"100vw\" src=\"https://images.aqar.fm/webp/350x0/props/009493604_1678007767569.png\" srcset=\"https://images.aqar.fm/webp/250x0/props/009493604_1678007767569.png 640w, https://images.aqar.fm/webp/250x0/props/009493604_1678007767569.png 750w, https://images.aqar.fm/webp/300x0/props/009493604_1678007767569.png 828w, https://images.aqar.fm/webp/300x0/props/009493604_1678007767569.png 1080w, https://images.aqar.fm/webp/350x0/props/009493604_1678007767569.png 1200w, https://images.aqar.fm/webp/350x0/props/009493604_1678007767569.png 1920w, https://images.aqar.fm/webp/350x0/props/009493604_1678007767569.png 2048w, https://images.aqar.fm/webp/350x0/props/009493604_1678007767569.png 3840w\" style=\"position:absolute;top:0;left:0;bottom:0;right:0;box-sizing:border-box;padding:0;border:none;margin:auto;display:block;width:0;height:0;min-width:100%;max-width:100%;min-height:100%;max-height:100%\"/></span></div></div></div><div class=\"listing_LinkedListingCard__5SRvZ\" href=\"/%D9%81%D9%84%D9%84-%D9%84%D9%84%D8%A8%D9%8A%D8%B9/%D8%A7%D9%84%D8%B1%D9%8A%D8%A7%D8%B6/%D8%AC%D9%86%D9%88%D8%A8-%D8%A7%D9%84%D8%B1%D9%8A%D8%A7%D8%B6/%D8%AD%D9%8A-%D8%B9%D9%83%D8%A7%D8%B8/%D8%B4%D8%A7%D8%B1%D8%B9-%D8%B9%D8%A8%D8%AF%D8%A7%D9%84%D9%82%D8%A7%D8%AF%D8%B1-%D8%A7%D9%84%D8%B3%D8%B9%D8%AF%D9%8A-%D8%AD%D9%8A-%D8%B9%D9%83%D8%A7%D8%B8-%D8%A7%D9%84%D8%B1%D9%8A%D8%A7%D8%B6-%D8%A7%D9%84%D8%B1%D9%8A%D8%A7%D8%B6-4965279\"><div class=\"listingCard_listingCard__NpqM0\"><div class=\"listingCard_content__SLJJG\"><div class=\"listingCard_top__nVn1L\"><h4 class=\"listingCard_title__45XgY listingCard_truncatedText__otzLq\"><a href=\"/%D9%81%D9%84%D9%84-%D9%84%D9%84%D8%A8%D9%8A%D8%B9/%D8%A7%D9%84%D8%B1%D9%8A%D8%A7%D8%B6/%D8%AC%D9%86%D9%88%D8%A8-%D8%A7%D9%84%D8%B1%D9%8A%D8%A7%D8%B6/%D8%AD%D9%8A-%D8%B9%D9%83%D8%A7%D8%B8/%D8%B4%D8%A7%D8%B1%D8%B9-%D8%B9%D8%A8%D8%AF%D8%A7%D9%84%D9%82%D8%A7%D8%AF%D8%B1-%D8%A7%D9%84%D8%B3%D8%B9%D8%AF%D9%8A-%D8%AD%D9%8A-%D8%B9%D9%83%D8%A7%D8%B8-%D8%A7%D9%84%D8%B1%D9%8A%D8%A7%D8%B6-%D8%A7%D9%84%D8%B1%D9%8A%D8%A7%D8%B6-4965279\">فيلا للبيع في شارع عبدالقادر السعدي ، حي عكاظ ، الرياض ، الرياض</a></h4><div class=\"listingCard_time__dV1EB\">52 ثانية<img alt=\"الوقت\" class=\"iconS3-module_iconS3__TzNuQ listingCard_icon__iXeNr\" height=\"25\" loading=\"lazy\" src=\"https://assets.aqar.fm/icons/Alarm.svg\" width=\"25\"/></div></div><div class=\"listingCard_price__N5eJ4\"> <!-- -->880,000 ريال </div><div class=\"listingCard_specs__vxtg8\"><div class=\"listingCard_spec__iKaqt\">300 م² | </div><div class=\"listingCard_spec__iKaqt\"><img alt=\"Bed\" class=\"iconS3-module_iconS3__TzNuQ listingCard_icon__iXeNr\" height=\"25\" loading=\"lazy\" src=\"https://assets.aqar.fm/icons/Bed.svg\" width=\"25\"/>6 </div><div class=\"listingCard_spec__iKaqt\"><img alt=\"Couch\" class=\"iconS3-module_iconS3__TzNuQ listingCard_icon__iXeNr\" height=\"25\" loading=\"lazy\" src=\"https://assets.aqar.fm/icons/Couch.svg\" width=\"25\"/>3 </div><div class=\"listingCard_spec__iKaqt\"><img alt=\"Bath\" class=\"iconS3-module_iconS3__TzNuQ listingCard_icon__iXeNr\" height=\"25\" loading=\"lazy\" src=\"https://assets.aqar.fm/icons/Bath.svg\" width=\"25\"/>5 </div></div><div class=\"listingCard_description__dMJy_ listingCard_truncatedText__otzLq\">⬛️\n",
       "السلام عليكم ورحمة الله وبركاته.\n",
       "اسعد الله اوقاتكم بكل خير عملائنا الكرام 0\n",
       "فرصه العمر لن تتكرر 🎊🎉\n",
       "بتدوور علي الأناقة في التصميم واستغلال المساحات :100:\n",
       "بتدور على توفير المال والمصداقية في التعامل\n",
       "ابشر باللي يطيب خاطرك :100:\n",
       "نقدم لكم فيلا فاخره:\n",
       "في حي : عكاظ ( العجلان)\n",
       "مساحة : 300م\n",
       "السعر : 880 الف\n",
       "وجهه : شرق\n",
       "عرض الشارع : 25م\n",
       "نوفر تسديد المديونيات والدفعه الاولي 10% مجاناااااااا وبدون أي فوائد 👍👍\n",
       "نختصر عليك الوقت ولذلك نتعامل مع جميع البنوك والشركات التمويليه العقاريه مع إمكانية التحويل من بنك الي بنك اخر وتسهيل كل الامور 👍\n",
       "من الاخر هات فرشك واحنا نسلمك المفتاح👍\n",
       "مش عليك إلا ان تتواصل معنا واتس اب او اتصال.\n",
       "(( ابومكه ))\n",
       "[     ]</div><div class=\"listingCard_listingFooter___6kEQ\"><div class=\"listingCard_listingLocation___jVOg\"><div class=\"listingCard_district__5U3jm listingCard_truncatedText__otzLq\">حي عكاظ</div> - <div class=\"listingCard_city__ApOJt\">الرياض</div></div><div class=\"listingCard_listingTime__Q_g_J\">52 ثانية</div></div></div><div class=\"listingCard_imageWrapper__ylcNs\"><span style=\"box-sizing:border-box;display:block;overflow:hidden;width:initial;height:initial;background:none;opacity:1;border:0;margin:0;padding:0;position:relative\"><span style=\"box-sizing:border-box;display:block;width:initial;height:initial;background:none;opacity:1;border:0;margin:0;padding:0;padding-top:68.57142857142857%\"></span><img alt=\"[object Object]\" data-nimg=\"responsive\" decoding=\"async\" src=\"data:image/gif;base64,R0lGODlhAQABAIAAAAAAAP///yH5BAEAAAAALAAAAAABAAEAAAIBRAA7\" style=\"position:absolute;top:0;left:0;bottom:0;right:0;box-sizing:border-box;padding:0;border:none;margin:auto;display:block;width:0;height:0;min-width:100%;max-width:100%;min-height:100%;max-height:100%\"/><noscript><img alt=\"[object Object]\" data-nimg=\"responsive\" decoding=\"async\" loading=\"lazy\" sizes=\"100vw\" src=\"https://images.aqar.fm/webp/350x0/props/007769669_1669584129646.jpg\" srcset=\"https://images.aqar.fm/webp/250x0/props/007769669_1669584129646.jpg 640w, https://images.aqar.fm/webp/250x0/props/007769669_1669584129646.jpg 750w, https://images.aqar.fm/webp/300x0/props/007769669_1669584129646.jpg 828w, https://images.aqar.fm/webp/300x0/props/007769669_1669584129646.jpg 1080w, https://images.aqar.fm/webp/350x0/props/007769669_1669584129646.jpg 1200w, https://images.aqar.fm/webp/350x0/props/007769669_1669584129646.jpg 1920w, https://images.aqar.fm/webp/350x0/props/007769669_1669584129646.jpg 2048w, https://images.aqar.fm/webp/350x0/props/007769669_1669584129646.jpg 3840w\" style=\"position:absolute;top:0;left:0;bottom:0;right:0;box-sizing:border-box;padding:0;border:none;margin:auto;display:block;width:0;height:0;min-width:100%;max-width:100%;min-height:100%;max-height:100%\"/></noscript></span></div></div></div><div class=\"listing_LinkedListingCard__5SRvZ\" href=\"/%D9%81%D9%84%D9%84-%D9%84%D9%84%D8%A8%D9%8A%D8%B9/%D8%AC%D8%AF%D8%A9/%D8%B4%D9%85%D8%A7%D9%84-%D8%AC%D8%AF%D8%A9/%D8%AD%D9%8A-%D8%A7%D9%84%D9%8A%D8%A7%D9%82%D9%88%D8%AA/%D8%B4%D8%A7%D8%B1%D8%B9-%D9%85%D8%AD%D9%85%D9%88%D8%AF-%D8%A7%D9%84%D9%86%D8%AC%D8%A7%D8%B1%D9%89-%D8%AD%D9%8A-%D8%A7%D9%84%D9%8A%D8%A7%D9%82%D9%88%D8%AA-%D8%AC%D8%AF%D8%A9-%D8%AC%D8%AF%D8%A9-5336468\"><div class=\"listingCard_listingCard__NpqM0\"><div class=\"listingCard_content__SLJJG\"><div class=\"listingCard_top__nVn1L\"><h4 class=\"listingCard_title__45XgY listingCard_truncatedText__otzLq\"><a href=\"/%D9%81%D9%84%D9%84-%D9%84%D9%84%D8%A8%D9%8A%D8%B9/%D8%AC%D8%AF%D8%A9/%D8%B4%D9%85%D8%A7%D9%84-%D8%AC%D8%AF%D8%A9/%D8%AD%D9%8A-%D8%A7%D9%84%D9%8A%D8%A7%D9%82%D9%88%D8%AA/%D8%B4%D8%A7%D8%B1%D8%B9-%D9%85%D8%AD%D9%85%D9%88%D8%AF-%D8%A7%D9%84%D9%86%D8%AC%D8%A7%D8%B1%D9%89-%D8%AD%D9%8A-%D8%A7%D9%84%D9%8A%D8%A7%D9%82%D9%88%D8%AA-%D8%AC%D8%AF%D8%A9-%D8%AC%D8%AF%D8%A9-5336468\">فيلا للبيع في شارع محمود النجارى ، حي الياقوت ، جدة ، جدة</a></h4><div class=\"listingCard_time__dV1EB\">52 ثانية<img alt=\"الوقت\" class=\"iconS3-module_iconS3__TzNuQ listingCard_icon__iXeNr\" height=\"25\" loading=\"lazy\" src=\"https://assets.aqar.fm/icons/Alarm.svg\" width=\"25\"/></div></div><div class=\"listingCard_price__N5eJ4\"> <!-- -->1,890,000 ريال </div><div class=\"listingCard_specs__vxtg8\"><div class=\"listingCard_spec__iKaqt\">263 م² | </div><div class=\"listingCard_spec__iKaqt\"><img alt=\"Bed\" class=\"iconS3-module_iconS3__TzNuQ listingCard_icon__iXeNr\" height=\"25\" loading=\"lazy\" src=\"https://assets.aqar.fm/icons/Bed.svg\" width=\"25\"/>4 </div><div class=\"listingCard_spec__iKaqt\"><img alt=\"Couch\" class=\"iconS3-module_iconS3__TzNuQ listingCard_icon__iXeNr\" height=\"25\" loading=\"lazy\" src=\"https://assets.aqar.fm/icons/Couch.svg\" width=\"25\"/>2 </div><div class=\"listingCard_spec__iKaqt\"><img alt=\"Bath\" class=\"iconS3-module_iconS3__TzNuQ listingCard_icon__iXeNr\" height=\"25\" loading=\"lazy\" src=\"https://assets.aqar.fm/icons/Bath.svg\" width=\"25\"/>5 </div></div><div class=\"listingCard_description__dMJy_ listingCard_truncatedText__otzLq\">فرص مميزة لشراء فلل ود المنفذة من قبل مجموعة السقاف برو ، عن طريق المالك مباشرة وبدون وساطة.\n",
       "فلل ود تضمن لك:\n",
       "* مصنعيات تأسيس الأعمال الكهربائية والصحية سنة واحدة.\n",
       "* الأعمال الإنشائية 10 سنوات.\n",
       "\n",
       "مساحة الارض : ٢٦٢،٥ م٢ \n",
       "مساحة المباني : ٤٣٠ م٢\n",
       "المبلغ ١،٨٩٠،٠٠٠ ريال للموقع المحدد، شاملة مكيفات دكت سبليت للدور الأرضي وغرفة الماستر.\n",
       "كما توجد فلل تبدأ من ١،٧٩٠،٠٠٠ ريال.\n",
       "\n",
       "رقم المعلن 1897685\n",
       "رخصة فال 1100054090\n",
       "الرجاء التواصل عن طريق التطبيق وزيارة موقع مجموعة السقاف برو في انستجرام.\n",
       "\n",
       "\n",
       " رقم رخصة فال للوساطة والتسويق: 1100054090</div><div class=\"listingCard_listingFooter___6kEQ\"><div class=\"listingCard_listingLocation___jVOg\"><div class=\"listingCard_district__5U3jm listingCard_truncatedText__otzLq\">حي الياقوت</div> - <div class=\"listingCard_city__ApOJt\">جدة</div></div><div class=\"listingCard_listingTime__Q_g_J\">52 ثانية</div></div></div><div class=\"listingCard_imageWrapper__ylcNs\"><span style=\"box-sizing:border-box;display:block;overflow:hidden;width:initial;height:initial;background:none;opacity:1;border:0;margin:0;padding:0;position:relative\"><span style=\"box-sizing:border-box;display:block;width:initial;height:initial;background:none;opacity:1;border:0;margin:0;padding:0;padding-top:68.57142857142857%\"></span><img alt=\"[object Object]\" data-nimg=\"responsive\" decoding=\"async\" src=\"data:image/gif;base64,R0lGODlhAQABAIAAAAAAAP///yH5BAEAAAAALAAAAAABAAEAAAIBRAA7\" style=\"position:absolute;top:0;left:0;bottom:0;right:0;box-sizing:border-box;padding:0;border:none;margin:auto;display:block;width:0;height:0;min-width:100%;max-width:100%;min-height:100%;max-height:100%\"/><noscript><img alt=\"[object Object]\" data-nimg=\"responsive\" decoding=\"async\" loading=\"lazy\" sizes=\"100vw\" src=\"https://images.aqar.fm/webp/350x0/props/002920770_1683307050551.jpg\" srcset=\"https://images.aqar.fm/webp/250x0/props/002920770_1683307050551.jpg 640w, https://images.aqar.fm/webp/250x0/props/002920770_1683307050551.jpg 750w, https://images.aqar.fm/webp/300x0/props/002920770_1683307050551.jpg 828w, https://images.aqar.fm/webp/300x0/props/002920770_1683307050551.jpg 1080w, https://images.aqar.fm/webp/350x0/props/002920770_1683307050551.jpg 1200w, https://images.aqar.fm/webp/350x0/props/002920770_1683307050551.jpg 1920w, https://images.aqar.fm/webp/350x0/props/002920770_1683307050551.jpg 2048w, https://images.aqar.fm/webp/350x0/props/002920770_1683307050551.jpg 3840w\" style=\"position:absolute;top:0;left:0;bottom:0;right:0;box-sizing:border-box;padding:0;border:none;margin:auto;display:block;width:0;height:0;min-width:100%;max-width:100%;min-height:100%;max-height:100%\"/></noscript></span></div></div></div><div class=\"listing_LinkedListingCard__5SRvZ\" href=\"/%D9%81%D9%84%D9%84-%D9%84%D9%84%D8%A8%D9%8A%D8%B9/%D8%AC%D8%AF%D8%A9/%D8%B4%D9%85%D8%A7%D9%84-%D8%AC%D8%AF%D8%A9/%D8%AD%D9%8A-%D8%A7%D9%84%D8%B5%D9%88%D8%A7%D8%B1%D9%89/%D8%AD%D9%8A-%D8%A7%D9%84%D8%B5%D9%88%D8%A7%D8%B1%D9%89-%D8%AC%D8%AF%D8%A9-%D8%AC%D8%AF%D8%A9-5091426\"><div class=\"listingCard_listingCard__NpqM0\"><div class=\"listingCard_content__SLJJG\"><div class=\"listingCard_top__nVn1L\"><h4 class=\"listingCard_title__45XgY listingCard_truncatedText__otzLq\"><a href=\"/%D9%81%D9%84%D9%84-%D9%84%D9%84%D8%A8%D9%8A%D8%B9/%D8%AC%D8%AF%D8%A9/%D8%B4%D9%85%D8%A7%D9%84-%D8%AC%D8%AF%D8%A9/%D8%AD%D9%8A-%D8%A7%D9%84%D8%B5%D9%88%D8%A7%D8%B1%D9%89/%D8%AD%D9%8A-%D8%A7%D9%84%D8%B5%D9%88%D8%A7%D8%B1%D9%89-%D8%AC%D8%AF%D8%A9-%D8%AC%D8%AF%D8%A9-5091426\">فيلا للبيع في حي الصوارى ، جدة ، جدة</a></h4><div class=\"listingCard_time__dV1EB\">52 ثانية<img alt=\"الوقت\" class=\"iconS3-module_iconS3__TzNuQ listingCard_icon__iXeNr\" height=\"25\" loading=\"lazy\" src=\"https://assets.aqar.fm/icons/Alarm.svg\" width=\"25\"/></div></div><div class=\"listingCard_price__N5eJ4\"> <!-- -->3,000,000 ريال </div><div class=\"listingCard_specs__vxtg8\"><div class=\"listingCard_spec__iKaqt\">660 م² | </div><div class=\"listingCard_spec__iKaqt\"><img alt=\"Bed\" class=\"iconS3-module_iconS3__TzNuQ listingCard_icon__iXeNr\" height=\"25\" loading=\"lazy\" src=\"https://assets.aqar.fm/icons/Bed.svg\" width=\"25\"/>5 </div><div class=\"listingCard_spec__iKaqt\"><img alt=\"Couch\" class=\"iconS3-module_iconS3__TzNuQ listingCard_icon__iXeNr\" height=\"25\" loading=\"lazy\" src=\"https://assets.aqar.fm/icons/Couch.svg\" width=\"25\"/>5 </div><div class=\"listingCard_spec__iKaqt\"><img alt=\"Bath\" class=\"iconS3-module_iconS3__TzNuQ listingCard_icon__iXeNr\" height=\"25\" loading=\"lazy\" src=\"https://assets.aqar.fm/icons/Bath.svg\" width=\"25\"/>5 </div></div><div class=\"listingCard_description__dMJy_ listingCard_truncatedText__otzLq\">عمارة للبيع \n",
       "\n",
       "حي الصواري\n",
       "غرب كبري الملك سعود قطعة رقم 16/212\n",
       "\n",
       "‏مساحة الأرض 660م2\n",
       "‏مساحة المباني اكثر 1800 متر مسطحات\n",
       "تاريخ البناء 2017م\n",
       "4 عدادات : \n",
       "(2) 100امبير\n",
       "(2) 40 امبير \n",
       "‏\n",
       "مساحة الدور الأرضي 450 م٢ عبارة عن شقتين كبيرة \n",
       "\n",
       "تتكون الشقة الأولى ٥ غرف من جناح نوم رئيسية بمنافعه ( غرفة ملابس + دورة مياه ) ٢ غرف نوم بينها ( دورة مياه ) صالون ضيوف - غرفة سفرة (دورة مياه للضيوف ) ومطبخ مع غرفة خادمة ( مدخلين )\n",
       "‏\n",
       "تتكون الشقة الثانية ٤ غرف من جناح نوم رئيسية بمنافعه ( غرفة ملابس + دورة ميه )  غرف نوم + دورة مياه صالون ضيوف - غرفة سفرة (دورة مياه للضيوف ) ومطبخ مع غرفة خادمة\n",
       "\n",
       "الدور الثاني ‏مساحته 485م2 مكون من خمس أجنحة نوم بمنافعها + صالون ضيوف وسفرة ضيوف وصالة معيشة كبيرة ومطبخ كبير وسفرة طعام رخامة مبنية\n",
       "\n",
       "‏ الدور الثالث مساحته 390م2 ( روف ) مكون من جناح نوم رئيسي بمنافعه ( غرفة ملابس + دورة مياه )  ٢ غرف نوم بينها دورة مياه - مجلس ضيوف+ ودرة مياه ضيوف مغاسل ضيوف \n",
       "غرفة معيشة كبيرة - طعام كبيرة - صالة كبيرة\n",
       "( غرفة غسيل + غرفة خادمة + دورة مياه )\n",
       "\n",
       "حوش بمساحة 150م2 \n",
       "قراش خاص \n",
       "غرفة سائقين \n",
       "مصعد \n",
       "غاز مركزي\n",
       "دش مركزي \n",
       "مكنسة مركزية\n",
       "\n",
       "خزان ارضي ‏بمساحة 168متر مكعب حوالي 130000 م3 بسعة 7 وايت 19طن \n",
       "خزان علوي 5000 للتر - \n",
       "تشطيب عالي الجودة بمواصفات عالية جداً وضمان شركات\n",
       " بناء شخصي ( خاص )\n",
       "\n",
       "المطلوب ٣٠٠٠٠٠٠ ريال\n",
       "\n",
       "\n",
       " رقم رخصة فال للوساطة والتسويق: 1100025796</div><div class=\"listingCard_listingFooter___6kEQ\"><div class=\"listingCard_listingLocation___jVOg\"><div class=\"listingCard_district__5U3jm listingCard_truncatedText__otzLq\">حي الصوارى</div> - <div class=\"listingCard_city__ApOJt\">جدة</div></div><div class=\"listingCard_listingTime__Q_g_J\">52 ثانية</div></div></div><div class=\"listingCard_imageWrapper__ylcNs\"><span style=\"box-sizing:border-box;display:block;overflow:hidden;width:initial;height:initial;background:none;opacity:1;border:0;margin:0;padding:0;position:relative\"><span style=\"box-sizing:border-box;display:block;width:initial;height:initial;background:none;opacity:1;border:0;margin:0;padding:0;padding-top:68.57142857142857%\"></span><img alt=\"[object Object]\" data-nimg=\"responsive\" decoding=\"async\" src=\"data:image/gif;base64,R0lGODlhAQABAIAAAAAAAP///yH5BAEAAAAALAAAAAABAAEAAAIBRAA7\" style=\"position:absolute;top:0;left:0;bottom:0;right:0;box-sizing:border-box;padding:0;border:none;margin:auto;display:block;width:0;height:0;min-width:100%;max-width:100%;min-height:100%;max-height:100%\"/><noscript><img alt=\"[object Object]\" data-nimg=\"responsive\" decoding=\"async\" loading=\"lazy\" sizes=\"100vw\" src=\"https://images.aqar.fm/webp/350x0/props/023564398_1673971551853.jpg\" srcset=\"https://images.aqar.fm/webp/250x0/props/023564398_1673971551853.jpg 640w, https://images.aqar.fm/webp/250x0/props/023564398_1673971551853.jpg 750w, https://images.aqar.fm/webp/300x0/props/023564398_1673971551853.jpg 828w, https://images.aqar.fm/webp/300x0/props/023564398_1673971551853.jpg 1080w, https://images.aqar.fm/webp/350x0/props/023564398_1673971551853.jpg 1200w, https://images.aqar.fm/webp/350x0/props/023564398_1673971551853.jpg 1920w, https://images.aqar.fm/webp/350x0/props/023564398_1673971551853.jpg 2048w, https://images.aqar.fm/webp/350x0/props/023564398_1673971551853.jpg 3840w\" style=\"position:absolute;top:0;left:0;bottom:0;right:0;box-sizing:border-box;padding:0;border:none;margin:auto;display:block;width:0;height:0;min-width:100%;max-width:100%;min-height:100%;max-height:100%\"/></noscript></span></div></div></div><div class=\"listing_LinkedListingCard__5SRvZ\" href=\"/%D9%81%D9%84%D9%84-%D9%84%D9%84%D8%A8%D9%8A%D8%B9/%D8%AC%D8%AF%D8%A9/%D8%B4%D9%85%D8%A7%D9%84-%D8%AC%D8%AF%D8%A9/%D8%AD%D9%8A-%D8%A7%D9%84%D8%B1%D8%AD%D9%85%D8%A7%D9%86%D9%8A%D8%A9/%D8%B4%D8%A7%D8%B1%D8%B9-%D8%AC%D8%A8%D9%84-%D8%B9%D9%84%D9%8A-%D8%AD%D9%8A-%D8%A7%D9%84%D8%B1%D8%AD%D9%85%D8%A7%D9%86%D9%8A%D8%A9-%D8%AC%D8%AF%D8%A9-%D8%AC%D8%AF%D8%A9-4982726\"><div class=\"listingCard_listingCard__NpqM0\"><div class=\"listingCard_content__SLJJG\"><div class=\"listingCard_top__nVn1L\"><h4 class=\"listingCard_title__45XgY listingCard_truncatedText__otzLq\"><a href=\"/%D9%81%D9%84%D9%84-%D9%84%D9%84%D8%A8%D9%8A%D8%B9/%D8%AC%D8%AF%D8%A9/%D8%B4%D9%85%D8%A7%D9%84-%D8%AC%D8%AF%D8%A9/%D8%AD%D9%8A-%D8%A7%D9%84%D8%B1%D8%AD%D9%85%D8%A7%D9%86%D9%8A%D8%A9/%D8%B4%D8%A7%D8%B1%D8%B9-%D8%AC%D8%A8%D9%84-%D8%B9%D9%84%D9%8A-%D8%AD%D9%8A-%D8%A7%D9%84%D8%B1%D8%AD%D9%85%D8%A7%D9%86%D9%8A%D8%A9-%D8%AC%D8%AF%D8%A9-%D8%AC%D8%AF%D8%A9-4982726\">فيلا للبيع في شارع جبل علي ، حي الرحمانية ، جدة ، جدة</a></h4><div class=\"listingCard_time__dV1EB\">52 ثانية<img alt=\"الوقت\" class=\"iconS3-module_iconS3__TzNuQ listingCard_icon__iXeNr\" height=\"25\" loading=\"lazy\" src=\"https://assets.aqar.fm/icons/Alarm.svg\" width=\"25\"/></div></div><div class=\"listingCard_price__N5eJ4\"> <!-- -->1,680,000 ريال </div><div class=\"listingCard_specs__vxtg8\"><div class=\"listingCard_spec__iKaqt\">300 م² | </div><div class=\"listingCard_spec__iKaqt\"><img alt=\"Bed\" class=\"iconS3-module_iconS3__TzNuQ listingCard_icon__iXeNr\" height=\"25\" loading=\"lazy\" src=\"https://assets.aqar.fm/icons/Bed.svg\" width=\"25\"/>7 </div><div class=\"listingCard_spec__iKaqt\"><img alt=\"Couch\" class=\"iconS3-module_iconS3__TzNuQ listingCard_icon__iXeNr\" height=\"25\" loading=\"lazy\" src=\"https://assets.aqar.fm/icons/Couch.svg\" width=\"25\"/>3 </div><div class=\"listingCard_spec__iKaqt\"><img alt=\"Bath\" class=\"iconS3-module_iconS3__TzNuQ listingCard_icon__iXeNr\" height=\"25\" loading=\"lazy\" src=\"https://assets.aqar.fm/icons/Bath.svg\" width=\"25\"/>5 </div></div><div class=\"listingCard_description__dMJy_ listingCard_truncatedText__otzLq\">فيلا دورين وملحق تشطيب فاخر …مسبح …مصعد ..يوجد فديو كامل من الانشائات الي نهاية التشطيب ..ضمانات شامله</div><div class=\"listingCard_listingFooter___6kEQ\"><div class=\"listingCard_listingLocation___jVOg\"><div class=\"listingCard_district__5U3jm listingCard_truncatedText__otzLq\">حي الرحمانية</div> - <div class=\"listingCard_city__ApOJt\">جدة</div></div><div class=\"listingCard_listingTime__Q_g_J\">52 ثانية</div></div></div><div class=\"listingCard_imageWrapper__ylcNs\"><span style=\"box-sizing:border-box;display:block;overflow:hidden;width:initial;height:initial;background:none;opacity:1;border:0;margin:0;padding:0;position:relative\"><span style=\"box-sizing:border-box;display:block;width:initial;height:initial;background:none;opacity:1;border:0;margin:0;padding:0;padding-top:68.57142857142857%\"></span><img alt=\"[object Object]\" data-nimg=\"responsive\" decoding=\"async\" src=\"data:image/gif;base64,R0lGODlhAQABAIAAAAAAAP///yH5BAEAAAAALAAAAAABAAEAAAIBRAA7\" style=\"position:absolute;top:0;left:0;bottom:0;right:0;box-sizing:border-box;padding:0;border:none;margin:auto;display:block;width:0;height:0;min-width:100%;max-width:100%;min-height:100%;max-height:100%\"/><noscript><img alt=\"[object Object]\" data-nimg=\"responsive\" decoding=\"async\" loading=\"lazy\" sizes=\"100vw\" src=\"https://images.aqar.fm/webp/350x0/props/001389220_1670210461189.jpg\" srcset=\"https://images.aqar.fm/webp/250x0/props/001389220_1670210461189.jpg 640w, https://images.aqar.fm/webp/250x0/props/001389220_1670210461189.jpg 750w, https://images.aqar.fm/webp/300x0/props/001389220_1670210461189.jpg 828w, https://images.aqar.fm/webp/300x0/props/001389220_1670210461189.jpg 1080w, https://images.aqar.fm/webp/350x0/props/001389220_1670210461189.jpg 1200w, https://images.aqar.fm/webp/350x0/props/001389220_1670210461189.jpg 1920w, https://images.aqar.fm/webp/350x0/props/001389220_1670210461189.jpg 2048w, https://images.aqar.fm/webp/350x0/props/001389220_1670210461189.jpg 3840w\" style=\"position:absolute;top:0;left:0;bottom:0;right:0;box-sizing:border-box;padding:0;border:none;margin:auto;display:block;width:0;height:0;min-width:100%;max-width:100%;min-height:100%;max-height:100%\"/></noscript></span></div></div></div><div class=\"listing_LinkedListingCard__5SRvZ\" href=\"/%D9%81%D9%84%D9%84-%D9%84%D9%84%D8%A8%D9%8A%D8%B9/%D8%A7%D9%84%D8%B1%D9%8A%D8%A7%D8%B6/%D8%B4%D9%85%D8%A7%D9%84-%D8%A7%D9%84%D8%B1%D9%8A%D8%A7%D8%B6/%D8%AD%D9%8A-%D8%A7%D9%84%D8%B9%D8%A7%D8%B1%D8%B6/%D8%B4%D8%A7%D8%B1%D8%B9-%D8%B9%D9%84%D9%8A-%D8%A8%D9%86-%D9%88%D9%87%D8%A7%D8%B3-%D8%AD%D9%8A-%D8%A7%D9%84%D8%B9%D8%A7%D8%B1%D8%B6-%D8%A7%D9%84%D8%B1%D9%8A%D8%A7%D8%B6-%D8%A7%D9%84%D8%B1%D9%8A%D8%A7%D8%B6-5182975\"><div class=\"listingCard_listingCard__NpqM0\"><div class=\"listingCard_content__SLJJG\"><div class=\"listingCard_top__nVn1L\"><h4 class=\"listingCard_title__45XgY listingCard_truncatedText__otzLq\"><a href=\"/%D9%81%D9%84%D9%84-%D9%84%D9%84%D8%A8%D9%8A%D8%B9/%D8%A7%D9%84%D8%B1%D9%8A%D8%A7%D8%B6/%D8%B4%D9%85%D8%A7%D9%84-%D8%A7%D9%84%D8%B1%D9%8A%D8%A7%D8%B6/%D8%AD%D9%8A-%D8%A7%D9%84%D8%B9%D8%A7%D8%B1%D8%B6/%D8%B4%D8%A7%D8%B1%D8%B9-%D8%B9%D9%84%D9%8A-%D8%A8%D9%86-%D9%88%D9%87%D8%A7%D8%B3-%D8%AD%D9%8A-%D8%A7%D9%84%D8%B9%D8%A7%D8%B1%D8%B6-%D8%A7%D9%84%D8%B1%D9%8A%D8%A7%D8%B6-%D8%A7%D9%84%D8%B1%D9%8A%D8%A7%D8%B6-5182975\">فيلا للبيع في شارع علي بن وهاس ، حي العارض ، الرياض ، الرياض</a></h4><div class=\"listingCard_time__dV1EB\">52 ثانية<img alt=\"الوقت\" class=\"iconS3-module_iconS3__TzNuQ listingCard_icon__iXeNr\" height=\"25\" loading=\"lazy\" src=\"https://assets.aqar.fm/icons/Alarm.svg\" width=\"25\"/></div></div><div class=\"listingCard_price__N5eJ4\"> <!-- -->2,700,000 ريال </div><div class=\"listingCard_specs__vxtg8\"><div class=\"listingCard_spec__iKaqt\">290 م² | </div><div class=\"listingCard_spec__iKaqt\"><img alt=\"Bed\" class=\"iconS3-module_iconS3__TzNuQ listingCard_icon__iXeNr\" height=\"25\" loading=\"lazy\" src=\"https://assets.aqar.fm/icons/Bed.svg\" width=\"25\"/>4 </div><div class=\"listingCard_spec__iKaqt\"><img alt=\"Couch\" class=\"iconS3-module_iconS3__TzNuQ listingCard_icon__iXeNr\" height=\"25\" loading=\"lazy\" src=\"https://assets.aqar.fm/icons/Couch.svg\" width=\"25\"/>2 </div><div class=\"listingCard_spec__iKaqt\"><img alt=\"Bath\" class=\"iconS3-module_iconS3__TzNuQ listingCard_icon__iXeNr\" height=\"25\" loading=\"lazy\" src=\"https://assets.aqar.fm/icons/Bath.svg\" width=\"25\"/>3 </div></div><div class=\"listingCard_description__dMJy_ listingCard_truncatedText__otzLq\">فيلتين مدرن درج صالة مستقله بحي العارض مخطط دانة الياسمين \n",
       "\n",
       "الفيلا عبارة عن مجلس رجال مجلس نساء وصاله كبيره ومطبخ وحوش كبير \n",
       "الدور الاول 4 غرف \n",
       "منها غرفتين ماستر \n",
       "السطح صاله رياضيه مع صاله عائليه مع جلسه خارجيه \n",
       "مساحه الزاويه 290م \n",
       "شارع 18م جنوبي غربي \n",
       "فيلا 280م شارع 18م غربي \n",
       "\n",
       "البيع عل السوم\n",
       "\n",
       "\n",
       " رقم رخصة فال للوساطة والتسويق: 1100038526</div><div class=\"listingCard_listingFooter___6kEQ\"><div class=\"listingCard_listingLocation___jVOg\"><div class=\"listingCard_district__5U3jm listingCard_truncatedText__otzLq\">حي العارض</div> - <div class=\"listingCard_city__ApOJt\">الرياض</div></div><div class=\"listingCard_listingTime__Q_g_J\">52 ثانية</div></div></div><div class=\"listingCard_imageWrapper__ylcNs\"><span style=\"box-sizing:border-box;display:block;overflow:hidden;width:initial;height:initial;background:none;opacity:1;border:0;margin:0;padding:0;position:relative\"><span style=\"box-sizing:border-box;display:block;width:initial;height:initial;background:none;opacity:1;border:0;margin:0;padding:0;padding-top:68.57142857142857%\"></span><img alt=\"[object Object]\" data-nimg=\"responsive\" decoding=\"async\" src=\"data:image/gif;base64,R0lGODlhAQABAIAAAAAAAP///yH5BAEAAAAALAAAAAABAAEAAAIBRAA7\" style=\"position:absolute;top:0;left:0;bottom:0;right:0;box-sizing:border-box;padding:0;border:none;margin:auto;display:block;width:0;height:0;min-width:100%;max-width:100%;min-height:100%;max-height:100%\"/><noscript><img alt=\"[object Object]\" data-nimg=\"responsive\" decoding=\"async\" loading=\"lazy\" sizes=\"100vw\" src=\"https://images.aqar.fm/webp/350x0/props/003379371_1683977116038.jpg\" srcset=\"https://images.aqar.fm/webp/250x0/props/003379371_1683977116038.jpg 640w, https://images.aqar.fm/webp/250x0/props/003379371_1683977116038.jpg 750w, https://images.aqar.fm/webp/300x0/props/003379371_1683977116038.jpg 828w, https://images.aqar.fm/webp/300x0/props/003379371_1683977116038.jpg 1080w, https://images.aqar.fm/webp/350x0/props/003379371_1683977116038.jpg 1200w, https://images.aqar.fm/webp/350x0/props/003379371_1683977116038.jpg 1920w, https://images.aqar.fm/webp/350x0/props/003379371_1683977116038.jpg 2048w, https://images.aqar.fm/webp/350x0/props/003379371_1683977116038.jpg 3840w\" style=\"position:absolute;top:0;left:0;bottom:0;right:0;box-sizing:border-box;padding:0;border:none;margin:auto;display:block;width:0;height:0;min-width:100%;max-width:100%;min-height:100%;max-height:100%\"/></noscript></span></div></div></div><div class=\"listing_LinkedListingCard__5SRvZ\" href=\"/%D9%81%D9%84%D9%84-%D9%84%D9%84%D8%A8%D9%8A%D8%B9/%D8%A7%D9%84%D8%AF%D9%85%D8%A7%D9%85/%D8%AD%D9%8A-%D8%B6%D8%A7%D8%AD%D9%8A%D8%A9-%D8%A7%D9%84%D9%85%D9%84%D9%83-%D9%81%D9%87%D8%AF/%D8%B4%D8%A7%D8%B1%D8%B9-7%D8%A3-%D8%AD%D9%8A-%D8%B6%D8%A7%D8%AD%D9%8A%D8%A9-%D8%A7%D9%84%D9%85%D9%84%D9%83-%D9%81%D9%87%D8%AF-%D8%A7%D9%84%D8%AF%D9%85%D8%A7%D9%85-%D8%A7%D9%84%D8%AF%D9%85%D8%A7%D9%85-5170074\"><div class=\"listingCard_listingCard__NpqM0\"><div class=\"listingCard_content__SLJJG\"><div class=\"listingCard_top__nVn1L\"><h4 class=\"listingCard_title__45XgY listingCard_truncatedText__otzLq\"><a href=\"/%D9%81%D9%84%D9%84-%D9%84%D9%84%D8%A8%D9%8A%D8%B9/%D8%A7%D9%84%D8%AF%D9%85%D8%A7%D9%85/%D8%AD%D9%8A-%D8%B6%D8%A7%D8%AD%D9%8A%D8%A9-%D8%A7%D9%84%D9%85%D9%84%D9%83-%D9%81%D9%87%D8%AF/%D8%B4%D8%A7%D8%B1%D8%B9-7%D8%A3-%D8%AD%D9%8A-%D8%B6%D8%A7%D8%AD%D9%8A%D8%A9-%D8%A7%D9%84%D9%85%D9%84%D9%83-%D9%81%D9%87%D8%AF-%D8%A7%D9%84%D8%AF%D9%85%D8%A7%D9%85-%D8%A7%D9%84%D8%AF%D9%85%D8%A7%D9%85-5170074\">فيلا للبيع في شارع 7أ ، حي ضاحية الملك فهد ، الدمام ، الدمام</a></h4><div class=\"listingCard_time__dV1EB\">52 ثانية<img alt=\"الوقت\" class=\"iconS3-module_iconS3__TzNuQ listingCard_icon__iXeNr\" height=\"25\" loading=\"lazy\" src=\"https://assets.aqar.fm/icons/Alarm.svg\" width=\"25\"/></div></div><div class=\"listingCard_price__N5eJ4\"> <!-- -->1,250,000 ريال </div><div class=\"listingCard_specs__vxtg8\"><div class=\"listingCard_spec__iKaqt\">233 م² | </div><div class=\"listingCard_spec__iKaqt\"><img alt=\"Bed\" class=\"iconS3-module_iconS3__TzNuQ listingCard_icon__iXeNr\" height=\"25\" loading=\"lazy\" src=\"https://assets.aqar.fm/icons/Bed.svg\" width=\"25\"/>5 </div><div class=\"listingCard_spec__iKaqt\"><img alt=\"Couch\" class=\"iconS3-module_iconS3__TzNuQ listingCard_icon__iXeNr\" height=\"25\" loading=\"lazy\" src=\"https://assets.aqar.fm/icons/Couch.svg\" width=\"25\"/>2 </div><div class=\"listingCard_spec__iKaqt\"><img alt=\"Bath\" class=\"iconS3-module_iconS3__TzNuQ listingCard_icon__iXeNr\" height=\"25\" loading=\"lazy\" src=\"https://assets.aqar.fm/icons/Bath.svg\" width=\"25\"/>5 </div></div><div class=\"listingCard_description__dMJy_ listingCard_truncatedText__otzLq\">فيلا ( V-416 ) نموذج ( B )\n",
       "\n",
       "رابط الجولة الافتراضية + فيديو :\n",
       "\n",
       "https://show.tours/v-412-b\n",
       "\n",
       "نموذج ( ب ) الدمام , حي الضاحية 4/6\n",
       "دوبلكس\n",
       "مساحة ( 233 م )\n",
       "تشطيب راقي\n",
       "عبارة عن :\n",
       " الدور الارضي مجلس 4.80*5.80 \n",
       "غرفة طعام4.10*4.80 \n",
       "صالة4.5*7.10\n",
       " مطبخ 3*4.90 \n",
       "دورة مياة المجلسمجلس 1.4*1.90\n",
       " دورة مياة العائلة  1.30*2\n",
       " الدور الاول:  غرفة ماستر 4.10*4.90 دورة مياة الماستر2*2.80 غرفة ملابس الماستر2.30*2.80 \n",
       "غرفة نوم + دورة مياة 4*4.40 \n",
       "دورة مياة 1.60*3 \n",
       "غرفة نوم3.80*4.5\n",
       " غرفة نوم 4*4.90\n",
       " الملاحق غرفة خادمة 3.80*4.50 + دورة مياة + غرفة غسيل\n",
       "السعر ( 1,250,000 ) ريال \n",
       "السعر لايشمل ( رسوم التصرفات العقارية + رسوم الوساطة ) \n",
       "تقبل التقسيط على البنك والدعم السكني\n",
       "للتواصل والاستفسارات على الرقم الموحد :\n",
       "واتس اب او اتصال \n",
       "920012569\n",
       "مجموعة الدليل العقارية\n",
       "\n",
       "\n",
       " رقم رخصة فال للوساطة والتسويق: 1100002267</div><div class=\"listingCard_listingFooter___6kEQ\"><div class=\"listingCard_listingLocation___jVOg\"><div class=\"listingCard_district__5U3jm listingCard_truncatedText__otzLq\">حي ضاحية الملك فهد</div> - <div class=\"listingCard_city__ApOJt\">الدمام</div></div><div class=\"listingCard_listingTime__Q_g_J\">52 ثانية</div></div></div><div class=\"listingCard_imageWrapper__ylcNs\"><span style=\"box-sizing:border-box;display:block;overflow:hidden;width:initial;height:initial;background:none;opacity:1;border:0;margin:0;padding:0;position:relative\"><span style=\"box-sizing:border-box;display:block;width:initial;height:initial;background:none;opacity:1;border:0;margin:0;padding:0;padding-top:68.57142857142857%\"></span><img alt=\"[object Object]\" data-nimg=\"responsive\" decoding=\"async\" src=\"data:image/gif;base64,R0lGODlhAQABAIAAAAAAAP///yH5BAEAAAAALAAAAAABAAEAAAIBRAA7\" style=\"position:absolute;top:0;left:0;bottom:0;right:0;box-sizing:border-box;padding:0;border:none;margin:auto;display:block;width:0;height:0;min-width:100%;max-width:100%;min-height:100%;max-height:100%\"/><noscript><img alt=\"[object Object]\" data-nimg=\"responsive\" decoding=\"async\" loading=\"lazy\" sizes=\"100vw\" src=\"https://images.aqar.fm/webp/350x0/props/002144011_1677494876963.jpg\" srcset=\"https://images.aqar.fm/webp/250x0/props/002144011_1677494876963.jpg 640w, https://images.aqar.fm/webp/250x0/props/002144011_1677494876963.jpg 750w, https://images.aqar.fm/webp/300x0/props/002144011_1677494876963.jpg 828w, https://images.aqar.fm/webp/300x0/props/002144011_1677494876963.jpg 1080w, https://images.aqar.fm/webp/350x0/props/002144011_1677494876963.jpg 1200w, https://images.aqar.fm/webp/350x0/props/002144011_1677494876963.jpg 1920w, https://images.aqar.fm/webp/350x0/props/002144011_1677494876963.jpg 2048w, https://images.aqar.fm/webp/350x0/props/002144011_1677494876963.jpg 3840w\" style=\"position:absolute;top:0;left:0;bottom:0;right:0;box-sizing:border-box;padding:0;border:none;margin:auto;display:block;width:0;height:0;min-width:100%;max-width:100%;min-height:100%;max-height:100%\"/></noscript></span></div></div></div><div class=\"listing_LinkedListingCard__5SRvZ\" href=\"/%D9%81%D9%84%D9%84-%D9%84%D9%84%D8%A8%D9%8A%D8%B9/%D8%A7%D9%84%D8%AE%D8%A8%D8%B1/%D8%AD%D9%8A-%D8%A7%D9%84%D8%A7%D9%85%D9%88%D8%A7%D8%AC/%D8%B4%D8%A7%D8%B1%D8%B9-5%D8%AC-%D8%AD%D9%8A-%D8%A7%D9%84%D8%A7%D9%85%D9%88%D8%A7%D8%AC-%D8%A7%D9%84%D8%AE%D8%A8%D8%B1-%D8%A7%D9%84%D8%AE%D8%A8%D8%B1-4942945\"><div class=\"listingCard_listingCard__NpqM0\"><div class=\"listingCard_content__SLJJG\"><div class=\"listingCard_top__nVn1L\"><h4 class=\"listingCard_title__45XgY listingCard_truncatedText__otzLq\"><a href=\"/%D9%81%D9%84%D9%84-%D9%84%D9%84%D8%A8%D9%8A%D8%B9/%D8%A7%D9%84%D8%AE%D8%A8%D8%B1/%D8%AD%D9%8A-%D8%A7%D9%84%D8%A7%D9%85%D9%88%D8%A7%D8%AC/%D8%B4%D8%A7%D8%B1%D8%B9-5%D8%AC-%D8%AD%D9%8A-%D8%A7%D9%84%D8%A7%D9%85%D9%88%D8%A7%D8%AC-%D8%A7%D9%84%D8%AE%D8%A8%D8%B1-%D8%A7%D9%84%D8%AE%D8%A8%D8%B1-4942945\">فيلا للبيع في شارع 5ج ، حي الامواج ، الخبر ، الخبر</a></h4><div class=\"listingCard_time__dV1EB\">52 ثانية<img alt=\"الوقت\" class=\"iconS3-module_iconS3__TzNuQ listingCard_icon__iXeNr\" height=\"25\" loading=\"lazy\" src=\"https://assets.aqar.fm/icons/Alarm.svg\" width=\"25\"/></div></div><div class=\"listingCard_price__N5eJ4\"> <!-- -->780,000 ريال </div><div class=\"listingCard_specs__vxtg8\"><div class=\"listingCard_spec__iKaqt\">230 م² | </div><div class=\"listingCard_spec__iKaqt\"><img alt=\"Bed\" class=\"iconS3-module_iconS3__TzNuQ listingCard_icon__iXeNr\" height=\"25\" loading=\"lazy\" src=\"https://assets.aqar.fm/icons/Bed.svg\" width=\"25\"/>5 </div><div class=\"listingCard_spec__iKaqt\"><img alt=\"Couch\" class=\"iconS3-module_iconS3__TzNuQ listingCard_icon__iXeNr\" height=\"25\" loading=\"lazy\" src=\"https://assets.aqar.fm/icons/Couch.svg\" width=\"25\"/>2 </div><div class=\"listingCard_spec__iKaqt\"><img alt=\"Bath\" class=\"iconS3-module_iconS3__TzNuQ listingCard_icon__iXeNr\" height=\"25\" loading=\"lazy\" src=\"https://assets.aqar.fm/icons/Bath.svg\" width=\"25\"/>5 </div></div><div class=\"listingCard_description__dMJy_ listingCard_truncatedText__otzLq\">فله شبه مفصوله الواجه غربيه *\n",
       "الخبر حي الياسمين  / المساحة ( 230\n",
       "\n",
       "🔸تتكون من :\n",
       "حواش واسع جداً\n",
       "🔹من الداخل : \n",
       "مجلس +مقلط +صالة+مجلس نساء+مطبخ  \n",
       "🔸الدور الثاني : \n",
       "صالة+4 غرف نوم / منها 2 ماستر \n",
       "🔹الملحق / \n",
       "مكونه من : \n",
       "غرفة نوم ب دورة مياه.  \n",
       "الضمانات : \n",
       "بناء شخصي على الكود السعودي المعتمد\n",
       "صبة نظافة وقواعد شريطيه \n",
       "تأمين شامل على المبنى شركة ملاذ \n",
       "تأمين شامل على التشطيب شركة سوفت ضمان سباكة وكهرباء ٢٥ سنه\n",
       "وضمان الافياش ١٥ سنه \n",
       "ضمان اللمبات والثريات ٣ سنوات \n",
       "عوازل جميع الاسقف ٥ سانتي \n",
       "\n",
       "📍السعر800الف\n",
       "\n",
       "\n",
       " رقم رخصة فال للوساطة والتسويق: 1100015958</div><div class=\"listingCard_listingFooter___6kEQ\"><div class=\"listingCard_listingLocation___jVOg\"><div class=\"listingCard_district__5U3jm listingCard_truncatedText__otzLq\">حي الامواج</div> - <div class=\"listingCard_city__ApOJt\">الخبر</div></div><div class=\"listingCard_listingTime__Q_g_J\">52 ثانية</div></div></div><div class=\"listingCard_imageWrapper__ylcNs\"><span style=\"box-sizing:border-box;display:block;overflow:hidden;width:initial;height:initial;background:none;opacity:1;border:0;margin:0;padding:0;position:relative\"><span style=\"box-sizing:border-box;display:block;width:initial;height:initial;background:none;opacity:1;border:0;margin:0;padding:0;padding-top:68.57142857142857%\"></span><img alt=\"[object Object]\" data-nimg=\"responsive\" decoding=\"async\" src=\"data:image/gif;base64,R0lGODlhAQABAIAAAAAAAP///yH5BAEAAAAALAAAAAABAAEAAAIBRAA7\" style=\"position:absolute;top:0;left:0;bottom:0;right:0;box-sizing:border-box;padding:0;border:none;margin:auto;display:block;width:0;height:0;min-width:100%;max-width:100%;min-height:100%;max-height:100%\"/><noscript><img alt=\"[object Object]\" data-nimg=\"responsive\" decoding=\"async\" loading=\"lazy\" sizes=\"100vw\" src=\"https://images.aqar.fm/webp/350x0/props/019694803_1668775746339.jpg\" srcset=\"https://images.aqar.fm/webp/250x0/props/019694803_1668775746339.jpg 640w, https://images.aqar.fm/webp/250x0/props/019694803_1668775746339.jpg 750w, https://images.aqar.fm/webp/300x0/props/019694803_1668775746339.jpg 828w, https://images.aqar.fm/webp/300x0/props/019694803_1668775746339.jpg 1080w, https://images.aqar.fm/webp/350x0/props/019694803_1668775746339.jpg 1200w, https://images.aqar.fm/webp/350x0/props/019694803_1668775746339.jpg 1920w, https://images.aqar.fm/webp/350x0/props/019694803_1668775746339.jpg 2048w, https://images.aqar.fm/webp/350x0/props/019694803_1668775746339.jpg 3840w\" style=\"position:absolute;top:0;left:0;bottom:0;right:0;box-sizing:border-box;padding:0;border:none;margin:auto;display:block;width:0;height:0;min-width:100%;max-width:100%;min-height:100%;max-height:100%\"/></noscript></span></div></div></div><div class=\"listing_LinkedListingCard__5SRvZ\" href=\"/%D9%81%D9%84%D9%84-%D9%84%D9%84%D8%A8%D9%8A%D8%B9/%D8%A7%D9%84%D8%B1%D9%8A%D8%A7%D8%B6/%D8%B4%D8%B1%D9%82-%D8%A7%D9%84%D8%B1%D9%8A%D8%A7%D8%B6/%D8%AD%D9%8A-%D8%A7%D9%84%D9%85%D9%84%D9%83-%D9%81%D9%8A%D8%B5%D9%84/%D8%B4%D8%A7%D8%B1%D8%B9-%D8%B9%D8%A8%D8%AF%D8%A7%D9%84%D8%BA%D9%86%D9%8A-%D8%A8%D9%86-%D8%B3%D9%84%D8%A7%D9%85-%D8%AD%D9%8A-%D8%A7%D9%84%D9%85%D9%84%D9%83-%D9%81%D9%8A%D8%B5%D9%84-%D8%A7%D9%84%D8%B1%D9%8A%D8%A7%D8%B6-%D8%A7%D9%84%D8%B1%D9%8A%D8%A7%D8%B6-4860115\"><div class=\"listingCard_listingCard__NpqM0\"><div class=\"listingCard_content__SLJJG\"><div class=\"listingCard_top__nVn1L\"><h4 class=\"listingCard_title__45XgY listingCard_truncatedText__otzLq\"><a href=\"/%D9%81%D9%84%D9%84-%D9%84%D9%84%D8%A8%D9%8A%D8%B9/%D8%A7%D9%84%D8%B1%D9%8A%D8%A7%D8%B6/%D8%B4%D8%B1%D9%82-%D8%A7%D9%84%D8%B1%D9%8A%D8%A7%D8%B6/%D8%AD%D9%8A-%D8%A7%D9%84%D9%85%D9%84%D9%83-%D9%81%D9%8A%D8%B5%D9%84/%D8%B4%D8%A7%D8%B1%D8%B9-%D8%B9%D8%A8%D8%AF%D8%A7%D9%84%D8%BA%D9%86%D9%8A-%D8%A8%D9%86-%D8%B3%D9%84%D8%A7%D9%85-%D8%AD%D9%8A-%D8%A7%D9%84%D9%85%D9%84%D9%83-%D9%81%D9%8A%D8%B5%D9%84-%D8%A7%D9%84%D8%B1%D9%8A%D8%A7%D8%B6-%D8%A7%D9%84%D8%B1%D9%8A%D8%A7%D8%B6-4860115\">فيلا للبيع في شارع عبدالغني بن سلام ، حي الملك فيصل ، الرياض ، الرياض</a></h4><div class=\"listingCard_time__dV1EB\">52 ثانية<img alt=\"الوقت\" class=\"iconS3-module_iconS3__TzNuQ listingCard_icon__iXeNr\" height=\"25\" loading=\"lazy\" src=\"https://assets.aqar.fm/icons/Alarm.svg\" width=\"25\"/></div></div><div class=\"listingCard_price__N5eJ4\"> <!-- -->1,950,000 ريال </div><div class=\"listingCard_specs__vxtg8\"><div class=\"listingCard_spec__iKaqt\">250 م² | </div><div class=\"listingCard_spec__iKaqt\"><img alt=\"Bed\" class=\"iconS3-module_iconS3__TzNuQ listingCard_icon__iXeNr\" height=\"25\" loading=\"lazy\" src=\"https://assets.aqar.fm/icons/Bed.svg\" width=\"25\"/>4 </div><div class=\"listingCard_spec__iKaqt\"><img alt=\"Couch\" class=\"iconS3-module_iconS3__TzNuQ listingCard_icon__iXeNr\" height=\"25\" loading=\"lazy\" src=\"https://assets.aqar.fm/icons/Couch.svg\" width=\"25\"/>2 </div><div class=\"listingCard_spec__iKaqt\"><img alt=\"Bath\" class=\"iconS3-module_iconS3__TzNuQ listingCard_icon__iXeNr\" height=\"25\" loading=\"lazy\" src=\"https://assets.aqar.fm/icons/Bath.svg\" width=\"25\"/>5 </div></div><div class=\"listingCard_description__dMJy_ listingCard_truncatedText__otzLq\">مودرن جديده \n",
       "ملحق خارجي \n",
       "اربع اجنحه \n",
       "حديقه في السطح \n",
       "شلال وحديقه خلفيه \n",
       "تم تأسيس مصعد</div><div class=\"listingCard_listingFooter___6kEQ\"><div class=\"listingCard_listingLocation___jVOg\"><div class=\"listingCard_district__5U3jm listingCard_truncatedText__otzLq\">حي الملك فيصل</div> - <div class=\"listingCard_city__ApOJt\">الرياض</div></div><div class=\"listingCard_listingTime__Q_g_J\">52 ثانية</div></div></div><div class=\"listingCard_imageWrapper__ylcNs\"><span style=\"box-sizing:border-box;display:block;overflow:hidden;width:initial;height:initial;background:none;opacity:1;border:0;margin:0;padding:0;position:relative\"><span style=\"box-sizing:border-box;display:block;width:initial;height:initial;background:none;opacity:1;border:0;margin:0;padding:0;padding-top:68.57142857142857%\"></span><img alt=\"[object Object]\" data-nimg=\"responsive\" decoding=\"async\" src=\"data:image/gif;base64,R0lGODlhAQABAIAAAAAAAP///yH5BAEAAAAALAAAAAABAAEAAAIBRAA7\" style=\"position:absolute;top:0;left:0;bottom:0;right:0;box-sizing:border-box;padding:0;border:none;margin:auto;display:block;width:0;height:0;min-width:100%;max-width:100%;min-height:100%;max-height:100%\"/><noscript><img alt=\"[object Object]\" data-nimg=\"responsive\" decoding=\"async\" loading=\"lazy\" sizes=\"100vw\" src=\"https://images.aqar.fm/webp/350x0/props/004337322_1675674496255.jpg\" srcset=\"https://images.aqar.fm/webp/250x0/props/004337322_1675674496255.jpg 640w, https://images.aqar.fm/webp/250x0/props/004337322_1675674496255.jpg 750w, https://images.aqar.fm/webp/300x0/props/004337322_1675674496255.jpg 828w, https://images.aqar.fm/webp/300x0/props/004337322_1675674496255.jpg 1080w, https://images.aqar.fm/webp/350x0/props/004337322_1675674496255.jpg 1200w, https://images.aqar.fm/webp/350x0/props/004337322_1675674496255.jpg 1920w, https://images.aqar.fm/webp/350x0/props/004337322_1675674496255.jpg 2048w, https://images.aqar.fm/webp/350x0/props/004337322_1675674496255.jpg 3840w\" style=\"position:absolute;top:0;left:0;bottom:0;right:0;box-sizing:border-box;padding:0;border:none;margin:auto;display:block;width:0;height:0;min-width:100%;max-width:100%;min-height:100%;max-height:100%\"/></noscript></span></div></div></div><div class=\"listing_LinkedListingCard__5SRvZ\" href=\"/%D9%81%D9%84%D9%84-%D9%84%D9%84%D8%A8%D9%8A%D8%B9/%D8%AC%D8%AF%D8%A9/%D8%AC%D9%86%D9%88%D8%A8-%D8%AC%D8%AF%D8%A9/%D8%AD%D9%8A-%D8%A7%D9%84%D9%82%D8%B1%D9%8A%D9%86%D8%A9/%D8%B4%D8%A7%D8%B1%D8%B9-%D8%A7%D9%84%D9%82%D8%B1%D9%8A%D9%86%D9%8A%D8%A9-302-%D8%AD%D9%8A-%D8%A7%D9%84%D9%82%D8%B1%D9%8A%D9%86%D9%8A%D8%A9-%D8%AC%D8%AF%D8%A9-%D8%AC%D8%AF%D8%A9-5055622\"><div class=\"listingCard_listingCard__NpqM0\"><div class=\"listingCard_content__SLJJG\"><div class=\"listingCard_top__nVn1L\"><h4 class=\"listingCard_title__45XgY listingCard_truncatedText__otzLq\"><a href=\"/%D9%81%D9%84%D9%84-%D9%84%D9%84%D8%A8%D9%8A%D8%B9/%D8%AC%D8%AF%D8%A9/%D8%AC%D9%86%D9%88%D8%A8-%D8%AC%D8%AF%D8%A9/%D8%AD%D9%8A-%D8%A7%D9%84%D9%82%D8%B1%D9%8A%D9%86%D8%A9/%D8%B4%D8%A7%D8%B1%D8%B9-%D8%A7%D9%84%D9%82%D8%B1%D9%8A%D9%86%D9%8A%D8%A9-302-%D8%AD%D9%8A-%D8%A7%D9%84%D9%82%D8%B1%D9%8A%D9%86%D9%8A%D8%A9-%D8%AC%D8%AF%D8%A9-%D8%AC%D8%AF%D8%A9-5055622\">فيلا للبيع في شارع القرينية 302 ، حي القرينية ، جدة ، جدة</a></h4><div class=\"listingCard_time__dV1EB\">52 ثانية<img alt=\"الوقت\" class=\"iconS3-module_iconS3__TzNuQ listingCard_icon__iXeNr\" height=\"25\" loading=\"lazy\" src=\"https://assets.aqar.fm/icons/Alarm.svg\" width=\"25\"/></div></div><div class=\"listingCard_price__N5eJ4\"> <!-- -->1,400,000 ريال </div><div class=\"listingCard_specs__vxtg8\"><div class=\"listingCard_spec__iKaqt\">450 م² | </div><div class=\"listingCard_spec__iKaqt\"><img alt=\"Bed\" class=\"iconS3-module_iconS3__TzNuQ listingCard_icon__iXeNr\" height=\"25\" loading=\"lazy\" src=\"https://assets.aqar.fm/icons/Bed.svg\" width=\"25\"/>6 </div><div class=\"listingCard_spec__iKaqt\"><img alt=\"Couch\" class=\"iconS3-module_iconS3__TzNuQ listingCard_icon__iXeNr\" height=\"25\" loading=\"lazy\" src=\"https://assets.aqar.fm/icons/Couch.svg\" width=\"25\"/>1 </div><div class=\"listingCard_spec__iKaqt\"><img alt=\"Bath\" class=\"iconS3-module_iconS3__TzNuQ listingCard_icon__iXeNr\" height=\"25\" loading=\"lazy\" src=\"https://assets.aqar.fm/icons/Bath.svg\" width=\"25\"/>4 </div></div><div class=\"listingCard_description__dMJy_ listingCard_truncatedText__otzLq\">فلل جديدة بتصميم عصري \n",
       "\n",
       "موقعها : القرينية مخطط 8 ب رقم القطعة 117 .. شارعها 15 نافذ من طريق الثمانين وقريبة جدا منه\n",
       "\n",
       "مساحة كل فيلا : 450 متر \n",
       "عرض 12.5 متر * عمق 36 متر\n",
       "\n",
       "مكوناتها :\n",
       "- 6 غرف\n",
       "- صالة معيشة مفتوحة بإطلاله على الحديقة\n",
       "- مطبخ مفتوح\n",
       "- 5 دورات مياة اكرمكم الله\n",
       "- غرفة خادمة مع دورة مياة خاصة بها \n",
       "- بهو داخلي\n",
       "- حديقة داخلية للعائلة\n",
       "- حوش امامي \n",
       "- موقف سيارة\n",
       "- زراعة بالمساحات الخارجية\n",
       "\n",
       "الخدمات :\n",
       "عداد كهرباء\n",
       "\n",
       "رقم المعلن : 1587302\n",
       "رقم التفويض من المالك : 7248721\n",
       "\n",
       "\n",
       " رقم رخصة فال للوساطة والتسويق: 1100055453</div><div class=\"listingCard_listingFooter___6kEQ\"><div class=\"listingCard_listingLocation___jVOg\"><div class=\"listingCard_district__5U3jm listingCard_truncatedText__otzLq\">حي القرينة</div> - <div class=\"listingCard_city__ApOJt\">جدة</div></div><div class=\"listingCard_listingTime__Q_g_J\">52 ثانية</div></div></div><div class=\"listingCard_imageWrapper__ylcNs\"><span style=\"box-sizing:border-box;display:block;overflow:hidden;width:initial;height:initial;background:none;opacity:1;border:0;margin:0;padding:0;position:relative\"><span style=\"box-sizing:border-box;display:block;width:initial;height:initial;background:none;opacity:1;border:0;margin:0;padding:0;padding-top:68.57142857142857%\"></span><img alt=\"[object Object]\" data-nimg=\"responsive\" decoding=\"async\" src=\"data:image/gif;base64,R0lGODlhAQABAIAAAAAAAP///yH5BAEAAAAALAAAAAABAAEAAAIBRAA7\" style=\"position:absolute;top:0;left:0;bottom:0;right:0;box-sizing:border-box;padding:0;border:none;margin:auto;display:block;width:0;height:0;min-width:100%;max-width:100%;min-height:100%;max-height:100%\"/><noscript><img alt=\"[object Object]\" data-nimg=\"responsive\" decoding=\"async\" loading=\"lazy\" sizes=\"100vw\" src=\"https://images.aqar.fm/webp/350x0/props/014927578_1673820272478.jpg\" srcset=\"https://images.aqar.fm/webp/250x0/props/014927578_1673820272478.jpg 640w, https://images.aqar.fm/webp/250x0/props/014927578_1673820272478.jpg 750w, https://images.aqar.fm/webp/300x0/props/014927578_1673820272478.jpg 828w, https://images.aqar.fm/webp/300x0/props/014927578_1673820272478.jpg 1080w, https://images.aqar.fm/webp/350x0/props/014927578_1673820272478.jpg 1200w, https://images.aqar.fm/webp/350x0/props/014927578_1673820272478.jpg 1920w, https://images.aqar.fm/webp/350x0/props/014927578_1673820272478.jpg 2048w, https://images.aqar.fm/webp/350x0/props/014927578_1673820272478.jpg 3840w\" style=\"position:absolute;top:0;left:0;bottom:0;right:0;box-sizing:border-box;padding:0;border:none;margin:auto;display:block;width:0;height:0;min-width:100%;max-width:100%;min-height:100%;max-height:100%\"/></noscript></span></div></div></div><div class=\"listing_LinkedListingCard__5SRvZ\" href=\"/%D9%81%D9%84%D9%84-%D9%84%D9%84%D8%A8%D9%8A%D8%B9/%D8%A7%D9%84%D8%AF%D9%85%D8%A7%D9%85/%D8%AD%D9%8A-%D8%B7%D9%8A%D8%A8%D8%A9/%D8%B4%D8%A7%D8%B1%D8%B9-%D8%A7%D9%84%D8%B3%D8%A7%D8%A6%D8%A8-%D8%A8%D9%86-%D8%A7%D9%84%D8%AD%D8%A7%D8%B1%D8%AB-%D8%AD%D9%8A-%D8%B7%D9%8A%D8%A8%D8%A9-%D8%A7%D9%84%D8%AF%D9%85%D8%A7%D9%85-%D8%A7%D9%84%D8%AF%D9%85%D8%A7%D9%85-5341025\"><div class=\"listingCard_listingCard__NpqM0\"><div class=\"listingCard_content__SLJJG\"><div class=\"listingCard_top__nVn1L\"><h4 class=\"listingCard_title__45XgY listingCard_truncatedText__otzLq\"><a href=\"/%D9%81%D9%84%D9%84-%D9%84%D9%84%D8%A8%D9%8A%D8%B9/%D8%A7%D9%84%D8%AF%D9%85%D8%A7%D9%85/%D8%AD%D9%8A-%D8%B7%D9%8A%D8%A8%D8%A9/%D8%B4%D8%A7%D8%B1%D8%B9-%D8%A7%D9%84%D8%B3%D8%A7%D8%A6%D8%A8-%D8%A8%D9%86-%D8%A7%D9%84%D8%AD%D8%A7%D8%B1%D8%AB-%D8%AD%D9%8A-%D8%B7%D9%8A%D8%A8%D8%A9-%D8%A7%D9%84%D8%AF%D9%85%D8%A7%D9%85-%D8%A7%D9%84%D8%AF%D9%85%D8%A7%D9%85-5341025\">فيلا للبيع في شارع السائب بن الحارث ، حي طيبة ، الدمام ، الدمام</a></h4><div class=\"listingCard_time__dV1EB\">52 ثانية<img alt=\"الوقت\" class=\"iconS3-module_iconS3__TzNuQ listingCard_icon__iXeNr\" height=\"25\" loading=\"lazy\" src=\"https://assets.aqar.fm/icons/Alarm.svg\" width=\"25\"/></div></div><div class=\"listingCard_price__N5eJ4\"> <!-- -->1,300,000 ريال </div><div class=\"listingCard_specs__vxtg8\"><div class=\"listingCard_spec__iKaqt\">300 م² | </div><div class=\"listingCard_spec__iKaqt\"><img alt=\"Bed\" class=\"iconS3-module_iconS3__TzNuQ listingCard_icon__iXeNr\" height=\"25\" loading=\"lazy\" src=\"https://assets.aqar.fm/icons/Bed.svg\" width=\"25\"/>5 </div><div class=\"listingCard_spec__iKaqt\"><img alt=\"Couch\" class=\"iconS3-module_iconS3__TzNuQ listingCard_icon__iXeNr\" height=\"25\" loading=\"lazy\" src=\"https://assets.aqar.fm/icons/Couch.svg\" width=\"25\"/>3 </div><div class=\"listingCard_spec__iKaqt\"><img alt=\"Bath\" class=\"iconS3-module_iconS3__TzNuQ listingCard_icon__iXeNr\" height=\"25\" loading=\"lazy\" src=\"https://assets.aqar.fm/icons/Bath.svg\" width=\"25\"/>5 </div></div><div class=\"listingCard_description__dMJy_ listingCard_truncatedText__otzLq\">♦️للبيع فلل دبلكس متصل شبه منفصله دورين وملحق بحي طيبه♦️\n",
       "\n",
       "  \n",
       " ▪️ مساحه الفله الاولى/300م\n",
       "▪️ مساحه الفله الثانيه / 300م\n",
       "▪️بناء شخصي على الكود السعودي الجديد \n",
       "▪️متوفر جميع الخدمات في الحي متاكامل\n",
       "▪️يوجد ضمانات على الفيلا\n",
       "▪️سباكه 15 سنه\n",
       "▪️الكهربا 25 سنه\n",
       "▪️الخزنات 10 سنوات\n",
       "▪️العزل الحراري ضمان 10 سنوات\n",
       "▪️شهادة اشراف هندسي\n",
       "▪️الكراج ضمان 2 سنتان\n",
       "وعلى جميع تركيبات الكهربائيه\n",
       "والمواد الصحيه\n",
       "^مؤسس مصعد\n",
       "\n",
       "▪️تفاصيل الفلل ⬇️⬇️\n",
       "▪️ الدور الارضي:\n",
       "مدخلين مدخل للرجال ومدخل للنساء \n",
       "مجلس ومقلط وصاله ومجلس نساء ومطبخ \n",
       "و2 دورة مياه\n",
       "▪️ الدور الاول:\n",
       " 4 غرف نوم 🛌  و\n",
       "2 منها ماسترماستر\n",
       "وصاله كبيره\n",
       "\n",
       "▪️ ملحق :\n",
       " غرفتين \n",
       "و صاله\n",
       "ودورة مياه\n",
       "وغرفة غسيل</div><div class=\"listingCard_listingFooter___6kEQ\"><div class=\"listingCard_listingLocation___jVOg\"><div class=\"listingCard_district__5U3jm listingCard_truncatedText__otzLq\">حي طيبة</div> - <div class=\"listingCard_city__ApOJt\">الدمام</div></div><div class=\"listingCard_listingTime__Q_g_J\">52 ثانية</div></div></div><div class=\"listingCard_imageWrapper__ylcNs\"><span style=\"box-sizing:border-box;display:block;overflow:hidden;width:initial;height:initial;background:none;opacity:1;border:0;margin:0;padding:0;position:relative\"><span style=\"box-sizing:border-box;display:block;width:initial;height:initial;background:none;opacity:1;border:0;margin:0;padding:0;padding-top:68.57142857142857%\"></span><img alt=\"[object Object]\" data-nimg=\"responsive\" decoding=\"async\" src=\"data:image/gif;base64,R0lGODlhAQABAIAAAAAAAP///yH5BAEAAAAALAAAAAABAAEAAAIBRAA7\" style=\"position:absolute;top:0;left:0;bottom:0;right:0;box-sizing:border-box;padding:0;border:none;margin:auto;display:block;width:0;height:0;min-width:100%;max-width:100%;min-height:100%;max-height:100%\"/><noscript><img alt=\"[object Object]\" data-nimg=\"responsive\" decoding=\"async\" loading=\"lazy\" sizes=\"100vw\" src=\"https://images.aqar.fm/webp/350x0/props/003318290_1684542107059.jpg\" srcset=\"https://images.aqar.fm/webp/250x0/props/003318290_1684542107059.jpg 640w, https://images.aqar.fm/webp/250x0/props/003318290_1684542107059.jpg 750w, https://images.aqar.fm/webp/300x0/props/003318290_1684542107059.jpg 828w, https://images.aqar.fm/webp/300x0/props/003318290_1684542107059.jpg 1080w, https://images.aqar.fm/webp/350x0/props/003318290_1684542107059.jpg 1200w, https://images.aqar.fm/webp/350x0/props/003318290_1684542107059.jpg 1920w, https://images.aqar.fm/webp/350x0/props/003318290_1684542107059.jpg 2048w, https://images.aqar.fm/webp/350x0/props/003318290_1684542107059.jpg 3840w\" style=\"position:absolute;top:0;left:0;bottom:0;right:0;box-sizing:border-box;padding:0;border:none;margin:auto;display:block;width:0;height:0;min-width:100%;max-width:100%;min-height:100%;max-height:100%\"/></noscript></span></div></div></div><div class=\"listing_LinkedListingCard__5SRvZ\" href=\"/%D9%81%D9%84%D9%84-%D9%84%D9%84%D8%A8%D9%8A%D8%B9/%D8%AC%D8%AF%D8%A9/%D8%AC%D9%86%D9%88%D8%A8-%D8%AC%D8%AF%D8%A9/%D8%AD%D9%8A-%D8%A7%D9%84%D9%82%D8%B1%D9%8A%D9%86%D8%A9/%D8%AD%D9%8A-%D8%A7%D9%84%D9%82%D8%B1%D9%8A%D9%86%D9%8A%D8%A9-%D8%AC%D8%AF%D8%A9-%D8%AC%D8%AF%D8%A9-5166058\"><div class=\"listingCard_listingCard__NpqM0\"><div class=\"listingCard_content__SLJJG\"><div class=\"listingCard_top__nVn1L\"><h4 class=\"listingCard_title__45XgY listingCard_truncatedText__otzLq\"><a href=\"/%D9%81%D9%84%D9%84-%D9%84%D9%84%D8%A8%D9%8A%D8%B9/%D8%AC%D8%AF%D8%A9/%D8%AC%D9%86%D9%88%D8%A8-%D8%AC%D8%AF%D8%A9/%D8%AD%D9%8A-%D8%A7%D9%84%D9%82%D8%B1%D9%8A%D9%86%D8%A9/%D8%AD%D9%8A-%D8%A7%D9%84%D9%82%D8%B1%D9%8A%D9%86%D9%8A%D8%A9-%D8%AC%D8%AF%D8%A9-%D8%AC%D8%AF%D8%A9-5166058\">فيلا للبيع في حي القرينية ، جدة ، جدة</a></h4><div class=\"listingCard_time__dV1EB\">52 ثانية<img alt=\"الوقت\" class=\"iconS3-module_iconS3__TzNuQ listingCard_icon__iXeNr\" height=\"25\" loading=\"lazy\" src=\"https://assets.aqar.fm/icons/Alarm.svg\" width=\"25\"/></div></div><div class=\"listingCard_price__N5eJ4\"> <!-- -->1,000,000 ريال </div><div class=\"listingCard_specs__vxtg8\"><div class=\"listingCard_spec__iKaqt\">300 م² | </div><div class=\"listingCard_spec__iKaqt\"><img alt=\"Bed\" class=\"iconS3-module_iconS3__TzNuQ listingCard_icon__iXeNr\" height=\"25\" loading=\"lazy\" src=\"https://assets.aqar.fm/icons/Bed.svg\" width=\"25\"/>5 </div><div class=\"listingCard_spec__iKaqt\"><img alt=\"Couch\" class=\"iconS3-module_iconS3__TzNuQ listingCard_icon__iXeNr\" height=\"25\" loading=\"lazy\" src=\"https://assets.aqar.fm/icons/Couch.svg\" width=\"25\"/>1 </div><div class=\"listingCard_spec__iKaqt\"><img alt=\"Bath\" class=\"iconS3-module_iconS3__TzNuQ listingCard_icon__iXeNr\" height=\"25\" loading=\"lazy\" src=\"https://assets.aqar.fm/icons/Bath.svg\" width=\"25\"/>4 </div></div><div class=\"listingCard_description__dMJy_ listingCard_truncatedText__otzLq\">فلل جديدة \n",
       "تأسيس ثلاثة ادوار\n",
       "\n",
       "مساحة كل فيلا : 294 \n",
       "عبارة عن دور واحد\n",
       " \n",
       "مكونة من :\n",
       "- مجلس  بمدخل رئيسي \n",
       "- مجلس نساء بمدخل خاص \n",
       "- صالة معيشة\n",
       "- غرفة نوم رئيسية \n",
       "- غرفة نوم اولاد\n",
       "- غرفة نوم بنات \n",
       "- مطبخ \n",
       "- 4 دورات مياة .\n",
       "- مستودع\n",
       "- حوش امامي\n",
       "\n",
       "\n",
       "رُوعي فيها استخدام افضل المواد و اجودها ..\n",
       "\n",
       "\n",
       " رقم رخصة فال للوساطة والتسويق: 1100055453</div><div class=\"listingCard_listingFooter___6kEQ\"><div class=\"listingCard_listingLocation___jVOg\"><div class=\"listingCard_district__5U3jm listingCard_truncatedText__otzLq\">حي القرينة</div> - <div class=\"listingCard_city__ApOJt\">جدة</div></div><div class=\"listingCard_listingTime__Q_g_J\">52 ثانية</div></div></div><div class=\"listingCard_imageWrapper__ylcNs\"><span style=\"box-sizing:border-box;display:block;overflow:hidden;width:initial;height:initial;background:none;opacity:1;border:0;margin:0;padding:0;position:relative\"><span style=\"box-sizing:border-box;display:block;width:initial;height:initial;background:none;opacity:1;border:0;margin:0;padding:0;padding-top:68.57142857142857%\"></span><img alt=\"[object Object]\" data-nimg=\"responsive\" decoding=\"async\" src=\"data:image/gif;base64,R0lGODlhAQABAIAAAAAAAP///yH5BAEAAAAALAAAAAABAAEAAAIBRAA7\" style=\"position:absolute;top:0;left:0;bottom:0;right:0;box-sizing:border-box;padding:0;border:none;margin:auto;display:block;width:0;height:0;min-width:100%;max-width:100%;min-height:100%;max-height:100%\"/><noscript><img alt=\"[object Object]\" data-nimg=\"responsive\" decoding=\"async\" loading=\"lazy\" sizes=\"100vw\" src=\"https://images.aqar.fm/webp/350x0/props/014927579_1676605882451.jpg\" srcset=\"https://images.aqar.fm/webp/250x0/props/014927579_1676605882451.jpg 640w, https://images.aqar.fm/webp/250x0/props/014927579_1676605882451.jpg 750w, https://images.aqar.fm/webp/300x0/props/014927579_1676605882451.jpg 828w, https://images.aqar.fm/webp/300x0/props/014927579_1676605882451.jpg 1080w, https://images.aqar.fm/webp/350x0/props/014927579_1676605882451.jpg 1200w, https://images.aqar.fm/webp/350x0/props/014927579_1676605882451.jpg 1920w, https://images.aqar.fm/webp/350x0/props/014927579_1676605882451.jpg 2048w, https://images.aqar.fm/webp/350x0/props/014927579_1676605882451.jpg 3840w\" style=\"position:absolute;top:0;left:0;bottom:0;right:0;box-sizing:border-box;padding:0;border:none;margin:auto;display:block;width:0;height:0;min-width:100%;max-width:100%;min-height:100%;max-height:100%\"/></noscript></span></div></div></div><div class=\"listing_LinkedListingCard__5SRvZ\" href=\"/%D9%81%D9%84%D9%84-%D9%84%D9%84%D8%A8%D9%8A%D8%B9/%D8%A7%D9%84%D8%AF%D9%85%D8%A7%D9%85/%D8%AD%D9%8A-%D8%B6%D8%A7%D8%AD%D9%8A%D8%A9-%D8%A7%D9%84%D9%85%D9%84%D9%83-%D9%81%D9%87%D8%AF/%D8%B4%D8%A7%D8%B1%D8%B9-4%D8%A8-%D8%AD%D9%8A-%D8%B6%D8%A7%D8%AD%D9%8A%D8%A9-%D8%A7%D9%84%D9%85%D9%84%D9%83-%D9%81%D9%87%D8%AF-%D8%A7%D9%84%D8%AF%D9%85%D8%A7%D9%85-%D8%A7%D9%84%D8%AF%D9%85%D8%A7%D9%85-5138800\"><div class=\"listingCard_listingCard__NpqM0\"><div class=\"listingCard_content__SLJJG\"><div class=\"listingCard_top__nVn1L\"><h4 class=\"listingCard_title__45XgY listingCard_truncatedText__otzLq\"><a href=\"/%D9%81%D9%84%D9%84-%D9%84%D9%84%D8%A8%D9%8A%D8%B9/%D8%A7%D9%84%D8%AF%D9%85%D8%A7%D9%85/%D8%AD%D9%8A-%D8%B6%D8%A7%D8%AD%D9%8A%D8%A9-%D8%A7%D9%84%D9%85%D9%84%D9%83-%D9%81%D9%87%D8%AF/%D8%B4%D8%A7%D8%B1%D8%B9-4%D8%A8-%D8%AD%D9%8A-%D8%B6%D8%A7%D8%AD%D9%8A%D8%A9-%D8%A7%D9%84%D9%85%D9%84%D9%83-%D9%81%D9%87%D8%AF-%D8%A7%D9%84%D8%AF%D9%85%D8%A7%D9%85-%D8%A7%D9%84%D8%AF%D9%85%D8%A7%D9%85-5138800\">فيلا للبيع في شارع 4ب ، حي ضاحية الملك فهد ، الدمام ، الدمام</a></h4><div class=\"listingCard_time__dV1EB\">52 ثانية<img alt=\"الوقت\" class=\"iconS3-module_iconS3__TzNuQ listingCard_icon__iXeNr\" height=\"25\" loading=\"lazy\" src=\"https://assets.aqar.fm/icons/Alarm.svg\" width=\"25\"/></div></div><div class=\"listingCard_price__N5eJ4\"> <!-- -->1,300,000 ريال </div><div class=\"listingCard_specs__vxtg8\"><div class=\"listingCard_spec__iKaqt\">250 م² | </div><div class=\"listingCard_spec__iKaqt\"><img alt=\"Bed\" class=\"iconS3-module_iconS3__TzNuQ listingCard_icon__iXeNr\" height=\"25\" loading=\"lazy\" src=\"https://assets.aqar.fm/icons/Bed.svg\" width=\"25\"/>7 </div><div class=\"listingCard_spec__iKaqt\"><img alt=\"Couch\" class=\"iconS3-module_iconS3__TzNuQ listingCard_icon__iXeNr\" height=\"25\" loading=\"lazy\" src=\"https://assets.aqar.fm/icons/Couch.svg\" width=\"25\"/>5 </div><div class=\"listingCard_spec__iKaqt\"><img alt=\"Bath\" class=\"iconS3-module_iconS3__TzNuQ listingCard_icon__iXeNr\" height=\"25\" loading=\"lazy\" src=\"https://assets.aqar.fm/icons/Bath.svg\" width=\"25\"/>5 </div></div><div class=\"listingCard_description__dMJy_ listingCard_truncatedText__otzLq\">💯ضمان فلة في  الحي الخامس الثامن💯\n",
       "\n",
       "✅ البناء الكود السعودي ✅\n",
       "\n",
       "✅ القواعد شريطيه\n",
       "\n",
       "✅ كود سعودي تحت إشراف شركه التامين من القواعد إلى التشطيب النهائي\n",
       "\n",
       "✅ تأمين على العيوب الخفيه للفله \n",
       "10سنوات \n",
       "مراوح الشفط ضمان 3 سنوات\n",
       "اسلاك الرياض\n",
       "\n",
       "✅ خزان ارضي سعة 4000 ضمان 25سنة\n",
       "✅ خزان الزامل سعة 2000لتر ضمان 10سنوات\n",
       "✅ سخان مركزي امريكي سعة 80جالون \n",
       "ضمان 5سنوات\n",
       "✅ مواسير المياه الداخليه من شركه تحويل ضمان 15 سنه\n",
       "✅ افياش كهرباء من شركه لترك ضمان 25 سنه\n",
       "✅ لمبات ضمان 2 سنتان\n",
       "✅ مضخه مياه سمنان ايطالي واحد حصان ضمان 2سن\n",
       "\n",
       "\n",
       " رقم رخصة فال للوساطة والتسويق: 1100049905</div><div class=\"listingCard_listingFooter___6kEQ\"><div class=\"listingCard_listingLocation___jVOg\"><div class=\"listingCard_district__5U3jm listingCard_truncatedText__otzLq\">حي ضاحية الملك فهد</div> - <div class=\"listingCard_city__ApOJt\">الدمام</div></div><div class=\"listingCard_listingTime__Q_g_J\">52 ثانية</div></div></div><div class=\"listingCard_imageWrapper__ylcNs\"><span style=\"box-sizing:border-box;display:block;overflow:hidden;width:initial;height:initial;background:none;opacity:1;border:0;margin:0;padding:0;position:relative\"><span style=\"box-sizing:border-box;display:block;width:initial;height:initial;background:none;opacity:1;border:0;margin:0;padding:0;padding-top:68.57142857142857%\"></span><img alt=\"[object Object]\" data-nimg=\"responsive\" decoding=\"async\" src=\"data:image/gif;base64,R0lGODlhAQABAIAAAAAAAP///yH5BAEAAAAALAAAAAABAAEAAAIBRAA7\" style=\"position:absolute;top:0;left:0;bottom:0;right:0;box-sizing:border-box;padding:0;border:none;margin:auto;display:block;width:0;height:0;min-width:100%;max-width:100%;min-height:100%;max-height:100%\"/><noscript><img alt=\"[object Object]\" data-nimg=\"responsive\" decoding=\"async\" loading=\"lazy\" sizes=\"100vw\" src=\"https://images.aqar.fm/webp/350x0/props/001995900_1678104876698.jpg\" srcset=\"https://images.aqar.fm/webp/250x0/props/001995900_1678104876698.jpg 640w, https://images.aqar.fm/webp/250x0/props/001995900_1678104876698.jpg 750w, https://images.aqar.fm/webp/300x0/props/001995900_1678104876698.jpg 828w, https://images.aqar.fm/webp/300x0/props/001995900_1678104876698.jpg 1080w, https://images.aqar.fm/webp/350x0/props/001995900_1678104876698.jpg 1200w, https://images.aqar.fm/webp/350x0/props/001995900_1678104876698.jpg 1920w, https://images.aqar.fm/webp/350x0/props/001995900_1678104876698.jpg 2048w, https://images.aqar.fm/webp/350x0/props/001995900_1678104876698.jpg 3840w\" style=\"position:absolute;top:0;left:0;bottom:0;right:0;box-sizing:border-box;padding:0;border:none;margin:auto;display:block;width:0;height:0;min-width:100%;max-width:100%;min-height:100%;max-height:100%\"/></noscript></span></div></div></div><div class=\"listing_LinkedListingCard__5SRvZ\" href=\"/%D9%81%D9%84%D9%84-%D9%84%D9%84%D8%A8%D9%8A%D8%B9/%D8%A7%D9%84%D8%B1%D9%8A%D8%A7%D8%B6/%D8%BA%D8%B1%D8%A8-%D8%A7%D9%84%D8%B1%D9%8A%D8%A7%D8%B6/%D8%AD%D9%8A-%D8%A7%D9%84%D8%B3%D9%88%D9%8A%D8%AF%D9%8A/%D8%B4%D8%A7%D8%B1%D8%B9-%D8%A7%D9%84%D8%AD%D8%B5%D9%86-%D8%AD%D9%8A-%D8%A7%D9%84%D8%B3%D9%88%D9%8A%D8%AF%D9%8A-%D8%A7%D9%84%D8%B1%D9%8A%D8%A7%D8%B6-%D8%A7%D9%84%D8%B1%D9%8A%D8%A7%D8%B6-4911164\"><div class=\"listingCard_listingCard__NpqM0\"><div class=\"listingCard_content__SLJJG\"><div class=\"listingCard_top__nVn1L\"><h4 class=\"listingCard_title__45XgY listingCard_truncatedText__otzLq\"><a href=\"/%D9%81%D9%84%D9%84-%D9%84%D9%84%D8%A8%D9%8A%D8%B9/%D8%A7%D9%84%D8%B1%D9%8A%D8%A7%D8%B6/%D8%BA%D8%B1%D8%A8-%D8%A7%D9%84%D8%B1%D9%8A%D8%A7%D8%B6/%D8%AD%D9%8A-%D8%A7%D9%84%D8%B3%D9%88%D9%8A%D8%AF%D9%8A/%D8%B4%D8%A7%D8%B1%D8%B9-%D8%A7%D9%84%D8%AD%D8%B5%D9%86-%D8%AD%D9%8A-%D8%A7%D9%84%D8%B3%D9%88%D9%8A%D8%AF%D9%8A-%D8%A7%D9%84%D8%B1%D9%8A%D8%A7%D8%B6-%D8%A7%D9%84%D8%B1%D9%8A%D8%A7%D8%B6-4911164\">فيلا للبيع في شارع الحصن ، حي السويدي ، الرياض ، الرياض</a></h4><div class=\"listingCard_time__dV1EB\">52 ثانية<img alt=\"الوقت\" class=\"iconS3-module_iconS3__TzNuQ listingCard_icon__iXeNr\" height=\"25\" loading=\"lazy\" src=\"https://assets.aqar.fm/icons/Alarm.svg\" width=\"25\"/></div></div><div class=\"listingCard_price__N5eJ4\"> <!-- -->1,500,000 ريال </div><div class=\"listingCard_specs__vxtg8\"><div class=\"listingCard_spec__iKaqt\">910 م² | </div><div class=\"listingCard_spec__iKaqt\"><img alt=\"Bed\" class=\"iconS3-module_iconS3__TzNuQ listingCard_icon__iXeNr\" height=\"25\" loading=\"lazy\" src=\"https://assets.aqar.fm/icons/Bed.svg\" width=\"25\"/>5 </div><div class=\"listingCard_spec__iKaqt\"><img alt=\"Couch\" class=\"iconS3-module_iconS3__TzNuQ listingCard_icon__iXeNr\" height=\"25\" loading=\"lazy\" src=\"https://assets.aqar.fm/icons/Couch.svg\" width=\"25\"/>3 </div><div class=\"listingCard_spec__iKaqt\"><img alt=\"Bath\" class=\"iconS3-module_iconS3__TzNuQ listingCard_icon__iXeNr\" height=\"25\" loading=\"lazy\" src=\"https://assets.aqar.fm/icons/Bath.svg\" width=\"25\"/>5 </div></div><div class=\"listingCard_description__dMJy_ listingCard_truncatedText__otzLq\">فله سكنيه زاويه مكونه من قطعتين باطوال ممتازه ٤٥.٥ في ٢٠ مناسبه لمشروع دوبلكسات و تتكون من دور ارضي كبير و شقتين فالدور الأول و ملاحق خارجيه كما يمكن إفراغ الفله لوحدها بمساحة ٦٤٠ او مع القطعه بكامل المساحة ٩١٠ و الحد مليون و نصف</div><div class=\"listingCard_listingFooter___6kEQ\"><div class=\"listingCard_listingLocation___jVOg\"><div class=\"listingCard_district__5U3jm listingCard_truncatedText__otzLq\">حي السويدي</div> - <div class=\"listingCard_city__ApOJt\">الرياض</div></div><div class=\"listingCard_listingTime__Q_g_J\">52 ثانية</div></div></div><div class=\"listingCard_imageWrapper__ylcNs\"><span style=\"box-sizing:border-box;display:block;overflow:hidden;width:initial;height:initial;background:none;opacity:1;border:0;margin:0;padding:0;position:relative\"><span style=\"box-sizing:border-box;display:block;width:initial;height:initial;background:none;opacity:1;border:0;margin:0;padding:0;padding-top:68.57142857142857%\"></span><img alt=\"[object Object]\" data-nimg=\"responsive\" decoding=\"async\" src=\"data:image/gif;base64,R0lGODlhAQABAIAAAAAAAP///yH5BAEAAAAALAAAAAABAAEAAAIBRAA7\" style=\"position:absolute;top:0;left:0;bottom:0;right:0;box-sizing:border-box;padding:0;border:none;margin:auto;display:block;width:0;height:0;min-width:100%;max-width:100%;min-height:100%;max-height:100%\"/><noscript><img alt=\"[object Object]\" data-nimg=\"responsive\" decoding=\"async\" loading=\"lazy\" sizes=\"100vw\" src=\"https://images.aqar.fm/webp/350x0/props/008685494_1667800430180.jpg\" srcset=\"https://images.aqar.fm/webp/250x0/props/008685494_1667800430180.jpg 640w, https://images.aqar.fm/webp/250x0/props/008685494_1667800430180.jpg 750w, https://images.aqar.fm/webp/300x0/props/008685494_1667800430180.jpg 828w, https://images.aqar.fm/webp/300x0/props/008685494_1667800430180.jpg 1080w, https://images.aqar.fm/webp/350x0/props/008685494_1667800430180.jpg 1200w, https://images.aqar.fm/webp/350x0/props/008685494_1667800430180.jpg 1920w, https://images.aqar.fm/webp/350x0/props/008685494_1667800430180.jpg 2048w, https://images.aqar.fm/webp/350x0/props/008685494_1667800430180.jpg 3840w\" style=\"position:absolute;top:0;left:0;bottom:0;right:0;box-sizing:border-box;padding:0;border:none;margin:auto;display:block;width:0;height:0;min-width:100%;max-width:100%;min-height:100%;max-height:100%\"/></noscript></span></div></div></div><div class=\"listing_LinkedListingCard__5SRvZ\" href=\"/%D9%81%D9%84%D9%84-%D9%84%D9%84%D8%A8%D9%8A%D8%B9/%D8%A7%D9%84%D8%B1%D9%8A%D8%A7%D8%B6/%D8%B4%D9%85%D8%A7%D9%84-%D8%A7%D9%84%D8%B1%D9%8A%D8%A7%D8%B6/%D8%AD%D9%8A-%D8%A7%D9%84%D9%86%D8%B2%D9%87%D8%A9/%D8%B4%D8%A7%D8%B1%D8%B9-%D8%B1%D9%88%D8%B6%D8%A9-%D8%B3%D8%A7%D8%AC%D8%B1-%D8%AD%D9%8A-%D8%A7%D9%84%D9%86%D8%B2%D9%87%D8%A9-%D8%A7%D9%84%D8%B1%D9%8A%D8%A7%D8%B6-%D8%A7%D9%84%D8%B1%D9%8A%D8%A7%D8%B6-4571813\"><div class=\"listingCard_listingCard__NpqM0\"><div class=\"listingCard_content__SLJJG\"><div class=\"listingCard_top__nVn1L\"><h4 class=\"listingCard_title__45XgY listingCard_truncatedText__otzLq\"><a href=\"/%D9%81%D9%84%D9%84-%D9%84%D9%84%D8%A8%D9%8A%D8%B9/%D8%A7%D9%84%D8%B1%D9%8A%D8%A7%D8%B6/%D8%B4%D9%85%D8%A7%D9%84-%D8%A7%D9%84%D8%B1%D9%8A%D8%A7%D8%B6/%D8%AD%D9%8A-%D8%A7%D9%84%D9%86%D8%B2%D9%87%D8%A9/%D8%B4%D8%A7%D8%B1%D8%B9-%D8%B1%D9%88%D8%B6%D8%A9-%D8%B3%D8%A7%D8%AC%D8%B1-%D8%AD%D9%8A-%D8%A7%D9%84%D9%86%D8%B2%D9%87%D8%A9-%D8%A7%D9%84%D8%B1%D9%8A%D8%A7%D8%B6-%D8%A7%D9%84%D8%B1%D9%8A%D8%A7%D8%B6-4571813\">فيلا للبيع في شارع روضة ساجر ، حي النزهة ، الرياض ، الرياض</a></h4><div class=\"listingCard_time__dV1EB\">52 ثانية<img alt=\"الوقت\" class=\"iconS3-module_iconS3__TzNuQ listingCard_icon__iXeNr\" height=\"25\" loading=\"lazy\" src=\"https://assets.aqar.fm/icons/Alarm.svg\" width=\"25\"/></div></div><div class=\"listingCard_price__N5eJ4\"> <!-- -->2,700,000 ريال </div><div class=\"listingCard_specs__vxtg8\"><div class=\"listingCard_spec__iKaqt\">450 م² | </div><div class=\"listingCard_spec__iKaqt\"><img alt=\"Bed\" class=\"iconS3-module_iconS3__TzNuQ listingCard_icon__iXeNr\" height=\"25\" loading=\"lazy\" src=\"https://assets.aqar.fm/icons/Bed.svg\" width=\"25\"/>4 </div><div class=\"listingCard_spec__iKaqt\"><img alt=\"Couch\" class=\"iconS3-module_iconS3__TzNuQ listingCard_icon__iXeNr\" height=\"25\" loading=\"lazy\" src=\"https://assets.aqar.fm/icons/Couch.svg\" width=\"25\"/>2 </div><div class=\"listingCard_spec__iKaqt\"><img alt=\"Bath\" class=\"iconS3-module_iconS3__TzNuQ listingCard_icon__iXeNr\" height=\"25\" loading=\"lazy\" src=\"https://assets.aqar.fm/icons/Bath.svg\" width=\"25\"/>5 </div></div><div class=\"listingCard_description__dMJy_ listingCard_truncatedText__otzLq\">فلا للبيع حي النزهه\n",
       "\n",
       "\n",
       "مساحة : 450 م\n",
       "واجهاته ا: غربية \n",
       "شارعها : 15 م\n",
       "اطوالها : 15 * 30\n",
       "\n",
       "الفلا للبيع بقيمة أرض \n",
       "عمر الفلا :20  سنة \n",
       "\n",
       "\n",
       "التفاصيل:\n",
       "الدور الارضي:\n",
       "-ملحق خارجي بتصميم شعبي حديث\n",
       "-مجلس رجال\n",
       "-مقلط\n",
       "-صالة عائلية\n",
       "-مجلس نساء\n",
       "-مطبخ\n",
       "\n",
       "\n",
       "\n",
       "الدور الأول:\n",
       "-اربع اجنحة\n",
       "-صالة\n",
       "\n",
       " \n",
       "\n",
       "الدور الثاني:\n",
       "-قسم للخادمة مع مرفقاتها\n",
       "-غرفة غسيل\n",
       "-يوجد سطحيين ببابين مختلفين بالإمكان استغلالها بأكثر من غرفة\n",
       "\n",
       "\n",
       "\n",
       "-غرفة حارس\n",
       "\n",
       "\n",
       "السعر : 2 مليون و 700 الف ريال</div><div class=\"listingCard_listingFooter___6kEQ\"><div class=\"listingCard_listingLocation___jVOg\"><div class=\"listingCard_district__5U3jm listingCard_truncatedText__otzLq\">حي النزهة</div> - <div class=\"listingCard_city__ApOJt\">الرياض</div></div><div class=\"listingCard_listingTime__Q_g_J\">52 ثانية</div></div></div><div class=\"listingCard_imageWrapper__ylcNs\"><span style=\"box-sizing:border-box;display:block;overflow:hidden;width:initial;height:initial;background:none;opacity:1;border:0;margin:0;padding:0;position:relative\"><span style=\"box-sizing:border-box;display:block;width:initial;height:initial;background:none;opacity:1;border:0;margin:0;padding:0;padding-top:68.57142857142857%\"></span><img alt=\"[object Object]\" data-nimg=\"responsive\" decoding=\"async\" src=\"data:image/gif;base64,R0lGODlhAQABAIAAAAAAAP///yH5BAEAAAAALAAAAAABAAEAAAIBRAA7\" style=\"position:absolute;top:0;left:0;bottom:0;right:0;box-sizing:border-box;padding:0;border:none;margin:auto;display:block;width:0;height:0;min-width:100%;max-width:100%;min-height:100%;max-height:100%\"/><noscript><img alt=\"[object Object]\" data-nimg=\"responsive\" decoding=\"async\" loading=\"lazy\" sizes=\"100vw\" src=\"https://images.aqar.fm/webp/350x0/props/023929702_1682935184961.jpg\" srcset=\"https://images.aqar.fm/webp/250x0/props/023929702_1682935184961.jpg 640w, https://images.aqar.fm/webp/250x0/props/023929702_1682935184961.jpg 750w, https://images.aqar.fm/webp/300x0/props/023929702_1682935184961.jpg 828w, https://images.aqar.fm/webp/300x0/props/023929702_1682935184961.jpg 1080w, https://images.aqar.fm/webp/350x0/props/023929702_1682935184961.jpg 1200w, https://images.aqar.fm/webp/350x0/props/023929702_1682935184961.jpg 1920w, https://images.aqar.fm/webp/350x0/props/023929702_1682935184961.jpg 2048w, https://images.aqar.fm/webp/350x0/props/023929702_1682935184961.jpg 3840w\" style=\"position:absolute;top:0;left:0;bottom:0;right:0;box-sizing:border-box;padding:0;border:none;margin:auto;display:block;width:0;height:0;min-width:100%;max-width:100%;min-height:100%;max-height:100%\"/></noscript></span></div></div></div><div class=\"listing_LinkedListingCard__5SRvZ\" href=\"/%D9%81%D9%84%D9%84-%D9%84%D9%84%D8%A8%D9%8A%D8%B9/%D8%A7%D8%A8%D9%87%D8%A7/%D8%AD%D9%8A-%D8%A7%D9%84%D9%82%D8%B1%D9%8A%D9%82%D8%B1/%D8%AD%D9%8A-%D8%A7%D9%84%D9%85%D8%AD%D8%A7%D9%84%D8%A9-%D8%A3%D8%A8%D9%87%D8%A7-%D8%A3%D8%A8%D9%87%D9%80%D9%80%D9%80%D9%80%D8%A7-5071400\"><div class=\"listingCard_listingCard__NpqM0\"><div class=\"listingCard_content__SLJJG\"><div class=\"listingCard_top__nVn1L\"><h4 class=\"listingCard_title__45XgY listingCard_truncatedText__otzLq\"><a href=\"/%D9%81%D9%84%D9%84-%D9%84%D9%84%D8%A8%D9%8A%D8%B9/%D8%A7%D8%A8%D9%87%D8%A7/%D8%AD%D9%8A-%D8%A7%D9%84%D9%82%D8%B1%D9%8A%D9%82%D8%B1/%D8%AD%D9%8A-%D8%A7%D9%84%D9%85%D8%AD%D8%A7%D9%84%D8%A9-%D8%A3%D8%A8%D9%87%D8%A7-%D8%A3%D8%A8%D9%87%D9%80%D9%80%D9%80%D9%80%D8%A7-5071400\">فيلا للبيع في حي المحالة ، أبها ، أبهــــا</a></h4><div class=\"listingCard_time__dV1EB\">52 ثانية<img alt=\"الوقت\" class=\"iconS3-module_iconS3__TzNuQ listingCard_icon__iXeNr\" height=\"25\" loading=\"lazy\" src=\"https://assets.aqar.fm/icons/Alarm.svg\" width=\"25\"/></div></div><div class=\"listingCard_price__N5eJ4\"> <!-- -->1,250,000 ريال </div><div class=\"listingCard_specs__vxtg8\"><div class=\"listingCard_spec__iKaqt\">275 م² | </div><div class=\"listingCard_spec__iKaqt\"><img alt=\"Bed\" class=\"iconS3-module_iconS3__TzNuQ listingCard_icon__iXeNr\" height=\"25\" loading=\"lazy\" src=\"https://assets.aqar.fm/icons/Bed.svg\" width=\"25\"/>6 </div><div class=\"listingCard_spec__iKaqt\"><img alt=\"Couch\" class=\"iconS3-module_iconS3__TzNuQ listingCard_icon__iXeNr\" height=\"25\" loading=\"lazy\" src=\"https://assets.aqar.fm/icons/Couch.svg\" width=\"25\"/>2 </div><div class=\"listingCard_spec__iKaqt\"><img alt=\"Bath\" class=\"iconS3-module_iconS3__TzNuQ listingCard_icon__iXeNr\" height=\"25\" loading=\"lazy\" src=\"https://assets.aqar.fm/icons/Bath.svg\" width=\"25\"/>5 </div></div><div class=\"listingCard_description__dMJy_ listingCard_truncatedText__otzLq\">٣ فلل للبيع في حي المعالي \n",
       "مساحه الارض 275م\n",
       "مساحه البناء 500م\n",
       "سعر الفيلا مليون ٢٥٠ \n",
       "\n",
       "\n",
       "مدخل سياره \n",
       "حوش \n",
       "مجلس رجال\n",
       "مغاسل بدوره مياه\n",
       "مجلط\n",
       "صاله \n",
       "مدخل نساء \n",
       "مجلس نساء\n",
       "مطبخ امريكي\n",
       "غرفه كبار سن بمغاسل ودوره مياه\n",
       "مؤسس مصعد\n",
       "\n",
       "الدور الاول\n",
       "مطبخ بمستودع \n",
       "صاله \n",
       "٣ غرف نوم منهم ٢ ماستر \n",
       "\n",
       "الملحق \n",
       "غرفه غسيل \n",
       "بوفيه \n",
       "غرفتين نوم منهم واحده ماستر\n",
       "غرفه خادمه \n",
       "سطح\n",
       "للتواصل جوال او واتساب / \n",
       "\n",
       "\n",
       " رقم رخصة فال للوساطة والتسويق: 1100030451</div><div class=\"listingCard_listingFooter___6kEQ\"><div class=\"listingCard_listingLocation___jVOg\"><div class=\"listingCard_district__5U3jm listingCard_truncatedText__otzLq\">حي القريقر</div> - <div class=\"listingCard_city__ApOJt\">ابها</div></div><div class=\"listingCard_listingTime__Q_g_J\">52 ثانية</div></div></div><div class=\"listingCard_imageWrapper__ylcNs\"><span style=\"box-sizing:border-box;display:block;overflow:hidden;width:initial;height:initial;background:none;opacity:1;border:0;margin:0;padding:0;position:relative\"><span style=\"box-sizing:border-box;display:block;width:initial;height:initial;background:none;opacity:1;border:0;margin:0;padding:0;padding-top:68.57142857142857%\"></span><img alt=\"[object Object]\" data-nimg=\"responsive\" decoding=\"async\" src=\"data:image/gif;base64,R0lGODlhAQABAIAAAAAAAP///yH5BAEAAAAALAAAAAABAAEAAAIBRAA7\" style=\"position:absolute;top:0;left:0;bottom:0;right:0;box-sizing:border-box;padding:0;border:none;margin:auto;display:block;width:0;height:0;min-width:100%;max-width:100%;min-height:100%;max-height:100%\"/><noscript><img alt=\"[object Object]\" data-nimg=\"responsive\" decoding=\"async\" loading=\"lazy\" sizes=\"100vw\" src=\"https://images.aqar.fm/webp/350x0/props/021445011_1673276528172.jpg\" srcset=\"https://images.aqar.fm/webp/250x0/props/021445011_1673276528172.jpg 640w, https://images.aqar.fm/webp/250x0/props/021445011_1673276528172.jpg 750w, https://images.aqar.fm/webp/300x0/props/021445011_1673276528172.jpg 828w, https://images.aqar.fm/webp/300x0/props/021445011_1673276528172.jpg 1080w, https://images.aqar.fm/webp/350x0/props/021445011_1673276528172.jpg 1200w, https://images.aqar.fm/webp/350x0/props/021445011_1673276528172.jpg 1920w, https://images.aqar.fm/webp/350x0/props/021445011_1673276528172.jpg 2048w, https://images.aqar.fm/webp/350x0/props/021445011_1673276528172.jpg 3840w\" style=\"position:absolute;top:0;left:0;bottom:0;right:0;box-sizing:border-box;padding:0;border:none;margin:auto;display:block;width:0;height:0;min-width:100%;max-width:100%;min-height:100%;max-height:100%\"/></noscript></span></div></div></div><div class=\"listing_LinkedListingCard__5SRvZ\" href=\"/%D9%81%D9%84%D9%84-%D9%84%D9%84%D8%A8%D9%8A%D8%B9/%D8%A7%D9%84%D8%B1%D9%8A%D8%A7%D8%B6/%D8%BA%D8%B1%D8%A8-%D8%A7%D9%84%D8%B1%D9%8A%D8%A7%D8%B6/%D8%AD%D9%8A-%D8%A7%D9%84%D8%AD%D8%B2%D9%85/%D8%B4%D8%A7%D8%B1%D8%B9-%D8%B9%D8%A8%D8%AF%D8%A7%D9%84%D8%B1%D8%A7%D8%B2%D9%82-%D8%A7%D9%84%D9%82%D8%B4%D8%B9%D9%85%D9%8A-%D8%AD%D9%8A-%D8%A7%D9%84%D8%AD%D8%B2%D9%85-%D8%A7%D9%84%D8%B1%D9%8A%D8%A7%D8%B6-%D8%A7%D9%84%D8%B1%D9%8A%D8%A7%D8%B6-5361418\"><div class=\"listingCard_listingCard__NpqM0\"><div class=\"listingCard_content__SLJJG\"><div class=\"listingCard_top__nVn1L\"><h4 class=\"listingCard_title__45XgY listingCard_truncatedText__otzLq\"><a href=\"/%D9%81%D9%84%D9%84-%D9%84%D9%84%D8%A8%D9%8A%D8%B9/%D8%A7%D9%84%D8%B1%D9%8A%D8%A7%D8%B6/%D8%BA%D8%B1%D8%A8-%D8%A7%D9%84%D8%B1%D9%8A%D8%A7%D8%B6/%D8%AD%D9%8A-%D8%A7%D9%84%D8%AD%D8%B2%D9%85/%D8%B4%D8%A7%D8%B1%D8%B9-%D8%B9%D8%A8%D8%AF%D8%A7%D9%84%D8%B1%D8%A7%D8%B2%D9%82-%D8%A7%D9%84%D9%82%D8%B4%D8%B9%D9%85%D9%8A-%D8%AD%D9%8A-%D8%A7%D9%84%D8%AD%D8%B2%D9%85-%D8%A7%D9%84%D8%B1%D9%8A%D8%A7%D8%B6-%D8%A7%D9%84%D8%B1%D9%8A%D8%A7%D8%B6-5361418\">فيلا للبيع في شارع عبدالرازق القشعمي ، حي الحزم ، الرياض ، الرياض</a></h4><div class=\"listingCard_time__dV1EB\">52 ثانية<img alt=\"الوقت\" class=\"iconS3-module_iconS3__TzNuQ listingCard_icon__iXeNr\" height=\"25\" loading=\"lazy\" src=\"https://assets.aqar.fm/icons/Alarm.svg\" width=\"25\"/></div></div><div class=\"listingCard_price__N5eJ4\"> <!-- -->1,200,000 ريال </div><div class=\"listingCard_specs__vxtg8\"><div class=\"listingCard_spec__iKaqt\">300 م² | </div><div class=\"listingCard_spec__iKaqt\"><img alt=\"Bed\" class=\"iconS3-module_iconS3__TzNuQ listingCard_icon__iXeNr\" height=\"25\" loading=\"lazy\" src=\"https://assets.aqar.fm/icons/Bed.svg\" width=\"25\"/>7 </div><div class=\"listingCard_spec__iKaqt\"><img alt=\"Couch\" class=\"iconS3-module_iconS3__TzNuQ listingCard_icon__iXeNr\" height=\"25\" loading=\"lazy\" src=\"https://assets.aqar.fm/icons/Couch.svg\" width=\"25\"/>3 </div><div class=\"listingCard_spec__iKaqt\"><img alt=\"Bath\" class=\"iconS3-module_iconS3__TzNuQ listingCard_icon__iXeNr\" height=\"25\" loading=\"lazy\" src=\"https://assets.aqar.fm/icons/Bath.svg\" width=\"25\"/>5 </div></div><div class=\"listingCard_description__dMJy_ listingCard_truncatedText__otzLq\">- [ ] ( فيلا مع شقتين خلفية ) \n",
       "- [ ] ( للبيع ) \n",
       "- [ ] معلومات الارض\n",
       "المساحه 300متر \n",
       "ضلعها على الشارع 12متر داخل 25 متر\n",
       "شارعها 15 متر\n",
       "- [ ] معلومات الفيلا \n",
       "٩ غرف - واحد صاله - ٥ حمام - واحد مطبخ - واحد غرفة عامله - مدخل سياره -  حوش - ملحق \n",
       "- [ ] مكونات كل شقه \n",
       "٣ غرف - مطبخ - صاله - ٢ حمام - مدخلين \n",
       "- [ ] الموقع الرياض حي الحزم موقع متكامل من جميع الخدمات مدارس وغيرها\n",
       "- [ ] عمر العقار ٧ سنوات \n",
       "- [ ] واجهة العقار جنوبيه\n",
       "- [ ] المطلوب مليون و 200 الف \n",
       "- [ ] غير قابل للتفا\n",
       "- [ ] للتواصل\n",
       "مجموعة سمو ا</div><div class=\"listingCard_listingFooter___6kEQ\"><div class=\"listingCard_listingLocation___jVOg\"><div class=\"listingCard_district__5U3jm listingCard_truncatedText__otzLq\">حي الحزم</div> - <div class=\"listingCard_city__ApOJt\">الرياض</div></div><div class=\"listingCard_listingTime__Q_g_J\">52 ثانية</div></div></div><div class=\"listingCard_imageWrapper__ylcNs\"><span style=\"box-sizing:border-box;display:block;overflow:hidden;width:initial;height:initial;background:none;opacity:1;border:0;margin:0;padding:0;position:relative\"><span style=\"box-sizing:border-box;display:block;width:initial;height:initial;background:none;opacity:1;border:0;margin:0;padding:0;padding-top:68.57142857142857%\"></span><img alt=\"[object Object]\" data-nimg=\"responsive\" decoding=\"async\" src=\"data:image/gif;base64,R0lGODlhAQABAIAAAAAAAP///yH5BAEAAAAALAAAAAABAAEAAAIBRAA7\" style=\"position:absolute;top:0;left:0;bottom:0;right:0;box-sizing:border-box;padding:0;border:none;margin:auto;display:block;width:0;height:0;min-width:100%;max-width:100%;min-height:100%;max-height:100%\"/><noscript><img alt=\"[object Object]\" data-nimg=\"responsive\" decoding=\"async\" loading=\"lazy\" sizes=\"100vw\" src=\"https://images.aqar.fm/webp/350x0/props/032082320_1684156479956.jpg\" srcset=\"https://images.aqar.fm/webp/250x0/props/032082320_1684156479956.jpg 640w, https://images.aqar.fm/webp/250x0/props/032082320_1684156479956.jpg 750w, https://images.aqar.fm/webp/300x0/props/032082320_1684156479956.jpg 828w, https://images.aqar.fm/webp/300x0/props/032082320_1684156479956.jpg 1080w, https://images.aqar.fm/webp/350x0/props/032082320_1684156479956.jpg 1200w, https://images.aqar.fm/webp/350x0/props/032082320_1684156479956.jpg 1920w, https://images.aqar.fm/webp/350x0/props/032082320_1684156479956.jpg 2048w, https://images.aqar.fm/webp/350x0/props/032082320_1684156479956.jpg 3840w\" style=\"position:absolute;top:0;left:0;bottom:0;right:0;box-sizing:border-box;padding:0;border:none;margin:auto;display:block;width:0;height:0;min-width:100%;max-width:100%;min-height:100%;max-height:100%\"/></noscript></span></div></div></div><div class=\"listing_pagination__00dn_\"><ul class=\"pagination-module_pagination__5oI3G pagination-module_rtl__OtE5X\"><li><button class=\"pagination-module_pageNumber__atqqh\" disabled=\"\" type=\"button\">«</button></li><li id=\"1\"><button class=\"pagination-module_pageNumber__atqqh pagination-module_active__59va2\" type=\"button\">1</button></li><li id=\"2\"><button class=\"pagination-module_pageNumber__atqqh\" type=\"button\">2</button></li><li id=\"3\"><button class=\"pagination-module_pageNumber__atqqh\" type=\"button\">3</button></li><li id=\"4\"><button class=\"pagination-module_pageNumber__atqqh\" type=\"button\">4</button></li><li><button class=\"pagination-module_pageNumber__atqqh\" type=\"button\">»</button></li></ul></div></div></div><div class=\"listings_container__lmOqZ\"><nav class=\"buttonsList-module_buttonsList__-5gtq buttonsList-module_rtl__tTDmO\"><ol class=\"buttonsList-module_list__F8vl6\"><li class=\"listings_regionItem__3U1dk buttonsList-module_item__iLPKz\"><a class=\"listings_regionBtn__YRuAK buttonsList-module_button__eB9iE\" href=\"/%D9%81%D9%84%D9%84-%D9%84%D9%84%D8%A8%D9%8A%D8%B9/%D8%A7%D9%84%D8%B1%D9%8A%D8%A7%D8%B6\">فلل للبيع في الرياض<span class=\"buttonsList-module_count__0B-MA\">(<!-- -->63466<!-- -->)</span></a></li><li class=\"listings_regionItem__3U1dk buttonsList-module_item__iLPKz\"><a class=\"listings_regionBtn__YRuAK buttonsList-module_button__eB9iE\" href=\"/%D9%81%D9%84%D9%84-%D9%84%D9%84%D8%A8%D9%8A%D8%B9/%D8%AC%D8%AF%D8%A9\">فلل للبيع في جدة<span class=\"buttonsList-module_count__0B-MA\">(<!-- -->11777<!-- -->)</span></a></li><li class=\"listings_regionItem__3U1dk buttonsList-module_item__iLPKz\"><a class=\"listings_regionBtn__YRuAK buttonsList-module_button__eB9iE\" href=\"/%D9%81%D9%84%D9%84-%D9%84%D9%84%D8%A8%D9%8A%D8%B9/%D8%A7%D9%84%D8%AF%D9%85%D8%A7%D9%85\">فلل للبيع في الدمام<span class=\"buttonsList-module_count__0B-MA\">(<!-- -->5351<!-- -->)</span></a></li><li class=\"listings_regionItem__3U1dk buttonsList-module_item__iLPKz\"><a class=\"listings_regionBtn__YRuAK buttonsList-module_button__eB9iE\" href=\"/%D9%81%D9%84%D9%84-%D9%84%D9%84%D8%A8%D9%8A%D8%B9/%D8%A7%D9%84%D8%AE%D8%A8%D8%B1\">فلل للبيع في الخبر<span class=\"buttonsList-module_count__0B-MA\">(<!-- -->4568<!-- -->)</span></a></li><li class=\"listings_regionItem__3U1dk buttonsList-module_item__iLPKz\"><a class=\"listings_regionBtn__YRuAK buttonsList-module_button__eB9iE\" href=\"/%D9%81%D9%84%D9%84-%D9%84%D9%84%D8%A8%D9%8A%D8%B9/%D9%85%D9%83%D8%A9-%D8%A7%D9%84%D9%85%D9%83%D8%B1%D9%85%D8%A9\">فلل للبيع في مكة المكرمة<span class=\"buttonsList-module_count__0B-MA\">(<!-- -->1975<!-- -->)</span></a></li><li class=\"listings_regionItem__3U1dk buttonsList-module_item__iLPKz\"><a class=\"listings_regionBtn__YRuAK buttonsList-module_button__eB9iE\"><img alt=\"Add\" class=\"iconS3-module_iconS3__TzNuQ listings_addIcon__UOY5X\" height=\"13\" loading=\"lazy\" src=\"https://assets.aqar.fm/icons/Add.svg\" width=\"13\"/></a></li></ol></nav></div><div class=\"footer_footer__17UYp\"><div class=\"footer_top__jxkNX\"><div class=\"footer_downloadSection__zIkWb\"><div class=\"footer_logo__gtKg3\" href=\"/\"><div class=\"deferredIcon_deferredIcon__5FbZP\" style=\"width:100px;height:100px\"><span style=\"box-sizing:border-box;display:block;overflow:hidden;width:initial;height:initial;background:none;opacity:1;border:0;margin:0;padding:0;position:relative\"><span style=\"box-sizing:border-box;display:block;width:initial;height:initial;background:none;opacity:1;border:0;margin:0;padding:0;padding-top:100%\"></span><img alt=\"aqar logo\" data-nimg=\"responsive\" decoding=\"async\" sizes=\"100vw\" src=\"https://assets.aqar.fm/icons/AqarLogo-colored.svg\" srcset=\"https://assets.aqar.fm/icons/AqarLogo-colored.svg 640w, https://assets.aqar.fm/icons/AqarLogo-colored.svg 750w, https://assets.aqar.fm/icons/AqarLogo-colored.svg 828w, https://assets.aqar.fm/icons/AqarLogo-colored.svg 1080w, https://assets.aqar.fm/icons/AqarLogo-colored.svg 1200w, https://assets.aqar.fm/icons/AqarLogo-colored.svg 1920w, https://assets.aqar.fm/icons/AqarLogo-colored.svg 2048w, https://assets.aqar.fm/icons/AqarLogo-colored.svg 3840w\" style=\"position:absolute;top:0;left:0;bottom:0;right:0;box-sizing:border-box;padding:0;border:none;margin:auto;display:block;width:0;height:0;min-width:100%;max-width:100%;min-height:100%;max-height:100%\"/></span></div><span class=\"footer_subtitle__gTnSK\">معك في رحلة العمر</span></div><div class=\"footer_btns__EndA9\"><a dir=\"rtl\" href=\"https://play.google.com/store/apps/details?id=fm.aqar\"><button class=\"footer_footerBtn__NZPxv button-module_button__EwgON button-module_primary__NloUa\" dir=\"rtl\" type=\"button\"><div class=\"button-module_buttonContent__4c1PK button-module_small__ZQzDc\"><span> Android</span><img alt=\"Android\" class=\"iconS3-module_iconS3__TzNuQ iconS3-module_small__NvD-b button-module_suffixIcon__TKsrd\" height=\"25\" loading=\"lazy\" src=\"https://assets.aqar.fm/icons/Android-colored.svg\" width=\"25\"/></div></button></a><a dir=\"rtl\" href=\"https://apps.apple.com/sa/app/id879992882\"><button class=\"footer_footerBtn__NZPxv button-module_button__EwgON button-module_primary__NloUa\" dir=\"rtl\" type=\"button\"><div class=\"button-module_buttonContent__4c1PK button-module_small__ZQzDc\"><span>iPhone</span><img alt=\"iPhone\" class=\"iconS3-module_iconS3__TzNuQ iconS3-module_small__NvD-b button-module_suffixIcon__TKsrd\" height=\"25\" loading=\"lazy\" src=\"https://assets.aqar.fm/icons/iPhone.svg\" width=\"25\"/></div></button></a><a dir=\"rtl\" href=\"https://appgallery.huawei.com/app/C100162543\"><button class=\"footer_footerBtn__NZPxv button-module_button__EwgON button-module_primary__NloUa\" dir=\"rtl\" type=\"button\"><div class=\"button-module_buttonContent__4c1PK button-module_small__ZQzDc\"><span>AppGallery</span><img alt=\"Huawei\" class=\"iconS3-module_iconS3__TzNuQ iconS3-module_small__NvD-b button-module_suffixIcon__TKsrd\" height=\"25\" loading=\"lazy\" src=\"https://assets.aqar.fm/icons/Huawei.svg\" width=\"25\"/></div></button></a></div></div><div class=\"footer_linksWidet___9HAZ\"><div class=\"footer_title__S_4Wq\">خيارات البحث</div><div class=\"footer_links__wHE9S\"><div class=\"footer_linkCol__HwVhF\"><a class=\"footer_link__dIyzS\" href=\"/%D8%B4%D9%82%D9%82-%D9%84%D9%84%D8%A5%D9%8A%D8%AC%D8%A7%D8%B1\"><div class=\"footer_iconContainer__IbrGv\"><div class=\"deferredIcon_deferredIcon__5FbZP\" style=\"width:10px;height:10px\"><span style=\"box-sizing:border-box;display:block;overflow:hidden;width:initial;height:initial;background:none;opacity:1;border:0;margin:0;padding:0;position:relative\"><span style=\"box-sizing:border-box;display:block;width:initial;height:initial;background:none;opacity:1;border:0;margin:0;padding:0;padding-top:100%\"></span><img alt=\"شقق للإيجار\" data-nimg=\"responsive\" decoding=\"async\" sizes=\"100vw\" src=\"https://assets.aqar.fm/icons/Circle.svg\" srcset=\"https://assets.aqar.fm/icons/Circle.svg 640w, https://assets.aqar.fm/icons/Circle.svg 750w, https://assets.aqar.fm/icons/Circle.svg 828w, https://assets.aqar.fm/icons/Circle.svg 1080w, https://assets.aqar.fm/icons/Circle.svg 1200w, https://assets.aqar.fm/icons/Circle.svg 1920w, https://assets.aqar.fm/icons/Circle.svg 2048w, https://assets.aqar.fm/icons/Circle.svg 3840w\" style=\"position:absolute;top:0;left:0;bottom:0;right:0;box-sizing:border-box;padding:0;border:none;margin:auto;display:block;width:0;height:0;min-width:100%;max-width:100%;min-height:100%;max-height:100%\"/></span></div></div><div class=\"footer_label__5rz3c\" style=\"color:\">شقق للإيجار</div></a><a class=\"footer_link__dIyzS\" href=\"/%D9%81%D9%84%D9%84-%D9%84%D9%84%D8%A5%D9%8A%D8%AC%D8%A7%D8%B1\"><div class=\"footer_iconContainer__IbrGv\"><div class=\"deferredIcon_deferredIcon__5FbZP\" style=\"width:10px;height:10px\"><span style=\"box-sizing:border-box;display:block;overflow:hidden;width:initial;height:initial;background:none;opacity:1;border:0;margin:0;padding:0;position:relative\"><span style=\"box-sizing:border-box;display:block;width:initial;height:initial;background:none;opacity:1;border:0;margin:0;padding:0;padding-top:100%\"></span><img alt=\"فلل للإيجار\" data-nimg=\"responsive\" decoding=\"async\" sizes=\"100vw\" src=\"https://assets.aqar.fm/icons/Circle.svg\" srcset=\"https://assets.aqar.fm/icons/Circle.svg 640w, https://assets.aqar.fm/icons/Circle.svg 750w, https://assets.aqar.fm/icons/Circle.svg 828w, https://assets.aqar.fm/icons/Circle.svg 1080w, https://assets.aqar.fm/icons/Circle.svg 1200w, https://assets.aqar.fm/icons/Circle.svg 1920w, https://assets.aqar.fm/icons/Circle.svg 2048w, https://assets.aqar.fm/icons/Circle.svg 3840w\" style=\"position:absolute;top:0;left:0;bottom:0;right:0;box-sizing:border-box;padding:0;border:none;margin:auto;display:block;width:0;height:0;min-width:100%;max-width:100%;min-height:100%;max-height:100%\"/></span></div></div><div class=\"footer_label__5rz3c\" style=\"color:\">فلل للإيجار</div></a><a class=\"footer_link__dIyzS\" href=\"/%D8%AF%D9%88%D8%B1-%D9%84%D9%84%D8%A5%D9%8A%D8%AC%D8%A7%D8%B1\"><div class=\"footer_iconContainer__IbrGv\"><div class=\"deferredIcon_deferredIcon__5FbZP\" style=\"width:10px;height:10px\"><span style=\"box-sizing:border-box;display:block;overflow:hidden;width:initial;height:initial;background:none;opacity:1;border:0;margin:0;padding:0;position:relative\"><span style=\"box-sizing:border-box;display:block;width:initial;height:initial;background:none;opacity:1;border:0;margin:0;padding:0;padding-top:100%\"></span><img alt=\"دور للإيجار\" data-nimg=\"responsive\" decoding=\"async\" sizes=\"100vw\" src=\"https://assets.aqar.fm/icons/Circle.svg\" srcset=\"https://assets.aqar.fm/icons/Circle.svg 640w, https://assets.aqar.fm/icons/Circle.svg 750w, https://assets.aqar.fm/icons/Circle.svg 828w, https://assets.aqar.fm/icons/Circle.svg 1080w, https://assets.aqar.fm/icons/Circle.svg 1200w, https://assets.aqar.fm/icons/Circle.svg 1920w, https://assets.aqar.fm/icons/Circle.svg 2048w, https://assets.aqar.fm/icons/Circle.svg 3840w\" style=\"position:absolute;top:0;left:0;bottom:0;right:0;box-sizing:border-box;padding:0;border:none;margin:auto;display:block;width:0;height:0;min-width:100%;max-width:100%;min-height:100%;max-height:100%\"/></span></div></div><div class=\"footer_label__5rz3c\" style=\"color:\">دور للإيجار</div></a><a class=\"footer_link__dIyzS\" href=\"/فلل-للبيع\"><div class=\"footer_iconContainer__IbrGv\"><div class=\"deferredIcon_deferredIcon__5FbZP\" style=\"width:10px;height:10px\"><span style=\"box-sizing:border-box;display:block;overflow:hidden;width:initial;height:initial;background:none;opacity:1;border:0;margin:0;padding:0;position:relative\"><span style=\"box-sizing:border-box;display:block;width:initial;height:initial;background:none;opacity:1;border:0;margin:0;padding:0;padding-top:100%\"></span><img alt=\"فلل للبيع\" data-nimg=\"responsive\" decoding=\"async\" sizes=\"100vw\" src=\"https://assets.aqar.fm/icons/Circle.svg\" srcset=\"https://assets.aqar.fm/icons/Circle.svg 640w, https://assets.aqar.fm/icons/Circle.svg 750w, https://assets.aqar.fm/icons/Circle.svg 828w, https://assets.aqar.fm/icons/Circle.svg 1080w, https://assets.aqar.fm/icons/Circle.svg 1200w, https://assets.aqar.fm/icons/Circle.svg 1920w, https://assets.aqar.fm/icons/Circle.svg 2048w, https://assets.aqar.fm/icons/Circle.svg 3840w\" style=\"position:absolute;top:0;left:0;bottom:0;right:0;box-sizing:border-box;padding:0;border:none;margin:auto;display:block;width:0;height:0;min-width:100%;max-width:100%;min-height:100%;max-height:100%\"/></span></div></div><div class=\"footer_label__5rz3c\" style=\"color:\">فلل للبيع</div></a></div><div class=\"footer_linkCol__HwVhF\"><a class=\"footer_link__dIyzS\" href=\"/%D8%B4%D9%82%D9%82-%D9%84%D9%84%D8%A8%D9%8A%D8%B9\"><div class=\"footer_iconContainer__IbrGv\"><div class=\"deferredIcon_deferredIcon__5FbZP\" style=\"width:10px;height:10px\"><span style=\"box-sizing:border-box;display:block;overflow:hidden;width:initial;height:initial;background:none;opacity:1;border:0;margin:0;padding:0;position:relative\"><span style=\"box-sizing:border-box;display:block;width:initial;height:initial;background:none;opacity:1;border:0;margin:0;padding:0;padding-top:100%\"></span><img alt=\"شقق للبيع\" data-nimg=\"responsive\" decoding=\"async\" sizes=\"100vw\" src=\"https://assets.aqar.fm/icons/Circle.svg\" srcset=\"https://assets.aqar.fm/icons/Circle.svg 640w, https://assets.aqar.fm/icons/Circle.svg 750w, https://assets.aqar.fm/icons/Circle.svg 828w, https://assets.aqar.fm/icons/Circle.svg 1080w, https://assets.aqar.fm/icons/Circle.svg 1200w, https://assets.aqar.fm/icons/Circle.svg 1920w, https://assets.aqar.fm/icons/Circle.svg 2048w, https://assets.aqar.fm/icons/Circle.svg 3840w\" style=\"position:absolute;top:0;left:0;bottom:0;right:0;box-sizing:border-box;padding:0;border:none;margin:auto;display:block;width:0;height:0;min-width:100%;max-width:100%;min-height:100%;max-height:100%\"/></span></div></div><div class=\"footer_label__5rz3c\" style=\"color:\">شقق للبيع</div></a><a class=\"footer_link__dIyzS\" href=\"/%D8%A3%D8%B1%D8%A7%D8%B6%D9%8A-%D9%84%D9%84%D8%A8%D9%8A%D8%B9\"><div class=\"footer_iconContainer__IbrGv\"><div class=\"deferredIcon_deferredIcon__5FbZP\" style=\"width:10px;height:10px\"><span style=\"box-sizing:border-box;display:block;overflow:hidden;width:initial;height:initial;background:none;opacity:1;border:0;margin:0;padding:0;position:relative\"><span style=\"box-sizing:border-box;display:block;width:initial;height:initial;background:none;opacity:1;border:0;margin:0;padding:0;padding-top:100%\"></span><img alt=\"أراضي للبيع\" data-nimg=\"responsive\" decoding=\"async\" sizes=\"100vw\" src=\"https://assets.aqar.fm/icons/Circle.svg\" srcset=\"https://assets.aqar.fm/icons/Circle.svg 640w, https://assets.aqar.fm/icons/Circle.svg 750w, https://assets.aqar.fm/icons/Circle.svg 828w, https://assets.aqar.fm/icons/Circle.svg 1080w, https://assets.aqar.fm/icons/Circle.svg 1200w, https://assets.aqar.fm/icons/Circle.svg 1920w, https://assets.aqar.fm/icons/Circle.svg 2048w, https://assets.aqar.fm/icons/Circle.svg 3840w\" style=\"position:absolute;top:0;left:0;bottom:0;right:0;box-sizing:border-box;padding:0;border:none;margin:auto;display:block;width:0;height:0;min-width:100%;max-width:100%;min-height:100%;max-height:100%\"/></span></div></div><div class=\"footer_label__5rz3c\" style=\"color:\">أراضي للبيع</div></a><a class=\"footer_link__dIyzS\" href=\"/%D8%B4%D9%82%D9%82-%D9%84%D9%84%D8%A5%D9%8A%D8%AC%D8%A7%D8%B1/%D8%A7%D9%84%D8%B1%D9%8A%D8%A7%D8%B6\"><div class=\"footer_iconContainer__IbrGv\"><div class=\"deferredIcon_deferredIcon__5FbZP\" style=\"width:10px;height:10px\"><span style=\"box-sizing:border-box;display:block;overflow:hidden;width:initial;height:initial;background:none;opacity:1;border:0;margin:0;padding:0;position:relative\"><span style=\"box-sizing:border-box;display:block;width:initial;height:initial;background:none;opacity:1;border:0;margin:0;padding:0;padding-top:100%\"></span><img alt=\"شقق للإيجار بالرياض\" data-nimg=\"responsive\" decoding=\"async\" sizes=\"100vw\" src=\"https://assets.aqar.fm/icons/Circle.svg\" srcset=\"https://assets.aqar.fm/icons/Circle.svg 640w, https://assets.aqar.fm/icons/Circle.svg 750w, https://assets.aqar.fm/icons/Circle.svg 828w, https://assets.aqar.fm/icons/Circle.svg 1080w, https://assets.aqar.fm/icons/Circle.svg 1200w, https://assets.aqar.fm/icons/Circle.svg 1920w, https://assets.aqar.fm/icons/Circle.svg 2048w, https://assets.aqar.fm/icons/Circle.svg 3840w\" style=\"position:absolute;top:0;left:0;bottom:0;right:0;box-sizing:border-box;padding:0;border:none;margin:auto;display:block;width:0;height:0;min-width:100%;max-width:100%;min-height:100%;max-height:100%\"/></span></div></div><div class=\"footer_label__5rz3c\" style=\"color:\">شقق للإيجار بالرياض</div></a><a class=\"footer_link__dIyzS\" href=\"/%D8%B4%D9%82%D9%82-%D9%84%D9%84%D8%A5%D9%8A%D8%AC%D8%A7%D8%B1/%D8%AC%D8%AF%D8%A9\"><div class=\"footer_iconContainer__IbrGv\"><div class=\"deferredIcon_deferredIcon__5FbZP\" style=\"width:10px;height:10px\"><span style=\"box-sizing:border-box;display:block;overflow:hidden;width:initial;height:initial;background:none;opacity:1;border:0;margin:0;padding:0;position:relative\"><span style=\"box-sizing:border-box;display:block;width:initial;height:initial;background:none;opacity:1;border:0;margin:0;padding:0;padding-top:100%\"></span><img alt=\"شقق للإيجار بجدة\" data-nimg=\"responsive\" decoding=\"async\" sizes=\"100vw\" src=\"https://assets.aqar.fm/icons/Circle.svg\" srcset=\"https://assets.aqar.fm/icons/Circle.svg 640w, https://assets.aqar.fm/icons/Circle.svg 750w, https://assets.aqar.fm/icons/Circle.svg 828w, https://assets.aqar.fm/icons/Circle.svg 1080w, https://assets.aqar.fm/icons/Circle.svg 1200w, https://assets.aqar.fm/icons/Circle.svg 1920w, https://assets.aqar.fm/icons/Circle.svg 2048w, https://assets.aqar.fm/icons/Circle.svg 3840w\" style=\"position:absolute;top:0;left:0;bottom:0;right:0;box-sizing:border-box;padding:0;border:none;margin:auto;display:block;width:0;height:0;min-width:100%;max-width:100%;min-height:100%;max-height:100%\"/></span></div></div><div class=\"footer_label__5rz3c\" style=\"color:\">شقق للإيجار بجدة</div></a></div></div></div><div class=\"footer_linksWidet___9HAZ\"><div class=\"footer_title__S_4Wq\">روابط سريعة</div><div class=\"footer_links__wHE9S\"><div class=\"footer_linkCol__HwVhF\"><a class=\"footer_link__dIyzS\" href=\"/add-listing/init/terms\"><div class=\"footer_iconContainer__IbrGv\"><div class=\"deferredIcon_deferredIcon__5FbZP\" style=\"width:20px;height:20px\"><span style=\"box-sizing:border-box;display:block;overflow:hidden;width:initial;height:initial;background:none;opacity:1;border:0;margin:0;padding:0;position:relative\"><span style=\"box-sizing:border-box;display:block;width:initial;height:initial;background:none;opacity:1;border:0;margin:0;padding:0;padding-top:100%\"></span><img alt=\"إضافة إعلان\" data-nimg=\"responsive\" decoding=\"async\" sizes=\"100vw\" src=\"https://assets.aqar.fm/icons/AddCircle-colored.svg\" srcset=\"https://assets.aqar.fm/icons/AddCircle-colored.svg 640w, https://assets.aqar.fm/icons/AddCircle-colored.svg 750w, https://assets.aqar.fm/icons/AddCircle-colored.svg 828w, https://assets.aqar.fm/icons/AddCircle-colored.svg 1080w, https://assets.aqar.fm/icons/AddCircle-colored.svg 1200w, https://assets.aqar.fm/icons/AddCircle-colored.svg 1920w, https://assets.aqar.fm/icons/AddCircle-colored.svg 2048w, https://assets.aqar.fm/icons/AddCircle-colored.svg 3840w\" style=\"position:absolute;top:0;left:0;bottom:0;right:0;box-sizing:border-box;padding:0;border:none;margin:auto;display:block;width:0;height:0;min-width:100%;max-width:100%;min-height:100%;max-height:100%\"/></span></div></div><div class=\"footer_label__5rz3c\" style=\"color:#52b54a\">إضافة إعلان</div></a><a class=\"footer_link__dIyzS\" href=\"/services\"><div class=\"footer_iconContainer__IbrGv\"><div class=\"deferredIcon_deferredIcon__5FbZP\" style=\"width:20px;height:20px\"><span style=\"box-sizing:border-box;display:block;overflow:hidden;width:initial;height:initial;background:none;opacity:1;border:0;margin:0;padding:0;position:relative\"><span style=\"box-sizing:border-box;display:block;width:initial;height:initial;background:none;opacity:1;border:0;margin:0;padding:0;padding-top:100%\"></span><img alt=\"دفع الرسوم\" data-nimg=\"responsive\" decoding=\"async\" sizes=\"100vw\" src=\"https://assets.aqar.fm/icons/Fees.svg\" srcset=\"https://assets.aqar.fm/icons/Fees.svg 640w, https://assets.aqar.fm/icons/Fees.svg 750w, https://assets.aqar.fm/icons/Fees.svg 828w, https://assets.aqar.fm/icons/Fees.svg 1080w, https://assets.aqar.fm/icons/Fees.svg 1200w, https://assets.aqar.fm/icons/Fees.svg 1920w, https://assets.aqar.fm/icons/Fees.svg 2048w, https://assets.aqar.fm/icons/Fees.svg 3840w\" style=\"position:absolute;top:0;left:0;bottom:0;right:0;box-sizing:border-box;padding:0;border:none;margin:auto;display:block;width:0;height:0;min-width:100%;max-width:100%;min-height:100%;max-height:100%\"/></span></div></div><div class=\"footer_label__5rz3c\" style=\"color:\">دفع الرسوم</div></a><a class=\"footer_link__dIyzS\" href=\"/%D8%A7%D9%84%D8%AA%D9%85%D9%88%D9%8A%D9%84-%D8%A7%D9%84%D8%B9%D9%82%D8%A7%D8%B1%D9%8A\"><div class=\"footer_iconContainer__IbrGv\"><div class=\"deferredIcon_deferredIcon__5FbZP\" style=\"width:20px;height:20px\"><span style=\"box-sizing:border-box;display:block;overflow:hidden;width:initial;height:initial;background:none;opacity:1;border:0;margin:0;padding:0;position:relative\"><span style=\"box-sizing:border-box;display:block;width:initial;height:initial;background:none;opacity:1;border:0;margin:0;padding:0;padding-top:100%\"></span><img alt=\"التمويل العقاري\" data-nimg=\"responsive\" decoding=\"async\" sizes=\"100vw\" src=\"https://assets.aqar.fm/icons/Calculator.svg\" srcset=\"https://assets.aqar.fm/icons/Calculator.svg 640w, https://assets.aqar.fm/icons/Calculator.svg 750w, https://assets.aqar.fm/icons/Calculator.svg 828w, https://assets.aqar.fm/icons/Calculator.svg 1080w, https://assets.aqar.fm/icons/Calculator.svg 1200w, https://assets.aqar.fm/icons/Calculator.svg 1920w, https://assets.aqar.fm/icons/Calculator.svg 2048w, https://assets.aqar.fm/icons/Calculator.svg 3840w\" style=\"position:absolute;top:0;left:0;bottom:0;right:0;box-sizing:border-box;padding:0;border:none;margin:auto;display:block;width:0;height:0;min-width:100%;max-width:100%;min-height:100%;max-height:100%\"/></span></div></div><div class=\"footer_label__5rz3c\" style=\"color:\">التمويل العقاري</div></a><a class=\"footer_link__dIyzS\" href=\"/%D8%A7%D9%84%D8%A5%D8%AD%D8%B5%D8%A7%D8%A6%D9%8A%D8%A7%D8%AA-%D8%A7%D9%84%D8%B9%D9%82%D8%A7%D8%B1%D9%8A%D8%A9\"><div class=\"footer_iconContainer__IbrGv\"><div class=\"deferredIcon_deferredIcon__5FbZP\" style=\"width:20px;height:20px\"><span style=\"box-sizing:border-box;display:block;overflow:hidden;width:initial;height:initial;background:none;opacity:1;border:0;margin:0;padding:0;position:relative\"><span style=\"box-sizing:border-box;display:block;width:initial;height:initial;background:none;opacity:1;border:0;margin:0;padding:0;padding-top:100%\"></span><img alt=\"متوسط الأسعار\" data-nimg=\"responsive\" decoding=\"async\" sizes=\"100vw\" src=\"https://assets.aqar.fm/icons/Equalizer.svg\" srcset=\"https://assets.aqar.fm/icons/Equalizer.svg 640w, https://assets.aqar.fm/icons/Equalizer.svg 750w, https://assets.aqar.fm/icons/Equalizer.svg 828w, https://assets.aqar.fm/icons/Equalizer.svg 1080w, https://assets.aqar.fm/icons/Equalizer.svg 1200w, https://assets.aqar.fm/icons/Equalizer.svg 1920w, https://assets.aqar.fm/icons/Equalizer.svg 2048w, https://assets.aqar.fm/icons/Equalizer.svg 3840w\" style=\"position:absolute;top:0;left:0;bottom:0;right:0;box-sizing:border-box;padding:0;border:none;margin:auto;display:block;width:0;height:0;min-width:100%;max-width:100%;min-height:100%;max-height:100%\"/></span></div></div><div class=\"footer_label__5rz3c\" style=\"color:\">متوسط الأسعار</div></a><a class=\"footer_link__dIyzS\" href=\"/%D8%B9%D9%82%D9%88%D8%AF-%D8%A7%D9%84%D8%A5%D9%8A%D8%AC%D8%A7%D8%B1\"><div class=\"footer_iconContainer__IbrGv\"><div class=\"deferredIcon_deferredIcon__5FbZP\" style=\"width:20px;height:20px\"><span style=\"box-sizing:border-box;display:block;overflow:hidden;width:initial;height:initial;background:none;opacity:1;border:0;margin:0;padding:0;position:relative\"><span style=\"box-sizing:border-box;display:block;width:initial;height:initial;background:none;opacity:1;border:0;margin:0;padding:0;padding-top:100%\"></span><img alt=\"عقود الإيجار\" data-nimg=\"responsive\" decoding=\"async\" sizes=\"100vw\" src=\"https://assets.aqar.fm/icons/Contracts.svg\" srcset=\"https://assets.aqar.fm/icons/Contracts.svg 640w, https://assets.aqar.fm/icons/Contracts.svg 750w, https://assets.aqar.fm/icons/Contracts.svg 828w, https://assets.aqar.fm/icons/Contracts.svg 1080w, https://assets.aqar.fm/icons/Contracts.svg 1200w, https://assets.aqar.fm/icons/Contracts.svg 1920w, https://assets.aqar.fm/icons/Contracts.svg 2048w, https://assets.aqar.fm/icons/Contracts.svg 3840w\" style=\"position:absolute;top:0;left:0;bottom:0;right:0;box-sizing:border-box;padding:0;border:none;margin:auto;display:block;width:0;height:0;min-width:100%;max-width:100%;min-height:100%;max-height:100%\"/></span></div></div><div class=\"footer_label__5rz3c\" style=\"color:\">عقود الإيجار</div></a></div><div class=\"footer_linkCol__HwVhF\"><a class=\"footer_link__dIyzS\" href=\"/add-featured\"><div class=\"footer_iconContainer__IbrGv\"><div class=\"deferredIcon_deferredIcon__5FbZP\" style=\"width:20px;height:20px\"><span style=\"box-sizing:border-box;display:block;overflow:hidden;width:initial;height:initial;background:none;opacity:1;border:0;margin:0;padding:0;position:relative\"><span style=\"box-sizing:border-box;display:block;width:initial;height:initial;background:none;opacity:1;border:0;margin:0;padding:0;padding-top:100%\"></span><img alt=\"تمييز الإعلانات\" data-nimg=\"responsive\" decoding=\"async\" sizes=\"100vw\" src=\"https://assets.aqar.fm/icons/WebFeatured.svg\" srcset=\"https://assets.aqar.fm/icons/WebFeatured.svg 640w, https://assets.aqar.fm/icons/WebFeatured.svg 750w, https://assets.aqar.fm/icons/WebFeatured.svg 828w, https://assets.aqar.fm/icons/WebFeatured.svg 1080w, https://assets.aqar.fm/icons/WebFeatured.svg 1200w, https://assets.aqar.fm/icons/WebFeatured.svg 1920w, https://assets.aqar.fm/icons/WebFeatured.svg 2048w, https://assets.aqar.fm/icons/WebFeatured.svg 3840w\" style=\"position:absolute;top:0;left:0;bottom:0;right:0;box-sizing:border-box;padding:0;border:none;margin:auto;display:block;width:0;height:0;min-width:100%;max-width:100%;min-height:100%;max-height:100%\"/></span></div></div><div class=\"footer_label__5rz3c\" style=\"color:\">تمييز الإعلانات</div></a><a class=\"footer_link__dIyzS\" href=\"https://sa.aqar.fm/blog/\"><div class=\"footer_iconContainer__IbrGv\"><div class=\"deferredIcon_deferredIcon__5FbZP\" style=\"width:20px;height:20px\"><span style=\"box-sizing:border-box;display:block;overflow:hidden;width:initial;height:initial;background:none;opacity:1;border:0;margin:0;padding:0;position:relative\"><span style=\"box-sizing:border-box;display:block;width:initial;height:initial;background:none;opacity:1;border:0;margin:0;padding:0;padding-top:100%\"></span><img alt=\"مدونة عقار\" data-nimg=\"responsive\" decoding=\"async\" sizes=\"100vw\" src=\"https://assets.aqar.fm/icons/Message.svg\" srcset=\"https://assets.aqar.fm/icons/Message.svg 640w, https://assets.aqar.fm/icons/Message.svg 750w, https://assets.aqar.fm/icons/Message.svg 828w, https://assets.aqar.fm/icons/Message.svg 1080w, https://assets.aqar.fm/icons/Message.svg 1200w, https://assets.aqar.fm/icons/Message.svg 1920w, https://assets.aqar.fm/icons/Message.svg 2048w, https://assets.aqar.fm/icons/Message.svg 3840w\" style=\"position:absolute;top:0;left:0;bottom:0;right:0;box-sizing:border-box;padding:0;border:none;margin:auto;display:block;width:0;height:0;min-width:100%;max-width:100%;min-height:100%;max-height:100%\"/></span></div></div><div class=\"footer_label__5rz3c\" style=\"color:\">مدونة عقار</div></a><a class=\"footer_link__dIyzS\" href=\"/partners\"><div class=\"footer_iconContainer__IbrGv\"><div class=\"deferredIcon_deferredIcon__5FbZP\" style=\"width:20px;height:20px\"><span style=\"box-sizing:border-box;display:block;overflow:hidden;width:initial;height:initial;background:none;opacity:1;border:0;margin:0;padding:0;position:relative\"><span style=\"box-sizing:border-box;display:block;width:initial;height:initial;background:none;opacity:1;border:0;margin:0;padding:0;padding-top:100%\"></span><img alt=\"شركاء النجاح\" data-nimg=\"responsive\" decoding=\"async\" sizes=\"100vw\" src=\"https://assets.aqar.fm/icons/Profile.svg\" srcset=\"https://assets.aqar.fm/icons/Profile.svg 640w, https://assets.aqar.fm/icons/Profile.svg 750w, https://assets.aqar.fm/icons/Profile.svg 828w, https://assets.aqar.fm/icons/Profile.svg 1080w, https://assets.aqar.fm/icons/Profile.svg 1200w, https://assets.aqar.fm/icons/Profile.svg 1920w, https://assets.aqar.fm/icons/Profile.svg 2048w, https://assets.aqar.fm/icons/Profile.svg 3840w\" style=\"position:absolute;top:0;left:0;bottom:0;right:0;box-sizing:border-box;padding:0;border:none;margin:auto;display:block;width:0;height:0;min-width:100%;max-width:100%;min-height:100%;max-height:100%\"/></span></div></div><div class=\"footer_label__5rz3c\" style=\"color:\">شركاء النجاح</div></a><a class=\"footer_link__dIyzS\" href=\"/%D8%A7%D8%AA%D9%81%D8%A7%D9%82%D9%8A%D8%A9-%D8%A7%D8%B3%D8%AA%D8%AE%D8%AF%D8%A7%D9%85-%D8%AA%D8%B7%D8%A8%D9%8A%D9%82-%D8%B9%D9%82%D8%A7%D8%B1\"><div class=\"footer_iconContainer__IbrGv\"><div class=\"deferredIcon_deferredIcon__5FbZP\" style=\"width:20px;height:20px\"><span style=\"box-sizing:border-box;display:block;overflow:hidden;width:initial;height:initial;background:none;opacity:1;border:0;margin:0;padding:0;position:relative\"><span style=\"box-sizing:border-box;display:block;width:initial;height:initial;background:none;opacity:1;border:0;margin:0;padding:0;padding-top:100%\"></span><img alt=\"اتفاقية الاستخدام\" data-nimg=\"responsive\" decoding=\"async\" sizes=\"100vw\" src=\"https://assets.aqar.fm/icons/Terms.svg\" srcset=\"https://assets.aqar.fm/icons/Terms.svg 640w, https://assets.aqar.fm/icons/Terms.svg 750w, https://assets.aqar.fm/icons/Terms.svg 828w, https://assets.aqar.fm/icons/Terms.svg 1080w, https://assets.aqar.fm/icons/Terms.svg 1200w, https://assets.aqar.fm/icons/Terms.svg 1920w, https://assets.aqar.fm/icons/Terms.svg 2048w, https://assets.aqar.fm/icons/Terms.svg 3840w\" style=\"position:absolute;top:0;left:0;bottom:0;right:0;box-sizing:border-box;padding:0;border:none;margin:auto;display:block;width:0;height:0;min-width:100%;max-width:100%;min-height:100%;max-height:100%\"/></span></div></div><div class=\"footer_label__5rz3c\" style=\"color:\">اتفاقية الاستخدام</div></a><a class=\"footer_link__dIyzS\" href=\"/%D8%AD%D8%A7%D8%B3%D8%A8%D8%A9-%D8%A7%D9%84%D8%A8%D9%86%D8%A7%D8%A1\"><div class=\"footer_iconContainer__IbrGv\"><div class=\"deferredIcon_deferredIcon__5FbZP\" style=\"width:20px;height:20px\"><span style=\"box-sizing:border-box;display:block;overflow:hidden;width:initial;height:initial;background:none;opacity:1;border:0;margin:0;padding:0;position:relative\"><span style=\"box-sizing:border-box;display:block;width:initial;height:initial;background:none;opacity:1;border:0;margin:0;padding:0;padding-top:100%\"></span><img alt=\"حاسبة البناء\" data-nimg=\"responsive\" decoding=\"async\" sizes=\"100vw\" src=\"https://assets.aqar.fm/icons/BuildingCalc.svg\" srcset=\"https://assets.aqar.fm/icons/BuildingCalc.svg 640w, https://assets.aqar.fm/icons/BuildingCalc.svg 750w, https://assets.aqar.fm/icons/BuildingCalc.svg 828w, https://assets.aqar.fm/icons/BuildingCalc.svg 1080w, https://assets.aqar.fm/icons/BuildingCalc.svg 1200w, https://assets.aqar.fm/icons/BuildingCalc.svg 1920w, https://assets.aqar.fm/icons/BuildingCalc.svg 2048w, https://assets.aqar.fm/icons/BuildingCalc.svg 3840w\" style=\"position:absolute;top:0;left:0;bottom:0;right:0;box-sizing:border-box;padding:0;border:none;margin:auto;display:block;width:0;height:0;min-width:100%;max-width:100%;min-height:100%;max-height:100%\"/></span></div></div><div class=\"footer_label__5rz3c\" style=\"color:\">حاسبة البناء</div></a><a class=\"footer_link__dIyzS\" href=\"/%D8%AA%D9%88%D8%A7%D8%B5%D9%84-%D9%85%D8%B9%D9%86%D8%A7#support\"><div class=\"footer_iconContainer__IbrGv\"><div class=\"deferredIcon_deferredIcon__5FbZP\" style=\"width:20px;height:20px\"><span style=\"box-sizing:border-box;display:block;overflow:hidden;width:initial;height:initial;background:none;opacity:1;border:0;margin:0;padding:0;position:relative\"><span style=\"box-sizing:border-box;display:block;width:initial;height:initial;background:none;opacity:1;border:0;margin:0;padding:0;padding-top:100%\"></span><img alt=\"اتصل بنا\" data-nimg=\"responsive\" decoding=\"async\" sizes=\"100vw\" src=\"https://assets.aqar.fm/icons/ContactUs.svg\" srcset=\"https://assets.aqar.fm/icons/ContactUs.svg 640w, https://assets.aqar.fm/icons/ContactUs.svg 750w, https://assets.aqar.fm/icons/ContactUs.svg 828w, https://assets.aqar.fm/icons/ContactUs.svg 1080w, https://assets.aqar.fm/icons/ContactUs.svg 1200w, https://assets.aqar.fm/icons/ContactUs.svg 1920w, https://assets.aqar.fm/icons/ContactUs.svg 2048w, https://assets.aqar.fm/icons/ContactUs.svg 3840w\" style=\"position:absolute;top:0;left:0;bottom:0;right:0;box-sizing:border-box;padding:0;border:none;margin:auto;display:block;width:0;height:0;min-width:100%;max-width:100%;min-height:100%;max-height:100%\"/></span></div></div><div class=\"footer_label__5rz3c\" style=\"color:\">اتصل بنا</div></a></div></div></div></div><div class=\"footer_bottom__49w0I\"><div class=\"footer_rightSide__Q9fjC\"><div class=\"footer_socialIcon__r42TP\"><div class=\"deferredIcon_deferredIcon__5FbZP\" style=\"width:25px;height:25px\"><span style=\"box-sizing:border-box;display:block;overflow:hidden;width:initial;height:initial;background:none;opacity:1;border:0;margin:0;padding:0;position:relative\"><span style=\"box-sizing:border-box;display:block;width:initial;height:initial;background:none;opacity:1;border:0;margin:0;padding:0;padding-top:100%\"></span><img alt=\"Fb\" class=\"footer_icon__R4Kum\" data-nimg=\"responsive\" decoding=\"async\" sizes=\"100vw\" src=\"https://assets.aqar.fm/icons/Facebook.svg\" srcset=\"https://assets.aqar.fm/icons/Facebook.svg 640w, https://assets.aqar.fm/icons/Facebook.svg 750w, https://assets.aqar.fm/icons/Facebook.svg 828w, https://assets.aqar.fm/icons/Facebook.svg 1080w, https://assets.aqar.fm/icons/Facebook.svg 1200w, https://assets.aqar.fm/icons/Facebook.svg 1920w, https://assets.aqar.fm/icons/Facebook.svg 2048w, https://assets.aqar.fm/icons/Facebook.svg 3840w\" style=\"position:absolute;top:0;left:0;bottom:0;right:0;box-sizing:border-box;padding:0;border:none;margin:auto;display:block;width:0;height:0;min-width:100%;max-width:100%;min-height:100%;max-height:100%\"/></span></div></div><div class=\"footer_socialIcon__r42TP\"><div class=\"deferredIcon_deferredIcon__5FbZP\" style=\"width:25px;height:25px\"><span style=\"box-sizing:border-box;display:block;overflow:hidden;width:initial;height:initial;background:none;opacity:1;border:0;margin:0;padding:0;position:relative\"><span style=\"box-sizing:border-box;display:block;width:initial;height:initial;background:none;opacity:1;border:0;margin:0;padding:0;padding-top:100%\"></span><img alt=\"linkedin\" class=\"footer_icon__R4Kum\" data-nimg=\"responsive\" decoding=\"async\" sizes=\"100vw\" src=\"https://assets.aqar.fm/icons/Linkedin.svg\" srcset=\"https://assets.aqar.fm/icons/Linkedin.svg 640w, https://assets.aqar.fm/icons/Linkedin.svg 750w, https://assets.aqar.fm/icons/Linkedin.svg 828w, https://assets.aqar.fm/icons/Linkedin.svg 1080w, https://assets.aqar.fm/icons/Linkedin.svg 1200w, https://assets.aqar.fm/icons/Linkedin.svg 1920w, https://assets.aqar.fm/icons/Linkedin.svg 2048w, https://assets.aqar.fm/icons/Linkedin.svg 3840w\" style=\"position:absolute;top:0;left:0;bottom:0;right:0;box-sizing:border-box;padding:0;border:none;margin:auto;display:block;width:0;height:0;min-width:100%;max-width:100%;min-height:100%;max-height:100%\"/></span></div></div><div class=\"footer_socialIcon__r42TP\"><div class=\"deferredIcon_deferredIcon__5FbZP\" style=\"width:25px;height:25px\"><span style=\"box-sizing:border-box;display:block;overflow:hidden;width:initial;height:initial;background:none;opacity:1;border:0;margin:0;padding:0;position:relative\"><span style=\"box-sizing:border-box;display:block;width:initial;height:initial;background:none;opacity:1;border:0;margin:0;padding:0;padding-top:100%\"></span><img alt=\"twitter\" class=\"footer_icon__R4Kum\" data-nimg=\"responsive\" decoding=\"async\" sizes=\"100vw\" src=\"https://assets.aqar.fm/icons/Twitter.svg\" srcset=\"https://assets.aqar.fm/icons/Twitter.svg 640w, https://assets.aqar.fm/icons/Twitter.svg 750w, https://assets.aqar.fm/icons/Twitter.svg 828w, https://assets.aqar.fm/icons/Twitter.svg 1080w, https://assets.aqar.fm/icons/Twitter.svg 1200w, https://assets.aqar.fm/icons/Twitter.svg 1920w, https://assets.aqar.fm/icons/Twitter.svg 2048w, https://assets.aqar.fm/icons/Twitter.svg 3840w\" style=\"position:absolute;top:0;left:0;bottom:0;right:0;box-sizing:border-box;padding:0;border:none;margin:auto;display:block;width:0;height:0;min-width:100%;max-width:100%;min-height:100%;max-height:100%\"/></span></div></div><div class=\"footer_socialIcon__r42TP\"><div class=\"deferredIcon_deferredIcon__5FbZP\" style=\"width:25px;height:25px\"><span style=\"box-sizing:border-box;display:block;overflow:hidden;width:initial;height:initial;background:none;opacity:1;border:0;margin:0;padding:0;position:relative\"><span style=\"box-sizing:border-box;display:block;width:initial;height:initial;background:none;opacity:1;border:0;margin:0;padding:0;padding-top:100%\"></span><img alt=\"instagram\" class=\"footer_icon__R4Kum\" data-nimg=\"responsive\" decoding=\"async\" sizes=\"100vw\" src=\"https://assets.aqar.fm/icons/Instagram.svg\" srcset=\"https://assets.aqar.fm/icons/Instagram.svg 640w, https://assets.aqar.fm/icons/Instagram.svg 750w, https://assets.aqar.fm/icons/Instagram.svg 828w, https://assets.aqar.fm/icons/Instagram.svg 1080w, https://assets.aqar.fm/icons/Instagram.svg 1200w, https://assets.aqar.fm/icons/Instagram.svg 1920w, https://assets.aqar.fm/icons/Instagram.svg 2048w, https://assets.aqar.fm/icons/Instagram.svg 3840w\" style=\"position:absolute;top:0;left:0;bottom:0;right:0;box-sizing:border-box;padding:0;border:none;margin:auto;display:block;width:0;height:0;min-width:100%;max-width:100%;min-height:100%;max-height:100%\"/></span></div></div><div class=\"footer_socialIcon__r42TP\"><div class=\"deferredIcon_deferredIcon__5FbZP\" style=\"width:25px;height:25px\"><span style=\"box-sizing:border-box;display:block;overflow:hidden;width:initial;height:initial;background:none;opacity:1;border:0;margin:0;padding:0;position:relative\"><span style=\"box-sizing:border-box;display:block;width:initial;height:initial;background:none;opacity:1;border:0;margin:0;padding:0;padding-top:100%\"></span><img alt=\"youtube\" class=\"footer_icon__R4Kum\" data-nimg=\"responsive\" decoding=\"async\" sizes=\"100vw\" src=\"https://assets.aqar.fm/icons/Youtube.svg\" srcset=\"https://assets.aqar.fm/icons/Youtube.svg 640w, https://assets.aqar.fm/icons/Youtube.svg 750w, https://assets.aqar.fm/icons/Youtube.svg 828w, https://assets.aqar.fm/icons/Youtube.svg 1080w, https://assets.aqar.fm/icons/Youtube.svg 1200w, https://assets.aqar.fm/icons/Youtube.svg 1920w, https://assets.aqar.fm/icons/Youtube.svg 2048w, https://assets.aqar.fm/icons/Youtube.svg 3840w\" style=\"position:absolute;top:0;left:0;bottom:0;right:0;box-sizing:border-box;padding:0;border:none;margin:auto;display:block;width:0;height:0;min-width:100%;max-width:100%;min-height:100%;max-height:100%\"/></span></div></div><div class=\"footer_socialIcon__r42TP\"><div class=\"deferredIcon_deferredIcon__5FbZP\" style=\"width:25px;height:25px\"><span style=\"box-sizing:border-box;display:block;overflow:hidden;width:initial;height:initial;background:none;opacity:1;border:0;margin:0;padding:0;position:relative\"><span style=\"box-sizing:border-box;display:block;width:initial;height:initial;background:none;opacity:1;border:0;margin:0;padding:0;padding-top:100%\"></span><img alt=\"snapchat\" class=\"footer_icon__R4Kum\" data-nimg=\"responsive\" decoding=\"async\" sizes=\"100vw\" src=\"https://assets.aqar.fm/icons/Snapchat.svg\" srcset=\"https://assets.aqar.fm/icons/Snapchat.svg 640w, https://assets.aqar.fm/icons/Snapchat.svg 750w, https://assets.aqar.fm/icons/Snapchat.svg 828w, https://assets.aqar.fm/icons/Snapchat.svg 1080w, https://assets.aqar.fm/icons/Snapchat.svg 1200w, https://assets.aqar.fm/icons/Snapchat.svg 1920w, https://assets.aqar.fm/icons/Snapchat.svg 2048w, https://assets.aqar.fm/icons/Snapchat.svg 3840w\" style=\"position:absolute;top:0;left:0;bottom:0;right:0;box-sizing:border-box;padding:0;border:none;margin:auto;display:block;width:0;height:0;min-width:100%;max-width:100%;min-height:100%;max-height:100%\"/></span></div></div></div><div class=\"footer_leftSide___0tUv\"><div class=\"deferredIcon_deferredIcon__5FbZP\" style=\"width:40px;height:40px\"><span style=\"box-sizing:border-box;display:block;overflow:hidden;width:initial;height:initial;background:none;opacity:1;border:0;margin:0;padding:0;position:relative\"><span style=\"box-sizing:border-box;display:block;width:initial;height:initial;background:none;opacity:1;border:0;margin:0;padding:0;padding-top:100%\"></span><img alt=\"vat\" class=\"footer_icon__R4Kum\" data-nimg=\"responsive\" decoding=\"async\" sizes=\"100vw\" src=\"https://assets.aqar.fm/icons/vat_2.svg\" srcset=\"https://assets.aqar.fm/icons/vat_2.svg 640w, https://assets.aqar.fm/icons/vat_2.svg 750w, https://assets.aqar.fm/icons/vat_2.svg 828w, https://assets.aqar.fm/icons/vat_2.svg 1080w, https://assets.aqar.fm/icons/vat_2.svg 1200w, https://assets.aqar.fm/icons/vat_2.svg 1920w, https://assets.aqar.fm/icons/vat_2.svg 2048w, https://assets.aqar.fm/icons/vat_2.svg 3840w\" style=\"position:absolute;top:0;left:0;bottom:0;right:0;box-sizing:border-box;padding:0;border:none;margin:auto;display:block;width:0;height:0;min-width:100%;max-width:100%;min-height:100%;max-height:100%\"/></span></div><div class=\"deferredIcon_deferredIcon__5FbZP\" style=\"width:40px;height:40px\"><span style=\"box-sizing:border-box;display:block;overflow:hidden;width:initial;height:initial;background:none;opacity:1;border:0;margin:0;padding:0;position:relative\"><span style=\"box-sizing:border-box;display:block;width:initial;height:initial;background:none;opacity:1;border:0;margin:0;padding:0;padding-top:100%\"></span><img alt=\"rega\" class=\"footer_icon__R4Kum\" data-nimg=\"responsive\" decoding=\"async\" sizes=\"100vw\" src=\"https://assets.aqar.fm/icons/REGA-License.png\" srcset=\"https://assets.aqar.fm/icons/REGA-License.png 640w, https://assets.aqar.fm/icons/REGA-License.png 750w, https://assets.aqar.fm/icons/REGA-License.png 828w, https://assets.aqar.fm/icons/REGA-License.png 1080w, https://assets.aqar.fm/icons/REGA-License.png 1200w, https://assets.aqar.fm/icons/REGA-License.png 1920w, https://assets.aqar.fm/icons/REGA-License.png 2048w, https://assets.aqar.fm/icons/REGA-License.png 3840w\" style=\"position:absolute;top:0;left:0;bottom:0;right:0;box-sizing:border-box;padding:0;border:none;margin:auto;display:block;width:0;height:0;min-width:100%;max-width:100%;min-height:100%;max-height:100%\"/></span></div></div></div><div class=\"footer_copyrights__pEdZD\">كافة الحقوق محفوظة لتطبيق عقار <!-- -->2023</div></div></div></div><script id=\"__NEXT_DATA__\" type=\"application/json\">{\"props\":{\"pageProps\":{\"category\":\"فلل-للبيع\",\"initFindQueryVars\":{\"size\":20,\"from\":0,\"sort\":{\"create_time\":\"desc\",\"has_img\":\"desc\"},\"where\":{\"category\":{\"eq\":3}}},\"pathLevel\":{\"level\":\"CATEGORY\",\"page\":1},\"searchParams\":{\"category\":\"فلل-للبيع\",\"params\":[\"1\"]},\"regionsData\":{\"Web\":{\"__typename\":\"WebQryOps\",\"cities\":[{\"__typename\":\"City\",\"name\":\"الرياض\",\"title\":\"فلل للبيع في الرياض\",\"uri\":\"الرياض\",\"path\":\"/فلل-للبيع/الرياض\",\"city_id\":21,\"count\":63466,\"category\":{\"__typename\":\"Category\",\"name\":\"فيلا للبيع\",\"plural\":\"فلل للبيع\",\"uri\":\"فلل-للبيع\",\"path\":\"/فلل-للبيع\",\"keywords\":[\"فيلا\",\"دوبلكس\",\"دبلكس\",\"دوبلكسات\",\"فلل\",\"للبيع\"],\"id\":3},\"directions\":true},{\"__typename\":\"City\",\"name\":\"جدة\",\"title\":\"فلل للبيع في جدة\",\"uri\":\"جدة\",\"path\":\"/فلل-للبيع/جدة\",\"city_id\":66,\"count\":11777,\"category\":{\"__typename\":\"Category\",\"name\":\"فيلا للبيع\",\"plural\":\"فلل للبيع\",\"uri\":\"فلل-للبيع\",\"path\":\"/فلل-للبيع\",\"keywords\":[\"فيلا\",\"دوبلكس\",\"دبلكس\",\"دوبلكسات\",\"فلل\",\"للبيع\"],\"id\":3},\"directions\":true},{\"__typename\":\"City\",\"name\":\"الدمام\",\"title\":\"فلل للبيع في الدمام\",\"uri\":\"الدمام\",\"path\":\"/فلل-للبيع/الدمام\",\"city_id\":18,\"count\":5351,\"category\":{\"__typename\":\"Category\",\"name\":\"فيلا للبيع\",\"plural\":\"فلل للبيع\",\"uri\":\"فلل-للبيع\",\"path\":\"/فلل-للبيع\",\"keywords\":[\"فيلا\",\"دوبلكس\",\"دبلكس\",\"دوبلكسات\",\"فلل\",\"للبيع\"],\"id\":3},\"directions\":false},{\"__typename\":\"City\",\"name\":\"الخبر\",\"title\":\"فلل للبيع في الخبر\",\"uri\":\"الخبر\",\"path\":\"/فلل-للبيع/الخبر\",\"city_id\":12,\"count\":4568,\"category\":{\"__typename\":\"Category\",\"name\":\"فيلا للبيع\",\"plural\":\"فلل للبيع\",\"uri\":\"فلل-للبيع\",\"path\":\"/فلل-للبيع\",\"keywords\":[\"فيلا\",\"دوبلكس\",\"دبلكس\",\"دوبلكسات\",\"فلل\",\"للبيع\"],\"id\":3},\"directions\":false},{\"__typename\":\"City\",\"name\":\"مكة المكرمة\",\"title\":\"فلل للبيع في مكة المكرمة\",\"uri\":\"مكة-المكرمة\",\"path\":\"/فلل-للبيع/مكة-المكرمة\",\"city_id\":94,\"count\":1975,\"category\":{\"__typename\":\"Category\",\"name\":\"فيلا للبيع\",\"plural\":\"فلل للبيع\",\"uri\":\"فلل-للبيع\",\"path\":\"/فلل-للبيع\",\"keywords\":[\"فيلا\",\"دوبلكس\",\"دبلكس\",\"دوبلكسات\",\"فلل\",\"للبيع\"],\"id\":3},\"directions\":false},{\"__typename\":\"City\",\"name\":\"خميس مشيط\",\"title\":\"فلل للبيع في خميس مشيط\",\"uri\":\"خميس-مشيط\",\"path\":\"/فلل-للبيع/خميس-مشيط\",\"city_id\":70,\"count\":1756,\"category\":{\"__typename\":\"Category\",\"name\":\"فيلا للبيع\",\"plural\":\"فلل للبيع\",\"uri\":\"فلل-للبيع\",\"path\":\"/فلل-للبيع\",\"keywords\":[\"فيلا\",\"دوبلكس\",\"دبلكس\",\"دوبلكسات\",\"فلل\",\"للبيع\"],\"id\":3},\"directions\":false},{\"__typename\":\"City\",\"name\":\"بريدة\",\"title\":\"فلل للبيع في بريدة\",\"uri\":\"بريدة\",\"path\":\"/فلل-للبيع/بريدة\",\"city_id\":52,\"count\":1508,\"category\":{\"__typename\":\"Category\",\"name\":\"فيلا للبيع\",\"plural\":\"فلل للبيع\",\"uri\":\"فلل-للبيع\",\"path\":\"/فلل-للبيع\",\"keywords\":[\"فيلا\",\"دوبلكس\",\"دبلكس\",\"دوبلكسات\",\"فلل\",\"للبيع\"],\"id\":3},\"directions\":false},{\"__typename\":\"City\",\"name\":\"المدينة المنورة\",\"title\":\"فلل للبيع في المدينة المنورة\",\"uri\":\"المدينة-المنورة\",\"path\":\"/فلل-للبيع/المدينة-المنورة\",\"city_id\":41,\"count\":1418,\"category\":{\"__typename\":\"Category\",\"name\":\"فيلا للبيع\",\"plural\":\"فلل للبيع\",\"uri\":\"فلل-للبيع\",\"path\":\"/فلل-للبيع\",\"keywords\":[\"فيلا\",\"دوبلكس\",\"دبلكس\",\"دوبلكسات\",\"فلل\",\"للبيع\"],\"id\":3},\"directions\":false},{\"__typename\":\"City\",\"name\":\"الهفوف\",\"title\":\"فلل للبيع في الهفوف\",\"uri\":\"الهفوف\",\"path\":\"/فلل-للبيع/الهفوف\",\"city_id\":46,\"count\":1133,\"category\":{\"__typename\":\"Category\",\"name\":\"فيلا للبيع\",\"plural\":\"فلل للبيع\",\"uri\":\"فلل-للبيع\",\"path\":\"/فلل-للبيع\",\"keywords\":[\"فيلا\",\"دوبلكس\",\"دبلكس\",\"دوبلكسات\",\"فلل\",\"للبيع\"],\"id\":3},\"directions\":false},{\"__typename\":\"City\",\"name\":\"حائل\",\"title\":\"فلل للبيع في حائل\",\"uri\":\"حائل\",\"path\":\"/فلل-للبيع/حائل\",\"city_id\":67,\"count\":1048,\"category\":{\"__typename\":\"Category\",\"name\":\"فيلا للبيع\",\"plural\":\"فلل للبيع\",\"uri\":\"فلل-للبيع\",\"path\":\"/فلل-للبيع\",\"keywords\":[\"فيلا\",\"دوبلكس\",\"دبلكس\",\"دوبلكسات\",\"فلل\",\"للبيع\"],\"id\":3},\"directions\":false},{\"__typename\":\"City\",\"name\":\"الطائف\",\"title\":\"فلل للبيع في الطائف\",\"uri\":\"الطائف\",\"path\":\"/فلل-للبيع/الطائف\",\"city_id\":26,\"count\":1021,\"category\":{\"__typename\":\"Category\",\"name\":\"فيلا للبيع\",\"plural\":\"فلل للبيع\",\"uri\":\"فلل-للبيع\",\"path\":\"/فلل-للبيع\",\"keywords\":[\"فيلا\",\"دوبلكس\",\"دبلكس\",\"دوبلكسات\",\"فلل\",\"للبيع\"],\"id\":3},\"directions\":false},{\"__typename\":\"City\",\"name\":\"ابها\",\"title\":\"فلل للبيع في ابها\",\"uri\":\"ابها\",\"path\":\"/فلل-للبيع/ابها\",\"city_id\":1,\"count\":982,\"category\":{\"__typename\":\"Category\",\"name\":\"فيلا للبيع\",\"plural\":\"فلل للبيع\",\"uri\":\"فلل-للبيع\",\"path\":\"/فلل-للبيع\",\"keywords\":[\"فيلا\",\"دوبلكس\",\"دبلكس\",\"دوبلكسات\",\"فلل\",\"للبيع\"],\"id\":3},\"directions\":false},{\"__typename\":\"City\",\"name\":\"عنيزة\",\"title\":\"فلل للبيع في عنيزة\",\"uri\":\"عنيزة\",\"path\":\"/فلل-للبيع/عنيزة\",\"city_id\":91,\"count\":848,\"category\":{\"__typename\":\"Category\",\"name\":\"فيلا للبيع\",\"plural\":\"فلل للبيع\",\"uri\":\"فلل-للبيع\",\"path\":\"/فلل-للبيع\",\"keywords\":[\"فيلا\",\"دوبلكس\",\"دبلكس\",\"دوبلكسات\",\"فلل\",\"للبيع\"],\"id\":3},\"directions\":false},{\"__typename\":\"City\",\"name\":\"جازان\",\"title\":\"فلل للبيع في جازان\",\"uri\":\"جازان\",\"path\":\"/فلل-للبيع/جازان\",\"city_id\":65,\"count\":739,\"category\":{\"__typename\":\"Category\",\"name\":\"فيلا للبيع\",\"plural\":\"فلل للبيع\",\"uri\":\"فلل-للبيع\",\"path\":\"/فلل-للبيع\",\"keywords\":[\"فيلا\",\"دوبلكس\",\"دبلكس\",\"دوبلكسات\",\"فلل\",\"للبيع\"],\"id\":3},\"directions\":false},{\"__typename\":\"City\",\"name\":\"الخرج\",\"title\":\"فلل للبيع في الخرج\",\"uri\":\"الخرج\",\"path\":\"/فلل-للبيع/الخرج\",\"city_id\":13,\"count\":616,\"category\":{\"__typename\":\"Category\",\"name\":\"فيلا للبيع\",\"plural\":\"فلل للبيع\",\"uri\":\"فلل-للبيع\",\"path\":\"/فلل-للبيع\",\"keywords\":[\"فيلا\",\"دوبلكس\",\"دبلكس\",\"دوبلكسات\",\"فلل\",\"للبيع\"],\"id\":3},\"directions\":false},{\"__typename\":\"City\",\"name\":\"الجبيل\",\"title\":\"فلل للبيع في الجبيل\",\"uri\":\"الجبيل\",\"path\":\"/فلل-للبيع/الجبيل\",\"city_id\":8,\"count\":583,\"category\":{\"__typename\":\"Category\",\"name\":\"فيلا للبيع\",\"plural\":\"فلل للبيع\",\"uri\":\"فلل-للبيع\",\"path\":\"/فلل-للبيع\",\"keywords\":[\"فيلا\",\"دوبلكس\",\"دبلكس\",\"دوبلكسات\",\"فلل\",\"للبيع\"],\"id\":3},\"directions\":false},{\"__typename\":\"City\",\"name\":\"المزاحمية\",\"title\":\"فلل للبيع في المزاحمية\",\"uri\":\"المزاحمية\",\"path\":\"/فلل-للبيع/المزاحمية\",\"city_id\":43,\"count\":527,\"category\":{\"__typename\":\"Category\",\"name\":\"فيلا للبيع\",\"plural\":\"فلل للبيع\",\"uri\":\"فلل-للبيع\",\"path\":\"/فلل-للبيع\",\"keywords\":[\"فيلا\",\"دوبلكس\",\"دبلكس\",\"دوبلكسات\",\"فلل\",\"للبيع\"],\"id\":3},\"directions\":false},{\"__typename\":\"City\",\"name\":\"الظهران\",\"title\":\"فلل للبيع في الظهران\",\"uri\":\"الظهران\",\"path\":\"/فلل-للبيع/الظهران\",\"city_id\":27,\"count\":234,\"category\":{\"__typename\":\"Category\",\"name\":\"فيلا للبيع\",\"plural\":\"فلل للبيع\",\"uri\":\"فلل-للبيع\",\"path\":\"/فلل-للبيع\",\"keywords\":[\"فيلا\",\"دوبلكس\",\"دبلكس\",\"دوبلكسات\",\"فلل\",\"للبيع\"],\"id\":3},\"directions\":false},{\"__typename\":\"City\",\"name\":\"ابو عريش\",\"title\":\"فلل للبيع في ابو عريش\",\"uri\":\"ابو-عريش\",\"path\":\"/فلل-للبيع/ابو-عريش\",\"city_id\":2,\"count\":216,\"category\":{\"__typename\":\"Category\",\"name\":\"فيلا للبيع\",\"plural\":\"فلل للبيع\",\"uri\":\"فلل-للبيع\",\"path\":\"/فلل-للبيع\",\"keywords\":[\"فيلا\",\"دوبلكس\",\"دبلكس\",\"دوبلكسات\",\"فلل\",\"للبيع\"],\"id\":3},\"directions\":false},{\"__typename\":\"City\",\"name\":\"احد رفيده\",\"title\":\"فلل للبيع في احد رفيده\",\"uri\":\"احد-رفيده\",\"path\":\"/فلل-للبيع/احد-رفيده\",\"city_id\":4,\"count\":197,\"category\":{\"__typename\":\"Category\",\"name\":\"فيلا للبيع\",\"plural\":\"فلل للبيع\",\"uri\":\"فلل-للبيع\",\"path\":\"/فلل-للبيع\",\"keywords\":[\"فيلا\",\"دوبلكس\",\"دبلكس\",\"دوبلكسات\",\"فلل\",\"للبيع\"],\"id\":3},\"directions\":false},{\"__typename\":\"City\",\"name\":\"تبوك\",\"title\":\"فلل للبيع في تبوك\",\"uri\":\"تبوك\",\"path\":\"/فلل-للبيع/تبوك\",\"city_id\":59,\"count\":185,\"category\":{\"__typename\":\"Category\",\"name\":\"فيلا للبيع\",\"plural\":\"فلل للبيع\",\"uri\":\"فلل-للبيع\",\"path\":\"/فلل-للبيع\",\"keywords\":[\"فيلا\",\"دوبلكس\",\"دبلكس\",\"دوبلكسات\",\"فلل\",\"للبيع\"],\"id\":3},\"directions\":false},{\"__typename\":\"City\",\"name\":\"حفر الباطن\",\"title\":\"فلل للبيع في حفر الباطن\",\"uri\":\"حفر-الباطن\",\"path\":\"/فلل-للبيع/حفر-الباطن\",\"city_id\":68,\"count\":173,\"category\":{\"__typename\":\"Category\",\"name\":\"فيلا للبيع\",\"plural\":\"فلل للبيع\",\"uri\":\"فلل-للبيع\",\"path\":\"/فلل-للبيع\",\"keywords\":[\"فيلا\",\"دوبلكس\",\"دبلكس\",\"دوبلكسات\",\"فلل\",\"للبيع\"],\"id\":3},\"directions\":false},{\"__typename\":\"City\",\"name\":\"محايل\",\"title\":\"فلل للبيع في محايل\",\"uri\":\"محايل\",\"path\":\"/فلل-للبيع/محايل\",\"city_id\":92,\"count\":153,\"category\":{\"__typename\":\"Category\",\"name\":\"فيلا للبيع\",\"plural\":\"فلل للبيع\",\"uri\":\"فلل-للبيع\",\"path\":\"/فلل-للبيع\",\"keywords\":[\"فيلا\",\"دوبلكس\",\"دبلكس\",\"دوبلكسات\",\"فلل\",\"للبيع\"],\"id\":3},\"directions\":false},{\"__typename\":\"City\",\"name\":\"صفوى\",\"title\":\"فلل للبيع في صفوى\",\"uri\":\"صفوى\",\"path\":\"/فلل-للبيع/صفوى\",\"city_id\":85,\"count\":123,\"category\":{\"__typename\":\"Category\",\"name\":\"فيلا للبيع\",\"plural\":\"فلل للبيع\",\"uri\":\"فلل-للبيع\",\"path\":\"/فلل-للبيع\",\"keywords\":[\"فيلا\",\"دوبلكس\",\"دبلكس\",\"دوبلكسات\",\"فلل\",\"للبيع\"],\"id\":3},\"directions\":false},{\"__typename\":\"City\",\"name\":\"المجمعة\",\"title\":\"فلل للبيع في المجمعة\",\"uri\":\"المجمعة\",\"path\":\"/فلل-للبيع/المجمعة\",\"city_id\":40,\"count\":115,\"category\":{\"__typename\":\"Category\",\"name\":\"فيلا للبيع\",\"plural\":\"فلل للبيع\",\"uri\":\"فلل-للبيع\",\"path\":\"/فلل-للبيع\",\"keywords\":[\"فيلا\",\"دوبلكس\",\"دبلكس\",\"دوبلكسات\",\"فلل\",\"للبيع\"],\"id\":3},\"directions\":false},{\"__typename\":\"City\",\"name\":\"الدوادمي\",\"title\":\"فلل للبيع في الدوادمي\",\"uri\":\"الدوادمي\",\"path\":\"/فلل-للبيع/الدوادمي\",\"city_id\":19,\"count\":95,\"category\":{\"__typename\":\"Category\",\"name\":\"فيلا للبيع\",\"plural\":\"فلل للبيع\",\"uri\":\"فلل-للبيع\",\"path\":\"/فلل-للبيع\",\"keywords\":[\"فيلا\",\"دوبلكس\",\"دبلكس\",\"دوبلكسات\",\"فلل\",\"للبيع\"],\"id\":3},\"directions\":false},{\"__typename\":\"City\",\"name\":\"البكيرية\",\"title\":\"فلل للبيع في البكيرية\",\"uri\":\"البكيرية\",\"path\":\"/فلل-للبيع/البكيرية\",\"city_id\":7,\"count\":76,\"category\":{\"__typename\":\"Category\",\"name\":\"فيلا للبيع\",\"plural\":\"فلل للبيع\",\"uri\":\"فلل-للبيع\",\"path\":\"/فلل-للبيع\",\"keywords\":[\"فيلا\",\"دوبلكس\",\"دبلكس\",\"دوبلكسات\",\"فلل\",\"للبيع\"],\"id\":3},\"directions\":false},{\"__typename\":\"City\",\"name\":\"نجران\",\"title\":\"فلل للبيع في نجران\",\"uri\":\"نجران\",\"path\":\"/فلل-للبيع/نجران\",\"city_id\":96,\"count\":70,\"category\":{\"__typename\":\"Category\",\"name\":\"فيلا للبيع\",\"plural\":\"فلل للبيع\",\"uri\":\"فلل-للبيع\",\"path\":\"/فلل-للبيع\",\"keywords\":[\"فيلا\",\"دوبلكس\",\"دبلكس\",\"دوبلكسات\",\"فلل\",\"للبيع\"],\"id\":3},\"directions\":false},{\"__typename\":\"City\",\"name\":\"البدائع\",\"title\":\"فلل للبيع في البدائع\",\"uri\":\"البدائع\",\"path\":\"/فلل-للبيع/البدائع\",\"city_id\":6,\"count\":69,\"category\":{\"__typename\":\"Category\",\"name\":\"فيلا للبيع\",\"plural\":\"فلل للبيع\",\"uri\":\"فلل-للبيع\",\"path\":\"/فلل-للبيع\",\"keywords\":[\"فيلا\",\"دوبلكس\",\"دبلكس\",\"دوبلكسات\",\"فلل\",\"للبيع\"],\"id\":3},\"directions\":false},{\"__typename\":\"City\",\"name\":\"الدرعية\",\"title\":\"فلل للبيع في الدرعية\",\"uri\":\"الدرعية\",\"path\":\"/فلل-للبيع/الدرعية\",\"city_id\":16,\"count\":68,\"category\":{\"__typename\":\"Category\",\"name\":\"فيلا للبيع\",\"plural\":\"فلل للبيع\",\"uri\":\"فلل-للبيع\",\"path\":\"/فلل-للبيع\",\"keywords\":[\"فيلا\",\"دوبلكس\",\"دبلكس\",\"دوبلكسات\",\"فلل\",\"للبيع\"],\"id\":3},\"directions\":false},{\"__typename\":\"City\",\"name\":\"بيشة\",\"title\":\"فلل للبيع في بيشة\",\"uri\":\"بيشة\",\"path\":\"/فلل-للبيع/بيشة\",\"city_id\":57,\"count\":62,\"category\":{\"__typename\":\"Category\",\"name\":\"فيلا للبيع\",\"plural\":\"فلل للبيع\",\"uri\":\"فلل-للبيع\",\"path\":\"/فلل-للبيع\",\"keywords\":[\"فيلا\",\"دوبلكس\",\"دبلكس\",\"دوبلكسات\",\"فلل\",\"للبيع\"],\"id\":3},\"directions\":false},{\"__typename\":\"City\",\"name\":\"رماح\",\"title\":\"فلل للبيع في رماح\",\"uri\":\"رماح\",\"path\":\"/فلل-للبيع/رماح\",\"city_id\":76,\"count\":60,\"category\":{\"__typename\":\"Category\",\"name\":\"فيلا للبيع\",\"plural\":\"فلل للبيع\",\"uri\":\"فلل-للبيع\",\"path\":\"/فلل-للبيع\",\"keywords\":[\"فيلا\",\"دوبلكس\",\"دبلكس\",\"دوبلكسات\",\"فلل\",\"للبيع\"],\"id\":3},\"directions\":false},{\"__typename\":\"City\",\"name\":\"الرس\",\"title\":\"فلل للبيع في الرس\",\"uri\":\"الرس\",\"path\":\"/فلل-للبيع/الرس\",\"city_id\":20,\"count\":59,\"category\":{\"__typename\":\"Category\",\"name\":\"فيلا للبيع\",\"plural\":\"فلل للبيع\",\"uri\":\"فلل-للبيع\",\"path\":\"/فلل-للبيع\",\"keywords\":[\"فيلا\",\"دوبلكس\",\"دبلكس\",\"دوبلكسات\",\"فلل\",\"للبيع\"],\"id\":3},\"directions\":false},{\"__typename\":\"City\",\"name\":\"رياض الخبراء\",\"title\":\"فلل للبيع في رياض الخبراء\",\"uri\":\"رياض-الخبراء\",\"path\":\"/فلل-للبيع/رياض-الخبراء\",\"city_id\":78,\"count\":55,\"category\":{\"__typename\":\"Category\",\"name\":\"فيلا للبيع\",\"plural\":\"فلل للبيع\",\"uri\":\"فلل-للبيع\",\"path\":\"/فلل-للبيع\",\"keywords\":[\"فيلا\",\"دوبلكس\",\"دبلكس\",\"دوبلكسات\",\"فلل\",\"للبيع\"],\"id\":3},\"directions\":false},{\"__typename\":\"City\",\"name\":\"القطيف\",\"title\":\"فلل للبيع في القطيف\",\"uri\":\"القطيف\",\"path\":\"/فلل-للبيع/القطيف\",\"city_id\":33,\"count\":49,\"category\":{\"__typename\":\"Category\",\"name\":\"فيلا للبيع\",\"plural\":\"فلل للبيع\",\"uri\":\"فلل-للبيع\",\"path\":\"/فلل-للبيع\",\"keywords\":[\"فيلا\",\"دوبلكس\",\"دبلكس\",\"دوبلكسات\",\"فلل\",\"للبيع\"],\"id\":3},\"directions\":false},{\"__typename\":\"City\",\"name\":\"ثادق\",\"title\":\"فلل للبيع في ثادق\",\"uri\":\"ثادق\",\"path\":\"/فلل-للبيع/ثادق\",\"city_id\":63,\"count\":45,\"category\":{\"__typename\":\"Category\",\"name\":\"فيلا للبيع\",\"plural\":\"فلل للبيع\",\"uri\":\"فلل-للبيع\",\"path\":\"/فلل-للبيع\",\"keywords\":[\"فيلا\",\"دوبلكس\",\"دبلكس\",\"دوبلكسات\",\"فلل\",\"للبيع\"],\"id\":3},\"directions\":false},{\"__typename\":\"City\",\"name\":\"الزلفي\",\"title\":\"فلل للبيع في الزلفي\",\"uri\":\"الزلفي\",\"path\":\"/فلل-للبيع/الزلفي\",\"city_id\":22,\"count\":39,\"category\":{\"__typename\":\"Category\",\"name\":\"فيلا للبيع\",\"plural\":\"فلل للبيع\",\"uri\":\"فلل-للبيع\",\"path\":\"/فلل-للبيع\",\"keywords\":[\"فيلا\",\"دوبلكس\",\"دبلكس\",\"دوبلكسات\",\"فلل\",\"للبيع\"],\"id\":3},\"directions\":false},{\"__typename\":\"City\",\"name\":\"صبيا\",\"title\":\"فلل للبيع في صبيا\",\"uri\":\"صبيا\",\"path\":\"/فلل-للبيع/صبيا\",\"city_id\":84,\"count\":34,\"category\":{\"__typename\":\"Category\",\"name\":\"فيلا للبيع\",\"plural\":\"فلل للبيع\",\"uri\":\"فلل-للبيع\",\"path\":\"/فلل-للبيع\",\"keywords\":[\"فيلا\",\"دوبلكس\",\"دبلكس\",\"دوبلكسات\",\"فلل\",\"للبيع\"],\"id\":3},\"directions\":false},{\"__typename\":\"City\",\"name\":\"سيهات\",\"title\":\"فلل للبيع في سيهات\",\"uri\":\"سيهات\",\"path\":\"/فلل-للبيع/سيهات\",\"city_id\":80,\"count\":33,\"category\":{\"__typename\":\"Category\",\"name\":\"فيلا للبيع\",\"plural\":\"فلل للبيع\",\"uri\":\"فلل-للبيع\",\"path\":\"/فلل-للبيع\",\"keywords\":[\"فيلا\",\"دوبلكس\",\"دبلكس\",\"دوبلكسات\",\"فلل\",\"للبيع\"],\"id\":3},\"directions\":false},{\"__typename\":\"City\",\"name\":\"شقراء\",\"title\":\"فلل للبيع في شقراء\",\"uri\":\"شقراء\",\"path\":\"/فلل-للبيع/شقراء\",\"city_id\":82,\"count\":32,\"category\":{\"__typename\":\"Category\",\"name\":\"فيلا للبيع\",\"plural\":\"فلل للبيع\",\"uri\":\"فلل-للبيع\",\"path\":\"/فلل-للبيع\",\"keywords\":[\"فيلا\",\"دوبلكس\",\"دبلكس\",\"دوبلكسات\",\"فلل\",\"للبيع\"],\"id\":3},\"directions\":false},{\"__typename\":\"City\",\"name\":\"مدينة الملك عبدالله الاقتصادية\",\"title\":\"فلل للبيع في مدينة الملك عبدالله الاقتصادية\",\"uri\":\"مدينة-الملك-عبدالله-الاقتصادية\",\"path\":\"/فلل-للبيع/مدينة-الملك-عبدالله-الاقتصادية\",\"city_id\":93,\"count\":27,\"category\":{\"__typename\":\"Category\",\"name\":\"فيلا للبيع\",\"plural\":\"فلل للبيع\",\"uri\":\"فلل-للبيع\",\"path\":\"/فلل-للبيع\",\"keywords\":[\"فيلا\",\"دوبلكس\",\"دبلكس\",\"دوبلكسات\",\"فلل\",\"للبيع\"],\"id\":3},\"directions\":false},{\"__typename\":\"City\",\"name\":\"صامطة\",\"title\":\"فلل للبيع في صامطة\",\"uri\":\"صامطة\",\"path\":\"/فلل-للبيع/صامطة\",\"city_id\":83,\"count\":25,\"category\":{\"__typename\":\"Category\",\"name\":\"فيلا للبيع\",\"plural\":\"فلل للبيع\",\"uri\":\"فلل-للبيع\",\"path\":\"/فلل-للبيع\",\"keywords\":[\"فيلا\",\"دوبلكس\",\"دبلكس\",\"دوبلكسات\",\"فلل\",\"للبيع\"],\"id\":3},\"directions\":false},{\"__typename\":\"City\",\"name\":\"المذنب\",\"title\":\"فلل للبيع في المذنب\",\"uri\":\"المذنب\",\"path\":\"/فلل-للبيع/المذنب\",\"city_id\":42,\"count\":22,\"category\":{\"__typename\":\"Category\",\"name\":\"فيلا للبيع\",\"plural\":\"فلل للبيع\",\"uri\":\"فلل-للبيع\",\"path\":\"/فلل-للبيع\",\"keywords\":[\"فيلا\",\"دوبلكس\",\"دبلكس\",\"دوبلكسات\",\"فلل\",\"للبيع\"],\"id\":3},\"directions\":false},{\"__typename\":\"City\",\"name\":\"الخفجي\",\"title\":\"فلل للبيع في الخفجي\",\"uri\":\"الخفجي\",\"path\":\"/فلل-للبيع/الخفجي\",\"city_id\":15,\"count\":21,\"category\":{\"__typename\":\"Category\",\"name\":\"فيلا للبيع\",\"plural\":\"فلل للبيع\",\"uri\":\"فلل-للبيع\",\"path\":\"/فلل-للبيع\",\"keywords\":[\"فيلا\",\"دوبلكس\",\"دبلكس\",\"دوبلكسات\",\"فلل\",\"للبيع\"],\"id\":3},\"directions\":false},{\"__typename\":\"City\",\"name\":\"تاروت\",\"title\":\"فلل للبيع في تاروت\",\"uri\":\"تاروت\",\"path\":\"/فلل-للبيع/تاروت\",\"city_id\":58,\"count\":20,\"category\":{\"__typename\":\"Category\",\"name\":\"فيلا للبيع\",\"plural\":\"فلل للبيع\",\"uri\":\"فلل-للبيع\",\"path\":\"/فلل-للبيع\",\"keywords\":[\"فيلا\",\"دوبلكس\",\"دبلكس\",\"دوبلكسات\",\"فلل\",\"للبيع\"],\"id\":3},\"directions\":false},{\"__typename\":\"City\",\"name\":\"القويعية\",\"title\":\"فلل للبيع في القويعية\",\"uri\":\"القويعية\",\"path\":\"/فلل-للبيع/القويعية\",\"city_id\":35,\"count\":19,\"category\":{\"__typename\":\"Category\",\"name\":\"فيلا للبيع\",\"plural\":\"فلل للبيع\",\"uri\":\"فلل-للبيع\",\"path\":\"/فلل-للبيع\",\"keywords\":[\"فيلا\",\"دوبلكس\",\"دبلكس\",\"دوبلكسات\",\"فلل\",\"للبيع\"],\"id\":3},\"directions\":false},{\"__typename\":\"City\",\"name\":\"عرعر\",\"title\":\"فلل للبيع في عرعر\",\"uri\":\"عرعر\",\"path\":\"/فلل-للبيع/عرعر\",\"city_id\":88,\"count\":18,\"category\":{\"__typename\":\"Category\",\"name\":\"فيلا للبيع\",\"plural\":\"فلل للبيع\",\"uri\":\"فلل-للبيع\",\"path\":\"/فلل-للبيع\",\"keywords\":[\"فيلا\",\"دوبلكس\",\"دبلكس\",\"دوبلكسات\",\"فلل\",\"للبيع\"],\"id\":3},\"directions\":false},{\"__typename\":\"City\",\"name\":\"الجموم\",\"title\":\"فلل للبيع في الجموم\",\"uri\":\"الجموم\",\"path\":\"/فلل-للبيع/الجموم\",\"city_id\":9,\"count\":16,\"category\":{\"__typename\":\"Category\",\"name\":\"فيلا للبيع\",\"plural\":\"فلل للبيع\",\"uri\":\"فلل-للبيع\",\"path\":\"/فلل-للبيع\",\"keywords\":[\"فيلا\",\"دوبلكس\",\"دبلكس\",\"دوبلكسات\",\"فلل\",\"للبيع\"],\"id\":3},\"directions\":false},{\"__typename\":\"City\",\"name\":\"الدلم\",\"title\":\"فلل للبيع في الدلم\",\"uri\":\"الدلم\",\"path\":\"/فلل-للبيع/الدلم\",\"city_id\":17,\"count\":15,\"category\":{\"__typename\":\"Category\",\"name\":\"فيلا للبيع\",\"plural\":\"فلل للبيع\",\"uri\":\"فلل-للبيع\",\"path\":\"/فلل-للبيع\",\"keywords\":[\"فيلا\",\"دوبلكس\",\"دبلكس\",\"دوبلكسات\",\"فلل\",\"للبيع\"],\"id\":3},\"directions\":false},{\"__typename\":\"City\",\"name\":\"سكاكا\",\"title\":\"فلل للبيع في سكاكا\",\"uri\":\"سكاكا\",\"path\":\"/فلل-للبيع/سكاكا\",\"city_id\":79,\"count\":15,\"category\":{\"__typename\":\"Category\",\"name\":\"فيلا للبيع\",\"plural\":\"فلل للبيع\",\"uri\":\"فلل-للبيع\",\"path\":\"/فلل-للبيع\",\"keywords\":[\"فيلا\",\"دوبلكس\",\"دبلكس\",\"دوبلكسات\",\"فلل\",\"للبيع\"],\"id\":3},\"directions\":false},{\"__typename\":\"City\",\"name\":\"راس تنورة\",\"title\":\"فلل للبيع في راس تنورة\",\"uri\":\"راس-تنورة\",\"path\":\"/فلل-للبيع/راس-تنورة\",\"city_id\":74,\"count\":14,\"category\":{\"__typename\":\"Category\",\"name\":\"فيلا للبيع\",\"plural\":\"فلل للبيع\",\"uri\":\"فلل-للبيع\",\"path\":\"/فلل-للبيع\",\"keywords\":[\"فيلا\",\"دوبلكس\",\"دبلكس\",\"دوبلكسات\",\"فلل\",\"للبيع\"],\"id\":3},\"directions\":false},{\"__typename\":\"City\",\"name\":\"عفيف\",\"title\":\"فلل للبيع في عفيف\",\"uri\":\"عفيف\",\"path\":\"/فلل-للبيع/عفيف\",\"city_id\":89,\"count\":14,\"category\":{\"__typename\":\"Category\",\"name\":\"فيلا للبيع\",\"plural\":\"فلل للبيع\",\"uri\":\"فلل-للبيع\",\"path\":\"/فلل-للبيع\",\"keywords\":[\"فيلا\",\"دوبلكس\",\"دبلكس\",\"دوبلكسات\",\"فلل\",\"للبيع\"],\"id\":3},\"directions\":false},{\"__typename\":\"City\",\"name\":\"احد المسارحة\",\"title\":\"فلل للبيع في احد المسارحة\",\"uri\":\"احد-المسارحة\",\"path\":\"/فلل-للبيع/احد-المسارحة\",\"city_id\":3,\"count\":13,\"category\":{\"__typename\":\"Category\",\"name\":\"فيلا للبيع\",\"plural\":\"فلل للبيع\",\"uri\":\"فلل-للبيع\",\"path\":\"/فلل-للبيع\",\"keywords\":[\"فيلا\",\"دوبلكس\",\"دبلكس\",\"دوبلكسات\",\"فلل\",\"للبيع\"],\"id\":3},\"directions\":false},{\"__typename\":\"City\",\"name\":\"المجاردة\",\"title\":\"فلل للبيع في المجاردة\",\"uri\":\"المجاردة\",\"path\":\"/فلل-للبيع/المجاردة\",\"city_id\":39,\"count\":13,\"category\":{\"__typename\":\"Category\",\"name\":\"فيلا للبيع\",\"plural\":\"فلل للبيع\",\"uri\":\"فلل-للبيع\",\"path\":\"/فلل-للبيع\",\"keywords\":[\"فيلا\",\"دوبلكس\",\"دبلكس\",\"دوبلكسات\",\"فلل\",\"للبيع\"],\"id\":3},\"directions\":false},{\"__typename\":\"City\",\"name\":\"الهياثم\",\"title\":\"فلل للبيع في الهياثم\",\"uri\":\"الهياثم\",\"path\":\"/فلل-للبيع/الهياثم\",\"city_id\":47,\"count\":13,\"category\":{\"__typename\":\"Category\",\"name\":\"فيلا للبيع\",\"plural\":\"فلل للبيع\",\"uri\":\"فلل-للبيع\",\"path\":\"/فلل-للبيع\",\"keywords\":[\"فيلا\",\"دوبلكس\",\"دبلكس\",\"دوبلكسات\",\"فلل\",\"للبيع\"],\"id\":3},\"directions\":false},{\"__typename\":\"City\",\"name\":\"حوطة بني تميم\",\"title\":\"فلل للبيع في حوطة بني تميم\",\"uri\":\"حوطة-بني-تميم\",\"path\":\"/فلل-للبيع/حوطة-بني-تميم\",\"city_id\":69,\"count\":13,\"category\":{\"__typename\":\"Category\",\"name\":\"فيلا للبيع\",\"plural\":\"فلل للبيع\",\"uri\":\"فلل-للبيع\",\"path\":\"/فلل-للبيع\",\"keywords\":[\"فيلا\",\"دوبلكس\",\"دبلكس\",\"دوبلكسات\",\"فلل\",\"للبيع\"],\"id\":3},\"directions\":false},{\"__typename\":\"City\",\"name\":\"رابغ\",\"title\":\"فلل للبيع في رابغ\",\"uri\":\"رابغ\",\"path\":\"/فلل-للبيع/رابغ\",\"city_id\":73,\"count\":13,\"category\":{\"__typename\":\"Category\",\"name\":\"فيلا للبيع\",\"plural\":\"فلل للبيع\",\"uri\":\"فلل-للبيع\",\"path\":\"/فلل-للبيع\",\"keywords\":[\"فيلا\",\"دوبلكس\",\"دبلكس\",\"دوبلكسات\",\"فلل\",\"للبيع\"],\"id\":3},\"directions\":false},{\"__typename\":\"City\",\"name\":\"النعيرية\",\"title\":\"فلل للبيع في النعيرية\",\"uri\":\"النعيرية\",\"path\":\"/فلل-للبيع/النعيرية\",\"city_id\":45,\"count\":12,\"category\":{\"__typename\":\"Category\",\"name\":\"فيلا للبيع\",\"plural\":\"فلل للبيع\",\"uri\":\"فلل-للبيع\",\"path\":\"/فلل-للبيع\",\"keywords\":[\"فيلا\",\"دوبلكس\",\"دبلكس\",\"دوبلكسات\",\"فلل\",\"للبيع\"],\"id\":3},\"directions\":false},{\"__typename\":\"City\",\"name\":\"الغاط\",\"title\":\"فلل للبيع في الغاط\",\"uri\":\"الغاط\",\"path\":\"/فلل-للبيع/الغاط\",\"city_id\":30,\"count\":11,\"category\":{\"__typename\":\"Category\",\"name\":\"فيلا للبيع\",\"plural\":\"فلل للبيع\",\"uri\":\"فلل-للبيع\",\"path\":\"/فلل-للبيع\",\"keywords\":[\"فيلا\",\"دوبلكس\",\"دبلكس\",\"دوبلكسات\",\"فلل\",\"للبيع\"],\"id\":3},\"directions\":false},{\"__typename\":\"City\",\"name\":\"ينبع\",\"title\":\"فلل للبيع في ينبع\",\"uri\":\"ينبع\",\"path\":\"/فلل-للبيع/ينبع\",\"city_id\":97,\"count\":10,\"category\":{\"__typename\":\"Category\",\"name\":\"فيلا للبيع\",\"plural\":\"فلل للبيع\",\"uri\":\"فلل-للبيع\",\"path\":\"/فلل-للبيع\",\"keywords\":[\"فيلا\",\"دوبلكس\",\"دبلكس\",\"دوبلكسات\",\"فلل\",\"للبيع\"],\"id\":3},\"directions\":false},{\"__typename\":\"City\",\"name\":\"القنفذة\",\"title\":\"فلل للبيع في القنفذة\",\"uri\":\"القنفذة\",\"path\":\"/فلل-للبيع/القنفذة\",\"city_id\":34,\"count\":9,\"category\":{\"__typename\":\"Category\",\"name\":\"فيلا للبيع\",\"plural\":\"فلل للبيع\",\"uri\":\"فلل-للبيع\",\"path\":\"/فلل-للبيع\",\"keywords\":[\"فيلا\",\"دوبلكس\",\"دبلكس\",\"دوبلكسات\",\"فلل\",\"للبيع\"],\"id\":3},\"directions\":false},{\"__typename\":\"City\",\"name\":\"بقيق\",\"title\":\"فلل للبيع في بقيق\",\"uri\":\"بقيق\",\"path\":\"/فلل-للبيع/بقيق\",\"city_id\":54,\"count\":9,\"category\":{\"__typename\":\"Category\",\"name\":\"فيلا للبيع\",\"plural\":\"فلل للبيع\",\"uri\":\"فلل-للبيع\",\"path\":\"/فلل-للبيع\",\"keywords\":[\"فيلا\",\"دوبلكس\",\"دبلكس\",\"دوبلكسات\",\"فلل\",\"للبيع\"],\"id\":3},\"directions\":false},{\"__typename\":\"City\",\"name\":\"الباحة\",\"title\":\"فلل للبيع في الباحة\",\"uri\":\"الباحة\",\"path\":\"/فلل-للبيع/الباحة\",\"city_id\":5,\"count\":8,\"category\":{\"__typename\":\"Category\",\"name\":\"فيلا للبيع\",\"plural\":\"فلل للبيع\",\"uri\":\"فلل-للبيع\",\"path\":\"/فلل-للبيع\",\"keywords\":[\"فيلا\",\"دوبلكس\",\"دبلكس\",\"دوبلكسات\",\"فلل\",\"للبيع\"],\"id\":3},\"directions\":false},{\"__typename\":\"City\",\"name\":\"بيش\",\"title\":\"فلل للبيع في بيش\",\"uri\":\"بيش\",\"path\":\"/فلل-للبيع/بيش\",\"city_id\":56,\"count\":8,\"category\":{\"__typename\":\"Category\",\"name\":\"فيلا للبيع\",\"plural\":\"فلل للبيع\",\"uri\":\"فلل-للبيع\",\"path\":\"/فلل-للبيع\",\"keywords\":[\"فيلا\",\"دوبلكس\",\"دبلكس\",\"دوبلكسات\",\"فلل\",\"للبيع\"],\"id\":3},\"directions\":false},{\"__typename\":\"City\",\"name\":\"النبهانية\",\"title\":\"فلل للبيع في النبهانية\",\"uri\":\"النبهانية\",\"path\":\"/فلل-للبيع/النبهانية\",\"city_id\":44,\"count\":6,\"category\":{\"__typename\":\"Category\",\"name\":\"فيلا للبيع\",\"plural\":\"فلل للبيع\",\"uri\":\"فلل-للبيع\",\"path\":\"/فلل-للبيع\",\"keywords\":[\"فيلا\",\"دوبلكس\",\"دبلكس\",\"دوبلكسات\",\"فلل\",\"للبيع\"],\"id\":3},\"directions\":false},{\"__typename\":\"City\",\"name\":\"بدر\",\"title\":\"فلل للبيع في بدر\",\"uri\":\"بدر\",\"path\":\"/فلل-للبيع/بدر\",\"city_id\":51,\"count\":5,\"category\":{\"__typename\":\"Category\",\"name\":\"فيلا للبيع\",\"plural\":\"فلل للبيع\",\"uri\":\"فلل-للبيع\",\"path\":\"/فلل-للبيع\",\"keywords\":[\"فيلا\",\"دوبلكس\",\"دبلكس\",\"دوبلكسات\",\"فلل\",\"للبيع\"],\"id\":3},\"directions\":false},{\"__typename\":\"City\",\"name\":\"بللسمر\",\"title\":\"فلل للبيع في بللسمر\",\"uri\":\"بللسمر\",\"path\":\"/فلل-للبيع/بللسمر\",\"city_id\":55,\"count\":5,\"category\":{\"__typename\":\"Category\",\"name\":\"فيلا للبيع\",\"plural\":\"فلل للبيع\",\"uri\":\"فلل-للبيع\",\"path\":\"/فلل-للبيع\",\"keywords\":[\"فيلا\",\"دوبلكس\",\"دبلكس\",\"دوبلكسات\",\"فلل\",\"للبيع\"],\"id\":3},\"directions\":false},{\"__typename\":\"City\",\"name\":\"السليل\",\"title\":\"فلل للبيع في السليل\",\"uri\":\"السليل\",\"path\":\"/فلل-للبيع/السليل\",\"city_id\":23,\"count\":4,\"category\":{\"__typename\":\"Category\",\"name\":\"فيلا للبيع\",\"plural\":\"فلل للبيع\",\"uri\":\"فلل-للبيع\",\"path\":\"/فلل-للبيع\",\"keywords\":[\"فيلا\",\"دوبلكس\",\"دبلكس\",\"دوبلكسات\",\"فلل\",\"للبيع\"],\"id\":3},\"directions\":false},{\"__typename\":\"City\",\"name\":\"دومة الجندل\",\"title\":\"فلل للبيع في دومة الجندل\",\"uri\":\"دومة-الجندل\",\"path\":\"/فلل-للبيع/دومة-الجندل\",\"city_id\":72,\"count\":4,\"category\":{\"__typename\":\"Category\",\"name\":\"فيلا للبيع\",\"plural\":\"فلل للبيع\",\"uri\":\"فلل-للبيع\",\"path\":\"/فلل-للبيع\",\"keywords\":[\"فيلا\",\"دوبلكس\",\"دبلكس\",\"دوبلكسات\",\"فلل\",\"للبيع\"],\"id\":3},\"directions\":false},{\"__typename\":\"City\",\"name\":\"شرورة\",\"title\":\"فلل للبيع في شرورة\",\"uri\":\"شرورة\",\"path\":\"/فلل-للبيع/شرورة\",\"city_id\":81,\"count\":4,\"category\":{\"__typename\":\"Category\",\"name\":\"فيلا للبيع\",\"plural\":\"فلل للبيع\",\"uri\":\"فلل-للبيع\",\"path\":\"/فلل-للبيع\",\"keywords\":[\"فيلا\",\"دوبلكس\",\"دبلكس\",\"دوبلكسات\",\"فلل\",\"للبيع\"],\"id\":3},\"directions\":false},{\"__typename\":\"City\",\"name\":\"الخرمة\",\"title\":\"فلل للبيع في الخرمة\",\"uri\":\"الخرمة\",\"path\":\"/فلل-للبيع/الخرمة\",\"city_id\":14,\"count\":3,\"category\":{\"__typename\":\"Category\",\"name\":\"فيلا للبيع\",\"plural\":\"فلل للبيع\",\"uri\":\"فلل-للبيع\",\"path\":\"/فلل-للبيع\",\"keywords\":[\"فيلا\",\"دوبلكس\",\"دبلكس\",\"دوبلكسات\",\"فلل\",\"للبيع\"],\"id\":3},\"directions\":false},{\"__typename\":\"City\",\"name\":\"الغزالة\",\"title\":\"فلل للبيع في الغزالة\",\"uri\":\"الغزالة\",\"path\":\"/فلل-للبيع/الغزالة\",\"city_id\":31,\"count\":3,\"category\":{\"__typename\":\"Category\",\"name\":\"فيلا للبيع\",\"plural\":\"فلل للبيع\",\"uri\":\"فلل-للبيع\",\"path\":\"/فلل-للبيع\",\"keywords\":[\"فيلا\",\"دوبلكس\",\"دبلكس\",\"دوبلكسات\",\"فلل\",\"للبيع\"],\"id\":3},\"directions\":false},{\"__typename\":\"City\",\"name\":\"تثليث\",\"title\":\"فلل للبيع في تثليث\",\"uri\":\"تثليث\",\"path\":\"/فلل-للبيع/تثليث\",\"city_id\":60,\"count\":3,\"category\":{\"__typename\":\"Category\",\"name\":\"فيلا للبيع\",\"plural\":\"فلل للبيع\",\"uri\":\"فلل-للبيع\",\"path\":\"/فلل-للبيع\",\"keywords\":[\"فيلا\",\"دوبلكس\",\"دبلكس\",\"دوبلكسات\",\"فلل\",\"للبيع\"],\"id\":3},\"directions\":false},{\"__typename\":\"City\",\"name\":\"تربه\",\"title\":\"فلل للبيع في تربه\",\"uri\":\"تربه\",\"path\":\"/فلل-للبيع/تربه\",\"city_id\":61,\"count\":3,\"category\":{\"__typename\":\"Category\",\"name\":\"فيلا للبيع\",\"plural\":\"فلل للبيع\",\"uri\":\"فلل-للبيع\",\"path\":\"/فلل-للبيع\",\"keywords\":[\"فيلا\",\"دوبلكس\",\"دبلكس\",\"دوبلكسات\",\"فلل\",\"للبيع\"],\"id\":3},\"directions\":false},{\"__typename\":\"City\",\"name\":\"الشنان\",\"title\":\"فلل للبيع في الشنان\",\"uri\":\"الشنان\",\"path\":\"/فلل-للبيع/الشنان\",\"city_id\":25,\"count\":2,\"category\":{\"__typename\":\"Category\",\"name\":\"فيلا للبيع\",\"plural\":\"فلل للبيع\",\"uri\":\"فلل-للبيع\",\"path\":\"/فلل-للبيع\",\"keywords\":[\"فيلا\",\"دوبلكس\",\"دبلكس\",\"دوبلكسات\",\"فلل\",\"للبيع\"],\"id\":3},\"directions\":false},{\"__typename\":\"City\",\"name\":\"العيون\",\"title\":\"فلل للبيع في العيون\",\"uri\":\"العيون\",\"path\":\"/فلل-للبيع/العيون\",\"city_id\":29,\"count\":2,\"category\":{\"__typename\":\"Category\",\"name\":\"فيلا للبيع\",\"plural\":\"فلل للبيع\",\"uri\":\"فلل-للبيع\",\"path\":\"/فلل-للبيع\",\"keywords\":[\"فيلا\",\"دوبلكس\",\"دبلكس\",\"دوبلكسات\",\"فلل\",\"للبيع\"],\"id\":3},\"directions\":false},{\"__typename\":\"City\",\"name\":\"القريات\",\"title\":\"فلل للبيع في القريات\",\"uri\":\"القريات\",\"path\":\"/فلل-للبيع/القريات\",\"city_id\":32,\"count\":2,\"category\":{\"__typename\":\"Category\",\"name\":\"فيلا للبيع\",\"plural\":\"فلل للبيع\",\"uri\":\"فلل-للبيع\",\"path\":\"/فلل-للبيع\",\"keywords\":[\"فيلا\",\"دوبلكس\",\"دبلكس\",\"دوبلكسات\",\"فلل\",\"للبيع\"],\"id\":3},\"directions\":false},{\"__typename\":\"City\",\"name\":\"بقعاء\",\"title\":\"فلل للبيع في بقعاء\",\"uri\":\"بقعاء\",\"path\":\"/فلل-للبيع/بقعاء\",\"city_id\":53,\"count\":2,\"category\":{\"__typename\":\"Category\",\"name\":\"فيلا للبيع\",\"plural\":\"فلل للبيع\",\"uri\":\"فلل-للبيع\",\"path\":\"/فلل-للبيع\",\"keywords\":[\"فيلا\",\"دوبلكس\",\"دبلكس\",\"دوبلكسات\",\"فلل\",\"للبيع\"],\"id\":3},\"directions\":false},{\"__typename\":\"City\",\"name\":\"ثول\",\"title\":\"فلل للبيع في ثول\",\"uri\":\"ثول\",\"path\":\"/فلل-للبيع/ثول\",\"city_id\":64,\"count\":2,\"category\":{\"__typename\":\"Category\",\"name\":\"فيلا للبيع\",\"plural\":\"فلل للبيع\",\"uri\":\"فلل-للبيع\",\"path\":\"/فلل-للبيع\",\"keywords\":[\"فيلا\",\"دوبلكس\",\"دبلكس\",\"دوبلكسات\",\"فلل\",\"للبيع\"],\"id\":3},\"directions\":false},{\"__typename\":\"City\",\"name\":\"رفحاء\",\"title\":\"فلل للبيع في رفحاء\",\"uri\":\"رفحاء\",\"path\":\"/فلل-للبيع/رفحاء\",\"city_id\":75,\"count\":2,\"category\":{\"__typename\":\"Category\",\"name\":\"فيلا للبيع\",\"plural\":\"فلل للبيع\",\"uri\":\"فلل-للبيع\",\"path\":\"/فلل-للبيع\",\"keywords\":[\"فيلا\",\"دوبلكس\",\"دبلكس\",\"دوبلكسات\",\"فلل\",\"للبيع\"],\"id\":3},\"directions\":false},{\"__typename\":\"City\",\"name\":\"ضبا\",\"title\":\"فلل للبيع في ضبا\",\"uri\":\"ضبا\",\"path\":\"/فلل-للبيع/ضبا\",\"city_id\":86,\"count\":2,\"category\":{\"__typename\":\"Category\",\"name\":\"فيلا للبيع\",\"plural\":\"فلل للبيع\",\"uri\":\"فلل-للبيع\",\"path\":\"/فلل-للبيع\",\"keywords\":[\"فيلا\",\"دوبلكس\",\"دبلكس\",\"دوبلكسات\",\"فلل\",\"للبيع\"],\"id\":3},\"directions\":false},{\"__typename\":\"City\",\"name\":\"مهد الذهب\",\"title\":\"فلل للبيع في مهد الذهب\",\"uri\":\"مهد-الذهب\",\"path\":\"/فلل-للبيع/مهد-الذهب\",\"city_id\":95,\"count\":2,\"category\":{\"__typename\":\"Category\",\"name\":\"فيلا للبيع\",\"plural\":\"فلل للبيع\",\"uri\":\"فلل-للبيع\",\"path\":\"/فلل-للبيع\",\"keywords\":[\"فيلا\",\"دوبلكس\",\"دبلكس\",\"دوبلكسات\",\"فلل\",\"للبيع\"],\"id\":3},\"directions\":false},{\"__typename\":\"City\",\"name\":\"الحريق\",\"title\":\"فلل للبيع في الحريق\",\"uri\":\"الحريق\",\"path\":\"/فلل-للبيع/الحريق\",\"city_id\":10,\"count\":1,\"category\":{\"__typename\":\"Category\",\"name\":\"فيلا للبيع\",\"plural\":\"فلل للبيع\",\"uri\":\"فلل-للبيع\",\"path\":\"/فلل-للبيع\",\"keywords\":[\"فيلا\",\"دوبلكس\",\"دبلكس\",\"دوبلكسات\",\"فلل\",\"للبيع\"],\"id\":3},\"directions\":false},{\"__typename\":\"City\",\"name\":\"الشماسية\",\"title\":\"فلل للبيع في الشماسية\",\"uri\":\"الشماسية\",\"path\":\"/فلل-للبيع/الشماسية\",\"city_id\":24,\"count\":1,\"category\":{\"__typename\":\"Category\",\"name\":\"فيلا للبيع\",\"plural\":\"فلل للبيع\",\"uri\":\"فلل-للبيع\",\"path\":\"/فلل-للبيع\",\"keywords\":[\"فيلا\",\"دوبلكس\",\"دبلكس\",\"دوبلكسات\",\"فلل\",\"للبيع\"],\"id\":3},\"directions\":false},{\"__typename\":\"City\",\"name\":\"العلا\",\"title\":\"فلل للبيع في العلا\",\"uri\":\"العلا\",\"path\":\"/فلل-للبيع/العلا\",\"city_id\":28,\"count\":1,\"category\":{\"__typename\":\"Category\",\"name\":\"فيلا للبيع\",\"plural\":\"فلل للبيع\",\"uri\":\"فلل-للبيع\",\"path\":\"/فلل-للبيع\",\"keywords\":[\"فيلا\",\"دوبلكس\",\"دبلكس\",\"دوبلكسات\",\"فلل\",\"للبيع\"],\"id\":3},\"directions\":false},{\"__typename\":\"City\",\"name\":\"المبرز\",\"title\":\"فلل للبيع في المبرز\",\"uri\":\"المبرز\",\"path\":\"/فلل-للبيع/المبرز\",\"city_id\":38,\"count\":1,\"category\":{\"__typename\":\"Category\",\"name\":\"فيلا للبيع\",\"plural\":\"فلل للبيع\",\"uri\":\"فلل-للبيع\",\"path\":\"/فلل-للبيع\",\"keywords\":[\"فيلا\",\"دوبلكس\",\"دبلكس\",\"دوبلكسات\",\"فلل\",\"للبيع\"],\"id\":3},\"directions\":false},{\"__typename\":\"City\",\"name\":\"الوديعة\",\"title\":\"فلل للبيع في الوديعة\",\"uri\":\"الوديعة\",\"path\":\"/فلل-للبيع/الوديعة\",\"city_id\":49,\"count\":1,\"category\":{\"__typename\":\"Category\",\"name\":\"فيلا للبيع\",\"plural\":\"فلل للبيع\",\"uri\":\"فلل-للبيع\",\"path\":\"/فلل-للبيع\",\"keywords\":[\"فيلا\",\"دوبلكس\",\"دبلكس\",\"دوبلكسات\",\"فلل\",\"للبيع\"],\"id\":3},\"directions\":false},{\"__typename\":\"City\",\"name\":\"خيبر\",\"title\":\"فلل للبيع في خيبر\",\"uri\":\"خيبر\",\"path\":\"/فلل-للبيع/خيبر\",\"city_id\":71,\"count\":1,\"category\":{\"__typename\":\"Category\",\"name\":\"فيلا للبيع\",\"plural\":\"فلل للبيع\",\"uri\":\"فلل-للبيع\",\"path\":\"/فلل-للبيع\",\"keywords\":[\"فيلا\",\"دوبلكس\",\"دبلكس\",\"دوبلكسات\",\"فلل\",\"للبيع\"],\"id\":3},\"directions\":false},{\"__typename\":\"City\",\"name\":\"طريف\",\"title\":\"فلل للبيع في طريف\",\"uri\":\"طريف\",\"path\":\"/فلل-للبيع/طريف\",\"city_id\":87,\"count\":1,\"category\":{\"__typename\":\"Category\",\"name\":\"فيلا للبيع\",\"plural\":\"فلل للبيع\",\"uri\":\"فلل-للبيع\",\"path\":\"/فلل-للبيع\",\"keywords\":[\"فيلا\",\"دوبلكس\",\"دبلكس\",\"دوبلكسات\",\"فلل\",\"للبيع\"],\"id\":3},\"directions\":false},{\"__typename\":\"City\",\"name\":\"عنك\",\"title\":\"فلل للبيع في عنك\",\"uri\":\"عنك\",\"path\":\"/فلل-للبيع/عنك\",\"city_id\":90,\"count\":1,\"category\":{\"__typename\":\"Category\",\"name\":\"فيلا للبيع\",\"plural\":\"فلل للبيع\",\"uri\":\"فلل-للبيع\",\"path\":\"/فلل-للبيع\",\"keywords\":[\"فيلا\",\"دوبلكس\",\"دبلكس\",\"دوبلكسات\",\"فلل\",\"للبيع\"],\"id\":3},\"directions\":false}]}},\"specialListing\":[],\"initWhereFilters\":{},\"findError\":null,\"isDailyRentPage\":false,\"__APOLLO_STATE__\":{\"Category:{\\\"uri\\\":\\\"عقارات\\\"}\":{\"__typename\":\"Category\",\"name\":\"غير محدد\",\"plural\":\"عقارات\",\"uri\":\"عقارات\",\"path\":\"/عقارات\",\"keywords\":[\"عقارات\",\"عقار\",\"للبيع\",\"للإيجار\",\"تأجير\",\"أجار\"],\"id\":0},\"Category:{\\\"uri\\\":\\\"شقق-للإيجار\\\"}\":{\"__typename\":\"Category\",\"name\":\"شقة للإيجار\",\"plural\":\"شقق للإيجار\",\"uri\":\"شقق-للإيجار\",\"path\":\"/شقق-للإيجار\",\"keywords\":[\"شقة\",\"شقق\",\"للإيجار\",\"تأجير\",\"أجار\"],\"id\":1},\"Category:{\\\"uri\\\":\\\"أراضي-للبيع\\\"}\":{\"__typename\":\"Category\",\"name\":\"أرض للبيع\",\"plural\":\"أراضي للبيع\",\"uri\":\"أراضي-للبيع\",\"path\":\"/أراضي-للبيع\",\"keywords\":[\"أرض\",\"ارض\",\"اراضي\",\"أراضي\",\"اراضى\",\"اراض\",\"للبيع\"],\"id\":2},\"Category:{\\\"uri\\\":\\\"فلل-للبيع\\\"}\":{\"__typename\":\"Category\",\"name\":\"فيلا للبيع\",\"plural\":\"فلل للبيع\",\"uri\":\"فلل-للبيع\",\"path\":\"/فلل-للبيع\",\"keywords\":[\"فيلا\",\"دوبلكس\",\"دبلكس\",\"دوبلكسات\",\"فلل\",\"للبيع\"],\"id\":3},\"Category:{\\\"uri\\\":\\\"دور-للإيجار\\\"}\":{\"__typename\":\"Category\",\"name\":\"دور للإيجار\",\"plural\":\"دور للإيجار\",\"uri\":\"دور-للإيجار\",\"path\":\"/دور-للإيجار\",\"keywords\":[\"دور\",\"أدوار\",\"للإيجار\",\"تأجير\",\"أجار\"],\"id\":4},\"Category:{\\\"uri\\\":\\\"فلل-للإيجار\\\"}\":{\"__typename\":\"Category\",\"name\":\"فيلا للإيجار\",\"plural\":\"فلل للإيجار\",\"uri\":\"فلل-للإيجار\",\"path\":\"/فلل-للإيجار\",\"keywords\":[\"فيلا\",\"دوبلكس\",\"دبلكس\",\"دوبلكسات\",\"فلل\",\"للإيجار\",\"تأجير\",\"أجار\",\"فلل للإيجار\"],\"id\":5},\"Category:{\\\"uri\\\":\\\"شقق-للبيع\\\"}\":{\"__typename\":\"Category\",\"name\":\"شقة للبيع\",\"plural\":\"شقق للبيع\",\"uri\":\"شقق-للبيع\",\"path\":\"/شقق-للبيع\",\"keywords\":[\"شقة\",\"شقق\",\"للبيع\"],\"id\":6},\"Category:{\\\"uri\\\":\\\"عمائر-للبيع\\\"}\":{\"__typename\":\"Category\",\"name\":\"عمارة للبيع\",\"plural\":\"عمائر للبيع\",\"uri\":\"عمائر-للبيع\",\"path\":\"/عمائر-للبيع\",\"keywords\":[\"عمائر\",\"عمارات\",\"عماير\",\"للبيع\"],\"id\":7},\"Category:{\\\"uri\\\":\\\"محلات-للإيجار\\\"}\":{\"__typename\":\"Category\",\"name\":\"محل للإيجار\",\"plural\":\"محلات للإيجار\",\"uri\":\"محلات-للإيجار\",\"path\":\"/محلات-للإيجار\",\"keywords\":[\"محل\",\"محال\",\"محلات\",\"للإيجار\",\"تأجير\",\"أجار\"],\"id\":8},\"Category:{\\\"uri\\\":\\\"بيت-للبيع\\\"}\":{\"__typename\":\"Category\",\"name\":\"بيت للبيع\",\"plural\":\"بيت للبيع\",\"uri\":\"بيت-للبيع\",\"path\":\"/بيت-للبيع\",\"keywords\":[\"بيت\",\"بيوت\",\"للبيع\"],\"id\":9},\"Category:{\\\"uri\\\":\\\"استراحة-للبيع\\\"}\":{\"__typename\":\"Category\",\"name\":\"استراحة للبيع\",\"plural\":\"استراحة للبيع\",\"uri\":\"استراحة-للبيع\",\"path\":\"/استراحة-للبيع\",\"keywords\":[\"استراحة\",\"استراحات\",\"منتجعات\",\"شاليهات\",\"منتزه\",\"منتزهات\",\"للبيع\"],\"id\":10},\"Category:{\\\"uri\\\":\\\"بيت-للإيجار\\\"}\":{\"__typename\":\"Category\",\"name\":\"بيت للإيجار\",\"plural\":\"بيت للإيجار\",\"uri\":\"بيت-للإيجار\",\"path\":\"/بيت-للإيجار\",\"keywords\":[\"بيت\",\"بيوت\",\"للإيجار\",\"تأجير\",\"أجار\"],\"id\":11},\"Category:{\\\"uri\\\":\\\"مزرعة-للبيع\\\"}\":{\"__typename\":\"Category\",\"name\":\"مزرعة للبيع\",\"plural\":\"مزرعة للبيع\",\"uri\":\"مزرعة-للبيع\",\"path\":\"/مزرعة-للبيع\",\"keywords\":[\"مزرعة\",\"مزارع\",\"للبيع\"],\"id\":12},\"Category:{\\\"uri\\\":\\\"استراحة-للإيجار\\\"}\":{\"__typename\":\"Category\",\"name\":\"استراحة للإيجار\",\"plural\":\"استراحة للإيجار\",\"uri\":\"استراحة-للإيجار\",\"path\":\"/استراحة-للإيجار\",\"keywords\":[\"استراحة\",\"استراحات\",\"منتجعات\",\"شاليهات\",\"منتزه\",\"منتزهات\",\"للإيجار\",\"تأجير\",\"أجار\"],\"id\":13},\"Category:{\\\"uri\\\":\\\"مكتب-تجاري-للإيجار\\\"}\":{\"__typename\":\"Category\",\"name\":\"مكتب تجاري للإيجار\",\"plural\":\"مكتب تجاري للإيجار\",\"uri\":\"مكتب-تجاري-للإيجار\",\"path\":\"/مكتب-تجاري-للإيجار\",\"keywords\":[\"مكتب تجاري\",\"مكاتب تجارية\",\"للإيجار\",\"تأجير\",\"أجار\"],\"id\":14},\"Category:{\\\"uri\\\":\\\"أراضي-للإيجار\\\"}\":{\"__typename\":\"Category\",\"name\":\"أرض للإيجار\",\"plural\":\"أراضي للإيجار\",\"uri\":\"أراضي-للإيجار\",\"path\":\"/أراضي-للإيجار\",\"keywords\":[\"أرض\",\"ارض\",\"اراضي\",\"أراضي\",\"اراضى\",\"اراض\",\"للإيجار\",\"تأجير\",\"أجار\"],\"id\":15},\"Category:{\\\"uri\\\":\\\"عمائر-للإيجار\\\"}\":{\"__typename\":\"Category\",\"name\":\"عمارة للإيجار\",\"plural\":\"عمائر للإيجار\",\"uri\":\"عمائر-للإيجار\",\"path\":\"/عمائر-للإيجار\",\"keywords\":[\"عمائر\",\"عمارات\",\"عماير\",\"للإيجار\",\"تأجير\",\"أجار\"],\"id\":16},\"Category:{\\\"uri\\\":\\\"مستودع-للإيجار\\\"}\":{\"__typename\":\"Category\",\"name\":\"مستودع للإيجار\",\"plural\":\"مستودع للإيجار\",\"uri\":\"مستودع-للإيجار\",\"path\":\"/مستودع-للإيجار\",\"keywords\":[\"مستودع\",\"مستودعات\",\"للإيجار\",\"تأجير\",\"أجار\"],\"id\":17},\"Category:{\\\"uri\\\":\\\"مخيم-للإيجار\\\"}\":{\"__typename\":\"Category\",\"name\":\"مخيم للإيجار\",\"plural\":\"مخيم للإيجار\",\"uri\":\"مخيم-للإيجار\",\"path\":\"/مخيم-للإيجار\",\"keywords\":[\"مخيم\",\"مخيمات\",\"للإيجار\",\"تأجير\",\"أجار\"],\"id\":18},\"Category:{\\\"uri\\\":\\\"غرف-للإيجار\\\"}\":{\"__typename\":\"Category\",\"name\":\"غرفة للإيجار\",\"plural\":\"غرف للإيجار\",\"uri\":\"غرف-للإيجار\",\"path\":\"/غرف-للإيجار\",\"keywords\":[\"غرفة\",\"غرف\",\"للإيجار\",\"تأجير\",\"أجار\"],\"id\":19},\"Category:{\\\"uri\\\":\\\"محلات-للبيع\\\"}\":{\"__typename\":\"Category\",\"name\":\"محل للبيع\",\"plural\":\"محلات للبيع\",\"uri\":\"محلات-للبيع\",\"path\":\"/محلات-للبيع\",\"keywords\":[\"محل\",\"محال\",\"محلات\",\"للبيع\"],\"id\":20},\"Category:{\\\"uri\\\":\\\"شقة-مفروشة\\\"}\":{\"__typename\":\"Category\",\"name\":\"شقة مفروشة\",\"plural\":\"شقة مفروشة\",\"uri\":\"شقة-مفروشة\",\"path\":\"/شقة-مفروشة\",\"keywords\":null,\"id\":21},\"Category:{\\\"uri\\\":\\\"دور-للبيع\\\"}\":{\"__typename\":\"Category\",\"name\":\"دور للبيع\",\"plural\":\"دور للبيع\",\"uri\":\"دور-للبيع\",\"path\":\"/دور-للبيع\",\"keywords\":null,\"id\":22},\"Category:{\\\"uri\\\":\\\"شاليه-للإيجار\\\"}\":{\"__typename\":\"Category\",\"name\":\"شاليه للإيجار\",\"plural\":\"شاليه للإيجار\",\"uri\":\"شاليه-للإيجار\",\"path\":\"/شاليه-للإيجار\",\"keywords\":null,\"id\":23},\"ROOT_QUERY\":{\"__typename\":\"Query\",\"Web\":{\"__typename\":\"WebQryOps\",\"categories({\\\"lang\\\":\\\"ar\\\"})\":[{\"__ref\":\"Category:{\\\"uri\\\":\\\"عقارات\\\"}\"},{\"__ref\":\"Category:{\\\"uri\\\":\\\"شقق-للإيجار\\\"}\"},{\"__ref\":\"Category:{\\\"uri\\\":\\\"أراضي-للبيع\\\"}\"},{\"__ref\":\"Category:{\\\"uri\\\":\\\"فلل-للبيع\\\"}\"},{\"__ref\":\"Category:{\\\"uri\\\":\\\"دور-للإيجار\\\"}\"},{\"__ref\":\"Category:{\\\"uri\\\":\\\"فلل-للإيجار\\\"}\"},{\"__ref\":\"Category:{\\\"uri\\\":\\\"شقق-للبيع\\\"}\"},{\"__ref\":\"Category:{\\\"uri\\\":\\\"عمائر-للبيع\\\"}\"},{\"__ref\":\"Category:{\\\"uri\\\":\\\"محلات-للإيجار\\\"}\"},{\"__ref\":\"Category:{\\\"uri\\\":\\\"بيت-للبيع\\\"}\"},{\"__ref\":\"Category:{\\\"uri\\\":\\\"استراحة-للبيع\\\"}\"},{\"__ref\":\"Category:{\\\"uri\\\":\\\"بيت-للإيجار\\\"}\"},{\"__ref\":\"Category:{\\\"uri\\\":\\\"مزرعة-للبيع\\\"}\"},{\"__ref\":\"Category:{\\\"uri\\\":\\\"استراحة-للإيجار\\\"}\"},{\"__ref\":\"Category:{\\\"uri\\\":\\\"مكتب-تجاري-للإيجار\\\"}\"},{\"__ref\":\"Category:{\\\"uri\\\":\\\"أراضي-للإيجار\\\"}\"},{\"__ref\":\"Category:{\\\"uri\\\":\\\"عمائر-للإيجار\\\"}\"},{\"__ref\":\"Category:{\\\"uri\\\":\\\"مستودع-للإيجار\\\"}\"},{\"__ref\":\"Category:{\\\"uri\\\":\\\"مخيم-للإيجار\\\"}\"},{\"__ref\":\"Category:{\\\"uri\\\":\\\"غرف-للإيجار\\\"}\"},{\"__ref\":\"Category:{\\\"uri\\\":\\\"محلات-للبيع\\\"}\"},{\"__ref\":\"Category:{\\\"uri\\\":\\\"شقة-مفروشة\\\"}\"},{\"__ref\":\"Category:{\\\"uri\\\":\\\"دور-للبيع\\\"}\"},{\"__ref\":\"Category:{\\\"uri\\\":\\\"شاليه-للإيجار\\\"}\"}],\"cities({\\\"category\\\":3})\":[{\"__ref\":\"City:{\\\"city_id\\\":21}\"},{\"__ref\":\"City:{\\\"city_id\\\":66}\"},{\"__ref\":\"City:{\\\"city_id\\\":18}\"},{\"__ref\":\"City:{\\\"city_id\\\":12}\"},{\"__ref\":\"City:{\\\"city_id\\\":94}\"},{\"__ref\":\"City:{\\\"city_id\\\":70}\"},{\"__ref\":\"City:{\\\"city_id\\\":52}\"},{\"__ref\":\"City:{\\\"city_id\\\":41}\"},{\"__ref\":\"City:{\\\"city_id\\\":46}\"},{\"__ref\":\"City:{\\\"city_id\\\":67}\"},{\"__ref\":\"City:{\\\"city_id\\\":26}\"},{\"__ref\":\"City:{\\\"city_id\\\":1}\"},{\"__ref\":\"City:{\\\"city_id\\\":91}\"},{\"__ref\":\"City:{\\\"city_id\\\":65}\"},{\"__ref\":\"City:{\\\"city_id\\\":13}\"},{\"__ref\":\"City:{\\\"city_id\\\":8}\"},{\"__ref\":\"City:{\\\"city_id\\\":43}\"},{\"__ref\":\"City:{\\\"city_id\\\":27}\"},{\"__ref\":\"City:{\\\"city_id\\\":2}\"},{\"__ref\":\"City:{\\\"city_id\\\":4}\"},{\"__ref\":\"City:{\\\"city_id\\\":59}\"},{\"__ref\":\"City:{\\\"city_id\\\":68}\"},{\"__ref\":\"City:{\\\"city_id\\\":92}\"},{\"__ref\":\"City:{\\\"city_id\\\":85}\"},{\"__ref\":\"City:{\\\"city_id\\\":40}\"},{\"__ref\":\"City:{\\\"city_id\\\":19}\"},{\"__ref\":\"City:{\\\"city_id\\\":7}\"},{\"__ref\":\"City:{\\\"city_id\\\":96}\"},{\"__ref\":\"City:{\\\"city_id\\\":6}\"},{\"__ref\":\"City:{\\\"city_id\\\":16}\"},{\"__ref\":\"City:{\\\"city_id\\\":57}\"},{\"__ref\":\"City:{\\\"city_id\\\":76}\"},{\"__ref\":\"City:{\\\"city_id\\\":20}\"},{\"__ref\":\"City:{\\\"city_id\\\":78}\"},{\"__ref\":\"City:{\\\"city_id\\\":33}\"},{\"__ref\":\"City:{\\\"city_id\\\":63}\"},{\"__ref\":\"City:{\\\"city_id\\\":22}\"},{\"__ref\":\"City:{\\\"city_id\\\":84}\"},{\"__ref\":\"City:{\\\"city_id\\\":80}\"},{\"__ref\":\"City:{\\\"city_id\\\":82}\"},{\"__ref\":\"City:{\\\"city_id\\\":93}\"},{\"__ref\":\"City:{\\\"city_id\\\":83}\"},{\"__ref\":\"City:{\\\"city_id\\\":42}\"},{\"__ref\":\"City:{\\\"city_id\\\":15}\"},{\"__ref\":\"City:{\\\"city_id\\\":58}\"},{\"__ref\":\"City:{\\\"city_id\\\":35}\"},{\"__ref\":\"City:{\\\"city_id\\\":88}\"},{\"__ref\":\"City:{\\\"city_id\\\":9}\"},{\"__ref\":\"City:{\\\"city_id\\\":17}\"},{\"__ref\":\"City:{\\\"city_id\\\":79}\"},{\"__ref\":\"City:{\\\"city_id\\\":74}\"},{\"__ref\":\"City:{\\\"city_id\\\":89}\"},{\"__ref\":\"City:{\\\"city_id\\\":3}\"},{\"__ref\":\"City:{\\\"city_id\\\":39}\"},{\"__ref\":\"City:{\\\"city_id\\\":47}\"},{\"__ref\":\"City:{\\\"city_id\\\":69}\"},{\"__ref\":\"City:{\\\"city_id\\\":73}\"},{\"__ref\":\"City:{\\\"city_id\\\":45}\"},{\"__ref\":\"City:{\\\"city_id\\\":30}\"},{\"__ref\":\"City:{\\\"city_id\\\":97}\"},{\"__ref\":\"City:{\\\"city_id\\\":34}\"},{\"__ref\":\"City:{\\\"city_id\\\":54}\"},{\"__ref\":\"City:{\\\"city_id\\\":5}\"},{\"__ref\":\"City:{\\\"city_id\\\":56}\"},{\"__ref\":\"City:{\\\"city_id\\\":44}\"},{\"__ref\":\"City:{\\\"city_id\\\":51}\"},{\"__ref\":\"City:{\\\"city_id\\\":55}\"},{\"__ref\":\"City:{\\\"city_id\\\":23}\"},{\"__ref\":\"City:{\\\"city_id\\\":72}\"},{\"__ref\":\"City:{\\\"city_id\\\":81}\"},{\"__ref\":\"City:{\\\"city_id\\\":14}\"},{\"__ref\":\"City:{\\\"city_id\\\":31}\"},{\"__ref\":\"City:{\\\"city_id\\\":60}\"},{\"__ref\":\"City:{\\\"city_id\\\":61}\"},{\"__ref\":\"City:{\\\"city_id\\\":25}\"},{\"__ref\":\"City:{\\\"city_id\\\":29}\"},{\"__ref\":\"City:{\\\"city_id\\\":32}\"},{\"__ref\":\"City:{\\\"city_id\\\":53}\"},{\"__ref\":\"City:{\\\"city_id\\\":64}\"},{\"__ref\":\"City:{\\\"city_id\\\":75}\"},{\"__ref\":\"City:{\\\"city_id\\\":86}\"},{\"__ref\":\"City:{\\\"city_id\\\":95}\"},{\"__ref\":\"City:{\\\"city_id\\\":10}\"},{\"__ref\":\"City:{\\\"city_id\\\":24}\"},{\"__ref\":\"City:{\\\"city_id\\\":28}\"},{\"__ref\":\"City:{\\\"city_id\\\":38}\"},{\"__ref\":\"City:{\\\"city_id\\\":49}\"},{\"__ref\":\"City:{\\\"city_id\\\":71}\"},{\"__ref\":\"City:{\\\"city_id\\\":87}\"},{\"__ref\":\"City:{\\\"city_id\\\":90}\"}],\"find({\\\"from\\\":0,\\\"size\\\":20,\\\"sort\\\":{\\\"create_time\\\":\\\"desc\\\",\\\"has_img\\\":\\\"desc\\\"},\\\"where\\\":{\\\"category\\\":{\\\"eq\\\":3}}})\":{\"__typename\":\"WebResults\",\"listings\":[{\"__ref\":\"ElasticWebListing:5029203\"},{\"__ref\":\"ElasticWebListing:5218887\"},{\"__ref\":\"ElasticWebListing:5202088\"},{\"__ref\":\"ElasticWebListing:5207117\"},{\"__ref\":\"ElasticWebListing:4965279\"},{\"__ref\":\"ElasticWebListing:5336468\"},{\"__ref\":\"ElasticWebListing:5091426\"},{\"__ref\":\"ElasticWebListing:4982726\"},{\"__ref\":\"ElasticWebListing:5182975\"},{\"__ref\":\"ElasticWebListing:5170074\"},{\"__ref\":\"ElasticWebListing:4942945\"},{\"__ref\":\"ElasticWebListing:4860115\"},{\"__ref\":\"ElasticWebListing:5055622\"},{\"__ref\":\"ElasticWebListing:5341025\"},{\"__ref\":\"ElasticWebListing:5166058\"},{\"__ref\":\"ElasticWebListing:5138800\"},{\"__ref\":\"ElasticWebListing:4911164\"},{\"__ref\":\"ElasticWebListing:4571813\"},{\"__ref\":\"ElasticWebListing:5071400\"},{\"__ref\":\"ElasticWebListing:5361418\"}],\"total\":101937}}},\"City:{\\\"city_id\\\":21}\":{\"__typename\":\"City\",\"name\":\"الرياض\",\"title\":\"فلل للبيع في الرياض\",\"uri\":\"الرياض\",\"path\":\"/فلل-للبيع/الرياض\",\"city_id\":21,\"count\":63466,\"category\":{\"__ref\":\"Category:{\\\"uri\\\":\\\"فلل-للبيع\\\"}\"},\"directions\":true},\"City:{\\\"city_id\\\":66}\":{\"__typename\":\"City\",\"name\":\"جدة\",\"title\":\"فلل للبيع في جدة\",\"uri\":\"جدة\",\"path\":\"/فلل-للبيع/جدة\",\"city_id\":66,\"count\":11777,\"category\":{\"__ref\":\"Category:{\\\"uri\\\":\\\"فلل-للبيع\\\"}\"},\"directions\":true},\"City:{\\\"city_id\\\":18}\":{\"__typename\":\"City\",\"name\":\"الدمام\",\"title\":\"فلل للبيع في الدمام\",\"uri\":\"الدمام\",\"path\":\"/فلل-للبيع/الدمام\",\"city_id\":18,\"count\":5351,\"category\":{\"__ref\":\"Category:{\\\"uri\\\":\\\"فلل-للبيع\\\"}\"},\"directions\":false},\"City:{\\\"city_id\\\":12}\":{\"__typename\":\"City\",\"name\":\"الخبر\",\"title\":\"فلل للبيع في الخبر\",\"uri\":\"الخبر\",\"path\":\"/فلل-للبيع/الخبر\",\"city_id\":12,\"count\":4568,\"category\":{\"__ref\":\"Category:{\\\"uri\\\":\\\"فلل-للبيع\\\"}\"},\"directions\":false},\"City:{\\\"city_id\\\":94}\":{\"__typename\":\"City\",\"name\":\"مكة المكرمة\",\"title\":\"فلل للبيع في مكة المكرمة\",\"uri\":\"مكة-المكرمة\",\"path\":\"/فلل-للبيع/مكة-المكرمة\",\"city_id\":94,\"count\":1975,\"category\":{\"__ref\":\"Category:{\\\"uri\\\":\\\"فلل-للبيع\\\"}\"},\"directions\":false},\"City:{\\\"city_id\\\":70}\":{\"__typename\":\"City\",\"name\":\"خميس مشيط\",\"title\":\"فلل للبيع في خميس مشيط\",\"uri\":\"خميس-مشيط\",\"path\":\"/فلل-للبيع/خميس-مشيط\",\"city_id\":70,\"count\":1756,\"category\":{\"__ref\":\"Category:{\\\"uri\\\":\\\"فلل-للبيع\\\"}\"},\"directions\":false},\"City:{\\\"city_id\\\":52}\":{\"__typename\":\"City\",\"name\":\"بريدة\",\"title\":\"فلل للبيع في بريدة\",\"uri\":\"بريدة\",\"path\":\"/فلل-للبيع/بريدة\",\"city_id\":52,\"count\":1508,\"category\":{\"__ref\":\"Category:{\\\"uri\\\":\\\"فلل-للبيع\\\"}\"},\"directions\":false},\"City:{\\\"city_id\\\":41}\":{\"__typename\":\"City\",\"name\":\"المدينة المنورة\",\"title\":\"فلل للبيع في المدينة المنورة\",\"uri\":\"المدينة-المنورة\",\"path\":\"/فلل-للبيع/المدينة-المنورة\",\"city_id\":41,\"count\":1418,\"category\":{\"__ref\":\"Category:{\\\"uri\\\":\\\"فلل-للبيع\\\"}\"},\"directions\":false},\"City:{\\\"city_id\\\":46}\":{\"__typename\":\"City\",\"name\":\"الهفوف\",\"title\":\"فلل للبيع في الهفوف\",\"uri\":\"الهفوف\",\"path\":\"/فلل-للبيع/الهفوف\",\"city_id\":46,\"count\":1133,\"category\":{\"__ref\":\"Category:{\\\"uri\\\":\\\"فلل-للبيع\\\"}\"},\"directions\":false},\"City:{\\\"city_id\\\":67}\":{\"__typename\":\"City\",\"name\":\"حائل\",\"title\":\"فلل للبيع في حائل\",\"uri\":\"حائل\",\"path\":\"/فلل-للبيع/حائل\",\"city_id\":67,\"count\":1048,\"category\":{\"__ref\":\"Category:{\\\"uri\\\":\\\"فلل-للبيع\\\"}\"},\"directions\":false},\"City:{\\\"city_id\\\":26}\":{\"__typename\":\"City\",\"name\":\"الطائف\",\"title\":\"فلل للبيع في الطائف\",\"uri\":\"الطائف\",\"path\":\"/فلل-للبيع/الطائف\",\"city_id\":26,\"count\":1021,\"category\":{\"__ref\":\"Category:{\\\"uri\\\":\\\"فلل-للبيع\\\"}\"},\"directions\":false},\"City:{\\\"city_id\\\":1}\":{\"__typename\":\"City\",\"name\":\"ابها\",\"title\":\"فلل للبيع في ابها\",\"uri\":\"ابها\",\"path\":\"/فلل-للبيع/ابها\",\"city_id\":1,\"count\":982,\"category\":{\"__ref\":\"Category:{\\\"uri\\\":\\\"فلل-للبيع\\\"}\"},\"directions\":false},\"City:{\\\"city_id\\\":91}\":{\"__typename\":\"City\",\"name\":\"عنيزة\",\"title\":\"فلل للبيع في عنيزة\",\"uri\":\"عنيزة\",\"path\":\"/فلل-للبيع/عنيزة\",\"city_id\":91,\"count\":848,\"category\":{\"__ref\":\"Category:{\\\"uri\\\":\\\"فلل-للبيع\\\"}\"},\"directions\":false},\"City:{\\\"city_id\\\":65}\":{\"__typename\":\"City\",\"name\":\"جازان\",\"title\":\"فلل للبيع في جازان\",\"uri\":\"جازان\",\"path\":\"/فلل-للبيع/جازان\",\"city_id\":65,\"count\":739,\"category\":{\"__ref\":\"Category:{\\\"uri\\\":\\\"فلل-للبيع\\\"}\"},\"directions\":false},\"City:{\\\"city_id\\\":13}\":{\"__typename\":\"City\",\"name\":\"الخرج\",\"title\":\"فلل للبيع في الخرج\",\"uri\":\"الخرج\",\"path\":\"/فلل-للبيع/الخرج\",\"city_id\":13,\"count\":616,\"category\":{\"__ref\":\"Category:{\\\"uri\\\":\\\"فلل-للبيع\\\"}\"},\"directions\":false},\"City:{\\\"city_id\\\":8}\":{\"__typename\":\"City\",\"name\":\"الجبيل\",\"title\":\"فلل للبيع في الجبيل\",\"uri\":\"الجبيل\",\"path\":\"/فلل-للبيع/الجبيل\",\"city_id\":8,\"count\":583,\"category\":{\"__ref\":\"Category:{\\\"uri\\\":\\\"فلل-للبيع\\\"}\"},\"directions\":false},\"City:{\\\"city_id\\\":43}\":{\"__typename\":\"City\",\"name\":\"المزاحمية\",\"title\":\"فلل للبيع في المزاحمية\",\"uri\":\"المزاحمية\",\"path\":\"/فلل-للبيع/المزاحمية\",\"city_id\":43,\"count\":527,\"category\":{\"__ref\":\"Category:{\\\"uri\\\":\\\"فلل-للبيع\\\"}\"},\"directions\":false},\"City:{\\\"city_id\\\":27}\":{\"__typename\":\"City\",\"name\":\"الظهران\",\"title\":\"فلل للبيع في الظهران\",\"uri\":\"الظهران\",\"path\":\"/فلل-للبيع/الظهران\",\"city_id\":27,\"count\":234,\"category\":{\"__ref\":\"Category:{\\\"uri\\\":\\\"فلل-للبيع\\\"}\"},\"directions\":false},\"City:{\\\"city_id\\\":2}\":{\"__typename\":\"City\",\"name\":\"ابو عريش\",\"title\":\"فلل للبيع في ابو عريش\",\"uri\":\"ابو-عريش\",\"path\":\"/فلل-للبيع/ابو-عريش\",\"city_id\":2,\"count\":216,\"category\":{\"__ref\":\"Category:{\\\"uri\\\":\\\"فلل-للبيع\\\"}\"},\"directions\":false},\"City:{\\\"city_id\\\":4}\":{\"__typename\":\"City\",\"name\":\"احد رفيده\",\"title\":\"فلل للبيع في احد رفيده\",\"uri\":\"احد-رفيده\",\"path\":\"/فلل-للبيع/احد-رفيده\",\"city_id\":4,\"count\":197,\"category\":{\"__ref\":\"Category:{\\\"uri\\\":\\\"فلل-للبيع\\\"}\"},\"directions\":false},\"City:{\\\"city_id\\\":59}\":{\"__typename\":\"City\",\"name\":\"تبوك\",\"title\":\"فلل للبيع في تبوك\",\"uri\":\"تبوك\",\"path\":\"/فلل-للبيع/تبوك\",\"city_id\":59,\"count\":185,\"category\":{\"__ref\":\"Category:{\\\"uri\\\":\\\"فلل-للبيع\\\"}\"},\"directions\":false},\"City:{\\\"city_id\\\":68}\":{\"__typename\":\"City\",\"name\":\"حفر الباطن\",\"title\":\"فلل للبيع في حفر الباطن\",\"uri\":\"حفر-الباطن\",\"path\":\"/فلل-للبيع/حفر-الباطن\",\"city_id\":68,\"count\":173,\"category\":{\"__ref\":\"Category:{\\\"uri\\\":\\\"فلل-للبيع\\\"}\"},\"directions\":false},\"City:{\\\"city_id\\\":92}\":{\"__typename\":\"City\",\"name\":\"محايل\",\"title\":\"فلل للبيع في محايل\",\"uri\":\"محايل\",\"path\":\"/فلل-للبيع/محايل\",\"city_id\":92,\"count\":153,\"category\":{\"__ref\":\"Category:{\\\"uri\\\":\\\"فلل-للبيع\\\"}\"},\"directions\":false},\"City:{\\\"city_id\\\":85}\":{\"__typename\":\"City\",\"name\":\"صفوى\",\"title\":\"فلل للبيع في صفوى\",\"uri\":\"صفوى\",\"path\":\"/فلل-للبيع/صفوى\",\"city_id\":85,\"count\":123,\"category\":{\"__ref\":\"Category:{\\\"uri\\\":\\\"فلل-للبيع\\\"}\"},\"directions\":false},\"City:{\\\"city_id\\\":40}\":{\"__typename\":\"City\",\"name\":\"المجمعة\",\"title\":\"فلل للبيع في المجمعة\",\"uri\":\"المجمعة\",\"path\":\"/فلل-للبيع/المجمعة\",\"city_id\":40,\"count\":115,\"category\":{\"__ref\":\"Category:{\\\"uri\\\":\\\"فلل-للبيع\\\"}\"},\"directions\":false},\"City:{\\\"city_id\\\":19}\":{\"__typename\":\"City\",\"name\":\"الدوادمي\",\"title\":\"فلل للبيع في الدوادمي\",\"uri\":\"الدوادمي\",\"path\":\"/فلل-للبيع/الدوادمي\",\"city_id\":19,\"count\":95,\"category\":{\"__ref\":\"Category:{\\\"uri\\\":\\\"فلل-للبيع\\\"}\"},\"directions\":false},\"City:{\\\"city_id\\\":7}\":{\"__typename\":\"City\",\"name\":\"البكيرية\",\"title\":\"فلل للبيع في البكيرية\",\"uri\":\"البكيرية\",\"path\":\"/فلل-للبيع/البكيرية\",\"city_id\":7,\"count\":76,\"category\":{\"__ref\":\"Category:{\\\"uri\\\":\\\"فلل-للبيع\\\"}\"},\"directions\":false},\"City:{\\\"city_id\\\":96}\":{\"__typename\":\"City\",\"name\":\"نجران\",\"title\":\"فلل للبيع في نجران\",\"uri\":\"نجران\",\"path\":\"/فلل-للبيع/نجران\",\"city_id\":96,\"count\":70,\"category\":{\"__ref\":\"Category:{\\\"uri\\\":\\\"فلل-للبيع\\\"}\"},\"directions\":false},\"City:{\\\"city_id\\\":6}\":{\"__typename\":\"City\",\"name\":\"البدائع\",\"title\":\"فلل للبيع في البدائع\",\"uri\":\"البدائع\",\"path\":\"/فلل-للبيع/البدائع\",\"city_id\":6,\"count\":69,\"category\":{\"__ref\":\"Category:{\\\"uri\\\":\\\"فلل-للبيع\\\"}\"},\"directions\":false},\"City:{\\\"city_id\\\":16}\":{\"__typename\":\"City\",\"name\":\"الدرعية\",\"title\":\"فلل للبيع في الدرعية\",\"uri\":\"الدرعية\",\"path\":\"/فلل-للبيع/الدرعية\",\"city_id\":16,\"count\":68,\"category\":{\"__ref\":\"Category:{\\\"uri\\\":\\\"فلل-للبيع\\\"}\"},\"directions\":false},\"City:{\\\"city_id\\\":57}\":{\"__typename\":\"City\",\"name\":\"بيشة\",\"title\":\"فلل للبيع في بيشة\",\"uri\":\"بيشة\",\"path\":\"/فلل-للبيع/بيشة\",\"city_id\":57,\"count\":62,\"category\":{\"__ref\":\"Category:{\\\"uri\\\":\\\"فلل-للبيع\\\"}\"},\"directions\":false},\"City:{\\\"city_id\\\":76}\":{\"__typename\":\"City\",\"name\":\"رماح\",\"title\":\"فلل للبيع في رماح\",\"uri\":\"رماح\",\"path\":\"/فلل-للبيع/رماح\",\"city_id\":76,\"count\":60,\"category\":{\"__ref\":\"Category:{\\\"uri\\\":\\\"فلل-للبيع\\\"}\"},\"directions\":false},\"City:{\\\"city_id\\\":20}\":{\"__typename\":\"City\",\"name\":\"الرس\",\"title\":\"فلل للبيع في الرس\",\"uri\":\"الرس\",\"path\":\"/فلل-للبيع/الرس\",\"city_id\":20,\"count\":59,\"category\":{\"__ref\":\"Category:{\\\"uri\\\":\\\"فلل-للبيع\\\"}\"},\"directions\":false},\"City:{\\\"city_id\\\":78}\":{\"__typename\":\"City\",\"name\":\"رياض الخبراء\",\"title\":\"فلل للبيع في رياض الخبراء\",\"uri\":\"رياض-الخبراء\",\"path\":\"/فلل-للبيع/رياض-الخبراء\",\"city_id\":78,\"count\":55,\"category\":{\"__ref\":\"Category:{\\\"uri\\\":\\\"فلل-للبيع\\\"}\"},\"directions\":false},\"City:{\\\"city_id\\\":33}\":{\"__typename\":\"City\",\"name\":\"القطيف\",\"title\":\"فلل للبيع في القطيف\",\"uri\":\"القطيف\",\"path\":\"/فلل-للبيع/القطيف\",\"city_id\":33,\"count\":49,\"category\":{\"__ref\":\"Category:{\\\"uri\\\":\\\"فلل-للبيع\\\"}\"},\"directions\":false},\"City:{\\\"city_id\\\":63}\":{\"__typename\":\"City\",\"name\":\"ثادق\",\"title\":\"فلل للبيع في ثادق\",\"uri\":\"ثادق\",\"path\":\"/فلل-للبيع/ثادق\",\"city_id\":63,\"count\":45,\"category\":{\"__ref\":\"Category:{\\\"uri\\\":\\\"فلل-للبيع\\\"}\"},\"directions\":false},\"City:{\\\"city_id\\\":22}\":{\"__typename\":\"City\",\"name\":\"الزلفي\",\"title\":\"فلل للبيع في الزلفي\",\"uri\":\"الزلفي\",\"path\":\"/فلل-للبيع/الزلفي\",\"city_id\":22,\"count\":39,\"category\":{\"__ref\":\"Category:{\\\"uri\\\":\\\"فلل-للبيع\\\"}\"},\"directions\":false},\"City:{\\\"city_id\\\":84}\":{\"__typename\":\"City\",\"name\":\"صبيا\",\"title\":\"فلل للبيع في صبيا\",\"uri\":\"صبيا\",\"path\":\"/فلل-للبيع/صبيا\",\"city_id\":84,\"count\":34,\"category\":{\"__ref\":\"Category:{\\\"uri\\\":\\\"فلل-للبيع\\\"}\"},\"directions\":false},\"City:{\\\"city_id\\\":80}\":{\"__typename\":\"City\",\"name\":\"سيهات\",\"title\":\"فلل للبيع في سيهات\",\"uri\":\"سيهات\",\"path\":\"/فلل-للبيع/سيهات\",\"city_id\":80,\"count\":33,\"category\":{\"__ref\":\"Category:{\\\"uri\\\":\\\"فلل-للبيع\\\"}\"},\"directions\":false},\"City:{\\\"city_id\\\":82}\":{\"__typename\":\"City\",\"name\":\"شقراء\",\"title\":\"فلل للبيع في شقراء\",\"uri\":\"شقراء\",\"path\":\"/فلل-للبيع/شقراء\",\"city_id\":82,\"count\":32,\"category\":{\"__ref\":\"Category:{\\\"uri\\\":\\\"فلل-للبيع\\\"}\"},\"directions\":false},\"City:{\\\"city_id\\\":93}\":{\"__typename\":\"City\",\"name\":\"مدينة الملك عبدالله الاقتصادية\",\"title\":\"فلل للبيع في مدينة الملك عبدالله الاقتصادية\",\"uri\":\"مدينة-الملك-عبدالله-الاقتصادية\",\"path\":\"/فلل-للبيع/مدينة-الملك-عبدالله-الاقتصادية\",\"city_id\":93,\"count\":27,\"category\":{\"__ref\":\"Category:{\\\"uri\\\":\\\"فلل-للبيع\\\"}\"},\"directions\":false},\"City:{\\\"city_id\\\":83}\":{\"__typename\":\"City\",\"name\":\"صامطة\",\"title\":\"فلل للبيع في صامطة\",\"uri\":\"صامطة\",\"path\":\"/فلل-للبيع/صامطة\",\"city_id\":83,\"count\":25,\"category\":{\"__ref\":\"Category:{\\\"uri\\\":\\\"فلل-للبيع\\\"}\"},\"directions\":false},\"City:{\\\"city_id\\\":42}\":{\"__typename\":\"City\",\"name\":\"المذنب\",\"title\":\"فلل للبيع في المذنب\",\"uri\":\"المذنب\",\"path\":\"/فلل-للبيع/المذنب\",\"city_id\":42,\"count\":22,\"category\":{\"__ref\":\"Category:{\\\"uri\\\":\\\"فلل-للبيع\\\"}\"},\"directions\":false},\"City:{\\\"city_id\\\":15}\":{\"__typename\":\"City\",\"name\":\"الخفجي\",\"title\":\"فلل للبيع في الخفجي\",\"uri\":\"الخفجي\",\"path\":\"/فلل-للبيع/الخفجي\",\"city_id\":15,\"count\":21,\"category\":{\"__ref\":\"Category:{\\\"uri\\\":\\\"فلل-للبيع\\\"}\"},\"directions\":false},\"City:{\\\"city_id\\\":58}\":{\"__typename\":\"City\",\"name\":\"تاروت\",\"title\":\"فلل للبيع في تاروت\",\"uri\":\"تاروت\",\"path\":\"/فلل-للبيع/تاروت\",\"city_id\":58,\"count\":20,\"category\":{\"__ref\":\"Category:{\\\"uri\\\":\\\"فلل-للبيع\\\"}\"},\"directions\":false},\"City:{\\\"city_id\\\":35}\":{\"__typename\":\"City\",\"name\":\"القويعية\",\"title\":\"فلل للبيع في القويعية\",\"uri\":\"القويعية\",\"path\":\"/فلل-للبيع/القويعية\",\"city_id\":35,\"count\":19,\"category\":{\"__ref\":\"Category:{\\\"uri\\\":\\\"فلل-للبيع\\\"}\"},\"directions\":false},\"City:{\\\"city_id\\\":88}\":{\"__typename\":\"City\",\"name\":\"عرعر\",\"title\":\"فلل للبيع في عرعر\",\"uri\":\"عرعر\",\"path\":\"/فلل-للبيع/عرعر\",\"city_id\":88,\"count\":18,\"category\":{\"__ref\":\"Category:{\\\"uri\\\":\\\"فلل-للبيع\\\"}\"},\"directions\":false},\"City:{\\\"city_id\\\":9}\":{\"__typename\":\"City\",\"name\":\"الجموم\",\"title\":\"فلل للبيع في الجموم\",\"uri\":\"الجموم\",\"path\":\"/فلل-للبيع/الجموم\",\"city_id\":9,\"count\":16,\"category\":{\"__ref\":\"Category:{\\\"uri\\\":\\\"فلل-للبيع\\\"}\"},\"directions\":false},\"City:{\\\"city_id\\\":17}\":{\"__typename\":\"City\",\"name\":\"الدلم\",\"title\":\"فلل للبيع في الدلم\",\"uri\":\"الدلم\",\"path\":\"/فلل-للبيع/الدلم\",\"city_id\":17,\"count\":15,\"category\":{\"__ref\":\"Category:{\\\"uri\\\":\\\"فلل-للبيع\\\"}\"},\"directions\":false},\"City:{\\\"city_id\\\":79}\":{\"__typename\":\"City\",\"name\":\"سكاكا\",\"title\":\"فلل للبيع في سكاكا\",\"uri\":\"سكاكا\",\"path\":\"/فلل-للبيع/سكاكا\",\"city_id\":79,\"count\":15,\"category\":{\"__ref\":\"Category:{\\\"uri\\\":\\\"فلل-للبيع\\\"}\"},\"directions\":false},\"City:{\\\"city_id\\\":74}\":{\"__typename\":\"City\",\"name\":\"راس تنورة\",\"title\":\"فلل للبيع في راس تنورة\",\"uri\":\"راس-تنورة\",\"path\":\"/فلل-للبيع/راس-تنورة\",\"city_id\":74,\"count\":14,\"category\":{\"__ref\":\"Category:{\\\"uri\\\":\\\"فلل-للبيع\\\"}\"},\"directions\":false},\"City:{\\\"city_id\\\":89}\":{\"__typename\":\"City\",\"name\":\"عفيف\",\"title\":\"فلل للبيع في عفيف\",\"uri\":\"عفيف\",\"path\":\"/فلل-للبيع/عفيف\",\"city_id\":89,\"count\":14,\"category\":{\"__ref\":\"Category:{\\\"uri\\\":\\\"فلل-للبيع\\\"}\"},\"directions\":false},\"City:{\\\"city_id\\\":3}\":{\"__typename\":\"City\",\"name\":\"احد المسارحة\",\"title\":\"فلل للبيع في احد المسارحة\",\"uri\":\"احد-المسارحة\",\"path\":\"/فلل-للبيع/احد-المسارحة\",\"city_id\":3,\"count\":13,\"category\":{\"__ref\":\"Category:{\\\"uri\\\":\\\"فلل-للبيع\\\"}\"},\"directions\":false},\"City:{\\\"city_id\\\":39}\":{\"__typename\":\"City\",\"name\":\"المجاردة\",\"title\":\"فلل للبيع في المجاردة\",\"uri\":\"المجاردة\",\"path\":\"/فلل-للبيع/المجاردة\",\"city_id\":39,\"count\":13,\"category\":{\"__ref\":\"Category:{\\\"uri\\\":\\\"فلل-للبيع\\\"}\"},\"directions\":false},\"City:{\\\"city_id\\\":47}\":{\"__typename\":\"City\",\"name\":\"الهياثم\",\"title\":\"فلل للبيع في الهياثم\",\"uri\":\"الهياثم\",\"path\":\"/فلل-للبيع/الهياثم\",\"city_id\":47,\"count\":13,\"category\":{\"__ref\":\"Category:{\\\"uri\\\":\\\"فلل-للبيع\\\"}\"},\"directions\":false},\"City:{\\\"city_id\\\":69}\":{\"__typename\":\"City\",\"name\":\"حوطة بني تميم\",\"title\":\"فلل للبيع في حوطة بني تميم\",\"uri\":\"حوطة-بني-تميم\",\"path\":\"/فلل-للبيع/حوطة-بني-تميم\",\"city_id\":69,\"count\":13,\"category\":{\"__ref\":\"Category:{\\\"uri\\\":\\\"فلل-للبيع\\\"}\"},\"directions\":false},\"City:{\\\"city_id\\\":73}\":{\"__typename\":\"City\",\"name\":\"رابغ\",\"title\":\"فلل للبيع في رابغ\",\"uri\":\"رابغ\",\"path\":\"/فلل-للبيع/رابغ\",\"city_id\":73,\"count\":13,\"category\":{\"__ref\":\"Category:{\\\"uri\\\":\\\"فلل-للبيع\\\"}\"},\"directions\":false},\"City:{\\\"city_id\\\":45}\":{\"__typename\":\"City\",\"name\":\"النعيرية\",\"title\":\"فلل للبيع في النعيرية\",\"uri\":\"النعيرية\",\"path\":\"/فلل-للبيع/النعيرية\",\"city_id\":45,\"count\":12,\"category\":{\"__ref\":\"Category:{\\\"uri\\\":\\\"فلل-للبيع\\\"}\"},\"directions\":false},\"City:{\\\"city_id\\\":30}\":{\"__typename\":\"City\",\"name\":\"الغاط\",\"title\":\"فلل للبيع في الغاط\",\"uri\":\"الغاط\",\"path\":\"/فلل-للبيع/الغاط\",\"city_id\":30,\"count\":11,\"category\":{\"__ref\":\"Category:{\\\"uri\\\":\\\"فلل-للبيع\\\"}\"},\"directions\":false},\"City:{\\\"city_id\\\":97}\":{\"__typename\":\"City\",\"name\":\"ينبع\",\"title\":\"فلل للبيع في ينبع\",\"uri\":\"ينبع\",\"path\":\"/فلل-للبيع/ينبع\",\"city_id\":97,\"count\":10,\"category\":{\"__ref\":\"Category:{\\\"uri\\\":\\\"فلل-للبيع\\\"}\"},\"directions\":false},\"City:{\\\"city_id\\\":34}\":{\"__typename\":\"City\",\"name\":\"القنفذة\",\"title\":\"فلل للبيع في القنفذة\",\"uri\":\"القنفذة\",\"path\":\"/فلل-للبيع/القنفذة\",\"city_id\":34,\"count\":9,\"category\":{\"__ref\":\"Category:{\\\"uri\\\":\\\"فلل-للبيع\\\"}\"},\"directions\":false},\"City:{\\\"city_id\\\":54}\":{\"__typename\":\"City\",\"name\":\"بقيق\",\"title\":\"فلل للبيع في بقيق\",\"uri\":\"بقيق\",\"path\":\"/فلل-للبيع/بقيق\",\"city_id\":54,\"count\":9,\"category\":{\"__ref\":\"Category:{\\\"uri\\\":\\\"فلل-للبيع\\\"}\"},\"directions\":false},\"City:{\\\"city_id\\\":5}\":{\"__typename\":\"City\",\"name\":\"الباحة\",\"title\":\"فلل للبيع في الباحة\",\"uri\":\"الباحة\",\"path\":\"/فلل-للبيع/الباحة\",\"city_id\":5,\"count\":8,\"category\":{\"__ref\":\"Category:{\\\"uri\\\":\\\"فلل-للبيع\\\"}\"},\"directions\":false},\"City:{\\\"city_id\\\":56}\":{\"__typename\":\"City\",\"name\":\"بيش\",\"title\":\"فلل للبيع في بيش\",\"uri\":\"بيش\",\"path\":\"/فلل-للبيع/بيش\",\"city_id\":56,\"count\":8,\"category\":{\"__ref\":\"Category:{\\\"uri\\\":\\\"فلل-للبيع\\\"}\"},\"directions\":false},\"City:{\\\"city_id\\\":44}\":{\"__typename\":\"City\",\"name\":\"النبهانية\",\"title\":\"فلل للبيع في النبهانية\",\"uri\":\"النبهانية\",\"path\":\"/فلل-للبيع/النبهانية\",\"city_id\":44,\"count\":6,\"category\":{\"__ref\":\"Category:{\\\"uri\\\":\\\"فلل-للبيع\\\"}\"},\"directions\":false},\"City:{\\\"city_id\\\":51}\":{\"__typename\":\"City\",\"name\":\"بدر\",\"title\":\"فلل للبيع في بدر\",\"uri\":\"بدر\",\"path\":\"/فلل-للبيع/بدر\",\"city_id\":51,\"count\":5,\"category\":{\"__ref\":\"Category:{\\\"uri\\\":\\\"فلل-للبيع\\\"}\"},\"directions\":false},\"City:{\\\"city_id\\\":55}\":{\"__typename\":\"City\",\"name\":\"بللسمر\",\"title\":\"فلل للبيع في بللسمر\",\"uri\":\"بللسمر\",\"path\":\"/فلل-للبيع/بللسمر\",\"city_id\":55,\"count\":5,\"category\":{\"__ref\":\"Category:{\\\"uri\\\":\\\"فلل-للبيع\\\"}\"},\"directions\":false},\"City:{\\\"city_id\\\":23}\":{\"__typename\":\"City\",\"name\":\"السليل\",\"title\":\"فلل للبيع في السليل\",\"uri\":\"السليل\",\"path\":\"/فلل-للبيع/السليل\",\"city_id\":23,\"count\":4,\"category\":{\"__ref\":\"Category:{\\\"uri\\\":\\\"فلل-للبيع\\\"}\"},\"directions\":false},\"City:{\\\"city_id\\\":72}\":{\"__typename\":\"City\",\"name\":\"دومة الجندل\",\"title\":\"فلل للبيع في دومة الجندل\",\"uri\":\"دومة-الجندل\",\"path\":\"/فلل-للبيع/دومة-الجندل\",\"city_id\":72,\"count\":4,\"category\":{\"__ref\":\"Category:{\\\"uri\\\":\\\"فلل-للبيع\\\"}\"},\"directions\":false},\"City:{\\\"city_id\\\":81}\":{\"__typename\":\"City\",\"name\":\"شرورة\",\"title\":\"فلل للبيع في شرورة\",\"uri\":\"شرورة\",\"path\":\"/فلل-للبيع/شرورة\",\"city_id\":81,\"count\":4,\"category\":{\"__ref\":\"Category:{\\\"uri\\\":\\\"فلل-للبيع\\\"}\"},\"directions\":false},\"City:{\\\"city_id\\\":14}\":{\"__typename\":\"City\",\"name\":\"الخرمة\",\"title\":\"فلل للبيع في الخرمة\",\"uri\":\"الخرمة\",\"path\":\"/فلل-للبيع/الخرمة\",\"city_id\":14,\"count\":3,\"category\":{\"__ref\":\"Category:{\\\"uri\\\":\\\"فلل-للبيع\\\"}\"},\"directions\":false},\"City:{\\\"city_id\\\":31}\":{\"__typename\":\"City\",\"name\":\"الغزالة\",\"title\":\"فلل للبيع في الغزالة\",\"uri\":\"الغزالة\",\"path\":\"/فلل-للبيع/الغزالة\",\"city_id\":31,\"count\":3,\"category\":{\"__ref\":\"Category:{\\\"uri\\\":\\\"فلل-للبيع\\\"}\"},\"directions\":false},\"City:{\\\"city_id\\\":60}\":{\"__typename\":\"City\",\"name\":\"تثليث\",\"title\":\"فلل للبيع في تثليث\",\"uri\":\"تثليث\",\"path\":\"/فلل-للبيع/تثليث\",\"city_id\":60,\"count\":3,\"category\":{\"__ref\":\"Category:{\\\"uri\\\":\\\"فلل-للبيع\\\"}\"},\"directions\":false},\"City:{\\\"city_id\\\":61}\":{\"__typename\":\"City\",\"name\":\"تربه\",\"title\":\"فلل للبيع في تربه\",\"uri\":\"تربه\",\"path\":\"/فلل-للبيع/تربه\",\"city_id\":61,\"count\":3,\"category\":{\"__ref\":\"Category:{\\\"uri\\\":\\\"فلل-للبيع\\\"}\"},\"directions\":false},\"City:{\\\"city_id\\\":25}\":{\"__typename\":\"City\",\"name\":\"الشنان\",\"title\":\"فلل للبيع في الشنان\",\"uri\":\"الشنان\",\"path\":\"/فلل-للبيع/الشنان\",\"city_id\":25,\"count\":2,\"category\":{\"__ref\":\"Category:{\\\"uri\\\":\\\"فلل-للبيع\\\"}\"},\"directions\":false},\"City:{\\\"city_id\\\":29}\":{\"__typename\":\"City\",\"name\":\"العيون\",\"title\":\"فلل للبيع في العيون\",\"uri\":\"العيون\",\"path\":\"/فلل-للبيع/العيون\",\"city_id\":29,\"count\":2,\"category\":{\"__ref\":\"Category:{\\\"uri\\\":\\\"فلل-للبيع\\\"}\"},\"directions\":false},\"City:{\\\"city_id\\\":32}\":{\"__typename\":\"City\",\"name\":\"القريات\",\"title\":\"فلل للبيع في القريات\",\"uri\":\"القريات\",\"path\":\"/فلل-للبيع/القريات\",\"city_id\":32,\"count\":2,\"category\":{\"__ref\":\"Category:{\\\"uri\\\":\\\"فلل-للبيع\\\"}\"},\"directions\":false},\"City:{\\\"city_id\\\":53}\":{\"__typename\":\"City\",\"name\":\"بقعاء\",\"title\":\"فلل للبيع في بقعاء\",\"uri\":\"بقعاء\",\"path\":\"/فلل-للبيع/بقعاء\",\"city_id\":53,\"count\":2,\"category\":{\"__ref\":\"Category:{\\\"uri\\\":\\\"فلل-للبيع\\\"}\"},\"directions\":false},\"City:{\\\"city_id\\\":64}\":{\"__typename\":\"City\",\"name\":\"ثول\",\"title\":\"فلل للبيع في ثول\",\"uri\":\"ثول\",\"path\":\"/فلل-للبيع/ثول\",\"city_id\":64,\"count\":2,\"category\":{\"__ref\":\"Category:{\\\"uri\\\":\\\"فلل-للبيع\\\"}\"},\"directions\":false},\"City:{\\\"city_id\\\":75}\":{\"__typename\":\"City\",\"name\":\"رفحاء\",\"title\":\"فلل للبيع في رفحاء\",\"uri\":\"رفحاء\",\"path\":\"/فلل-للبيع/رفحاء\",\"city_id\":75,\"count\":2,\"category\":{\"__ref\":\"Category:{\\\"uri\\\":\\\"فلل-للبيع\\\"}\"},\"directions\":false},\"City:{\\\"city_id\\\":86}\":{\"__typename\":\"City\",\"name\":\"ضبا\",\"title\":\"فلل للبيع في ضبا\",\"uri\":\"ضبا\",\"path\":\"/فلل-للبيع/ضبا\",\"city_id\":86,\"count\":2,\"category\":{\"__ref\":\"Category:{\\\"uri\\\":\\\"فلل-للبيع\\\"}\"},\"directions\":false},\"City:{\\\"city_id\\\":95}\":{\"__typename\":\"City\",\"name\":\"مهد الذهب\",\"title\":\"فلل للبيع في مهد الذهب\",\"uri\":\"مهد-الذهب\",\"path\":\"/فلل-للبيع/مهد-الذهب\",\"city_id\":95,\"count\":2,\"category\":{\"__ref\":\"Category:{\\\"uri\\\":\\\"فلل-للبيع\\\"}\"},\"directions\":false},\"City:{\\\"city_id\\\":10}\":{\"__typename\":\"City\",\"name\":\"الحريق\",\"title\":\"فلل للبيع في الحريق\",\"uri\":\"الحريق\",\"path\":\"/فلل-للبيع/الحريق\",\"city_id\":10,\"count\":1,\"category\":{\"__ref\":\"Category:{\\\"uri\\\":\\\"فلل-للبيع\\\"}\"},\"directions\":false},\"City:{\\\"city_id\\\":24}\":{\"__typename\":\"City\",\"name\":\"الشماسية\",\"title\":\"فلل للبيع في الشماسية\",\"uri\":\"الشماسية\",\"path\":\"/فلل-للبيع/الشماسية\",\"city_id\":24,\"count\":1,\"category\":{\"__ref\":\"Category:{\\\"uri\\\":\\\"فلل-للبيع\\\"}\"},\"directions\":false},\"City:{\\\"city_id\\\":28}\":{\"__typename\":\"City\",\"name\":\"العلا\",\"title\":\"فلل للبيع في العلا\",\"uri\":\"العلا\",\"path\":\"/فلل-للبيع/العلا\",\"city_id\":28,\"count\":1,\"category\":{\"__ref\":\"Category:{\\\"uri\\\":\\\"فلل-للبيع\\\"}\"},\"directions\":false},\"City:{\\\"city_id\\\":38}\":{\"__typename\":\"City\",\"name\":\"المبرز\",\"title\":\"فلل للبيع في المبرز\",\"uri\":\"المبرز\",\"path\":\"/فلل-للبيع/المبرز\",\"city_id\":38,\"count\":1,\"category\":{\"__ref\":\"Category:{\\\"uri\\\":\\\"فلل-للبيع\\\"}\"},\"directions\":false},\"City:{\\\"city_id\\\":49}\":{\"__typename\":\"City\",\"name\":\"الوديعة\",\"title\":\"فلل للبيع في الوديعة\",\"uri\":\"الوديعة\",\"path\":\"/فلل-للبيع/الوديعة\",\"city_id\":49,\"count\":1,\"category\":{\"__ref\":\"Category:{\\\"uri\\\":\\\"فلل-للبيع\\\"}\"},\"directions\":false},\"City:{\\\"city_id\\\":71}\":{\"__typename\":\"City\",\"name\":\"خيبر\",\"title\":\"فلل للبيع في خيبر\",\"uri\":\"خيبر\",\"path\":\"/فلل-للبيع/خيبر\",\"city_id\":71,\"count\":1,\"category\":{\"__ref\":\"Category:{\\\"uri\\\":\\\"فلل-للبيع\\\"}\"},\"directions\":false},\"City:{\\\"city_id\\\":87}\":{\"__typename\":\"City\",\"name\":\"طريف\",\"title\":\"فلل للبيع في طريف\",\"uri\":\"طريف\",\"path\":\"/فلل-للبيع/طريف\",\"city_id\":87,\"count\":1,\"category\":{\"__ref\":\"Category:{\\\"uri\\\":\\\"فلل-للبيع\\\"}\"},\"directions\":false},\"City:{\\\"city_id\\\":90}\":{\"__typename\":\"City\",\"name\":\"عنك\",\"title\":\"فلل للبيع في عنك\",\"uri\":\"عنك\",\"path\":\"/فلل-للبيع/عنك\",\"city_id\":90,\"count\":1,\"category\":{\"__ref\":\"Category:{\\\"uri\\\":\\\"فلل-للبيع\\\"}\"},\"directions\":false},\"ElasticWebListing:5029203\":{\"__typename\":\"ElasticWebListing\",\"user_id\":637817,\"id\":5029203,\"uri\":\"حي-الياسمين-الرياض-الرياض-5029203\",\"title\":\"فيلا للبيع في حي الياسمين ، الرياض ، الرياض\",\"price\":3500000,\"content\":\"فيلا للبيع  بحي الياسمين مربع ١٥ من أفضل وارقي مربعات الياسمين الحي مقابل مستشفى المملكة  قريبه من طريق الثمامة و طريق الملك عبدالعزيز موجود جميع الخدمات كهرباء ماء صرف صحي فايبر انترنت \\n\\nالمساحة ٤٢٠ متر \\nمكونه من فلة درج بصالة وشقة بدور الأول \\nالفلة \\nدور الارضي مجلس مقلط صالة مطبخ وغرفة كبار السن\\nدور الاول ٣ غرف نوم واحد ماستر و غرفتين بينهم دورة مياه \\nالدور الثاني غرفة غسيل و مخزن وغرفة خادمة وخيمة\\n\\nالشقة بالدور الأول تتكون من ٣ غرف وصالة مع غرفة خادمة وسطح خاص \\n\\nالفلة بناء شخصي الارضيات رخام روزا كامل دور الارضي  والواجهة حجر  الفلة كالجديد لا تحتاج اي صيانة او تعديل \\nالبيع بالمكيفات   الشقة مؤجرة اجار قديم ب ٣٥٠٠٠ قابلة للزيادة\\nيوجد شهادة إتمام البناء\\n\\n\\n رقم رخصة فال للوساطة والتسويق: 1100048701\",\"imgs\":[\"006378172_1678288360091.jpg\",\"006378178_1678288498180.jpg\",\"006378170_1678288498209.jpg\",\"006378176_1678288498127.jpg\",\"006378175_1678288498153.jpg\",\"006378170_1678288528847.jpg\"],\"refresh\":1685130437,\"category\":3,\"beds\":5,\"livings\":2,\"wc\":5,\"area\":420,\"type\":null,\"street_width\":14,\"age\":8,\"last_update\":1685130437,\"street_direction\":1,\"ketchen\":1,\"ac\":null,\"furnished\":1,\"location\":{\"__typename\":\"Location\",\"lat\":24.809945,\"lng\":46.656059},\"path\":\"/فلل-للبيع/الرياض/شمال-الرياض/حي-الياسمين/حي-الياسمين-الرياض-الرياض-5029203\",\"user\":{\"__typename\":\"ListingUser\",\"review\":4.33,\"img\":null,\"name\":\"ابو بدر\",\"phone\":0,\"iam_verified\":true,\"rega_id\":null},\"native\":null,\"rent_period\":null,\"city\":\"الرياض\",\"city_id\":21,\"district\":\"حي الياسمين\",\"district_id\":632,\"width\":15,\"length\":28,\"advertiser_type\":\"agent\",\"create_time\":1671744008,\"has_extended_details\":null,\"daily_rentable\":false,\"range_price\":null,\"original_range_price\":null},\"ElasticWebListing:5218887\":{\"__typename\":\"ElasticWebListing\",\"user_id\":51226,\"id\":5218887,\"uri\":\"شارع-يوسف-بن-المطهر-حي-الاخباب-الطائف-الطائف-5218887\",\"title\":\"فيلا للبيع في شارع يوسف بن المطهر ، حي الاخباب ، الطائف ، الطائف\",\"price\":1300000,\"content\":\"فلل دوبلكس مخطط الوسام ١ \\nفاخرة\\n\\n\\n رقم رخصة فال للوساطة والتسويق: 1100007777\",\"imgs\":[\"000512268_1678371578461.jpg\"],\"refresh\":1685130437,\"category\":3,\"beds\":7,\"livings\":3,\"wc\":5,\"area\":250,\"type\":null,\"street_width\":24,\"age\":null,\"last_update\":1685130437,\"street_direction\":1,\"ketchen\":1,\"ac\":null,\"furnished\":0,\"location\":{\"__typename\":\"Location\",\"lat\":21.225199,\"lng\":40.370892},\"path\":\"/فلل-للبيع/الطائف/حي-الوسام/شارع-يوسف-بن-المطهر-حي-الاخباب-الطائف-الطائف-5218887\",\"user\":{\"__typename\":\"ListingUser\",\"review\":4.25,\"img\":\"537462030_1642020715390.jpg\",\"name\":\"Sharaf\",\"phone\":0,\"iam_verified\":true,\"rega_id\":\"1100007777\"},\"native\":null,\"rent_period\":null,\"city\":\"الطائف\",\"city_id\":26,\"district\":\"حي الوسام\",\"district_id\":3350,\"width\":10,\"length\":25,\"advertiser_type\":\"normal_marketer\",\"create_time\":1678371489,\"has_extended_details\":null,\"daily_rentable\":false,\"range_price\":null,\"original_range_price\":null},\"ElasticWebListing:5202088\":{\"__typename\":\"ElasticWebListing\",\"user_id\":923869,\"id\":5202088,\"uri\":\"حي-المنار-الدمام-الدمام-5202088\",\"title\":\"فيلا للبيع في حي المنار ، الدمام ، الدمام\",\"price\":1500000,\"content\":\"فلة مساحة ٣٦٠ متر مربع الدور الأرضي مسطح البناء ٥٥٠ متر مربع مجلس وغرفة طعام وصالة ومجلس نساء ودورتين مياة ومطبخ مفتوح على صالة ومطبخ تحضير  .\\nالدور الأول : ٥ غرف نوم منها ٣ ماستر وصالة وبوفيه.\\nالدور الثاني: ٣ غرف نوم ودورتين مياة وغرفة غسيل.\\n\\n\\n رقم رخصة فال للوساطة والتسويق: 1100004992\",\"imgs\":[\"009238698_1679079035561.jpg\"],\"refresh\":1685130437,\"category\":3,\"beds\":5,\"livings\":2,\"wc\":5,\"area\":360,\"type\":null,\"street_width\":20,\"age\":null,\"last_update\":1685130437,\"street_direction\":3,\"ketchen\":1,\"ac\":null,\"furnished\":0,\"location\":{\"__typename\":\"Location\",\"lat\":26.363627,\"lng\":50.036088},\"path\":\"/فلل-للبيع/الدمام/حي-المنار/حي-المنار-الدمام-الدمام-5202088\",\"user\":{\"__typename\":\"ListingUser\",\"review\":4.58,\"img\":\"550777252_1665768743009.jpg\",\"name\":\"0550777252\",\"phone\":0,\"iam_verified\":true,\"rega_id\":null},\"native\":null,\"rent_period\":null,\"city\":\"الدمام\",\"city_id\":18,\"district\":\"حي المنار\",\"district_id\":1288,\"width\":12,\"length\":30,\"advertiser_type\":\"agent\",\"create_time\":1677789704,\"has_extended_details\":null,\"daily_rentable\":false,\"range_price\":null,\"original_range_price\":null},\"ElasticWebListing:5207117\":{\"__typename\":\"ElasticWebListing\",\"user_id\":949360,\"id\":5207117,\"uri\":\"شارع-القطيم-حي-الندى-الرياض-الرياض-5207117\",\"title\":\"فيلا للبيع في شارع القطيم ، حي الندى ، الرياض ، الرياض\",\"price\":3300000,\"content\":\"يقع مشروع (الندى فيلا) في حي الندى، واحد من أهم أحياء شمال مدينة الرياض\\n\\nتتكون الفيلا من ثلاث أدوار بمجموع مساحة مسطحات الأدوار 367متر، لتعطيك مساحة أكبر واستغلال أمثل للتوزيع الداخلي .\\n\\nتتألف الأدوار من :\\n\\n• الدور الأرضي :\\n- مجلس مع دورة مياه\\n- صالة طعام مع بوفية\\n- صالة عائلية مع دورة مياه\\n- تأسيس مصعد\\n- مطبخ\\n- مستودع\\n- جلسة خارجية مظللة\\n- غرفة غسيل وكوي ملابس\\n- غرفة خادمة مع دورة مياه خاصة\\n- موقف سيارة\\n-خزان أرضي\\n\\n• الدور الأول :\\n- جناح نوم رئيسي وغرفة ملابس ودورة مياه\\n- غرفتي نوم مع دورتي مياه خاصة مع شرفة\\n- صالة عائلية\\n- مطبخ تحضير\\n\\n• الدور العلوي:\\n-صالة عائلية\\n- جلسة خارجية\\n\\nمن لحظة دخولك (الندى فيلا)، ستشعر أنك ستمتلك تحفة فنية تجتمع بها عناصر عديدة تتناغم بدقة تامة، لتقدم لك تجربة إبداعية تُبهجك في كل مرة تدخلها، فالتصميم الداخلي وتقسيم المساحات وتوزيع المرافق يسمح لك ولعائلتك بإطلاق العنان بمئات الأفكار التصميمية للأثاث والإضاءة وغيرها.\",\"imgs\":[\"009493604_1678007767569.png\",\"009493602_1678007783834.png\",\"009493608_1678007788525.png\",\"009493604_1678007794724.png\",\"009493603_1678007797982.png\",\"009493601_1678007801374.png\"],\"refresh\":0,\"category\":3,\"beds\":4,\"livings\":4,\"wc\":5,\"area\":255,\"type\":null,\"street_width\":12,\"age\":0,\"last_update\":1684835702,\"street_direction\":4,\"ketchen\":1,\"ac\":null,\"furnished\":0,\"location\":{\"__typename\":\"Location\",\"lat\":24.813328,\"lng\":46.681739},\"path\":\"/فلل-للبيع/الرياض/شمال-الرياض/حي-الندى/شارع-القطيم-حي-الندى-الرياض-الرياض-5207117\",\"user\":{\"__typename\":\"ListingUser\",\"review\":5,\"img\":\"009493604_1678007097731.png\",\"name\":\"المشاريع الأولى\",\"phone\":0,\"iam_verified\":true,\"rega_id\":null},\"native\":{\"__typename\":\"WebNativeListing\",\"logo\":\"001580683_1680819759042.png\",\"title\":\"مشروع ايفيا فيلا في حي الندى\",\"image\":null,\"description\":\"يتجلى الذكاء والإبداع في مشروع الندى فيلا، فهي تتميز بتصميم عصري ينعكس في الاستغلال الأمثل للمساحات مع توفير كافة عناصر الرفاهية\",\"external_url\":null},\"rent_period\":null,\"city\":\"الرياض\",\"city_id\":21,\"district\":\"حي الندى\",\"district_id\":598,\"width\":10,\"length\":26,\"advertiser_type\":\"owner\",\"create_time\":1678008169,\"has_extended_details\":null,\"daily_rentable\":null,\"range_price\":null,\"original_range_price\":null},\"ElasticWebListing:4965279\":{\"__typename\":\"ElasticWebListing\",\"user_id\":776966,\"id\":4965279,\"uri\":\"شارع-عبدالقادر-السعدي-حي-عكاظ-الرياض-الرياض-4965279\",\"title\":\"فيلا للبيع في شارع عبدالقادر السعدي ، حي عكاظ ، الرياض ، الرياض\",\"price\":880000,\"content\":\"⬛️\\nالسلام عليكم ورحمة الله وبركاته.\\nاسعد الله اوقاتكم بكل خير عملائنا الكرام 0\\nفرصه العمر لن تتكرر 🎊🎉\\nبتدوور علي الأناقة في التصميم واستغلال المساحات :100:\\nبتدور على توفير المال والمصداقية في التعامل\\nابشر باللي يطيب خاطرك :100:\\nنقدم لكم فيلا فاخره:\\nفي حي : عكاظ ( العجلان)\\nمساحة : 300م\\nالسعر : 880 الف\\nوجهه : شرق\\nعرض الشارع : 25م\\nنوفر تسديد المديونيات والدفعه الاولي 10% مجاناااااااا وبدون أي فوائد 👍👍\\nنختصر عليك الوقت ولذلك نتعامل مع جميع البنوك والشركات التمويليه العقاريه مع إمكانية التحويل من بنك الي بنك اخر وتسهيل كل الامور 👍\\nمن الاخر هات فرشك واحنا نسلمك المفتاح👍\\nمش عليك إلا ان تتواصل معنا واتس اب او اتصال.\\n(( ابومكه ))\\n[     ]\",\"imgs\":[\"007769669_1669584129646.jpg\",\"007769665_1669584129716.jpg\",\"007769668_1669584129724.jpg\",\"007769669_1669584129699.jpg\",\"007769667_1669584129689.jpg\",\"007769666_1669584129695.jpg\",\"007769663_1669584129695.jpg\",\"007769660_1669584129689.jpg\",\"007769660_1669584140223.jpg\",\"007769668_1669584140227.jpg\",\"007769665_1669584140269.jpg\",\"007769661_1669584140248.jpg\",\"007769668_1669584140260.jpg\",\"007769662_1669584140243.jpg\",\"007769666_1669584140295.jpg\",\"007769664_1669584140216.jpg\",\"007769660_1669584153762.jpg\",\"007769669_1669584153762.jpg\",\"007769661_1669584153805.jpg\",\"007769662_1669584153773.jpg\",\"007769661_1669584153807.jpg\",\"007769663_1669584153805.jpg\",\"007769661_1669584153813.jpg\",\"007769662_1669584153770.jpg\"],\"refresh\":1685130437,\"category\":3,\"beds\":6,\"livings\":3,\"wc\":5,\"area\":300,\"type\":null,\"street_width\":25,\"age\":0,\"last_update\":1685130437,\"street_direction\":2,\"ketchen\":1,\"ac\":null,\"furnished\":0,\"location\":{\"__typename\":\"Location\",\"lat\":24.502867,\"lng\":46.662884},\"path\":\"/فلل-للبيع/الرياض/جنوب-الرياض/حي-عكاظ/شارع-عبدالقادر-السعدي-حي-عكاظ-الرياض-الرياض-4965279\",\"user\":{\"__typename\":\"ListingUser\",\"review\":4.11,\"img\":\"504554317_1584094880424.jpg\",\"name\":\"ابو مكه - اسكان السحاب\",\"phone\":0,\"iam_verified\":true,\"rega_id\":\"0504554317\"},\"native\":null,\"rent_period\":null,\"city\":\"الرياض\",\"city_id\":21,\"district\":\"حي عكاظ\",\"district_id\":698,\"width\":13,\"length\":23,\"advertiser_type\":\"exclusive_marketer\",\"create_time\":1669584392,\"has_extended_details\":null,\"daily_rentable\":false,\"range_price\":null,\"original_range_price\":null},\"ElasticWebListing:5336468\":{\"__typename\":\"ElasticWebListing\",\"user_id\":292077,\"id\":5336468,\"uri\":\"شارع-محمود-النجارى-حي-الياقوت-جدة-جدة-5336468\",\"title\":\"فيلا للبيع في شارع محمود النجارى ، حي الياقوت ، جدة ، جدة\",\"price\":1890000,\"content\":\"فرص مميزة لشراء فلل ود المنفذة من قبل مجموعة السقاف برو ، عن طريق المالك مباشرة وبدون وساطة.\\nفلل ود تضمن لك:\\n* مصنعيات تأسيس الأعمال الكهربائية والصحية سنة واحدة.\\n* الأعمال الإنشائية 10 سنوات.\\n\\nمساحة الارض : ٢٦٢،٥ م٢ \\nمساحة المباني : ٤٣٠ م٢\\nالمبلغ ١،٨٩٠،٠٠٠ ريال للموقع المحدد، شاملة مكيفات دكت سبليت للدور الأرضي وغرفة الماستر.\\nكما توجد فلل تبدأ من ١،٧٩٠،٠٠٠ ريال.\\n\\nرقم المعلن 1897685\\nرخصة فال 1100054090\\nالرجاء التواصل عن طريق التطبيق وزيارة موقع مجموعة السقاف برو في انستجرام.\\n\\n\\n رقم رخصة فال للوساطة والتسويق: 1100054090\",\"imgs\":[\"002920770_1683307050551.jpg\",\"002920774_1683307014483.jpg\",\"002920773_1683307014448.jpg\",\"002920778_1683307014446.jpg\",\"002920772_1683307014446.jpg\",\"002920771_1683307014443.jpg\",\"002920776_1683307014450.jpg\",\"002920778_1683307014453.jpg\"],\"refresh\":1685130437,\"category\":3,\"beds\":4,\"livings\":2,\"wc\":5,\"area\":263,\"type\":null,\"street_width\":15,\"age\":0,\"last_update\":1685130437,\"street_direction\":4,\"ketchen\":0,\"ac\":null,\"furnished\":0,\"location\":{\"__typename\":\"Location\",\"lat\":21.794117,\"lng\":39.087849},\"path\":\"/فلل-للبيع/جدة/شمال-جدة/حي-الياقوت/شارع-محمود-النجارى-حي-الياقوت-جدة-جدة-5336468\",\"user\":{\"__typename\":\"ListingUser\",\"review\":5,\"img\":\"002920772_1673452043280.jpg\",\"name\":\"ASH\",\"phone\":0,\"iam_verified\":true,\"rega_id\":null},\"native\":null,\"rent_period\":null,\"city\":\"جدة\",\"city_id\":66,\"district\":\"حي الياقوت\",\"district_id\":3622,\"width\":25,\"length\":10,\"advertiser_type\":\"owner\",\"create_time\":1683309573,\"has_extended_details\":true,\"daily_rentable\":false,\"range_price\":null,\"original_range_price\":null},\"ElasticWebListing:5091426\":{\"__typename\":\"ElasticWebListing\",\"user_id\":2981391,\"id\":5091426,\"uri\":\"حي-الصوارى-جدة-جدة-5091426\",\"title\":\"فيلا للبيع في حي الصوارى ، جدة ، جدة\",\"price\":3000000,\"content\":\"عمارة للبيع \\n\\nحي الصواري\\nغرب كبري الملك سعود قطعة رقم 16/212\\n\\n‏مساحة الأرض 660م2\\n‏مساحة المباني اكثر 1800 متر مسطحات\\nتاريخ البناء 2017م\\n4 عدادات : \\n(2) 100امبير\\n(2) 40 امبير \\n‏\\nمساحة الدور الأرضي 450 م٢ عبارة عن شقتين كبيرة \\n\\nتتكون الشقة الأولى ٥ غرف من جناح نوم رئيسية بمنافعه ( غرفة ملابس + دورة مياه ) ٢ غرف نوم بينها ( دورة مياه ) صالون ضيوف - غرفة سفرة (دورة مياه للضيوف ) ومطبخ مع غرفة خادمة ( مدخلين )\\n‏\\nتتكون الشقة الثانية ٤ غرف من جناح نوم رئيسية بمنافعه ( غرفة ملابس + دورة ميه )  غرف نوم + دورة مياه صالون ضيوف - غرفة سفرة (دورة مياه للضيوف ) ومطبخ مع غرفة خادمة\\n\\nالدور الثاني ‏مساحته 485م2 مكون من خمس أجنحة نوم بمنافعها + صالون ضيوف وسفرة ضيوف وصالة معيشة كبيرة ومطبخ كبير وسفرة طعام رخامة مبنية\\n\\n‏ الدور الثالث مساحته 390م2 ( روف ) مكون من جناح نوم رئيسي بمنافعه ( غرفة ملابس + دورة مياه )  ٢ غرف نوم بينها دورة مياه - مجلس ضيوف+ ودرة مياه ضيوف مغاسل ضيوف \\nغرفة معيشة كبيرة - طعام كبيرة - صالة كبيرة\\n( غرفة غسيل + غرفة خادمة + دورة مياه )\\n\\nحوش بمساحة 150م2 \\nقراش خاص \\nغرفة سائقين \\nمصعد \\nغاز مركزي\\nدش مركزي \\nمكنسة مركزية\\n\\nخزان ارضي ‏بمساحة 168متر مكعب حوالي 130000 م3 بسعة 7 وايت 19طن \\nخزان علوي 5000 للتر - \\nتشطيب عالي الجودة بمواصفات عالية جداً وضمان شركات\\n بناء شخصي ( خاص )\\n\\nالمطلوب ٣٠٠٠٠٠٠ ريال\\n\\n\\n رقم رخصة فال للوساطة والتسويق: 1100025796\",\"imgs\":[\"023564398_1673971551853.jpg\",\"023564392_1673971551764.jpg\",\"023564393_1673971551848.jpg\",\"023564395_1673971579921.jpg\",\"023564394_1673971579854.jpg\",\"023564394_1673971579970.jpg\",\"023564399_1673971579920.jpg\",\"023564398_1673971580123.jpg\",\"023564399_1673971579869.jpg\"],\"refresh\":1685130437,\"category\":3,\"beds\":5,\"livings\":5,\"wc\":5,\"area\":660,\"type\":null,\"street_width\":16,\"age\":5,\"last_update\":1685130437,\"street_direction\":2,\"ketchen\":1,\"ac\":null,\"furnished\":0,\"location\":{\"__typename\":\"Location\",\"lat\":21.809747,\"lng\":39.103626},\"path\":\"/فلل-للبيع/جدة/شمال-جدة/حي-الصوارى/حي-الصوارى-جدة-جدة-5091426\",\"user\":{\"__typename\":\"ListingUser\",\"review\":null,\"img\":\"029813911_1672335866147.png\",\"name\":\"مجموعة سراج القصير العقارية\",\"phone\":0,\"iam_verified\":true,\"rega_id\":\"1200003045\"},\"native\":null,\"rent_period\":null,\"city\":\"جدة\",\"city_id\":66,\"district\":\"حي الصوارى\",\"district_id\":3532,\"width\":22,\"length\":30,\"advertiser_type\":\"normal_marketer\",\"create_time\":1673972002,\"has_extended_details\":null,\"daily_rentable\":false,\"range_price\":null,\"original_range_price\":null},\"ElasticWebListing:4982726\":{\"__typename\":\"ElasticWebListing\",\"user_id\":138922,\"id\":4982726,\"uri\":\"شارع-جبل-علي-حي-الرحمانية-جدة-جدة-4982726\",\"title\":\"فيلا للبيع في شارع جبل علي ، حي الرحمانية ، جدة ، جدة\",\"price\":1680000,\"content\":\"فيلا دورين وملحق تشطيب فاخر …مسبح …مصعد ..يوجد فديو كامل من الانشائات الي نهاية التشطيب ..ضمانات شامله\",\"imgs\":[\"001389220_1670210461189.jpg\",\"001389227_1670210432080.jpg\",\"001389221_1670210432229.jpg\",\"001389227_1670210432199.jpg\",\"001389222_1670210461174.jpg\",\"001389225_1670210461219.jpg\",\"001389221_1670210461261.jpg\",\"001389229_1670210461188.jpg\",\"001389227_1670210461212.jpg\",\"001389222_1670210482107.jpg\",\"001389228_1670210482088.jpg\",\"001389226_1670210481952.jpg\",\"001389229_1670210482088.jpg\",\"001389226_1670210508253.jpg\",\"001389221_1670210508251.jpg\",\"001389228_1670210508268.jpg\",\"001389229_1670210508235.jpg\",\"001389220_1670210615746.jpg\",\"001389224_1670210615843.jpg\",\"001389229_1670210615834.jpg\",\"001389221_1670210731872.jpg\",\"001389229_1670210731810.jpg\",\"001389227_1670210731849.jpg\",\"001389226_1670210731899.jpg\",\"001389223_1670210731718.jpg\",\"001389223_1670210731849.jpg\",\"001389221_1670210794194.jpg\",\"001389228_1670210794158.jpg\",\"001389220_1670210937598.jpg\",\"001389223_1670210937594.jpg\"],\"refresh\":1685130437,\"category\":3,\"beds\":7,\"livings\":3,\"wc\":5,\"area\":300,\"type\":null,\"street_width\":15,\"age\":0,\"last_update\":1685130437,\"street_direction\":1,\"ketchen\":1,\"ac\":null,\"furnished\":1,\"location\":{\"__typename\":\"Location\",\"lat\":21.800041,\"lng\":39.199608},\"path\":\"/فلل-للبيع/جدة/شمال-جدة/حي-الرحمانية/شارع-جبل-علي-حي-الرحمانية-جدة-جدة-4982726\",\"user\":{\"__typename\":\"ListingUser\",\"review\":1,\"img\":\"001389223_1677854480716.jpg\",\"name\":\"روافد للاستثمار العقاري\",\"phone\":0,\"iam_verified\":true,\"rega_id\":null},\"native\":null,\"rent_period\":null,\"city\":\"جدة\",\"city_id\":66,\"district\":\"حي الرحمانية\",\"district_id\":3480,\"width\":10,\"length\":30,\"advertiser_type\":\"agent\",\"create_time\":1670211654,\"has_extended_details\":null,\"daily_rentable\":false,\"range_price\":null,\"original_range_price\":null},\"ElasticWebListing:5182975\":{\"__typename\":\"ElasticWebListing\",\"user_id\":337937,\"id\":5182975,\"uri\":\"شارع-علي-بن-وهاس-حي-العارض-الرياض-الرياض-5182975\",\"title\":\"فيلا للبيع في شارع علي بن وهاس ، حي العارض ، الرياض ، الرياض\",\"price\":2700000,\"content\":\"فيلتين مدرن درج صالة مستقله بحي العارض مخطط دانة الياسمين \\n\\nالفيلا عبارة عن مجلس رجال مجلس نساء وصاله كبيره ومطبخ وحوش كبير \\nالدور الاول 4 غرف \\nمنها غرفتين ماستر \\nالسطح صاله رياضيه مع صاله عائليه مع جلسه خارجيه \\nمساحه الزاويه 290م \\nشارع 18م جنوبي غربي \\nفيلا 280م شارع 18م غربي \\n\\nالبيع عل السوم\\n\\n\\n رقم رخصة فال للوساطة والتسويق: 1100038526\",\"imgs\":[\"003379371_1683977116038.jpg\",\"003379375_1683977116304.jpg\",\"003379372_1683977115542.jpg\",\"003379377_1683977115782.jpg\",\"003379371_1683977116060.jpg\",\"003379377_1683977116182.jpg\",\"003379373_1683977116197.jpg\",\"003379373_1683977115763.jpg\",\"003379378_1683977115923.jpg\",\"003379378_1683977116025.jpg\",\"003379372_1683977115906.jpg\",\"003379370_1683977116566.jpg\",\"003379371_1683977115620.jpg\",\"003379370_1683977115767.jpg\",\"003379370_1683977116445.jpg\",\"003379373_1683977116461.jpg\",\"003379371_1683977116172.jpg\",\"003379379_1683977116311.jpg\",\"003379375_1683977116433.jpg\",\"003379371_1683977115665.jpg\",\"003379377_1683977115897.jpg\",\"003379376_1683977116332.jpg\",\"003379372_1683977115637.jpg\",\"003379370_1683977116581.jpg\"],\"refresh\":1685130437,\"category\":3,\"beds\":4,\"livings\":2,\"wc\":3,\"area\":290,\"type\":null,\"street_width\":18,\"age\":0,\"last_update\":1685130437,\"street_direction\":7,\"ketchen\":1,\"ac\":null,\"furnished\":0,\"location\":{\"__typename\":\"Location\",\"lat\":24.861292,\"lng\":46.636079},\"path\":\"/فلل-للبيع/الرياض/شمال-الرياض/حي-العارض/شارع-علي-بن-وهاس-حي-العارض-الرياض-الرياض-5182975\",\"user\":{\"__typename\":\"ListingUser\",\"review\":4.05,\"img\":\"556003838_1657490979978.jpg\",\"name\":\"عقاري محترف \",\"phone\":0,\"iam_verified\":true,\"rega_id\":\"1681988\"},\"native\":null,\"rent_period\":null,\"city\":\"الرياض\",\"city_id\":21,\"district\":\"حي العارض\",\"district_id\":494,\"width\":12,\"length\":24,\"advertiser_type\":\"agent\",\"create_time\":1677190454,\"has_extended_details\":null,\"daily_rentable\":false,\"range_price\":null,\"original_range_price\":null},\"ElasticWebListing:5170074\":{\"__typename\":\"ElasticWebListing\",\"user_id\":214401,\"id\":5170074,\"uri\":\"شارع-7أ-حي-ضاحية-الملك-فهد-الدمام-الدمام-5170074\",\"title\":\"فيلا للبيع في شارع 7أ ، حي ضاحية الملك فهد ، الدمام ، الدمام\",\"price\":1250000,\"content\":\"فيلا ( V-416 ) نموذج ( B )\\n\\nرابط الجولة الافتراضية + فيديو :\\n\\nhttps://show.tours/v-412-b\\n\\nنموذج ( ب ) الدمام , حي الضاحية 4/6\\nدوبلكس\\nمساحة ( 233 م )\\nتشطيب راقي\\nعبارة عن :\\n الدور الارضي مجلس 4.80*5.80 \\nغرفة طعام4.10*4.80 \\nصالة4.5*7.10\\n مطبخ 3*4.90 \\nدورة مياة المجلسمجلس 1.4*1.90\\n دورة مياة العائلة  1.30*2\\n الدور الاول:  غرفة ماستر 4.10*4.90 دورة مياة الماستر2*2.80 غرفة ملابس الماستر2.30*2.80 \\nغرفة نوم + دورة مياة 4*4.40 \\nدورة مياة 1.60*3 \\nغرفة نوم3.80*4.5\\n غرفة نوم 4*4.90\\n الملاحق غرفة خادمة 3.80*4.50 + دورة مياة + غرفة غسيل\\nالسعر ( 1,250,000 ) ريال \\nالسعر لايشمل ( رسوم التصرفات العقارية + رسوم الوساطة ) \\nتقبل التقسيط على البنك والدعم السكني\\nللتواصل والاستفسارات على الرقم الموحد :\\nواتس اب او اتصال \\n920012569\\nمجموعة الدليل العقارية\\n\\n\\n رقم رخصة فال للوساطة والتسويق: 1100002267\",\"imgs\":[\"002144011_1677494876963.jpg\",\"002144017_1676758628838.jpg\",\"002144018_1676758643182.jpg\",\"002144013_1676758646200.jpg\",\"002144013_1676758649568.jpg\",\"002144015_1676758653324.jpg\",\"002144016_1676758656331.jpg\",\"002144011_1676758661322.jpg\",\"002144012_1676758664619.jpg\",\"002144018_1676758673181.jpg\",\"002144010_1676758676315.jpg\",\"002144014_1676758683390.jpg\",\"002144011_1676758686442.jpg\",\"002144017_1676758692031.jpg\",\"002144014_1676758698470.jpg\",\"002144013_1676758704209.jpg\",\"002144015_1676758708893.jpg\",\"002144019_1676758712995.jpg\",\"002144013_1676758718700.jpg\",\"002144010_1676758723140.jpg\",\"002144011_1676758734869.jpg\",\"002144013_1676758739767.jpg\",\"002144019_1676758745612.jpg\",\"002144013_1676758751630.jpg\",\"002144016_1676758757598.jpg\",\"002144014_1676758761015.jpg\",\"002144016_1676758763907.jpg\",\"002144017_1676758771094.jpg\",\"002144010_1676758774908.jpg\",\"002144011_1676758783032.jpg\",\"002144015_1676758785994.jpg\"],\"refresh\":1685130437,\"category\":3,\"beds\":5,\"livings\":2,\"wc\":5,\"area\":233,\"type\":null,\"street_width\":20,\"age\":0,\"last_update\":1685130437,\"street_direction\":1,\"ketchen\":1,\"ac\":null,\"furnished\":0,\"location\":{\"__typename\":\"Location\",\"lat\":26.45112,\"lng\":50.002121},\"path\":\"/فلل-للبيع/الدمام/حي-ضاحية-الملك-فهد/شارع-7أ-حي-ضاحية-الملك-فهد-الدمام-الدمام-5170074\",\"user\":{\"__typename\":\"ListingUser\",\"review\":4.13,\"img\":\"002144016_1664023989348.png\",\"name\":\"مجموعة الدليل العقارية\",\"phone\":0,\"iam_verified\":true,\"rega_id\":\"8487521\"},\"native\":null,\"rent_period\":null,\"city\":\"الدمام\",\"city_id\":18,\"district\":\"حي ضاحية الملك فهد\",\"district_id\":1316,\"width\":15,\"length\":20,\"advertiser_type\":\"exclusive_marketer\",\"create_time\":1676759442,\"has_extended_details\":null,\"daily_rentable\":false,\"range_price\":null,\"original_range_price\":null},\"ElasticWebListing:4942945\":{\"__typename\":\"ElasticWebListing\",\"user_id\":1969480,\"id\":4942945,\"uri\":\"شارع-5ج-حي-الامواج-الخبر-الخبر-4942945\",\"title\":\"فيلا للبيع في شارع 5ج ، حي الامواج ، الخبر ، الخبر\",\"price\":780000,\"content\":\"فله شبه مفصوله الواجه غربيه *\\nالخبر حي الياسمين  / المساحة ( 230\\n\\n🔸تتكون من :\\nحواش واسع جداً\\n🔹من الداخل : \\nمجلس +مقلط +صالة+مجلس نساء+مطبخ  \\n🔸الدور الثاني : \\nصالة+4 غرف نوم / منها 2 ماستر \\n🔹الملحق / \\nمكونه من : \\nغرفة نوم ب دورة مياه.  \\nالضمانات : \\nبناء شخصي على الكود السعودي المعتمد\\nصبة نظافة وقواعد شريطيه \\nتأمين شامل على المبنى شركة ملاذ \\nتأمين شامل على التشطيب شركة سوفت ضمان سباكة وكهرباء ٢٥ سنه\\nوضمان الافياش ١٥ سنه \\nضمان اللمبات والثريات ٣ سنوات \\nعوازل جميع الاسقف ٥ سانتي \\n\\n📍السعر800الف\\n\\n\\n رقم رخصة فال للوساطة والتسويق: 1100015958\",\"imgs\":[\"019694803_1668775746339.jpg\",\"019694806_1668775746391.jpg\",\"019694806_1668775746414.jpg\"],\"refresh\":1685130437,\"category\":3,\"beds\":5,\"livings\":2,\"wc\":5,\"area\":230,\"type\":null,\"street_width\":20,\"age\":0,\"last_update\":1685130437,\"street_direction\":3,\"ketchen\":1,\"ac\":null,\"furnished\":0,\"location\":{\"__typename\":\"Location\",\"lat\":26.135351,\"lng\":50.138782},\"path\":\"/فلل-للبيع/الخبر/حي-الامواج/شارع-5ج-حي-الامواج-الخبر-الخبر-4942945\",\"user\":{\"__typename\":\"ListingUser\",\"review\":5,\"img\":null,\"name\":\"ابوبتال\",\"phone\":0,\"iam_verified\":true,\"rega_id\":\"6424740\"},\"native\":null,\"rent_period\":null,\"city\":\"الخبر\",\"city_id\":12,\"district\":\"حي الامواج\",\"district_id\":1044,\"width\":10,\"length\":23,\"advertiser_type\":\"agent\",\"create_time\":1668776047,\"has_extended_details\":null,\"daily_rentable\":false,\"range_price\":null,\"original_range_price\":null},\"ElasticWebListing:4860115\":{\"__typename\":\"ElasticWebListing\",\"user_id\":433732,\"id\":4860115,\"uri\":\"شارع-عبدالغني-بن-سلام-حي-الملك-فيصل-الرياض-الرياض-4860115\",\"title\":\"فيلا للبيع في شارع عبدالغني بن سلام ، حي الملك فيصل ، الرياض ، الرياض\",\"price\":1950000,\"content\":\"مودرن جديده \\nملحق خارجي \\nاربع اجنحه \\nحديقه في السطح \\nشلال وحديقه خلفيه \\nتم تأسيس مصعد\",\"imgs\":[\"004337322_1675674496255.jpg\",\"004337323_1679928724522.jpg\",\"004337327_1679928724544.jpg\",\"004337329_1679928724533.jpg\",\"004337326_1679928724500.jpg\",\"004337322_1679928724581.jpg\",\"004337327_1679928724536.jpg\",\"004337329_1679928724545.jpg\",\"004337327_1679928724562.jpg\"],\"refresh\":1685130437,\"category\":3,\"beds\":4,\"livings\":2,\"wc\":5,\"area\":250,\"type\":null,\"street_width\":15,\"age\":0,\"last_update\":1685130437,\"street_direction\":1,\"ketchen\":1,\"ac\":null,\"furnished\":0,\"location\":{\"__typename\":\"Location\",\"lat\":24.763193,\"lng\":46.770317},\"path\":\"/فلل-للبيع/الرياض/شرق-الرياض/حي-الملك-فيصل/شارع-عبدالغني-بن-سلام-حي-الملك-فيصل-الرياض-الرياض-4860115\",\"user\":{\"__typename\":\"ListingUser\",\"review\":3.88,\"img\":\"544490090_1617556986619.jpg\",\"name\":\"ابوسلطان 0544490090\",\"phone\":0,\"iam_verified\":true,\"rega_id\":\"8055649\"},\"native\":null,\"rent_period\":null,\"city\":\"الرياض\",\"city_id\":21,\"district\":\"حي الملك فيصل\",\"district_id\":578,\"width\":12,\"length\":20,\"advertiser_type\":\"normal_marketer\",\"create_time\":1666296557,\"has_extended_details\":null,\"daily_rentable\":false,\"range_price\":null,\"original_range_price\":null},\"ElasticWebListing:5055622\":{\"__typename\":\"ElasticWebListing\",\"user_id\":1492757,\"id\":5055622,\"uri\":\"شارع-القرينية-302-حي-القرينية-جدة-جدة-5055622\",\"title\":\"فيلا للبيع في شارع القرينية 302 ، حي القرينية ، جدة ، جدة\",\"price\":1400000,\"content\":\"فلل جديدة بتصميم عصري \\n\\nموقعها : القرينية مخطط 8 ب رقم القطعة 117 .. شارعها 15 نافذ من طريق الثمانين وقريبة جدا منه\\n\\nمساحة كل فيلا : 450 متر \\nعرض 12.5 متر * عمق 36 متر\\n\\nمكوناتها :\\n- 6 غرف\\n- صالة معيشة مفتوحة بإطلاله على الحديقة\\n- مطبخ مفتوح\\n- 5 دورات مياة اكرمكم الله\\n- غرفة خادمة مع دورة مياة خاصة بها \\n- بهو داخلي\\n- حديقة داخلية للعائلة\\n- حوش امامي \\n- موقف سيارة\\n- زراعة بالمساحات الخارجية\\n\\nالخدمات :\\nعداد كهرباء\\n\\nرقم المعلن : 1587302\\nرقم التفويض من المالك : 7248721\\n\\n\\n رقم رخصة فال للوساطة والتسويق: 1100055453\",\"imgs\":[\"014927578_1673820272478.jpg\",\"014927572_1673820272523.jpg\",\"014927578_1673820272487.jpg\",\"014927571_1673820272559.jpg\",\"014927570_1673820272485.jpg\",\"014927578_1673820272461.jpg\",\"014927570_1673820272462.jpg\",\"014927575_1673820272471.jpg\",\"014927578_1673820343476.jpg\",\"014927579_1673820343443.jpg\",\"014927576_1673820343488.jpg\",\"014927573_1673820343458.jpg\",\"014927574_1673820343463.jpg\",\"014927577_1673820343437.jpg\",\"014927579_1673820343492.jpg\",\"014927574_1673820343471.jpg\"],\"refresh\":1685130437,\"category\":3,\"beds\":6,\"livings\":1,\"wc\":4,\"area\":450,\"type\":null,\"street_width\":15,\"age\":0,\"last_update\":1685130437,\"street_direction\":2,\"ketchen\":1,\"ac\":null,\"furnished\":0,\"location\":{\"__typename\":\"Location\",\"lat\":21.303364,\"lng\":39.241264},\"path\":\"/فلل-للبيع/جدة/جنوب-جدة/حي-القرينة/شارع-القرينية-302-حي-القرينية-جدة-جدة-5055622\",\"user\":{\"__typename\":\"ListingUser\",\"review\":5,\"img\":null,\"name\":\"مشعل بن محمد\",\"phone\":0,\"iam_verified\":true,\"rega_id\":\"1587302\"},\"native\":null,\"rent_period\":null,\"city\":\"جدة\",\"city_id\":66,\"district\":\"حي القرينة\",\"district_id\":3562,\"width\":13,\"length\":34,\"advertiser_type\":\"exclusive_marketer\",\"create_time\":1672680758,\"has_extended_details\":true,\"daily_rentable\":false,\"range_price\":null,\"original_range_price\":null},\"ElasticWebListing:5341025\":{\"__typename\":\"ElasticWebListing\",\"user_id\":331829,\"id\":5341025,\"uri\":\"شارع-السائب-بن-الحارث-حي-طيبة-الدمام-الدمام-5341025\",\"title\":\"فيلا للبيع في شارع السائب بن الحارث ، حي طيبة ، الدمام ، الدمام\",\"price\":1300000,\"content\":\"♦️للبيع فلل دبلكس متصل شبه منفصله دورين وملحق بحي طيبه♦️\\n\\n  \\n ▪️ مساحه الفله الاولى/300م\\n▪️ مساحه الفله الثانيه / 300م\\n▪️بناء شخصي على الكود السعودي الجديد \\n▪️متوفر جميع الخدمات في الحي متاكامل\\n▪️يوجد ضمانات على الفيلا\\n▪️سباكه 15 سنه\\n▪️الكهربا 25 سنه\\n▪️الخزنات 10 سنوات\\n▪️العزل الحراري ضمان 10 سنوات\\n▪️شهادة اشراف هندسي\\n▪️الكراج ضمان 2 سنتان\\nوعلى جميع تركيبات الكهربائيه\\nوالمواد الصحيه\\n^مؤسس مصعد\\n\\n▪️تفاصيل الفلل ⬇️⬇️\\n▪️ الدور الارضي:\\nمدخلين مدخل للرجال ومدخل للنساء \\nمجلس ومقلط وصاله ومجلس نساء ومطبخ \\nو2 دورة مياه\\n▪️ الدور الاول:\\n 4 غرف نوم 🛌  و\\n2 منها ماسترماستر\\nوصاله كبيره\\n\\n▪️ ملحق :\\n غرفتين \\nو صاله\\nودورة مياه\\nوغرفة غسيل\",\"imgs\":[\"003318290_1684542107059.jpg\",\"003318290_1684542107047.jpg\"],\"refresh\":1685130437,\"category\":3,\"beds\":5,\"livings\":3,\"wc\":5,\"area\":300,\"type\":null,\"street_width\":30,\"age\":0,\"last_update\":1685130437,\"street_direction\":1,\"ketchen\":1,\"ac\":null,\"furnished\":0,\"location\":{\"__typename\":\"Location\",\"lat\":26.353367,\"lng\":50.041668},\"path\":\"/فلل-للبيع/الدمام/حي-طيبة/شارع-السائب-بن-الحارث-حي-طيبة-الدمام-الدمام-5341025\",\"user\":{\"__typename\":\"ListingUser\",\"review\":4.27,\"img\":null,\"name\":\"ابو عاطف\",\"phone\":0,\"iam_verified\":true,\"rega_id\":null},\"native\":null,\"rent_period\":null,\"city\":\"الدمام\",\"city_id\":18,\"district\":\"حي طيبة\",\"district_id\":1318,\"width\":10,\"length\":30,\"advertiser_type\":\"exclusive_marketer\",\"create_time\":1683468394,\"has_extended_details\":null,\"daily_rentable\":false,\"range_price\":null,\"original_range_price\":null},\"ElasticWebListing:5166058\":{\"__typename\":\"ElasticWebListing\",\"user_id\":1492757,\"id\":5166058,\"uri\":\"حي-القرينية-جدة-جدة-5166058\",\"title\":\"فيلا للبيع في حي القرينية ، جدة ، جدة\",\"price\":1000000,\"content\":\"فلل جديدة \\nتأسيس ثلاثة ادوار\\n\\nمساحة كل فيلا : 294 \\nعبارة عن دور واحد\\n \\nمكونة من :\\n- مجلس  بمدخل رئيسي \\n- مجلس نساء بمدخل خاص \\n- صالة معيشة\\n- غرفة نوم رئيسية \\n- غرفة نوم اولاد\\n- غرفة نوم بنات \\n- مطبخ \\n- 4 دورات مياة .\\n- مستودع\\n- حوش امامي\\n\\n\\nرُوعي فيها استخدام افضل المواد و اجودها ..\\n\\n\\n رقم رخصة فال للوساطة والتسويق: 1100055453\",\"imgs\":[\"014927579_1676605882451.jpg\",\"014927570_1676605882454.jpg\",\"014927576_1676605882446.jpg\",\"014927572_1676605882434.jpg\",\"014927572_1676605882470.jpg\",\"014927575_1676605882453.jpg\",\"014927571_1676605882443.jpg\",\"014927573_1676605882445.jpg\",\"014927572_1676605969730.jpg\",\"014927571_1676605969706.jpg\",\"014927572_1676605969740.jpg\",\"014927572_1676605969742.jpg\",\"014927571_1676605969732.jpg\",\"014927572_1676605969747.jpg\"],\"refresh\":1685130437,\"category\":3,\"beds\":5,\"livings\":1,\"wc\":4,\"area\":300,\"type\":null,\"street_width\":20,\"age\":0,\"last_update\":1685130437,\"street_direction\":1,\"ketchen\":1,\"ac\":null,\"furnished\":0,\"location\":{\"__typename\":\"Location\",\"lat\":21.307173,\"lng\":39.241241},\"path\":\"/فلل-للبيع/جدة/جنوب-جدة/حي-القرينة/حي-القرينية-جدة-جدة-5166058\",\"user\":{\"__typename\":\"ListingUser\",\"review\":5,\"img\":null,\"name\":\"مشعل بن محمد\",\"phone\":0,\"iam_verified\":true,\"rega_id\":\"1587302\"},\"native\":null,\"rent_period\":null,\"city\":\"جدة\",\"city_id\":66,\"district\":\"حي القرينة\",\"district_id\":3562,\"width\":12,\"length\":25,\"advertiser_type\":\"exclusive_marketer\",\"create_time\":1676606303,\"has_extended_details\":null,\"daily_rentable\":false,\"range_price\":null,\"original_range_price\":null},\"ElasticWebListing:5138800\":{\"__typename\":\"ElasticWebListing\",\"user_id\":199590,\"id\":5138800,\"uri\":\"شارع-4ب-حي-ضاحية-الملك-فهد-الدمام-الدمام-5138800\",\"title\":\"فيلا للبيع في شارع 4ب ، حي ضاحية الملك فهد ، الدمام ، الدمام\",\"price\":1300000,\"content\":\"💯ضمان فلة في  الحي الخامس الثامن💯\\n\\n✅ البناء الكود السعودي ✅\\n\\n✅ القواعد شريطيه\\n\\n✅ كود سعودي تحت إشراف شركه التامين من القواعد إلى التشطيب النهائي\\n\\n✅ تأمين على العيوب الخفيه للفله \\n10سنوات \\nمراوح الشفط ضمان 3 سنوات\\nاسلاك الرياض\\n\\n✅ خزان ارضي سعة 4000 ضمان 25سنة\\n✅ خزان الزامل سعة 2000لتر ضمان 10سنوات\\n✅ سخان مركزي امريكي سعة 80جالون \\nضمان 5سنوات\\n✅ مواسير المياه الداخليه من شركه تحويل ضمان 15 سنه\\n✅ افياش كهرباء من شركه لترك ضمان 25 سنه\\n✅ لمبات ضمان 2 سنتان\\n✅ مضخه مياه سمنان ايطالي واحد حصان ضمان 2سن\\n\\n\\n رقم رخصة فال للوساطة والتسويق: 1100049905\",\"imgs\":[\"001995900_1678104876698.jpg\"],\"refresh\":1685130437,\"category\":3,\"beds\":7,\"livings\":5,\"wc\":5,\"area\":250,\"type\":null,\"street_width\":25,\"age\":0,\"last_update\":1685130437,\"street_direction\":2,\"ketchen\":1,\"ac\":null,\"furnished\":0,\"location\":{\"__typename\":\"Location\",\"lat\":26.461296,\"lng\":49.999969},\"path\":\"/فلل-للبيع/الدمام/حي-ضاحية-الملك-فهد/شارع-4ب-حي-ضاحية-الملك-فهد-الدمام-الدمام-5138800\",\"user\":{\"__typename\":\"ListingUser\",\"review\":5,\"img\":\"552333269_1600044704687.jpg\",\"name\":\"Turki\",\"phone\":0,\"iam_verified\":true,\"rega_id\":null},\"native\":null,\"rent_period\":null,\"city\":\"الدمام\",\"city_id\":18,\"district\":\"حي ضاحية الملك فهد\",\"district_id\":1316,\"width\":25,\"length\":10,\"advertiser_type\":\"agent\",\"create_time\":1675663803,\"has_extended_details\":null,\"daily_rentable\":false,\"range_price\":null,\"original_range_price\":null},\"ElasticWebListing:4911164\":{\"__typename\":\"ElasticWebListing\",\"user_id\":868549,\"id\":4911164,\"uri\":\"شارع-الحصن-حي-السويدي-الرياض-الرياض-4911164\",\"title\":\"فيلا للبيع في شارع الحصن ، حي السويدي ، الرياض ، الرياض\",\"price\":1500000,\"content\":\"فله سكنيه زاويه مكونه من قطعتين باطوال ممتازه ٤٥.٥ في ٢٠ مناسبه لمشروع دوبلكسات و تتكون من دور ارضي كبير و شقتين فالدور الأول و ملاحق خارجيه كما يمكن إفراغ الفله لوحدها بمساحة ٦٤٠ او مع القطعه بكامل المساحة ٩١٠ و الحد مليون و نصف\",\"imgs\":[\"008685494_1667800430180.jpg\",\"008685495_1667800430148.jpg\",\"008685491_1667800430317.jpg\",\"008685490_1667800430210.jpg\",\"008685491_1667800430594.jpg\",\"008685497_1667800429997.jpg\",\"008685498_1667800430174.jpg\",\"008685496_1667800430354.jpg\",\"008685493_1667800430004.jpg\",\"008685496_1667800430474.jpg\",\"008685492_1667800430685.jpg\",\"008685495_1667800431326.jpg\",\"008685493_1667800431478.jpg\",\"008685494_1667800431231.jpg\",\"008685494_1667800430867.jpg\",\"008685497_1667800431727.jpg\",\"008685499_1667800430356.jpg\",\"008685496_1667800431032.jpg\",\"008685494_1667800431128.jpg\",\"008685498_1667800430314.jpg\",\"008685491_1667800431589.jpg\"],\"refresh\":1685130437,\"category\":3,\"beds\":5,\"livings\":3,\"wc\":5,\"area\":910,\"type\":null,\"street_width\":20,\"age\":35,\"last_update\":1685130437,\"street_direction\":5,\"ketchen\":1,\"ac\":null,\"furnished\":0,\"location\":{\"__typename\":\"Location\",\"lat\":24.583487,\"lng\":46.658702},\"path\":\"/فلل-للبيع/الرياض/غرب-الرياض/حي-السويدي/شارع-الحصن-حي-السويدي-الرياض-الرياض-4911164\",\"user\":{\"__typename\":\"ListingUser\",\"review\":null,\"img\":null,\"name\":\"0500002798\",\"phone\":0,\"iam_verified\":true,\"rega_id\":null},\"native\":null,\"rent_period\":null,\"city\":\"الرياض\",\"city_id\":21,\"district\":\"حي السويدي\",\"district_id\":470,\"width\":20,\"length\":45,\"advertiser_type\":\"owner\",\"create_time\":1667801187,\"has_extended_details\":null,\"daily_rentable\":false,\"range_price\":null,\"original_range_price\":null},\"ElasticWebListing:4571813\":{\"__typename\":\"ElasticWebListing\",\"user_id\":2392970,\"id\":4571813,\"uri\":\"شارع-روضة-ساجر-حي-النزهة-الرياض-الرياض-4571813\",\"title\":\"فيلا للبيع في شارع روضة ساجر ، حي النزهة ، الرياض ، الرياض\",\"price\":2700000,\"content\":\"فلا للبيع حي النزهه\\n\\n\\nمساحة : 450 م\\nواجهاته ا: غربية \\nشارعها : 15 م\\nاطوالها : 15 * 30\\n\\nالفلا للبيع بقيمة أرض \\nعمر الفلا :20  سنة \\n\\n\\nالتفاصيل:\\nالدور الارضي:\\n-ملحق خارجي بتصميم شعبي حديث\\n-مجلس رجال\\n-مقلط\\n-صالة عائلية\\n-مجلس نساء\\n-مطبخ\\n\\n\\n\\nالدور الأول:\\n-اربع اجنحة\\n-صالة\\n\\n \\n\\nالدور الثاني:\\n-قسم للخادمة مع مرفقاتها\\n-غرفة غسيل\\n-يوجد سطحيين ببابين مختلفين بالإمكان استغلالها بأكثر من غرفة\\n\\n\\n\\n-غرفة حارس\\n\\n\\nالسعر : 2 مليون و 700 الف ريال\",\"imgs\":[\"023929702_1682935184961.jpg\"],\"refresh\":1685130437,\"category\":3,\"beds\":4,\"livings\":2,\"wc\":5,\"area\":450,\"type\":null,\"street_width\":15,\"age\":20,\"last_update\":1685130437,\"street_direction\":3,\"ketchen\":1,\"ac\":null,\"furnished\":0,\"location\":{\"__typename\":\"Location\",\"lat\":24.760708,\"lng\":46.697247},\"path\":\"/فلل-للبيع/الرياض/شمال-الرياض/حي-النزهة/شارع-روضة-ساجر-حي-النزهة-الرياض-الرياض-4571813\",\"user\":{\"__typename\":\"ListingUser\",\"review\":4.83,\"img\":null,\"name\":\"محمد بن ناصر\",\"phone\":0,\"iam_verified\":true,\"rega_id\":null},\"native\":null,\"rent_period\":null,\"city\":\"الرياض\",\"city_id\":21,\"district\":\"حي النزهة\",\"district_id\":602,\"width\":15,\"length\":30,\"advertiser_type\":\"exclusive_marketer\",\"create_time\":1659127640,\"has_extended_details\":null,\"daily_rentable\":false,\"range_price\":null,\"original_range_price\":null},\"ElasticWebListing:5071400\":{\"__typename\":\"ElasticWebListing\",\"user_id\":2144501,\"id\":5071400,\"uri\":\"حي-المحالة-أبها-أبهــــا-5071400\",\"title\":\"فيلا للبيع في حي المحالة ، أبها ، أبهــــا\",\"price\":1250000,\"content\":\"٣ فلل للبيع في حي المعالي \\nمساحه الارض 275م\\nمساحه البناء 500م\\nسعر الفيلا مليون ٢٥٠ \\n\\n\\nمدخل سياره \\nحوش \\nمجلس رجال\\nمغاسل بدوره مياه\\nمجلط\\nصاله \\nمدخل نساء \\nمجلس نساء\\nمطبخ امريكي\\nغرفه كبار سن بمغاسل ودوره مياه\\nمؤسس مصعد\\n\\nالدور الاول\\nمطبخ بمستودع \\nصاله \\n٣ غرف نوم منهم ٢ ماستر \\n\\nالملحق \\nغرفه غسيل \\nبوفيه \\nغرفتين نوم منهم واحده ماستر\\nغرفه خادمه \\nسطح\\nللتواصل جوال او واتساب / \\n\\n\\n رقم رخصة فال للوساطة والتسويق: 1100030451\",\"imgs\":[\"021445011_1673276528172.jpg\",\"021445010_1673276528347.jpg\",\"021445018_1673276528341.jpg\",\"021445015_1673276528177.jpg\",\"021445018_1673276528344.jpg\",\"021445016_1673276528341.jpg\",\"021445016_1673276528358.jpg\",\"021445011_1673276528344.jpg\",\"021445017_1673276548969.jpg\",\"021445019_1673276548966.jpg\",\"021445011_1673276548964.jpg\",\"021445011_1673276548962.jpg\",\"021445012_1673276548993.jpg\",\"021445019_1673276548970.jpg\",\"021445018_1673276549006.jpg\",\"021445010_1673276548962.jpg\"],\"refresh\":1685130437,\"category\":3,\"beds\":6,\"livings\":2,\"wc\":5,\"area\":275,\"type\":null,\"street_width\":20,\"age\":0,\"last_update\":1685130437,\"street_direction\":4,\"ketchen\":1,\"ac\":null,\"furnished\":0,\"location\":{\"__typename\":\"Location\",\"lat\":18.240593,\"lng\":42.585545},\"path\":\"/فلل-للبيع/ابها/حي-القريقر/حي-المحالة-أبها-أبهــــا-5071400\",\"user\":{\"__typename\":\"ListingUser\",\"review\":4.71,\"img\":\"500199472_1639637593615.jpg\",\"name\":\"أبو خالد\",\"phone\":0,\"iam_verified\":true,\"rega_id\":null},\"native\":null,\"rent_period\":null,\"city\":\"ابها\",\"city_id\":1,\"district\":\"حي القريقر\",\"district_id\":3814,\"width\":15,\"length\":18,\"advertiser_type\":\"normal_marketer\",\"create_time\":1673277289,\"has_extended_details\":null,\"daily_rentable\":false,\"range_price\":null,\"original_range_price\":null},\"ElasticWebListing:5361418\":{\"__typename\":\"ElasticWebListing\",\"user_id\":452093,\"id\":5361418,\"uri\":\"شارع-عبدالرازق-القشعمي-حي-الحزم-الرياض-الرياض-5361418\",\"title\":\"فيلا للبيع في شارع عبدالرازق القشعمي ، حي الحزم ، الرياض ، الرياض\",\"price\":1200000,\"content\":\"- [ ] ( فيلا مع شقتين خلفية ) \\n- [ ] ( للبيع ) \\n- [ ] معلومات الارض\\nالمساحه 300متر \\nضلعها على الشارع 12متر داخل 25 متر\\nشارعها 15 متر\\n- [ ] معلومات الفيلا \\n٩ غرف - واحد صاله - ٥ حمام - واحد مطبخ - واحد غرفة عامله - مدخل سياره -  حوش - ملحق \\n- [ ] مكونات كل شقه \\n٣ غرف - مطبخ - صاله - ٢ حمام - مدخلين \\n- [ ] الموقع الرياض حي الحزم موقع متكامل من جميع الخدمات مدارس وغيرها\\n- [ ] عمر العقار ٧ سنوات \\n- [ ] واجهة العقار جنوبيه\\n- [ ] المطلوب مليون و 200 الف \\n- [ ] غير قابل للتفا\\n- [ ] للتواصل\\nمجموعة سمو ا\",\"imgs\":[\"032082320_1684156479956.jpg\"],\"refresh\":1685130437,\"category\":3,\"beds\":7,\"livings\":3,\"wc\":5,\"area\":300,\"type\":null,\"street_width\":15,\"age\":7,\"last_update\":1685130437,\"street_direction\":4,\"ketchen\":1,\"ac\":null,\"furnished\":0,\"location\":{\"__typename\":\"Location\",\"lat\":24.552572,\"lng\":46.659046},\"path\":\"/فلل-للبيع/الرياض/غرب-الرياض/حي-الحزم/شارع-عبدالرازق-القشعمي-حي-الحزم-الرياض-الرياض-5361418\",\"user\":{\"__typename\":\"ListingUser\",\"review\":4.58,\"img\":\"554424458_1647253162303.jpg\",\"name\":\"سمو المملكة للخدمات العقارية \",\"phone\":0,\"iam_verified\":true,\"rega_id\":\"1200016946\"},\"native\":null,\"rent_period\":null,\"city\":\"الرياض\",\"city_id\":21,\"district\":\"حي الحزم\",\"district_id\":414,\"width\":12,\"length\":25,\"advertiser_type\":\"exclusive_marketer\",\"create_time\":1684156599,\"has_extended_details\":null,\"daily_rentable\":null,\"range_price\":null,\"original_range_price\":null}}},\"__N_SSP\":true},\"page\":\"/[category]/[...params]\",\"query\":{\"category\":\"فلل-للبيع\",\"params\":[\"1\"]},\"buildId\":\"nYI97201IBMfkCx_SeIw9\",\"assetPrefix\":\"https://assets.aqar.fm/next\",\"isFallback\":false,\"gssp\":true,\"scriptLoader\":[]}</script><div id=\"modal-container\"></div><div id=\"tooltips\"></div></body></html>"
      ]
     },
     "execution_count": 10,
     "metadata": {},
     "output_type": "execute_result"
    }
   ],
   "source": [
    "soup\n"
   ]
  },
  {
   "cell_type": "code",
   "execution_count": 11,
   "id": "3f9adffb",
   "metadata": {},
   "outputs": [],
   "source": [
    "listings = soup.find_all('div', class_='listing_LinkedListingCard__5SRvZ')"
   ]
  },
  {
   "cell_type": "code",
   "execution_count": 12,
   "id": "6f107e50",
   "metadata": {},
   "outputs": [
    {
     "name": "stdout",
     "output_type": "stream",
     "text": [
      "[['3,500,000 ريال', '5', '420 م² |', '2', 'الرياض', 'حي الياسمين', 'villa']]\n",
      "[['3,500,000 ريال', '5', '420 م² |', '2', 'الرياض', 'حي الياسمين', 'villa'], ['1,300,000 ريال', '7', '250 م² |', '3', 'الطائف', 'حي الوسام', 'villa']]\n",
      "[['3,500,000 ريال', '5', '420 م² |', '2', 'الرياض', 'حي الياسمين', 'villa'], ['1,300,000 ريال', '7', '250 م² |', '3', 'الطائف', 'حي الوسام', 'villa'], ['1,500,000 ريال', '5', '360 م² |', '2', 'الدمام', 'حي المنار', 'villa']]\n"
     ]
    },
    {
     "ename": "AttributeError",
     "evalue": "'NoneType' object has no attribute 'text'",
     "output_type": "error",
     "traceback": [
      "\u001b[0;31m---------------------------------------------------------------------------\u001b[0m",
      "\u001b[0;31mAttributeError\u001b[0m                            Traceback (most recent call last)",
      "Cell \u001b[0;32mIn[12], line 5\u001b[0m\n\u001b[1;32m      1\u001b[0m allHouses \u001b[38;5;241m=\u001b[39m []\n\u001b[1;32m      2\u001b[0m \u001b[38;5;28;01mfor\u001b[39;00m listing \u001b[38;5;129;01min\u001b[39;00m listings:\n\u001b[1;32m      3\u001b[0m     \u001b[38;5;66;03m#title = listing.find('h4', class_='listingCard_title__45XgY listingCard_truncatedText__otzLq').text.strip()\u001b[39;00m\n\u001b[0;32m----> 5\u001b[0m     price \u001b[38;5;241m=\u001b[39m \u001b[43mlisting\u001b[49m\u001b[38;5;241;43m.\u001b[39;49m\u001b[43mfind\u001b[49m\u001b[43m(\u001b[49m\u001b[38;5;124;43m'\u001b[39;49m\u001b[38;5;124;43mdiv\u001b[39;49m\u001b[38;5;124;43m'\u001b[39;49m\u001b[43m,\u001b[49m\u001b[43m \u001b[49m\u001b[43mclass_\u001b[49m\u001b[38;5;241;43m=\u001b[39;49m\u001b[38;5;124;43m'\u001b[39;49m\u001b[38;5;124;43mlistingCard_price__N5eJ4\u001b[39;49m\u001b[38;5;124;43m'\u001b[39;49m\u001b[43m)\u001b[49m\u001b[38;5;241;43m.\u001b[39;49m\u001b[43mtext\u001b[49m\u001b[38;5;241m.\u001b[39mstrip()\n\u001b[1;32m      6\u001b[0m     size \u001b[38;5;241m=\u001b[39m listing\u001b[38;5;241m.\u001b[39mfind(\u001b[38;5;124m'\u001b[39m\u001b[38;5;124mdiv\u001b[39m\u001b[38;5;124m'\u001b[39m, class_\u001b[38;5;241m=\u001b[39m\u001b[38;5;124m'\u001b[39m\u001b[38;5;124mlistingCard_spec__iKaqt\u001b[39m\u001b[38;5;124m'\u001b[39m)\u001b[38;5;241m.\u001b[39mtext\u001b[38;5;241m.\u001b[39mstrip()\n\u001b[1;32m      7\u001b[0m     rooms \u001b[38;5;241m=\u001b[39m listing\u001b[38;5;241m.\u001b[39mfind_all(\u001b[38;5;124m'\u001b[39m\u001b[38;5;124mdiv\u001b[39m\u001b[38;5;124m'\u001b[39m, class_\u001b[38;5;241m=\u001b[39m\u001b[38;5;124m'\u001b[39m\u001b[38;5;124mlistingCard_spec__iKaqt\u001b[39m\u001b[38;5;124m'\u001b[39m)[\u001b[38;5;241m1\u001b[39m]\u001b[38;5;241m.\u001b[39mtext\u001b[38;5;241m.\u001b[39mstrip()\u001b[38;5;66;03m#.text.strip()\u001b[39;00m\n",
      "\u001b[0;31mAttributeError\u001b[0m: 'NoneType' object has no attribute 'text'"
     ]
    }
   ],
   "source": [
    "\n",
    "allHouses = []\n",
    "for listing in listings:\n",
    "    #title = listing.find('h4', class_='listingCard_title__45XgY listingCard_truncatedText__otzLq').text.strip()\n",
    "    \n",
    "    price = listing.find('div', class_='listingCard_price__N5eJ4').text.strip()\n",
    "    size = listing.find('div', class_='listingCard_spec__iKaqt').text.strip()\n",
    "    rooms = listing.find_all('div', class_='listingCard_spec__iKaqt')[1].text.strip()#.text.strip()\n",
    "    Livingrooms = listing.find_all('div', class_='listingCard_spec__iKaqt')[2].text.strip()\n",
    "    city = listing.find('div', class_='listingCard_city__ApOJt').text.strip()\n",
    "    district = listing.find('div',class_ =\"listingCard_district__5U3jm\").text.strip()\n",
    "    typ = 'villa'\n",
    "    \n",
    "    \n",
    "    #roomsn =  rooms.find_next_sibling().text\n",
    "    \n",
    "    allHouses.append([price,rooms,size,Livingrooms,city,district,typ]) \n",
    "    print(allHouses)"
   ]
  },
  {
   "cell_type": "code",
   "execution_count": null,
   "id": "b35c61c7",
   "metadata": {},
   "outputs": [],
   "source": [
    "url = 'https://sa.aqar.fm/%D9%81%D9%84%D9%84-%D9%84%D9%84%D8%A8%D9%8A%D8%B9/2'\n",
    "response = requests.get(url)"
   ]
  },
  {
   "cell_type": "code",
   "execution_count": null,
   "id": "7d86065e",
   "metadata": {},
   "outputs": [],
   "source": [
    "response =response.content\n",
    "soup = BeautifulSoup(response,'html.parser')\n"
   ]
  },
  {
   "cell_type": "code",
   "execution_count": null,
   "id": "a583081c",
   "metadata": {},
   "outputs": [],
   "source": [
    "listings = soup.find_all('div', class_='listing_LinkedListingCard__5SRvZ')"
   ]
  },
  {
   "cell_type": "code",
   "execution_count": null,
   "id": "60d59e54",
   "metadata": {},
   "outputs": [],
   "source": [
    "#allHouses = []\n",
    "for listing in listings:\n",
    "    #title = listing.find('h4', class_='listingCard_title__45XgY listingCard_truncatedText__otzLq').text.strip()\n",
    "    \n",
    "    price = listing.find('div', class_='listingCard_price__N5eJ4').text.strip()\n",
    "    size = listing.find('div', class_='listingCard_spec__iKaqt').text.strip()\n",
    "    rooms = listing.find_all('div', class_='listingCard_spec__iKaqt')[1].text.strip()#.text.strip()\n",
    "    Livingrooms = listing.find_all('div', class_='listingCard_spec__iKaqt')[2].text.strip()\n",
    "    city = listing.find('div', class_='listingCard_city__ApOJt').text.strip()\n",
    "    district = listing.find('div',class_ =\"listingCard_district__5U3jm\").text.strip()\n",
    "    typ = 'villa'\n",
    "    \n",
    "    #roomsn =  rooms.find_next_sibling().text\n",
    "    \n",
    "    allHouses.append([price,rooms,size,Livingrooms,city,district,typ]) \n",
    "    print(allHouses)\n",
    "    "
   ]
  },
  {
   "cell_type": "code",
   "execution_count": null,
   "id": "5fbecf42",
   "metadata": {},
   "outputs": [],
   "source": [
    "url = 'https://sa.aqar.fm/%D9%81%D9%84%D9%84-%D9%84%D9%84%D8%A8%D9%8A%D8%B9/3'\n",
    "response = requests.get(url)"
   ]
  },
  {
   "cell_type": "code",
   "execution_count": null,
   "id": "de172fd0",
   "metadata": {},
   "outputs": [],
   "source": [
    "response =response.content\n",
    "soup = BeautifulSoup(response,'html.parser')"
   ]
  },
  {
   "cell_type": "code",
   "execution_count": null,
   "id": "515dc579",
   "metadata": {},
   "outputs": [],
   "source": [
    "listings = soup.find_all('div', class_='listing_LinkedListingCard__5SRvZ')"
   ]
  },
  {
   "cell_type": "code",
   "execution_count": null,
   "id": "31afcefb",
   "metadata": {},
   "outputs": [],
   "source": [
    "for listing in listings:\n",
    "    #title = listing.find('h4', class_='listingCard_title__45XgY listingCard_truncatedText__otzLq').text.strip()\n",
    "    \n",
    "    price = listing.find('div', class_='listingCard_price__N5eJ4').text.strip()\n",
    "    size = listing.find('div', class_='listingCard_spec__iKaqt').text.strip()\n",
    "    rooms = listing.find_all('div', class_='listingCard_spec__iKaqt')[1].text.strip()#.text.strip()\n",
    "    Livingrooms = listing.find_all('div', class_='listingCard_spec__iKaqt')[2].text.strip()\n",
    "    city = listing.find('div', class_='listingCard_city__ApOJt').text.strip()\n",
    "    district = listing.find('div',class_ =\"listingCard_district__5U3jm\").text.strip()\n",
    "    typ = 'villa'\n",
    "    \n",
    "    #roomsn =  rooms.find_next_sibling().text\n",
    "    \n",
    "    allHouses.append([price,rooms,size,Livingrooms,city,district,typ]) \n",
    "    print(allHouses)"
   ]
  },
  {
   "cell_type": "code",
   "execution_count": null,
   "id": "edfb8b1a",
   "metadata": {},
   "outputs": [],
   "source": [
    "url = 'https://sa.aqar.fm/%D9%81%D9%84%D9%84-%D9%84%D9%84%D8%A8%D9%8A%D8%B9/4'\n",
    "response = requests.get(url)"
   ]
  },
  {
   "cell_type": "code",
   "execution_count": null,
   "id": "3a8b0fe9",
   "metadata": {},
   "outputs": [],
   "source": [
    "response =response.content\n",
    "soup = BeautifulSoup(response,'html.parser')"
   ]
  },
  {
   "cell_type": "code",
   "execution_count": null,
   "id": "8ebe28f7",
   "metadata": {},
   "outputs": [],
   "source": [
    "listings = soup.find_all('div', class_='listing_LinkedListingCard__5SRvZ')"
   ]
  },
  {
   "cell_type": "code",
   "execution_count": null,
   "id": "552ed0f0",
   "metadata": {},
   "outputs": [],
   "source": [
    "for listing in listings:\n",
    "    #title = listing.find('h4', class_='listingCard_title__45XgY listingCard_truncatedText__otzLq').text.strip()\n",
    "    \n",
    "    price = listing.find('div', class_='listingCard_price__N5eJ4').text.strip()\n",
    "    size = listing.find('div', class_='listingCard_spec__iKaqt').text.strip()\n",
    "    rooms = listing.find_all('div', class_='listingCard_spec__iKaqt')[1].text.strip()#.text.strip()\n",
    "    Livingrooms = listing.find_all('div', class_='listingCard_spec__iKaqt')[2].text.strip()\n",
    "    city = listing.find('div', class_='listingCard_city__ApOJt').text.strip()\n",
    "    district = listing.find('div',class_ =\"listingCard_district__5U3jm\").text.strip()\n",
    "    typ = 'villa'\n",
    "    \n",
    "    #roomsn =  rooms.find_next_sibling().text\n",
    "    \n",
    "    allHouses.append([price,rooms,size,Livingrooms,city,district,typ]) \n",
    "    print(allHouses)"
   ]
  },
  {
   "cell_type": "code",
   "execution_count": null,
   "id": "38428d35",
   "metadata": {},
   "outputs": [],
   "source": [
    "url = 'https://sa.aqar.fm/%D9%81%D9%84%D9%84-%D9%84%D9%84%D8%A8%D9%8A%D8%B9/5'\n",
    "response = requests.get(url)"
   ]
  },
  {
   "cell_type": "code",
   "execution_count": null,
   "id": "66e54252",
   "metadata": {},
   "outputs": [],
   "source": [
    "response =response.content\n",
    "soup = BeautifulSoup(response,'html.parser')"
   ]
  },
  {
   "cell_type": "code",
   "execution_count": null,
   "id": "93a31a91",
   "metadata": {},
   "outputs": [],
   "source": [
    "listings = soup.find_all('div', class_='listing_LinkedListingCard__5SRvZ')"
   ]
  },
  {
   "cell_type": "code",
   "execution_count": null,
   "id": "6e61765c",
   "metadata": {},
   "outputs": [],
   "source": [
    "for listing in listings:\n",
    "    #title = listing.find('h4', class_='listingCard_title__45XgY listingCard_truncatedText__otzLq').text.strip()\n",
    "    \n",
    "    price = listing.find('div', class_='listingCard_price__N5eJ4').text.strip()\n",
    "    size = listing.find('div', class_='listingCard_spec__iKaqt').text.strip()\n",
    "    rooms = listing.find_all('div', class_='listingCard_spec__iKaqt')[1].text.strip()#.text.strip()\n",
    "    Livingrooms = listing.find_all('div', class_='listingCard_spec__iKaqt')[2].text.strip()\n",
    "    city = listing.find('div', class_='listingCard_city__ApOJt').text.strip()\n",
    "    district = listing.find('div',class_ =\"listingCard_district__5U3jm\").text.strip()\n",
    "    typ = 'villa'\n",
    "    \n",
    "    #roomsn =  rooms.find_next_sibling().text\n",
    "    \n",
    "    allHouses.append([price,rooms,size,Livingrooms,city,district,typ]) \n",
    "    print(allHouses)\n",
    "    "
   ]
  },
  {
   "cell_type": "code",
   "execution_count": null,
   "id": "739c011d",
   "metadata": {},
   "outputs": [],
   "source": [
    "url = 'https://sa.aqar.fm/%D9%81%D9%84%D9%84-%D9%84%D9%84%D8%A8%D9%8A%D8%B9/6'\n",
    "response = requests.get(url)"
   ]
  },
  {
   "cell_type": "code",
   "execution_count": null,
   "id": "d58a863d",
   "metadata": {},
   "outputs": [],
   "source": [
    "response =response.content\n",
    "soup = BeautifulSoup(response,'html.parser')"
   ]
  },
  {
   "cell_type": "code",
   "execution_count": null,
   "id": "daff4e0c",
   "metadata": {},
   "outputs": [],
   "source": [
    "listings = soup.find_all('div', class_='listing_LinkedListingCard__5SRvZ')"
   ]
  },
  {
   "cell_type": "code",
   "execution_count": null,
   "id": "09d56867",
   "metadata": {},
   "outputs": [],
   "source": [
    "for listing in listings:\n",
    "    #title = listing.find('h4', class_='listingCard_title__45XgY listingCard_truncatedText__otzLq').text.strip()\n",
    "    \n",
    "    price = listing.find('div', class_='listingCard_price__N5eJ4').text.strip()\n",
    "    size = listing.find('div', class_='listingCard_spec__iKaqt').text.strip()\n",
    "    rooms = listing.find_all('div', class_='listingCard_spec__iKaqt')[1].text.strip()#.text.strip()\n",
    "    Livingrooms = listing.find_all('div', class_='listingCard_spec__iKaqt')[2].text.strip()\n",
    "    city = listing.find('div', class_='listingCard_city__ApOJt').text.strip()\n",
    "    district = listing.find('div',class_ =\"listingCard_district__5U3jm\").text.strip()\n",
    "    typ = 'villa'\n",
    "    \n",
    "    #roomsn =  rooms.find_next_sibling().text\n",
    "    \n",
    "    allHouses.append([price,rooms,size,Livingrooms,city,district,typ]) \n",
    "    print(allHouses)\n",
    "    "
   ]
  },
  {
   "cell_type": "code",
   "execution_count": null,
   "id": "a17e94be",
   "metadata": {},
   "outputs": [],
   "source": [
    "url = 'https://sa.aqar.fm/%D9%81%D9%84%D9%84-%D9%84%D9%84%D8%A8%D9%8A%D8%B9/7'\n",
    "response = requests.get(url)"
   ]
  },
  {
   "cell_type": "code",
   "execution_count": null,
   "id": "61191530",
   "metadata": {},
   "outputs": [],
   "source": [
    "response =response.content\n",
    "soup = BeautifulSoup(response,'html.parser')\n"
   ]
  },
  {
   "cell_type": "code",
   "execution_count": null,
   "id": "60046fb2",
   "metadata": {},
   "outputs": [],
   "source": [
    "listings = soup.find_all('div', class_='listing_LinkedListingCard__5SRvZ')"
   ]
  },
  {
   "cell_type": "code",
   "execution_count": null,
   "id": "5bc4bdce",
   "metadata": {},
   "outputs": [],
   "source": [
    "for listing in listings:\n",
    "    #title = listing.find('h4', class_='listingCard_title__45XgY listingCard_truncatedText__otzLq').text.strip()\n",
    "    \n",
    "    price = listing.find('div', class_='listingCard_price__N5eJ4').text.strip()\n",
    "    size = listing.find('div', class_='listingCard_spec__iKaqt').text.strip()\n",
    "    rooms = listing.find_all('div', class_='listingCard_spec__iKaqt')[1].text.strip()#.text.strip()\n",
    "    Livingrooms = listing.find_all('div', class_='listingCard_spec__iKaqt')[2].text.strip()\n",
    "    city = listing.find('div', class_='listingCard_city__ApOJt').text.strip()\n",
    "    district = listing.find('div',class_ =\"listingCard_district__5U3jm\").text.strip()\n",
    "    typ = 'villa'\n",
    "    \n",
    "    #roomsn =  rooms.find_next_sibling().text\n",
    "    \n",
    "    allHouses.append([price,rooms,size,Livingrooms,city,district,typ]) \n",
    "    print(allHouses)\n",
    "    "
   ]
  },
  {
   "cell_type": "code",
   "execution_count": null,
   "id": "5e63e8f2",
   "metadata": {},
   "outputs": [],
   "source": [
    "url = 'https://sa.aqar.fm/%D9%81%D9%84%D9%84-%D9%84%D9%84%D8%A8%D9%8A%D8%B9/8'\n",
    "response = requests.get(url)"
   ]
  },
  {
   "cell_type": "code",
   "execution_count": null,
   "id": "7c023523",
   "metadata": {},
   "outputs": [],
   "source": [
    "response =response.content\n",
    "soup = BeautifulSoup(response,'html.parser')\n"
   ]
  },
  {
   "cell_type": "code",
   "execution_count": null,
   "id": "f2b4dd94",
   "metadata": {},
   "outputs": [],
   "source": [
    "listings = soup.find_all('div', class_='listing_LinkedListingCard__5SRvZ')"
   ]
  },
  {
   "cell_type": "code",
   "execution_count": null,
   "id": "f133420b",
   "metadata": {},
   "outputs": [],
   "source": [
    "for listing in listings:\n",
    "    #title = listing.find('h4', class_='listingCard_title__45XgY listingCard_truncatedText__otzLq').text.strip()\n",
    "    \n",
    "    price = listing.find('div', class_='listingCard_price__N5eJ4').text.strip()\n",
    "    size = listing.find('div', class_='listingCard_spec__iKaqt').text.strip()\n",
    "    rooms = listing.find_all('div', class_='listingCard_spec__iKaqt')[1].text.strip()#.text.strip()\n",
    "    Livingrooms = listing.find_all('div', class_='listingCard_spec__iKaqt')[2].text.strip()\n",
    "    city = listing.find('div', class_='listingCard_city__ApOJt').text.strip()\n",
    "    district = listing.find('div',class_ =\"listingCard_district__5U3jm\").text.strip()\n",
    "    typ = 'villa'\n",
    "    \n",
    "    #roomsn =  rooms.find_next_sibling().text\n",
    "    \n",
    "    allHouses.append([price,rooms,size,Livingrooms,city,district,typ]) \n",
    "    print(allHouses)\n",
    "    "
   ]
  },
  {
   "cell_type": "code",
   "execution_count": null,
   "id": "348f8b67",
   "metadata": {},
   "outputs": [],
   "source": [
    "url = 'https://sa.aqar.fm/%D9%81%D9%84%D9%84-%D9%84%D9%84%D8%A8%D9%8A%D8%B9/9'\n",
    "response = requests.get(url)"
   ]
  },
  {
   "cell_type": "code",
   "execution_count": null,
   "id": "dc43f9fb",
   "metadata": {},
   "outputs": [],
   "source": [
    "response =response.content\n",
    "soup = BeautifulSoup(response,'html.parser')\n"
   ]
  },
  {
   "cell_type": "code",
   "execution_count": null,
   "id": "c126417d",
   "metadata": {},
   "outputs": [],
   "source": [
    "listings = soup.find_all('div', class_='listing_LinkedListingCard__5SRvZ')"
   ]
  },
  {
   "cell_type": "code",
   "execution_count": null,
   "id": "1cbafb82",
   "metadata": {},
   "outputs": [],
   "source": [
    "for listing in listings:\n",
    "    #title = listing.find('h4', class_='listingCard_title__45XgY listingCard_truncatedText__otzLq').text.strip()\n",
    "    \n",
    "    price = listing.find('div', class_='listingCard_price__N5eJ4').text.strip()\n",
    "    size = listing.find('div', class_='listingCard_spec__iKaqt').text.strip()\n",
    "    rooms = listing.find_all('div', class_='listingCard_spec__iKaqt')[1].text.strip()#.text.strip()\n",
    "    Livingrooms = listing.find_all('div', class_='listingCard_spec__iKaqt')[2].text.strip()\n",
    "    city = listing.find('div', class_='listingCard_city__ApOJt').text.strip()\n",
    "    district = listing.find('div',class_ =\"listingCard_district__5U3jm\").text.strip()\n",
    "    typ = 'villa'\n",
    "    \n",
    "    #roomsn =  rooms.find_next_sibling().text\n",
    "    \n",
    "    allHouses.append([price,rooms,size,Livingrooms,city,district,typ]) \n",
    "    print(allHouses)"
   ]
  },
  {
   "cell_type": "code",
   "execution_count": null,
   "id": "bf1fd9de",
   "metadata": {},
   "outputs": [],
   "source": [
    "url = 'https://sa.aqar.fm/%D9%81%D9%84%D9%84-%D9%84%D9%84%D8%A8%D9%8A%D8%B9/10'\n",
    "response = requests.get(url)"
   ]
  },
  {
   "cell_type": "code",
   "execution_count": null,
   "id": "ee8e0c04",
   "metadata": {},
   "outputs": [],
   "source": [
    "response =response.content\n",
    "soup = BeautifulSoup(response,'html.parser')"
   ]
  },
  {
   "cell_type": "code",
   "execution_count": null,
   "id": "74dea3a9",
   "metadata": {},
   "outputs": [],
   "source": [
    "listings = soup.find_all('div', class_='listing_LinkedListingCard__5SRvZ')"
   ]
  },
  {
   "cell_type": "code",
   "execution_count": null,
   "id": "233e4f1c",
   "metadata": {},
   "outputs": [],
   "source": [
    "for listing in listings:\n",
    "    #title = listing.find('h4', class_='listingCard_title__45XgY listingCard_truncatedText__otzLq').text.strip()\n",
    "    \n",
    "    price = listing.find('div', class_='listingCard_price__N5eJ4').text.strip()\n",
    "    size = listing.find('div', class_='listingCard_spec__iKaqt').text.strip()\n",
    "    rooms = listing.find_all('div', class_='listingCard_spec__iKaqt')[1].text.strip()#.text.strip()\n",
    "    Livingrooms = listing.find_all('div', class_='listingCard_spec__iKaqt')[2].text.strip()\n",
    "    city = listing.find('div', class_='listingCard_city__ApOJt').text.strip()\n",
    "    district = listing.find('div',class_ =\"listingCard_district__5U3jm\").text.strip()\n",
    "    typ = 'villa'\n",
    "    \n",
    "    #roomsn =  rooms.find_next_sibling().text\n",
    "    \n",
    "    allHouses.append([price,rooms,size,Livingrooms,city,district,typ]) \n",
    "    print(allHouses)"
   ]
  },
  {
   "cell_type": "code",
   "execution_count": null,
   "id": "1c7b8a92",
   "metadata": {},
   "outputs": [],
   "source": [
    "url = 'https://sa.aqar.fm/%D9%81%D9%84%D9%84-%D9%84%D9%84%D8%A8%D9%8A%D8%B9/11'\n",
    "response = requests.get(url)"
   ]
  },
  {
   "cell_type": "code",
   "execution_count": null,
   "id": "72ad3ae1",
   "metadata": {},
   "outputs": [],
   "source": [
    "response =response.content\n",
    "soup = BeautifulSoup(response,'html.parser')"
   ]
  },
  {
   "cell_type": "code",
   "execution_count": null,
   "id": "7fcb0502",
   "metadata": {},
   "outputs": [],
   "source": [
    "listings = soup.find_all('div', class_='listing_LinkedListingCard__5SRvZ')"
   ]
  },
  {
   "cell_type": "code",
   "execution_count": null,
   "id": "7a7dccf4",
   "metadata": {},
   "outputs": [],
   "source": [
    "for listing in listings:\n",
    "    #title = listing.find('h4', class_='listingCard_title__45XgY listingCard_truncatedText__otzLq').text.strip()\n",
    "    \n",
    "    price = listing.find('div', class_='listingCard_price__N5eJ4').text.strip()\n",
    "    size = listing.find('div', class_='listingCard_spec__iKaqt').text.strip()\n",
    "    rooms = listing.find_all('div', class_='listingCard_spec__iKaqt')[1].text.strip()#.text.strip()\n",
    "    Livingrooms = listing.find_all('div', class_='listingCard_spec__iKaqt')[2].text.strip()\n",
    "    city = listing.find('div', class_='listingCard_city__ApOJt').text.strip()\n",
    "    district = listing.find('div',class_ =\"listingCard_district__5U3jm\").text.strip()\n",
    "    typ = 'villa'\n",
    "    \n",
    "    #roomsn =  rooms.find_next_sibling().text\n",
    "    \n",
    "    allHouses.append([price,rooms,size,Livingrooms,city,district,typ]) \n",
    "    print(allHouses)"
   ]
  },
  {
   "cell_type": "code",
   "execution_count": null,
   "id": "f8d45c22",
   "metadata": {},
   "outputs": [],
   "source": [
    "len(allHouses)"
   ]
  },
  {
   "cell_type": "code",
   "execution_count": null,
   "id": "9cd02728",
   "metadata": {},
   "outputs": [],
   "source": [
    "url = 'https://sa.aqar.fm/%D9%81%D9%84%D9%84-%D9%84%D9%84%D8%A8%D9%8A%D8%B9/12'\n",
    "response = requests.get(url)"
   ]
  },
  {
   "cell_type": "code",
   "execution_count": null,
   "id": "fa5ebc15",
   "metadata": {},
   "outputs": [],
   "source": [
    "response =response.content\n",
    "soup = BeautifulSoup(response,'html.parser')"
   ]
  },
  {
   "cell_type": "code",
   "execution_count": null,
   "id": "4287baee",
   "metadata": {},
   "outputs": [],
   "source": [
    "listings = soup.find_all('div', class_='listing_LinkedListingCard__5SRvZ')"
   ]
  },
  {
   "cell_type": "code",
   "execution_count": null,
   "id": "faf253f8",
   "metadata": {},
   "outputs": [],
   "source": [
    "for listing in listings:\n",
    "    #title = listing.find('h4', class_='listingCard_title__45XgY listingCard_truncatedText__otzLq').text.strip()\n",
    "    \n",
    "    price = listing.find('div', class_='listingCard_price__N5eJ4').text.strip()\n",
    "    size = listing.find('div', class_='listingCard_spec__iKaqt').text.strip()\n",
    "    rooms = listing.find_all('div', class_='listingCard_spec__iKaqt')[1].text.strip()#.text.strip()\n",
    "    Livingrooms = listing.find_all('div', class_='listingCard_spec__iKaqt')[2].text.strip()\n",
    "    city = listing.find('div', class_='listingCard_city__ApOJt').text.strip()\n",
    "    district = listing.find('div',class_ =\"listingCard_district__5U3jm\").text.strip()\n",
    "    typ = 'villa'\n",
    "    \n",
    "    #roomsn =  rooms.find_next_sibling().text\n",
    "    \n",
    "    allHouses.append([price,rooms,size,Livingrooms,city,district,typ]) \n",
    "    print(allHouses)"
   ]
  },
  {
   "cell_type": "code",
   "execution_count": null,
   "id": "96f23d20",
   "metadata": {},
   "outputs": [],
   "source": [
    "url = 'https://sa.aqar.fm/%D9%81%D9%84%D9%84-%D9%84%D9%84%D8%A8%D9%8A%D8%B9/13'\n",
    "response = requests.get(url)"
   ]
  },
  {
   "cell_type": "code",
   "execution_count": null,
   "id": "720d76f0",
   "metadata": {},
   "outputs": [],
   "source": [
    "response =response.content\n",
    "soup = BeautifulSoup(response,'html.parser')"
   ]
  },
  {
   "cell_type": "code",
   "execution_count": null,
   "id": "c78d54c1",
   "metadata": {},
   "outputs": [],
   "source": [
    "listings = soup.find_all('div', class_='listing_LinkedListingCard__5SRvZ')"
   ]
  },
  {
   "cell_type": "code",
   "execution_count": null,
   "id": "1119e545",
   "metadata": {},
   "outputs": [],
   "source": [
    "for listing in listings:\n",
    "    #title = listing.find('h4', class_='listingCard_title__45XgY listingCard_truncatedText__otzLq').text.strip()\n",
    "    \n",
    "    price = listing.find('div', class_='listingCard_price__N5eJ4').text.strip()\n",
    "    size = listing.find('div', class_='listingCard_spec__iKaqt').text.strip()\n",
    "    rooms = listing.find_all('div', class_='listingCard_spec__iKaqt')[1].text.strip()#.text.strip()\n",
    "    Livingrooms = listing.find_all('div', class_='listingCard_spec__iKaqt')[2].text.strip()\n",
    "    city = listing.find('div', class_='listingCard_city__ApOJt').text.strip()\n",
    "    district = listing.find('div',class_ =\"listingCard_district__5U3jm\").text.strip()\n",
    "    typ = 'villa'\n",
    "    \n",
    "    #roomsn =  rooms.find_next_sibling().text\n",
    "    \n",
    "    allHouses.append([price,rooms,size,Livingrooms,city,district,typ]) \n",
    "    print(allHouses)"
   ]
  },
  {
   "cell_type": "code",
   "execution_count": null,
   "id": "9f025872",
   "metadata": {},
   "outputs": [],
   "source": [
    "url = 'https://sa.aqar.fm/%D9%81%D9%84%D9%84-%D9%84%D9%84%D8%A8%D9%8A%D8%B9/14'\n",
    "response = requests.get(url)"
   ]
  },
  {
   "cell_type": "code",
   "execution_count": null,
   "id": "fcff944c",
   "metadata": {},
   "outputs": [],
   "source": [
    "response =response.content\n",
    "soup = BeautifulSoup(response,'html.parser')\n"
   ]
  },
  {
   "cell_type": "code",
   "execution_count": null,
   "id": "22a000b6",
   "metadata": {},
   "outputs": [],
   "source": [
    "listings = soup.find_all('div', class_='listing_LinkedListingCard__5SRvZ')"
   ]
  },
  {
   "cell_type": "code",
   "execution_count": null,
   "id": "fde1d519",
   "metadata": {},
   "outputs": [],
   "source": [
    "for listing in listings:\n",
    "    #title = listing.find('h4', class_='listingCard_title__45XgY listingCard_truncatedText__otzLq').text.strip()\n",
    "    \n",
    "    price = listing.find('div', class_='listingCard_price__N5eJ4').text.strip()\n",
    "    size = listing.find('div', class_='listingCard_spec__iKaqt').text.strip()\n",
    "    rooms = listing.find_all('div', class_='listingCard_spec__iKaqt')[1].text.strip()#.text.strip()\n",
    "    Livingrooms = listing.find_all('div', class_='listingCard_spec__iKaqt')[2].text.strip()\n",
    "    city = listing.find('div', class_='listingCard_city__ApOJt').text.strip()\n",
    "    district = listing.find('div',class_ =\"listingCard_district__5U3jm\").text.strip()\n",
    "    typ = 'villa'\n",
    "    \n",
    "    #roomsn =  rooms.find_next_sibling().text\n",
    "    \n",
    "    allHouses.append([price,rooms,size,Livingrooms,city,district,typ]) \n",
    "    print(allHouses)"
   ]
  },
  {
   "cell_type": "code",
   "execution_count": null,
   "id": "517c41ed",
   "metadata": {},
   "outputs": [],
   "source": [
    "url = 'https://sa.aqar.fm/%D9%81%D9%84%D9%84-%D9%84%D9%84%D8%A8%D9%8A%D8%B9/15'\n",
    "response = requests.get(url)"
   ]
  },
  {
   "cell_type": "code",
   "execution_count": null,
   "id": "33596a44",
   "metadata": {},
   "outputs": [],
   "source": [
    "response =response.content\n",
    "soup = BeautifulSoup(response,'html.parser')\n"
   ]
  },
  {
   "cell_type": "code",
   "execution_count": null,
   "id": "8701ff51",
   "metadata": {},
   "outputs": [],
   "source": [
    "listings = soup.find_all('div', class_='listing_LinkedListingCard__5SRvZ')"
   ]
  },
  {
   "cell_type": "code",
   "execution_count": null,
   "id": "aa3f028b",
   "metadata": {},
   "outputs": [],
   "source": [
    "for listing in listings:\n",
    "    #title = listing.find('h4', class_='listingCard_title__45XgY listingCard_truncatedText__otzLq').text.strip()\n",
    "    \n",
    "    price = listing.find('div', class_='listingCard_price__N5eJ4').text.strip()\n",
    "    size = listing.find('div', class_='listingCard_spec__iKaqt').text.strip()\n",
    "    rooms = listing.find_all('div', class_='listingCard_spec__iKaqt')[1].text.strip()#.text.strip()\n",
    "    Livingrooms = listing.find_all('div', class_='listingCard_spec__iKaqt')[2].text.strip()\n",
    "    city = listing.find('div', class_='listingCard_city__ApOJt').text.strip()\n",
    "    district = listing.find('div',class_ =\"listingCard_district__5U3jm\").text.strip()\n",
    "    typ = 'villa'\n",
    "    \n",
    "    #roomsn =  rooms.find_next_sibling().text\n",
    "    \n",
    "    allHouses.append([price,rooms,size,Livingrooms,city,district,typ]) \n",
    "    print(allHouses)"
   ]
  },
  {
   "cell_type": "code",
   "execution_count": null,
   "id": "ff2ff089",
   "metadata": {},
   "outputs": [],
   "source": [
    "url = 'https://sa.aqar.fm/%D9%81%D9%84%D9%84-%D9%84%D9%84%D8%A8%D9%8A%D8%B9/16'\n",
    "response = requests.get(url)"
   ]
  },
  {
   "cell_type": "code",
   "execution_count": null,
   "id": "8f0c800f",
   "metadata": {},
   "outputs": [],
   "source": [
    "response =response.content\n",
    "soup = BeautifulSoup(response,'html.parser')"
   ]
  },
  {
   "cell_type": "code",
   "execution_count": null,
   "id": "a3890243",
   "metadata": {},
   "outputs": [],
   "source": [
    "listings = soup.find_all('div', class_='listing_LinkedListingCard__5SRvZ')"
   ]
  },
  {
   "cell_type": "code",
   "execution_count": null,
   "id": "52c96d2d",
   "metadata": {},
   "outputs": [],
   "source": [
    "for listing in listings:\n",
    "    #title = listing.find('h4', class_='listingCard_title__45XgY listingCard_truncatedText__otzLq').text.strip()\n",
    "    \n",
    "    price = listing.find('div', class_='listingCard_price__N5eJ4').text.strip()\n",
    "    size = listing.find('div', class_='listingCard_spec__iKaqt').text.strip()\n",
    "    rooms = listing.find_all('div', class_='listingCard_spec__iKaqt')[1].text.strip()#.text.strip()\n",
    "    Livingrooms = listing.find_all('div', class_='listingCard_spec__iKaqt')[2].text.strip()\n",
    "    city = listing.find('div', class_='listingCard_city__ApOJt').text.strip()\n",
    "    district = listing.find('div',class_ =\"listingCard_district__5U3jm\").text.strip()\n",
    "    typ = 'villa'\n",
    "    \n",
    "    #roomsn =  rooms.find_next_sibling().text\n",
    "    \n",
    "    allHouses.append([price,rooms,size,Livingrooms,city,district,typ]) \n",
    "    print(allHouses)"
   ]
  },
  {
   "cell_type": "code",
   "execution_count": null,
   "id": "552c2905",
   "metadata": {},
   "outputs": [],
   "source": [
    "url = 'https://sa.aqar.fm/%D9%81%D9%84%D9%84-%D9%84%D9%84%D8%A8%D9%8A%D8%B9/17'\n",
    "response = requests.get(url)"
   ]
  },
  {
   "cell_type": "code",
   "execution_count": null,
   "id": "a5d28232",
   "metadata": {},
   "outputs": [],
   "source": [
    "response =response.content\n",
    "soup = BeautifulSoup(response,'html.parser')"
   ]
  },
  {
   "cell_type": "code",
   "execution_count": null,
   "id": "21a0c7c7",
   "metadata": {},
   "outputs": [],
   "source": [
    "listings = soup.find_all('div', class_='listing_LinkedListingCard__5SRvZ')"
   ]
  },
  {
   "cell_type": "code",
   "execution_count": null,
   "id": "2ec85061",
   "metadata": {},
   "outputs": [],
   "source": [
    "for listing in listings:\n",
    "    #title = listing.find('h4', class_='listingCard_title__45XgY listingCard_truncatedText__otzLq').text.strip()\n",
    "    \n",
    "    price = listing.find('div', class_='listingCard_price__N5eJ4').text.strip()\n",
    "    size = listing.find('div', class_='listingCard_spec__iKaqt').text.strip()\n",
    "    rooms = listing.find_all('div', class_='listingCard_spec__iKaqt')[1].text.strip()#.text.strip()\n",
    "    Livingrooms = listing.find_all('div', class_='listingCard_spec__iKaqt')[2].text.strip()\n",
    "    city = listing.find('div', class_='listingCard_city__ApOJt').text.strip()\n",
    "    district = listing.find('div',class_ =\"listingCard_district__5U3jm\").text.strip()\n",
    "    typ = 'villa'\n",
    "    \n",
    "    #roomsn =  rooms.find_next_sibling().text\n",
    "    \n",
    "    allHouses.append([price,rooms,size,Livingrooms,city,district,typ]) \n",
    "    print(allHouses)"
   ]
  },
  {
   "cell_type": "code",
   "execution_count": null,
   "id": "269d62d7",
   "metadata": {},
   "outputs": [],
   "source": [
    "url = 'https://sa.aqar.fm/%D9%81%D9%84%D9%84-%D9%84%D9%84%D8%A8%D9%8A%D8%B9/18'\n",
    "response = requests.get(url)"
   ]
  },
  {
   "cell_type": "code",
   "execution_count": null,
   "id": "4b1c3219",
   "metadata": {},
   "outputs": [],
   "source": [
    "response =response.content\n",
    "soup = BeautifulSoup(response,'html.parser')"
   ]
  },
  {
   "cell_type": "code",
   "execution_count": null,
   "id": "134e1195",
   "metadata": {},
   "outputs": [],
   "source": [
    "listings = soup.find_all('div', class_='listing_LinkedListingCard__5SRvZ')"
   ]
  },
  {
   "cell_type": "code",
   "execution_count": null,
   "id": "35b26498",
   "metadata": {},
   "outputs": [],
   "source": [
    "for listing in listings:\n",
    "    #title = listing.find('h4', class_='listingCard_title__45XgY listingCard_truncatedText__otzLq').text.strip()\n",
    "    \n",
    "    price = listing.find('div', class_='listingCard_price__N5eJ4').text.strip()\n",
    "    size = listing.find('div', class_='listingCard_spec__iKaqt').text.strip()\n",
    "    rooms = listing.find_all('div', class_='listingCard_spec__iKaqt')[1].text.strip()#.text.strip()\n",
    "    Livingrooms = listing.find_all('div', class_='listingCard_spec__iKaqt')[2].text.strip()\n",
    "    city = listing.find('div', class_='listingCard_city__ApOJt').text.strip()\n",
    "    district = listing.find('div',class_ =\"listingCard_district__5U3jm\").text.strip()\n",
    "    typ = 'villa'\n",
    "    \n",
    "    #roomsn =  rooms.find_next_sibling().text\n",
    "    \n",
    "    allHouses.append([price,rooms,size,Livingrooms,city,district,typ]) \n",
    "    print(allHouses)"
   ]
  },
  {
   "cell_type": "code",
   "execution_count": null,
   "id": "acfd789f",
   "metadata": {},
   "outputs": [],
   "source": [
    "url = 'https://sa.aqar.fm/%D9%81%D9%84%D9%84-%D9%84%D9%84%D8%A8%D9%8A%D8%B9/19'\n",
    "response = requests.get(url)"
   ]
  },
  {
   "cell_type": "code",
   "execution_count": null,
   "id": "a6aa9d22",
   "metadata": {},
   "outputs": [],
   "source": [
    "response =response.content\n",
    "soup = BeautifulSoup(response,'html.parser')"
   ]
  },
  {
   "cell_type": "code",
   "execution_count": null,
   "id": "e07279fb",
   "metadata": {},
   "outputs": [],
   "source": [
    "listings = soup.find_all('div', class_='listing_LinkedListingCard__5SRvZ')"
   ]
  },
  {
   "cell_type": "code",
   "execution_count": null,
   "id": "673a23d9",
   "metadata": {},
   "outputs": [],
   "source": [
    "for listing in listings:\n",
    "    #title = listing.find('h4', class_='listingCard_title__45XgY listingCard_truncatedText__otzLq').text.strip()\n",
    "    \n",
    "    price = listing.find('div', class_='listingCard_price__N5eJ4').text.strip()\n",
    "    size = listing.find('div', class_='listingCard_spec__iKaqt').text.strip()\n",
    "    rooms = listing.find_all('div', class_='listingCard_spec__iKaqt')[1].text.strip()#.text.strip()\n",
    "    Livingrooms = listing.find_all('div', class_='listingCard_spec__iKaqt')[2].text.strip()\n",
    "    city = listing.find('div', class_='listingCard_city__ApOJt').text.strip()\n",
    "    district = listing.find('div',class_ =\"listingCard_district__5U3jm\").text.strip()\n",
    "    typ = 'villa'\n",
    "    \n",
    "    #roomsn =  rooms.find_next_sibling().text\n",
    "    \n",
    "    allHouses.append([price,rooms,size,Livingrooms,city,district,typ]) \n",
    "    print(allHouses)"
   ]
  },
  {
   "cell_type": "code",
   "execution_count": null,
   "id": "92e24f6e",
   "metadata": {},
   "outputs": [],
   "source": [
    "url = 'https://sa.aqar.fm/%D9%81%D9%84%D9%84-%D9%84%D9%84%D8%A8%D9%8A%D8%B9/20'\n",
    "response = requests.get(url)"
   ]
  },
  {
   "cell_type": "code",
   "execution_count": null,
   "id": "8533ab02",
   "metadata": {},
   "outputs": [],
   "source": [
    "response =response.content\n",
    "soup = BeautifulSoup(response,'html.parser')"
   ]
  },
  {
   "cell_type": "code",
   "execution_count": null,
   "id": "c0bd60d3",
   "metadata": {},
   "outputs": [],
   "source": [
    "listings = soup.find_all('div', class_='listing_LinkedListingCard__5SRvZ')"
   ]
  },
  {
   "cell_type": "code",
   "execution_count": null,
   "id": "5599c974",
   "metadata": {},
   "outputs": [],
   "source": [
    "for listing in listings:\n",
    "    #title = listing.find('h4', class_='listingCard_title__45XgY listingCard_truncatedText__otzLq').text.strip()\n",
    "    \n",
    "    price = listing.find('div', class_='listingCard_price__N5eJ4').text.strip()\n",
    "    size = listing.find('div', class_='listingCard_spec__iKaqt').text.strip()\n",
    "    rooms = listing.find_all('div', class_='listingCard_spec__iKaqt')[1].text.strip()#.text.strip()\n",
    "    Livingrooms = listing.find_all('div', class_='listingCard_spec__iKaqt')[2].text.strip()\n",
    "    city = listing.find('div', class_='listingCard_city__ApOJt').text.strip()\n",
    "    district = listing.find('div',class_ =\"listingCard_district__5U3jm\").text.strip()\n",
    "    typ = 'villa'\n",
    "    \n",
    "    #roomsn =  rooms.find_next_sibling().text\n",
    "    \n",
    "    allHouses.append([price,rooms,size,Livingrooms,city,district,typ]) \n",
    "    print(allHouses)"
   ]
  },
  {
   "cell_type": "code",
   "execution_count": null,
   "id": "70244082",
   "metadata": {},
   "outputs": [],
   "source": [
    "url = 'https://sa.aqar.fm/%D9%81%D9%84%D9%84-%D9%84%D9%84%D8%A8%D9%8A%D8%B9/21'\n",
    "response = requests.get(url)"
   ]
  },
  {
   "cell_type": "code",
   "execution_count": null,
   "id": "a769eee9",
   "metadata": {},
   "outputs": [],
   "source": [
    "response =response.content\n",
    "soup = BeautifulSoup(response,'html.parser')"
   ]
  },
  {
   "cell_type": "code",
   "execution_count": null,
   "id": "6d745727",
   "metadata": {},
   "outputs": [],
   "source": [
    "listings = soup.find_all('div', class_='listing_LinkedListingCard__5SRvZ')"
   ]
  },
  {
   "cell_type": "code",
   "execution_count": null,
   "id": "3a05fada",
   "metadata": {},
   "outputs": [],
   "source": [
    "for listing in listings:\n",
    "    #title = listing.find('h4', class_='listingCard_title__45XgY listingCard_truncatedText__otzLq').text.strip()\n",
    "    \n",
    "    price = listing.find('div', class_='listingCard_price__N5eJ4').text.strip()\n",
    "    size = listing.find('div', class_='listingCard_spec__iKaqt').text.strip()\n",
    "    rooms = listing.find_all('div', class_='listingCard_spec__iKaqt')[1].text.strip()#.text.strip()\n",
    "    Livingrooms = listing.find_all('div', class_='listingCard_spec__iKaqt')[2].text.strip()\n",
    "    city = listing.find('div', class_='listingCard_city__ApOJt').text.strip()\n",
    "    district = listing.find('div',class_ =\"listingCard_district__5U3jm\").text.strip()\n",
    "    typ = 'villa'\n",
    "    \n",
    "    #roomsn =  rooms.find_next_sibling().text\n",
    "    \n",
    "    allHouses.append([price,rooms,size,Livingrooms,city,district,typ]) \n",
    "    print(allHouses)"
   ]
  },
  {
   "cell_type": "code",
   "execution_count": null,
   "id": "80c38690",
   "metadata": {},
   "outputs": [],
   "source": [
    "url = 'https://sa.aqar.fm/%D9%81%D9%84%D9%84-%D9%84%D9%84%D8%A8%D9%8A%D8%B9/22'\n",
    "response = requests.get(url)"
   ]
  },
  {
   "cell_type": "code",
   "execution_count": null,
   "id": "8e2c2b49",
   "metadata": {},
   "outputs": [],
   "source": [
    "response =response.content\n",
    "soup = BeautifulSoup(response,'html.parser')"
   ]
  },
  {
   "cell_type": "code",
   "execution_count": null,
   "id": "be00c2d3",
   "metadata": {},
   "outputs": [],
   "source": [
    "listings = soup.find_all('div', class_='listing_LinkedListingCard__5SRvZ')"
   ]
  },
  {
   "cell_type": "code",
   "execution_count": null,
   "id": "57b0c56d",
   "metadata": {},
   "outputs": [],
   "source": [
    "for listing in listings:\n",
    "    #title = listing.find('h4', class_='listingCard_title__45XgY listingCard_truncatedText__otzLq').text.strip()\n",
    "    \n",
    "    price = listing.find('div', class_='listingCard_price__N5eJ4').text.strip()\n",
    "    size = listing.find('div', class_='listingCard_spec__iKaqt').text.strip()\n",
    "    rooms = listing.find_all('div', class_='listingCard_spec__iKaqt')[1].text.strip()#.text.strip()\n",
    "    Livingrooms = listing.find_all('div', class_='listingCard_spec__iKaqt')[2].text.strip()\n",
    "    city = listing.find('div', class_='listingCard_city__ApOJt').text.strip()\n",
    "    district = listing.find('div',class_ =\"listingCard_district__5U3jm\").text.strip()\n",
    "    typ = 'villa'\n",
    "    \n",
    "    #roomsn =  rooms.find_next_sibling().text\n",
    "    \n",
    "    allHouses.append([price,rooms,size,Livingrooms,city,district,typ]) \n",
    "    print(allHouses)"
   ]
  },
  {
   "cell_type": "code",
   "execution_count": null,
   "id": "881ec94a",
   "metadata": {},
   "outputs": [],
   "source": [
    "len(allHouses)"
   ]
  },
  {
   "cell_type": "code",
   "execution_count": null,
   "id": "c886b19b",
   "metadata": {},
   "outputs": [],
   "source": [
    "url = 'https://sa.aqar.fm/%D9%81%D9%84%D9%84-%D9%84%D9%84%D8%A8%D9%8A%D8%B9/23'\n",
    "response = requests.get(url)"
   ]
  },
  {
   "cell_type": "code",
   "execution_count": null,
   "id": "5987611c",
   "metadata": {},
   "outputs": [],
   "source": [
    "response =response.content\n",
    "soup = BeautifulSoup(response,'html.parser')"
   ]
  },
  {
   "cell_type": "code",
   "execution_count": null,
   "id": "42dc2044",
   "metadata": {},
   "outputs": [],
   "source": [
    "listings = soup.find_all('div', class_='listing_LinkedListingCard__5SRvZ')"
   ]
  },
  {
   "cell_type": "code",
   "execution_count": null,
   "id": "c8fa5260",
   "metadata": {},
   "outputs": [],
   "source": [
    "for listing in listings:\n",
    "    #title = listing.find('h4', class_='listingCard_title__45XgY listingCard_truncatedText__otzLq').text.strip()\n",
    "    \n",
    "    price = listing.find('div', class_='listingCard_price__N5eJ4').text.strip()\n",
    "    size = listing.find('div', class_='listingCard_spec__iKaqt').text.strip()\n",
    "    rooms = listing.find_all('div', class_='listingCard_spec__iKaqt')[1].text.strip()#.text.strip()\n",
    "    Livingrooms = listing.find_all('div', class_='listingCard_spec__iKaqt')[2].text.strip()\n",
    "    city = listing.find('div', class_='listingCard_city__ApOJt').text.strip()\n",
    "    district = listing.find('div',class_ =\"listingCard_district__5U3jm\").text.strip()\n",
    "    typ = 'villa'\n",
    "    \n",
    "    #roomsn =  rooms.find_next_sibling().text\n",
    "    \n",
    "    allHouses.append([price,rooms,size,Livingrooms,city,district,typ]) \n",
    "    print(allHouses)"
   ]
  },
  {
   "cell_type": "code",
   "execution_count": null,
   "id": "dece4064",
   "metadata": {},
   "outputs": [],
   "source": [
    "url = 'https://sa.aqar.fm/%D9%81%D9%84%D9%84-%D9%84%D9%84%D8%A8%D9%8A%D8%B9/24'\n",
    "response = requests.get(url)"
   ]
  },
  {
   "cell_type": "code",
   "execution_count": null,
   "id": "dda17b3e",
   "metadata": {},
   "outputs": [],
   "source": [
    "response =response.content\n",
    "soup = BeautifulSoup(response,'html.parser')"
   ]
  },
  {
   "cell_type": "code",
   "execution_count": null,
   "id": "e71f2fc9",
   "metadata": {},
   "outputs": [],
   "source": [
    "listings = soup.find_all('div', class_='listing_LinkedListingCard__5SRvZ')"
   ]
  },
  {
   "cell_type": "code",
   "execution_count": null,
   "id": "58a5b244",
   "metadata": {},
   "outputs": [],
   "source": [
    "for listing in listings:\n",
    "    #title = listing.find('h4', class_='listingCard_title__45XgY listingCard_truncatedText__otzLq').text.strip()\n",
    "    \n",
    "    price = listing.find('div', class_='listingCard_price__N5eJ4').text.strip()\n",
    "    size = listing.find('div', class_='listingCard_spec__iKaqt').text.strip()\n",
    "    rooms = listing.find_all('div', class_='listingCard_spec__iKaqt')[1].text.strip()#.text.strip()\n",
    "    Livingrooms = listing.find_all('div', class_='listingCard_spec__iKaqt')[2].text.strip()\n",
    "    city = listing.find('div', class_='listingCard_city__ApOJt').text.strip()\n",
    "    district = listing.find('div',class_ =\"listingCard_district__5U3jm\").text.strip()\n",
    "    typ = 'villa'\n",
    "    \n",
    "    #roomsn =  rooms.find_next_sibling().text\n",
    "    \n",
    "    allHouses.append([price,rooms,size,Livingrooms,city,district,typ]) \n",
    "    print(allHouses)"
   ]
  },
  {
   "cell_type": "code",
   "execution_count": null,
   "id": "90942c2e",
   "metadata": {},
   "outputs": [],
   "source": [
    "url = 'https://sa.aqar.fm/%D9%81%D9%84%D9%84-%D9%84%D9%84%D8%A8%D9%8A%D8%B9/25'\n",
    "response = requests.get(url)"
   ]
  },
  {
   "cell_type": "code",
   "execution_count": null,
   "id": "f2f2c1c6",
   "metadata": {},
   "outputs": [],
   "source": [
    "response =response.content\n",
    "soup = BeautifulSoup(response,'html.parser')"
   ]
  },
  {
   "cell_type": "code",
   "execution_count": null,
   "id": "35cbff2c",
   "metadata": {},
   "outputs": [],
   "source": [
    "listings = soup.find_all('div', class_='listing_LinkedListingCard__5SRvZ')"
   ]
  },
  {
   "cell_type": "code",
   "execution_count": null,
   "id": "467e7882",
   "metadata": {},
   "outputs": [],
   "source": [
    "for listing in listings:\n",
    "    #title = listing.find('h4', class_='listingCard_title__45XgY listingCard_truncatedText__otzLq').text.strip()\n",
    "    \n",
    "    price = listing.find('div', class_='listingCard_price__N5eJ4').text.strip()\n",
    "    size = listing.find('div', class_='listingCard_spec__iKaqt').text.strip()\n",
    "    rooms = listing.find_all('div', class_='listingCard_spec__iKaqt')[1].text.strip()#.text.strip()\n",
    "    Livingrooms = listing.find_all('div', class_='listingCard_spec__iKaqt')[2].text.strip()\n",
    "    city = listing.find('div', class_='listingCard_city__ApOJt').text.strip()\n",
    "    district = listing.find('div',class_ =\"listingCard_district__5U3jm\").text.strip()\n",
    "    typ = 'villa'\n",
    "    \n",
    "    #roomsn =  rooms.find_next_sibling().text\n",
    "    \n",
    "    allHouses.append([price,rooms,size,Livingrooms,city,district,typ]) \n",
    "    #print(allHouses)"
   ]
  },
  {
   "cell_type": "code",
   "execution_count": null,
   "id": "8e070d98",
   "metadata": {},
   "outputs": [],
   "source": [
    "url = 'https://sa.aqar.fm/%D9%81%D9%84%D9%84-%D9%84%D9%84%D8%A8%D9%8A%D8%B9/26'\n",
    "response = requests.get(url)"
   ]
  },
  {
   "cell_type": "code",
   "execution_count": null,
   "id": "04c0d12a",
   "metadata": {},
   "outputs": [],
   "source": [
    "response =response.content\n",
    "soup = BeautifulSoup(response,'html.parser')"
   ]
  },
  {
   "cell_type": "code",
   "execution_count": null,
   "id": "f6fcbda8",
   "metadata": {},
   "outputs": [],
   "source": [
    "listings = soup.find_all('div', class_='listing_LinkedListingCard__5SRvZ')"
   ]
  },
  {
   "cell_type": "code",
   "execution_count": null,
   "id": "7a06d45a",
   "metadata": {},
   "outputs": [],
   "source": [
    "for listing in listings:\n",
    "    #title = listing.find('h4', class_='listingCard_title__45XgY listingCard_truncatedText__otzLq').text.strip()\n",
    "    \n",
    "    price = listing.find('div', class_='listingCard_price__N5eJ4').text.strip()\n",
    "    size = listing.find('div', class_='listingCard_spec__iKaqt').text.strip()\n",
    "    rooms = listing.find_all('div', class_='listingCard_spec__iKaqt')[1].text.strip()#.text.strip()\n",
    "    Livingrooms = listing.find_all('div', class_='listingCard_spec__iKaqt')[2].text.strip()\n",
    "    city = listing.find('div', class_='listingCard_city__ApOJt').text.strip()\n",
    "    district = listing.find('div',class_ =\"listingCard_district__5U3jm\").text.strip()\n",
    "    typ = 'villa'\n",
    "    \n",
    "    #roomsn =  rooms.find_next_sibling().text\n",
    "    \n",
    "    allHouses.append([price,rooms,size,Livingrooms,city,district,typ]) \n",
    "    #print(allHouses)"
   ]
  },
  {
   "cell_type": "code",
   "execution_count": null,
   "id": "fead3aaf",
   "metadata": {},
   "outputs": [],
   "source": [
    "url = 'https://sa.aqar.fm/%D9%81%D9%84%D9%84-%D9%84%D9%84%D8%A8%D9%8A%D8%B9/27'\n",
    "response = requests.get(url)"
   ]
  },
  {
   "cell_type": "code",
   "execution_count": null,
   "id": "57491acf",
   "metadata": {},
   "outputs": [],
   "source": [
    "response =response.content\n",
    "soup = BeautifulSoup(response,'html.parser')"
   ]
  },
  {
   "cell_type": "code",
   "execution_count": null,
   "id": "81ba4b4c",
   "metadata": {},
   "outputs": [],
   "source": [
    "listings = soup.find_all('div', class_='listing_LinkedListingCard__5SRvZ')"
   ]
  },
  {
   "cell_type": "code",
   "execution_count": null,
   "id": "dbbc6535",
   "metadata": {},
   "outputs": [],
   "source": [
    "for listing in listings:\n",
    "    #title = listing.find('h4', class_='listingCard_title__45XgY listingCard_truncatedText__otzLq').text.strip()\n",
    "    \n",
    "    price = listing.find('div', class_='listingCard_price__N5eJ4').text.strip()\n",
    "    size = listing.find('div', class_='listingCard_spec__iKaqt').text.strip()\n",
    "    rooms = listing.find_all('div', class_='listingCard_spec__iKaqt')[1].text.strip()#.text.strip()\n",
    "    Livingrooms = listing.find_all('div', class_='listingCard_spec__iKaqt')[2].text.strip()\n",
    "    city = listing.find('div', class_='listingCard_city__ApOJt').text.strip()\n",
    "    district = listing.find('div',class_ =\"listingCard_district__5U3jm\").text.strip()\n",
    "    typ = 'villa'\n",
    "    \n",
    "    #roomsn =  rooms.find_next_sibling().text\n",
    "    \n",
    "    allHouses.append([price,rooms,size,Livingrooms,city,district,typ]) \n",
    "    #print(allHouses)"
   ]
  },
  {
   "cell_type": "code",
   "execution_count": null,
   "id": "4836055e",
   "metadata": {},
   "outputs": [],
   "source": [
    "url = 'https://sa.aqar.fm/%D9%81%D9%84%D9%84-%D9%84%D9%84%D8%A8%D9%8A%D8%B9/28'\n",
    "response = requests.get(url)"
   ]
  },
  {
   "cell_type": "code",
   "execution_count": null,
   "id": "ed699511",
   "metadata": {},
   "outputs": [],
   "source": [
    "response =response.content\n",
    "soup = BeautifulSoup(response,'html.parser')"
   ]
  },
  {
   "cell_type": "code",
   "execution_count": null,
   "id": "ac60b367",
   "metadata": {},
   "outputs": [],
   "source": [
    "listings = soup.find_all('div', class_='listing_LinkedListingCard__5SRvZ')"
   ]
  },
  {
   "cell_type": "code",
   "execution_count": null,
   "id": "f2db2787",
   "metadata": {},
   "outputs": [],
   "source": [
    "for listing in listings:\n",
    "    #title = listing.find('h4', class_='listingCard_title__45XgY listingCard_truncatedText__otzLq').text.strip()\n",
    "    \n",
    "    price = listing.find('div', class_='listingCard_price__N5eJ4').text.strip()\n",
    "    size = listing.find('div', class_='listingCard_spec__iKaqt').text.strip()\n",
    "    rooms = listing.find_all('div', class_='listingCard_spec__iKaqt')[1].text.strip()#.text.strip()\n",
    "    Livingrooms = listing.find_all('div', class_='listingCard_spec__iKaqt')[2].text.strip()\n",
    "    city = listing.find('div', class_='listingCard_city__ApOJt').text.strip()\n",
    "    district = listing.find('div',class_ =\"listingCard_district__5U3jm\").text.strip()\n",
    "    typ = 'villa'\n",
    "    \n",
    "    #roomsn =  rooms.find_next_sibling().text\n",
    "    \n",
    "    allHouses.append([price,rooms,size,Livingrooms,city,district,typ]) \n",
    "    #print(allHouses)"
   ]
  },
  {
   "cell_type": "code",
   "execution_count": null,
   "id": "26359728",
   "metadata": {},
   "outputs": [],
   "source": [
    "url = 'https://sa.aqar.fm/%D9%81%D9%84%D9%84-%D9%84%D9%84%D8%A8%D9%8A%D8%B9/29'\n",
    "response = requests.get(url)"
   ]
  },
  {
   "cell_type": "code",
   "execution_count": null,
   "id": "dca15873",
   "metadata": {},
   "outputs": [],
   "source": [
    "response =response.content\n",
    "soup = BeautifulSoup(response,'html.parser')"
   ]
  },
  {
   "cell_type": "code",
   "execution_count": null,
   "id": "eea58d50",
   "metadata": {},
   "outputs": [],
   "source": [
    "listings = soup.find_all('div', class_='listing_LinkedListingCard__5SRvZ')"
   ]
  },
  {
   "cell_type": "code",
   "execution_count": null,
   "id": "ad413ffc",
   "metadata": {},
   "outputs": [],
   "source": [
    "for listing in listings:\n",
    "    #title = listing.find('h4', class_='listingCard_title__45XgY listingCard_truncatedText__otzLq').text.strip()\n",
    "    \n",
    "    price = listing.find('div', class_='listingCard_price__N5eJ4').text.strip()\n",
    "    size = listing.find('div', class_='listingCard_spec__iKaqt').text.strip()\n",
    "    rooms = listing.find_all('div', class_='listingCard_spec__iKaqt')[1].text.strip()#.text.strip()\n",
    "    Livingrooms = listing.find_all('div', class_='listingCard_spec__iKaqt')[2].text.strip()\n",
    "    city = listing.find('div', class_='listingCard_city__ApOJt').text.strip()\n",
    "    district = listing.find('div',class_ =\"listingCard_district__5U3jm\").text.strip()\n",
    "    typ = 'villa'\n",
    "    \n",
    "    #roomsn =  rooms.find_next_sibling().text\n",
    "    \n",
    "    allHouses.append([price,rooms,size,Livingrooms,city,district,typ]) \n",
    "    #print(allHouses)"
   ]
  },
  {
   "cell_type": "code",
   "execution_count": null,
   "id": "1fca3085",
   "metadata": {},
   "outputs": [],
   "source": [
    "url = 'https://sa.aqar.fm/%D9%81%D9%84%D9%84-%D9%84%D9%84%D8%A8%D9%8A%D8%B9/30'\n",
    "response = requests.get(url)"
   ]
  },
  {
   "cell_type": "code",
   "execution_count": null,
   "id": "12dd0712",
   "metadata": {},
   "outputs": [],
   "source": [
    "response =response.content\n",
    "soup = BeautifulSoup(response,'html.parser')"
   ]
  },
  {
   "cell_type": "code",
   "execution_count": null,
   "id": "50e374da",
   "metadata": {},
   "outputs": [],
   "source": [
    "listings = soup.find_all('div', class_='listing_LinkedListingCard__5SRvZ')"
   ]
  },
  {
   "cell_type": "code",
   "execution_count": null,
   "id": "adcf5be3",
   "metadata": {},
   "outputs": [],
   "source": [
    "for listing in listings:\n",
    "    #title = listing.find('h4', class_='listingCard_title__45XgY listingCard_truncatedText__otzLq').text.strip()\n",
    "    \n",
    "    price = listing.find('div', class_='listingCard_price__N5eJ4').text.strip()\n",
    "    size = listing.find('div', class_='listingCard_spec__iKaqt').text.strip()\n",
    "    rooms = listing.find_all('div', class_='listingCard_spec__iKaqt')[1].text.strip()#.text.strip()\n",
    "    Livingrooms = listing.find_all('div', class_='listingCard_spec__iKaqt')[2].text.strip()\n",
    "    city = listing.find('div', class_='listingCard_city__ApOJt').text.strip()\n",
    "    district = listing.find('div',class_ =\"listingCard_district__5U3jm\").text.strip()\n",
    "    typ = 'villa'\n",
    "    \n",
    "    #roomsn =  rooms.find_next_sibling().text\n",
    "    \n",
    "    allHouses.append([price,rooms,size,Livingrooms,city,district,typ]) \n",
    "    #print(allHouses)"
   ]
  },
  {
   "cell_type": "code",
   "execution_count": null,
   "id": "135484ed",
   "metadata": {},
   "outputs": [],
   "source": [
    "len(allHouses)"
   ]
  },
  {
   "cell_type": "code",
   "execution_count": null,
   "id": "fc5e1f14",
   "metadata": {},
   "outputs": [],
   "source": [
    "url = 'https://sa.aqar.fm/%D9%81%D9%84%D9%84-%D9%84%D9%84%D8%A8%D9%8A%D8%B9/31'\n",
    "response = requests.get(url)"
   ]
  },
  {
   "cell_type": "code",
   "execution_count": null,
   "id": "6042c0fa",
   "metadata": {},
   "outputs": [],
   "source": [
    "response =response.content\n",
    "soup = BeautifulSoup(response,'html.parser')"
   ]
  },
  {
   "cell_type": "code",
   "execution_count": null,
   "id": "bb4ef073",
   "metadata": {},
   "outputs": [],
   "source": [
    "listings = soup.find_all('div', class_='listing_LinkedListingCard__5SRvZ')"
   ]
  },
  {
   "cell_type": "code",
   "execution_count": null,
   "id": "0a54301c",
   "metadata": {},
   "outputs": [],
   "source": [
    "for listing in listings:\n",
    "    #title = listing.find('h4', class_='listingCard_title__45XgY listingCard_truncatedText__otzLq').text.strip()\n",
    "    \n",
    "    price = listing.find('div', class_='listingCard_price__N5eJ4').text.strip()\n",
    "    size = listing.find('div', class_='listingCard_spec__iKaqt').text.strip()\n",
    "    rooms = listing.find_all('div', class_='listingCard_spec__iKaqt')[1].text.strip()#.text.strip()\n",
    "    Livingrooms = listing.find_all('div', class_='listingCard_spec__iKaqt')[2].text.strip()\n",
    "    city = listing.find('div', class_='listingCard_city__ApOJt').text.strip()\n",
    "    district = listing.find('div',class_ =\"listingCard_district__5U3jm\").text.strip()\n",
    "    typ = 'villa'\n",
    "    \n",
    "    #roomsn =  rooms.find_next_sibling().text\n",
    "    \n",
    "    allHouses.append([price,rooms,size,Livingrooms,city,district,typ]) \n",
    "    #print(allHouses)"
   ]
  },
  {
   "cell_type": "code",
   "execution_count": null,
   "id": "ffb9c26c",
   "metadata": {},
   "outputs": [],
   "source": [
    "url = 'https://sa.aqar.fm/%D9%81%D9%84%D9%84-%D9%84%D9%84%D8%A8%D9%8A%D8%B9/32'\n",
    "response = requests.get(url)"
   ]
  },
  {
   "cell_type": "code",
   "execution_count": null,
   "id": "959f8786",
   "metadata": {},
   "outputs": [],
   "source": [
    "response =response.content\n",
    "soup = BeautifulSoup(response,'html.parser')"
   ]
  },
  {
   "cell_type": "code",
   "execution_count": null,
   "id": "42c8937c",
   "metadata": {},
   "outputs": [],
   "source": [
    "listings = soup.find_all('div', class_='listing_LinkedListingCard__5SRvZ')"
   ]
  },
  {
   "cell_type": "code",
   "execution_count": null,
   "id": "fc5981ca",
   "metadata": {},
   "outputs": [],
   "source": [
    "for listing in listings:\n",
    "    #title = listing.find('h4', class_='listingCard_title__45XgY listingCard_truncatedText__otzLq').text.strip()\n",
    "    \n",
    "    price = listing.find('div', class_='listingCard_price__N5eJ4').text.strip()\n",
    "    size = listing.find('div', class_='listingCard_spec__iKaqt').text.strip()\n",
    "    rooms = listing.find_all('div', class_='listingCard_spec__iKaqt')[1].text.strip()#.text.strip()\n",
    "    Livingrooms = listing.find_all('div', class_='listingCard_spec__iKaqt')[2].text.strip()\n",
    "    city = listing.find('div', class_='listingCard_city__ApOJt').text.strip()\n",
    "    district = listing.find('div',class_ =\"listingCard_district__5U3jm\").text.strip()\n",
    "    typ = 'villa'\n",
    "    \n",
    "    #roomsn =  rooms.find_next_sibling().text\n",
    "    \n",
    "    allHouses.append([price,rooms,size,Livingrooms,city,district,typ]) \n",
    "    #print(allHouses)"
   ]
  },
  {
   "cell_type": "code",
   "execution_count": null,
   "id": "f8da0bd5",
   "metadata": {},
   "outputs": [],
   "source": [
    "url = 'https://sa.aqar.fm/%D9%81%D9%84%D9%84-%D9%84%D9%84%D8%A8%D9%8A%D8%B9/33'\n",
    "response = requests.get(url)"
   ]
  },
  {
   "cell_type": "code",
   "execution_count": null,
   "id": "6efd95f3",
   "metadata": {},
   "outputs": [],
   "source": [
    "response =response.content\n",
    "soup = BeautifulSoup(response,'html.parser')"
   ]
  },
  {
   "cell_type": "code",
   "execution_count": null,
   "id": "a72b53b0",
   "metadata": {},
   "outputs": [],
   "source": [
    "listings = soup.find_all('div', class_='listing_LinkedListingCard__5SRvZ')"
   ]
  },
  {
   "cell_type": "code",
   "execution_count": null,
   "id": "33b92cd1",
   "metadata": {},
   "outputs": [],
   "source": [
    "for listing in listings:\n",
    "    #title = listing.find('h4', class_='listingCard_title__45XgY listingCard_truncatedText__otzLq').text.strip()\n",
    "    \n",
    "    price = listing.find('div', class_='listingCard_price__N5eJ4').text.strip()\n",
    "    size = listing.find('div', class_='listingCard_spec__iKaqt').text.strip()\n",
    "    rooms = listing.find_all('div', class_='listingCard_spec__iKaqt')[1].text.strip()#.text.strip()\n",
    "    Livingrooms = listing.find_all('div', class_='listingCard_spec__iKaqt')[2].text.strip()\n",
    "    city = listing.find('div', class_='listingCard_city__ApOJt').text.strip()\n",
    "    district = listing.find('div',class_ =\"listingCard_district__5U3jm\").text.strip()\n",
    "    typ = 'villa'\n",
    "    \n",
    "    #roomsn =  rooms.find_next_sibling().text\n",
    "    \n",
    "    allHouses.append([price,rooms,size,Livingrooms,city,district,typ]) \n",
    "    #print(allHouses)"
   ]
  },
  {
   "cell_type": "code",
   "execution_count": null,
   "id": "8f7b5b57",
   "metadata": {},
   "outputs": [],
   "source": [
    "url = 'https://sa.aqar.fm/%D9%81%D9%84%D9%84-%D9%84%D9%84%D8%A8%D9%8A%D8%B9/34'\n",
    "response = requests.get(url)"
   ]
  },
  {
   "cell_type": "code",
   "execution_count": null,
   "id": "e8a7f5c0",
   "metadata": {},
   "outputs": [],
   "source": [
    "response =response.content\n",
    "soup = BeautifulSoup(response,'html.parser')"
   ]
  },
  {
   "cell_type": "code",
   "execution_count": null,
   "id": "4b9e2c1d",
   "metadata": {},
   "outputs": [],
   "source": [
    "listings = soup.find_all('div', class_='listing_LinkedListingCard__5SRvZ')"
   ]
  },
  {
   "cell_type": "code",
   "execution_count": null,
   "id": "5472ad94",
   "metadata": {},
   "outputs": [],
   "source": [
    "for listing in listings:\n",
    "    #title = listing.find('h4', class_='listingCard_title__45XgY listingCard_truncatedText__otzLq').text.strip()\n",
    "    \n",
    "    price = listing.find('div', class_='listingCard_price__N5eJ4').text.strip()\n",
    "    size = listing.find('div', class_='listingCard_spec__iKaqt').text.strip()\n",
    "    rooms = listing.find_all('div', class_='listingCard_spec__iKaqt')[1].text.strip()#.text.strip()\n",
    "    Livingrooms = listing.find_all('div', class_='listingCard_spec__iKaqt')[2].text.strip()\n",
    "    city = listing.find('div', class_='listingCard_city__ApOJt').text.strip()\n",
    "    district = listing.find('div',class_ =\"listingCard_district__5U3jm\").text.strip()\n",
    "    typ = 'villa'\n",
    "    \n",
    "    #roomsn =  rooms.find_next_sibling().text\n",
    "    \n",
    "    allHouses.append([price,rooms,size,Livingrooms,city,district,typ]) \n",
    "    #print(allHouses)"
   ]
  },
  {
   "cell_type": "code",
   "execution_count": null,
   "id": "f0175372",
   "metadata": {},
   "outputs": [],
   "source": [
    "url = 'https://sa.aqar.fm/%D9%81%D9%84%D9%84-%D9%84%D9%84%D8%A8%D9%8A%D8%B9/35'\n",
    "response = requests.get(url)"
   ]
  },
  {
   "cell_type": "code",
   "execution_count": null,
   "id": "51341d21",
   "metadata": {},
   "outputs": [],
   "source": [
    "response =response.content\n",
    "soup = BeautifulSoup(response,'html.parser')"
   ]
  },
  {
   "cell_type": "code",
   "execution_count": null,
   "id": "6ac99df1",
   "metadata": {},
   "outputs": [],
   "source": [
    "listings = soup.find_all('div', class_='listing_LinkedListingCard__5SRvZ')"
   ]
  },
  {
   "cell_type": "code",
   "execution_count": null,
   "id": "d9503ac3",
   "metadata": {},
   "outputs": [],
   "source": [
    "for listing in listings:\n",
    "    #title = listing.find('h4', class_='listingCard_title__45XgY listingCard_truncatedText__otzLq').text.strip()\n",
    "    \n",
    "    price = listing.find('div', class_='listingCard_price__N5eJ4').text.strip()\n",
    "    size = listing.find('div', class_='listingCard_spec__iKaqt').text.strip()\n",
    "    rooms = listing.find_all('div', class_='listingCard_spec__iKaqt')[1].text.strip()#.text.strip()\n",
    "    Livingrooms = listing.find_all('div', class_='listingCard_spec__iKaqt')[2].text.strip()\n",
    "    city = listing.find('div', class_='listingCard_city__ApOJt').text.strip()\n",
    "    district = listing.find('div',class_ =\"listingCard_district__5U3jm\").text.strip()\n",
    "    typ = 'villa'\n",
    "    \n",
    "    #roomsn =  rooms.find_next_sibling().text\n",
    "    \n",
    "    allHouses.append([price,rooms,size,Livingrooms,city,district,typ]) \n",
    "    #print(allHouses)"
   ]
  },
  {
   "cell_type": "code",
   "execution_count": null,
   "id": "47736fee",
   "metadata": {},
   "outputs": [],
   "source": [
    "url = 'https://sa.aqar.fm/%D9%81%D9%84%D9%84-%D9%84%D9%84%D8%A8%D9%8A%D8%B9/36'\n",
    "response = requests.get(url)"
   ]
  },
  {
   "cell_type": "code",
   "execution_count": null,
   "id": "0c95cfff",
   "metadata": {},
   "outputs": [],
   "source": [
    "response =response.content\n",
    "soup = BeautifulSoup(response,'html.parser')"
   ]
  },
  {
   "cell_type": "code",
   "execution_count": null,
   "id": "3d34d8fb",
   "metadata": {},
   "outputs": [],
   "source": [
    "listings = soup.find_all('div', class_='listing_LinkedListingCard__5SRvZ')"
   ]
  },
  {
   "cell_type": "code",
   "execution_count": null,
   "id": "7c1436ea",
   "metadata": {},
   "outputs": [],
   "source": [
    "for listing in listings:\n",
    "    #title = listing.find('h4', class_='listingCard_title__45XgY listingCard_truncatedText__otzLq').text.strip()\n",
    "    \n",
    "    price = listing.find('div', class_='listingCard_price__N5eJ4').text.strip()\n",
    "    size = listing.find('div', class_='listingCard_spec__iKaqt').text.strip()\n",
    "    rooms = listing.find_all('div', class_='listingCard_spec__iKaqt')[1].text.strip()#.text.strip()\n",
    "    Livingrooms = listing.find_all('div', class_='listingCard_spec__iKaqt')[2].text.strip()\n",
    "    city = listing.find('div', class_='listingCard_city__ApOJt').text.strip()\n",
    "    district = listing.find('div',class_ =\"listingCard_district__5U3jm\").text.strip()\n",
    "    typ = 'villa'\n",
    "    \n",
    "    #roomsn =  rooms.find_next_sibling().text\n",
    "    \n",
    "    allHouses.append([price,rooms,size,Livingrooms,city,district,typ]) \n",
    "    #print(allHouses)"
   ]
  },
  {
   "cell_type": "code",
   "execution_count": null,
   "id": "80e0c683",
   "metadata": {},
   "outputs": [],
   "source": [
    "url = 'https://sa.aqar.fm/%D9%81%D9%84%D9%84-%D9%84%D9%84%D8%A8%D9%8A%D8%B9/37'\n",
    "response = requests.get(url)"
   ]
  },
  {
   "cell_type": "code",
   "execution_count": null,
   "id": "8a1964cf",
   "metadata": {},
   "outputs": [],
   "source": [
    "response =response.content\n",
    "soup = BeautifulSoup(response,'html.parser')"
   ]
  },
  {
   "cell_type": "code",
   "execution_count": null,
   "id": "93ff3cb6",
   "metadata": {},
   "outputs": [],
   "source": [
    "listings = soup.find_all('div', class_='listing_LinkedListingCard__5SRvZ')"
   ]
  },
  {
   "cell_type": "code",
   "execution_count": null,
   "id": "0bb370fb",
   "metadata": {},
   "outputs": [],
   "source": [
    "for listing in listings:\n",
    "    #title = listing.find('h4', class_='listingCard_title__45XgY listingCard_truncatedText__otzLq').text.strip()\n",
    "    \n",
    "    price = listing.find('div', class_='listingCard_price__N5eJ4').text.strip()\n",
    "    size = listing.find('div', class_='listingCard_spec__iKaqt').text.strip()\n",
    "    rooms = listing.find_all('div', class_='listingCard_spec__iKaqt')[1].text.strip()#.text.strip()\n",
    "    Livingrooms = listing.find_all('div', class_='listingCard_spec__iKaqt')[2].text.strip()\n",
    "    city = listing.find('div', class_='listingCard_city__ApOJt').text.strip()\n",
    "    district = listing.find('div',class_ =\"listingCard_district__5U3jm\").text.strip()\n",
    "    typ = 'villa'\n",
    "    \n",
    "    #roomsn =  rooms.find_next_sibling().text\n",
    "    \n",
    "    allHouses.append([price,rooms,size,Livingrooms,city,district,typ]) \n",
    "    #print(allHouses)"
   ]
  },
  {
   "cell_type": "code",
   "execution_count": null,
   "id": "0ffd9f17",
   "metadata": {},
   "outputs": [],
   "source": [
    "url = 'https://sa.aqar.fm/%D9%81%D9%84%D9%84-%D9%84%D9%84%D8%A8%D9%8A%D8%B9/38'\n",
    "response = requests.get(url)"
   ]
  },
  {
   "cell_type": "code",
   "execution_count": null,
   "id": "9aa43da8",
   "metadata": {},
   "outputs": [],
   "source": [
    "response =response.content\n",
    "soup = BeautifulSoup(response,'html.parser')"
   ]
  },
  {
   "cell_type": "code",
   "execution_count": null,
   "id": "2f48a515",
   "metadata": {},
   "outputs": [],
   "source": [
    "listings = soup.find_all('div', class_='listing_LinkedListingCard__5SRvZ')"
   ]
  },
  {
   "cell_type": "code",
   "execution_count": null,
   "id": "089393f1",
   "metadata": {},
   "outputs": [],
   "source": [
    "for listing in listings:\n",
    "    #title = listing.find('h4', class_='listingCard_title__45XgY listingCard_truncatedText__otzLq').text.strip()\n",
    "    \n",
    "    price = listing.find('div', class_='listingCard_price__N5eJ4').text.strip()\n",
    "    size = listing.find('div', class_='listingCard_spec__iKaqt').text.strip()\n",
    "    rooms = listing.find_all('div', class_='listingCard_spec__iKaqt')[1].text.strip()#.text.strip()\n",
    "    Livingrooms = listing.find_all('div', class_='listingCard_spec__iKaqt')[2].text.strip()\n",
    "    city = listing.find('div', class_='listingCard_city__ApOJt').text.strip()\n",
    "    district = listing.find('div',class_ =\"listingCard_district__5U3jm\").text.strip()\n",
    "    typ = 'villa'\n",
    "    \n",
    "    #roomsn =  rooms.find_next_sibling().text\n",
    "    \n",
    "    allHouses.append([price,rooms,size,Livingrooms,city,district,typ]) \n",
    "    #print(allHouses)"
   ]
  },
  {
   "cell_type": "code",
   "execution_count": null,
   "id": "5dbd6a18",
   "metadata": {},
   "outputs": [],
   "source": [
    "url = 'https://sa.aqar.fm/%D9%81%D9%84%D9%84-%D9%84%D9%84%D8%A8%D9%8A%D8%B9/39'\n",
    "response = requests.get(url)"
   ]
  },
  {
   "cell_type": "code",
   "execution_count": null,
   "id": "cf2156a1",
   "metadata": {},
   "outputs": [],
   "source": [
    "response =response.content\n",
    "soup = BeautifulSoup(response,'html.parser')"
   ]
  },
  {
   "cell_type": "code",
   "execution_count": null,
   "id": "e2bc4fae",
   "metadata": {},
   "outputs": [],
   "source": [
    "listings = soup.find_all('div', class_='listing_LinkedListingCard__5SRvZ')"
   ]
  },
  {
   "cell_type": "code",
   "execution_count": null,
   "id": "78d798d3",
   "metadata": {},
   "outputs": [],
   "source": [
    "for listing in listings:\n",
    "    #title = listing.find('h4', class_='listingCard_title__45XgY listingCard_truncatedText__otzLq').text.strip()\n",
    "    \n",
    "    price = listing.find('div', class_='listingCard_price__N5eJ4').text.strip()\n",
    "    size = listing.find('div', class_='listingCard_spec__iKaqt').text.strip()\n",
    "    rooms = listing.find_all('div', class_='listingCard_spec__iKaqt')[1].text.strip()#.text.strip()\n",
    "    Livingrooms = listing.find_all('div', class_='listingCard_spec__iKaqt')[2].text.strip()\n",
    "    city = listing.find('div', class_='listingCard_city__ApOJt').text.strip()\n",
    "    district = listing.find('div',class_ =\"listingCard_district__5U3jm\").text.strip()\n",
    "    typ = 'villa'\n",
    "    \n",
    "    #roomsn =  rooms.find_next_sibling().text\n",
    "    \n",
    "    allHouses.append([price,rooms,size,Livingrooms,city,district,typ]) \n",
    "    #print(allHouses)"
   ]
  },
  {
   "cell_type": "code",
   "execution_count": null,
   "id": "943fc966",
   "metadata": {},
   "outputs": [],
   "source": [
    "url = 'https://sa.aqar.fm/%D9%81%D9%84%D9%84-%D9%84%D9%84%D8%A8%D9%8A%D8%B9/40'\n",
    "response = requests.get(url)"
   ]
  },
  {
   "cell_type": "code",
   "execution_count": null,
   "id": "36cf3647",
   "metadata": {},
   "outputs": [],
   "source": [
    "response =response.content\n",
    "soup = BeautifulSoup(response,'html.parser')"
   ]
  },
  {
   "cell_type": "code",
   "execution_count": null,
   "id": "1117ebf5",
   "metadata": {},
   "outputs": [],
   "source": [
    "listings = soup.find_all('div', class_='listing_LinkedListingCard__5SRvZ')"
   ]
  },
  {
   "cell_type": "code",
   "execution_count": null,
   "id": "224404fd",
   "metadata": {},
   "outputs": [],
   "source": [
    "for listing in listings:\n",
    "    #title = listing.find('h4', class_='listingCard_title__45XgY listingCard_truncatedText__otzLq').text.strip()\n",
    "    \n",
    "    price = listing.find('div', class_='listingCard_price__N5eJ4').text.strip()\n",
    "    size = listing.find('div', class_='listingCard_spec__iKaqt').text.strip()\n",
    "    rooms = listing.find_all('div', class_='listingCard_spec__iKaqt')[1].text.strip()#.text.strip()\n",
    "    Livingrooms = listing.find_all('div', class_='listingCard_spec__iKaqt')[2].text.strip()\n",
    "    city = listing.find('div', class_='listingCard_city__ApOJt').text.strip()\n",
    "    district = listing.find('div',class_ =\"listingCard_district__5U3jm\").text.strip()\n",
    "    typ = 'villa'\n",
    "    \n",
    "    #roomsn =  rooms.find_next_sibling().text\n",
    "    \n",
    "    allHouses.append([price,rooms,size,Livingrooms,city,district,typ]) \n",
    "    #print(allHouses)"
   ]
  },
  {
   "cell_type": "code",
   "execution_count": null,
   "id": "98e0be23",
   "metadata": {},
   "outputs": [],
   "source": [
    "len(allHouses)"
   ]
  },
  {
   "cell_type": "code",
   "execution_count": null,
   "id": "4e6e08a3",
   "metadata": {},
   "outputs": [],
   "source": [
    "url = 'https://sa.aqar.fm/%D9%81%D9%84%D9%84-%D9%84%D9%84%D8%A8%D9%8A%D8%B9/41'\n",
    "response = requests.get(url)"
   ]
  },
  {
   "cell_type": "code",
   "execution_count": null,
   "id": "f65cd77a",
   "metadata": {},
   "outputs": [],
   "source": [
    "response =response.content\n",
    "soup = BeautifulSoup(response,'html.parser')"
   ]
  },
  {
   "cell_type": "code",
   "execution_count": null,
   "id": "74234abf",
   "metadata": {},
   "outputs": [],
   "source": [
    "listings = soup.find_all('div', class_='listing_LinkedListingCard__5SRvZ')"
   ]
  },
  {
   "cell_type": "code",
   "execution_count": null,
   "id": "277e8692",
   "metadata": {},
   "outputs": [],
   "source": [
    "for listing in listings:\n",
    "    #title = listing.find('h4', class_='listingCard_title__45XgY listingCard_truncatedText__otzLq').text.strip()\n",
    "    \n",
    "    price = listing.find('div', class_='listingCard_price__N5eJ4').text.strip()\n",
    "    size = listing.find('div', class_='listingCard_spec__iKaqt').text.strip()\n",
    "    rooms = listing.find_all('div', class_='listingCard_spec__iKaqt')[1].text.strip()#.text.strip()\n",
    "    Livingrooms = listing.find_all('div', class_='listingCard_spec__iKaqt')[2].text.strip()\n",
    "    city = listing.find('div', class_='listingCard_city__ApOJt').text.strip()\n",
    "    district = listing.find('div',class_ =\"listingCard_district__5U3jm\").text.strip()\n",
    "    typ = 'villa'\n",
    "    \n",
    "    #roomsn =  rooms.find_next_sibling().text\n",
    "    \n",
    "    allHouses.append([price,rooms,size,Livingrooms,city,district,typ]) \n",
    "    #print(allHouses)"
   ]
  },
  {
   "cell_type": "code",
   "execution_count": null,
   "id": "db81182d",
   "metadata": {},
   "outputs": [],
   "source": [
    "url = 'https://sa.aqar.fm/%D9%81%D9%84%D9%84-%D9%84%D9%84%D8%A8%D9%8A%D8%B9/42'\n",
    "response = requests.get(url)"
   ]
  },
  {
   "cell_type": "code",
   "execution_count": null,
   "id": "a04162e7",
   "metadata": {},
   "outputs": [],
   "source": [
    "response =response.content\n",
    "soup = BeautifulSoup(response,'html.parser')"
   ]
  },
  {
   "cell_type": "code",
   "execution_count": null,
   "id": "40b9a6ba",
   "metadata": {},
   "outputs": [],
   "source": [
    "listings = soup.find_all('div', class_='listing_LinkedListingCard__5SRvZ')"
   ]
  },
  {
   "cell_type": "code",
   "execution_count": null,
   "id": "97d87c95",
   "metadata": {},
   "outputs": [],
   "source": [
    "for listing in listings:\n",
    "    #title = listing.find('h4', class_='listingCard_title__45XgY listingCard_truncatedText__otzLq').text.strip()\n",
    "    \n",
    "    price = listing.find('div', class_='listingCard_price__N5eJ4').text.strip()\n",
    "    size = listing.find('div', class_='listingCard_spec__iKaqt').text.strip()\n",
    "    rooms = listing.find_all('div', class_='listingCard_spec__iKaqt')[1].text.strip()#.text.strip()\n",
    "    Livingrooms = listing.find_all('div', class_='listingCard_spec__iKaqt')[2].text.strip()\n",
    "    city = listing.find('div', class_='listingCard_city__ApOJt').text.strip()\n",
    "    district = listing.find('div',class_ =\"listingCard_district__5U3jm\").text.strip()\n",
    "    typ = 'villa'\n",
    "    \n",
    "    #roomsn =  rooms.find_next_sibling().text\n",
    "    \n",
    "    allHouses.append([price,rooms,size,Livingrooms,city,district,typ]) \n",
    "    #print(allHouses)"
   ]
  },
  {
   "cell_type": "code",
   "execution_count": null,
   "id": "b088dbb3",
   "metadata": {},
   "outputs": [],
   "source": [
    "url = 'https://sa.aqar.fm/%D9%81%D9%84%D9%84-%D9%84%D9%84%D8%A8%D9%8A%D8%B9/43'\n",
    "response = requests.get(url)"
   ]
  },
  {
   "cell_type": "code",
   "execution_count": null,
   "id": "069db15b",
   "metadata": {},
   "outputs": [],
   "source": [
    "response =response.content\n",
    "soup = BeautifulSoup(response,'html.parser')"
   ]
  },
  {
   "cell_type": "code",
   "execution_count": null,
   "id": "5998a7e6",
   "metadata": {},
   "outputs": [],
   "source": [
    "listings = soup.find_all('div', class_='listing_LinkedListingCard__5SRvZ')"
   ]
  },
  {
   "cell_type": "code",
   "execution_count": null,
   "id": "bc73b054",
   "metadata": {},
   "outputs": [],
   "source": [
    "for listing in listings:\n",
    "    #title = listing.find('h4', class_='listingCard_title__45XgY listingCard_truncatedText__otzLq').text.strip()\n",
    "    \n",
    "    price = listing.find('div', class_='listingCard_price__N5eJ4').text.strip()\n",
    "    size = listing.find('div', class_='listingCard_spec__iKaqt').text.strip()\n",
    "    rooms = listing.find_all('div', class_='listingCard_spec__iKaqt')[1].text.strip()#.text.strip()\n",
    "    Livingrooms = listing.find_all('div', class_='listingCard_spec__iKaqt')[2].text.strip()\n",
    "    city = listing.find('div', class_='listingCard_city__ApOJt').text.strip()\n",
    "    district = listing.find('div',class_ =\"listingCard_district__5U3jm\").text.strip()\n",
    "    typ = 'villa'\n",
    "    \n",
    "    #roomsn =  rooms.find_next_sibling().text\n",
    "    \n",
    "    allHouses.append([price,rooms,size,Livingrooms,city,district,typ]) \n",
    "    #print(allHouses)"
   ]
  },
  {
   "cell_type": "code",
   "execution_count": null,
   "id": "a7e91fdc",
   "metadata": {},
   "outputs": [],
   "source": [
    "url = 'https://sa.aqar.fm/%D9%81%D9%84%D9%84-%D9%84%D9%84%D8%A8%D9%8A%D8%B9/44'\n",
    "response = requests.get(url)"
   ]
  },
  {
   "cell_type": "code",
   "execution_count": null,
   "id": "df513ab0",
   "metadata": {},
   "outputs": [],
   "source": [
    "response =response.content\n",
    "soup = BeautifulSoup(response,'html.parser')"
   ]
  },
  {
   "cell_type": "code",
   "execution_count": null,
   "id": "da43910e",
   "metadata": {},
   "outputs": [],
   "source": [
    "listings = soup.find_all('div', class_='listing_LinkedListingCard__5SRvZ')"
   ]
  },
  {
   "cell_type": "code",
   "execution_count": null,
   "id": "280149f4",
   "metadata": {},
   "outputs": [],
   "source": [
    "for listing in listings:\n",
    "    #title = listing.find('h4', class_='listingCard_title__45XgY listingCard_truncatedText__otzLq').text.strip()\n",
    "    \n",
    "    price = listing.find('div', class_='listingCard_price__N5eJ4').text.strip()\n",
    "    size = listing.find('div', class_='listingCard_spec__iKaqt').text.strip()\n",
    "    rooms = listing.find_all('div', class_='listingCard_spec__iKaqt')[1].text.strip()#.text.strip()\n",
    "    Livingrooms = listing.find_all('div', class_='listingCard_spec__iKaqt')[2].text.strip()\n",
    "    city = listing.find('div', class_='listingCard_city__ApOJt').text.strip()\n",
    "    district = listing.find('div',class_ =\"listingCard_district__5U3jm\").text.strip()\n",
    "    typ = 'villa'\n",
    "    \n",
    "    #roomsn =  rooms.find_next_sibling().text\n",
    "    \n",
    "    allHouses.append([price,rooms,size,Livingrooms,city,district,typ]) \n",
    "    #print(allHouses)"
   ]
  },
  {
   "cell_type": "code",
   "execution_count": null,
   "id": "72f2391e",
   "metadata": {},
   "outputs": [],
   "source": [
    "url = 'https://sa.aqar.fm/%D9%81%D9%84%D9%84-%D9%84%D9%84%D8%A8%D9%8A%D8%B9/45'\n",
    "response = requests.get(url)"
   ]
  },
  {
   "cell_type": "code",
   "execution_count": null,
   "id": "c3b44e6d",
   "metadata": {},
   "outputs": [],
   "source": [
    "response =response.content\n",
    "soup = BeautifulSoup(response,'html.parser')"
   ]
  },
  {
   "cell_type": "code",
   "execution_count": null,
   "id": "80d58616",
   "metadata": {},
   "outputs": [],
   "source": [
    "listings = soup.find_all('div', class_='listing_LinkedListingCard__5SRvZ')"
   ]
  },
  {
   "cell_type": "code",
   "execution_count": null,
   "id": "77950b92",
   "metadata": {},
   "outputs": [],
   "source": [
    "for listing in listings:\n",
    "    #title = listing.find('h4', class_='listingCard_title__45XgY listingCard_truncatedText__otzLq').text.strip()\n",
    "    \n",
    "    price = listing.find('div', class_='listingCard_price__N5eJ4').text.strip()\n",
    "    size = listing.find('div', class_='listingCard_spec__iKaqt').text.strip()\n",
    "    rooms = listing.find_all('div', class_='listingCard_spec__iKaqt')[1].text.strip()#.text.strip()\n",
    "    Livingrooms = listing.find_all('div', class_='listingCard_spec__iKaqt')[2].text.strip()\n",
    "    city = listing.find('div', class_='listingCard_city__ApOJt').text.strip()\n",
    "    district = listing.find('div',class_ =\"listingCard_district__5U3jm\").text.strip()\n",
    "    typ = 'villa'\n",
    "    \n",
    "    #roomsn =  rooms.find_next_sibling().text\n",
    "    \n",
    "    allHouses.append([price,rooms,size,Livingrooms,city,district,typ]) \n",
    "    #print(allHouses)"
   ]
  },
  {
   "cell_type": "code",
   "execution_count": null,
   "id": "ce4d3a46",
   "metadata": {},
   "outputs": [],
   "source": [
    "url = 'https://sa.aqar.fm/%D9%81%D9%84%D9%84-%D9%84%D9%84%D8%A8%D9%8A%D8%B9/46'\n",
    "response = requests.get(url)"
   ]
  },
  {
   "cell_type": "code",
   "execution_count": null,
   "id": "d2bca47c",
   "metadata": {},
   "outputs": [],
   "source": [
    "response =response.content\n",
    "soup = BeautifulSoup(response,'html.parser')"
   ]
  },
  {
   "cell_type": "code",
   "execution_count": null,
   "id": "d06bc825",
   "metadata": {},
   "outputs": [],
   "source": [
    "listings = soup.find_all('div', class_='listing_LinkedListingCard__5SRvZ')"
   ]
  },
  {
   "cell_type": "code",
   "execution_count": null,
   "id": "29343415",
   "metadata": {},
   "outputs": [],
   "source": [
    "for listing in listings:\n",
    "    #title = listing.find('h4', class_='listingCard_title__45XgY listingCard_truncatedText__otzLq').text.strip()\n",
    "    \n",
    "    price = listing.find('div', class_='listingCard_price__N5eJ4').text.strip()\n",
    "    size = listing.find('div', class_='listingCard_spec__iKaqt').text.strip()\n",
    "    rooms = listing.find_all('div', class_='listingCard_spec__iKaqt')[1].text.strip()#.text.strip()\n",
    "    Livingrooms = listing.find_all('div', class_='listingCard_spec__iKaqt')[2].text.strip()\n",
    "    city = listing.find('div', class_='listingCard_city__ApOJt').text.strip()\n",
    "    district = listing.find('div',class_ =\"listingCard_district__5U3jm\").text.strip()\n",
    "    typ = 'villa'\n",
    "    \n",
    "    #roomsn =  rooms.find_next_sibling().text\n",
    "    \n",
    "    allHouses.append([price,rooms,size,Livingrooms,city,district,typ]) \n",
    "    #print(allHouses)"
   ]
  },
  {
   "cell_type": "code",
   "execution_count": null,
   "id": "981ebe0b",
   "metadata": {},
   "outputs": [],
   "source": [
    "url = 'https://sa.aqar.fm/%D9%81%D9%84%D9%84-%D9%84%D9%84%D8%A8%D9%8A%D8%B9/47'\n",
    "response = requests.get(url)"
   ]
  },
  {
   "cell_type": "code",
   "execution_count": null,
   "id": "fd806d7b",
   "metadata": {},
   "outputs": [],
   "source": [
    "response =response.content\n",
    "soup = BeautifulSoup(response,'html.parser')"
   ]
  },
  {
   "cell_type": "code",
   "execution_count": null,
   "id": "6a95d42f",
   "metadata": {},
   "outputs": [],
   "source": [
    "listings = soup.find_all('div', class_='listing_LinkedListingCard__5SRvZ')"
   ]
  },
  {
   "cell_type": "code",
   "execution_count": null,
   "id": "b92aa5e6",
   "metadata": {},
   "outputs": [],
   "source": [
    "for listing in listings:\n",
    "    #title = listing.find('h4', class_='listingCard_title__45XgY listingCard_truncatedText__otzLq').text.strip()\n",
    "    \n",
    "    price = listing.find('div', class_='listingCard_price__N5eJ4').text.strip()\n",
    "    size = listing.find('div', class_='listingCard_spec__iKaqt').text.strip()\n",
    "    rooms = listing.find_all('div', class_='listingCard_spec__iKaqt')[1].text.strip()#.text.strip()\n",
    "    Livingrooms = listing.find_all('div', class_='listingCard_spec__iKaqt')[2].text.strip()\n",
    "    city = listing.find('div', class_='listingCard_city__ApOJt').text.strip()\n",
    "    district = listing.find('div',class_ =\"listingCard_district__5U3jm\").text.strip()\n",
    "    typ = 'villa'\n",
    "    \n",
    "    #roomsn =  rooms.find_next_sibling().text\n",
    "    \n",
    "    allHouses.append([price,rooms,size,Livingrooms,city,district,typ]) \n",
    "    #print(allHouses)"
   ]
  },
  {
   "cell_type": "code",
   "execution_count": null,
   "id": "bd896d61",
   "metadata": {},
   "outputs": [],
   "source": [
    "url = 'https://sa.aqar.fm/%D9%81%D9%84%D9%84-%D9%84%D9%84%D8%A8%D9%8A%D8%B9/48'\n",
    "response = requests.get(url)"
   ]
  },
  {
   "cell_type": "code",
   "execution_count": null,
   "id": "b2014060",
   "metadata": {},
   "outputs": [],
   "source": [
    "response =response.content\n",
    "soup = BeautifulSoup(response,'html.parser')"
   ]
  },
  {
   "cell_type": "code",
   "execution_count": null,
   "id": "5d611d3a",
   "metadata": {},
   "outputs": [],
   "source": [
    "listings = soup.find_all('div', class_='listing_LinkedListingCard__5SRvZ')"
   ]
  },
  {
   "cell_type": "code",
   "execution_count": null,
   "id": "17121b78",
   "metadata": {},
   "outputs": [],
   "source": [
    "for listing in listings:\n",
    "    #title = listing.find('h4', class_='listingCard_title__45XgY listingCard_truncatedText__otzLq').text.strip()\n",
    "    \n",
    "    price = listing.find('div', class_='listingCard_price__N5eJ4').text.strip()\n",
    "    size = listing.find('div', class_='listingCard_spec__iKaqt').text.strip()\n",
    "    rooms = listing.find_all('div', class_='listingCard_spec__iKaqt')[1].text.strip()#.text.strip()\n",
    "    Livingrooms = listing.find_all('div', class_='listingCard_spec__iKaqt')[2].text.strip()\n",
    "    city = listing.find('div', class_='listingCard_city__ApOJt').text.strip()\n",
    "    district = listing.find('div',class_ =\"listingCard_district__5U3jm\").text.strip()\n",
    "    typ = 'villa'\n",
    "    \n",
    "    #roomsn =  rooms.find_next_sibling().text\n",
    "    \n",
    "    allHouses.append([price,rooms,size,Livingrooms,city,district,typ]) \n",
    "    #print(allHouses)"
   ]
  },
  {
   "cell_type": "code",
   "execution_count": null,
   "id": "f5d3f25a",
   "metadata": {},
   "outputs": [],
   "source": [
    "url = 'https://sa.aqar.fm/%D9%81%D9%84%D9%84-%D9%84%D9%84%D8%A8%D9%8A%D8%B9/49'\n",
    "response = requests.get(url)"
   ]
  },
  {
   "cell_type": "code",
   "execution_count": null,
   "id": "1e804364",
   "metadata": {},
   "outputs": [],
   "source": [
    "response =response.content\n",
    "soup = BeautifulSoup(response,'html.parser')"
   ]
  },
  {
   "cell_type": "code",
   "execution_count": null,
   "id": "d1a02db1",
   "metadata": {},
   "outputs": [],
   "source": [
    "listings = soup.find_all('div', class_='listing_LinkedListingCard__5SRvZ')"
   ]
  },
  {
   "cell_type": "code",
   "execution_count": null,
   "id": "0e04eb79",
   "metadata": {},
   "outputs": [],
   "source": [
    "for listing in listings:\n",
    "    #title = listing.find('h4', class_='listingCard_title__45XgY listingCard_truncatedText__otzLq').text.strip()\n",
    "    \n",
    "    price = listing.find('div', class_='listingCard_price__N5eJ4').text.strip()\n",
    "    size = listing.find('div', class_='listingCard_spec__iKaqt').text.strip()\n",
    "    rooms = listing.find_all('div', class_='listingCard_spec__iKaqt')[1].text.strip()#.text.strip()\n",
    "    Livingrooms = listing.find_all('div', class_='listingCard_spec__iKaqt')[2].text.strip()\n",
    "    city = listing.find('div', class_='listingCard_city__ApOJt').text.strip()\n",
    "    district = listing.find('div',class_ =\"listingCard_district__5U3jm\").text.strip()\n",
    "    typ = 'villa'\n",
    "    \n",
    "    #roomsn =  rooms.find_next_sibling().text\n",
    "    \n",
    "    allHouses.append([price,rooms,size,Livingrooms,city,district,typ]) \n",
    "    #print(allHouses)"
   ]
  },
  {
   "cell_type": "code",
   "execution_count": null,
   "id": "24fd0d2d",
   "metadata": {},
   "outputs": [],
   "source": [
    "url = 'https://sa.aqar.fm/%D9%81%D9%84%D9%84-%D9%84%D9%84%D8%A8%D9%8A%D8%B9/50'\n",
    "response = requests.get(url)"
   ]
  },
  {
   "cell_type": "code",
   "execution_count": null,
   "id": "e07afc04",
   "metadata": {},
   "outputs": [],
   "source": [
    "response =response.content\n",
    "soup = BeautifulSoup(response,'html.parser')"
   ]
  },
  {
   "cell_type": "code",
   "execution_count": null,
   "id": "a7b04ccd",
   "metadata": {},
   "outputs": [],
   "source": [
    "listings = soup.find_all('div', class_='listing_LinkedListingCard__5SRvZ')"
   ]
  },
  {
   "cell_type": "code",
   "execution_count": null,
   "id": "211df9af",
   "metadata": {},
   "outputs": [],
   "source": [
    "for listing in listings:\n",
    "    #title = listing.find('h4', class_='listingCard_title__45XgY listingCard_truncatedText__otzLq').text.strip()\n",
    "    \n",
    "    price = listing.find('div', class_='listingCard_price__N5eJ4').text.strip()\n",
    "    size = listing.find('div', class_='listingCard_spec__iKaqt').text.strip()\n",
    "    rooms = listing.find_all('div', class_='listingCard_spec__iKaqt')[1].text.strip()#.text.strip()\n",
    "    Livingrooms = listing.find_all('div', class_='listingCard_spec__iKaqt')[2].text.strip()\n",
    "    city = listing.find('div', class_='listingCard_city__ApOJt').text.strip()\n",
    "    district = listing.find('div',class_ =\"listingCard_district__5U3jm\").text.strip()\n",
    "    typ = 'villa'\n",
    "    \n",
    "    #roomsn =  rooms.find_next_sibling().text\n",
    "    \n",
    "    allHouses.append([price,rooms,size,Livingrooms,city,district,typ]) \n",
    "    #print(allHouses)"
   ]
  },
  {
   "cell_type": "code",
   "execution_count": null,
   "id": "501b2349",
   "metadata": {},
   "outputs": [],
   "source": [
    "url = 'https://sa.aqar.fm/%D9%81%D9%84%D9%84-%D9%84%D9%84%D8%A8%D9%8A%D8%B9/51'\n",
    "response = requests.get(url)"
   ]
  },
  {
   "cell_type": "code",
   "execution_count": null,
   "id": "a78e9517",
   "metadata": {},
   "outputs": [],
   "source": [
    "response =response.content\n",
    "soup = BeautifulSoup(response,'html.parser')"
   ]
  },
  {
   "cell_type": "code",
   "execution_count": null,
   "id": "db8a7100",
   "metadata": {},
   "outputs": [],
   "source": [
    "listings = soup.find_all('div', class_='listing_LinkedListingCard__5SRvZ')"
   ]
  },
  {
   "cell_type": "code",
   "execution_count": null,
   "id": "cec54546",
   "metadata": {},
   "outputs": [],
   "source": [
    "for listing in listings:\n",
    "    #title = listing.find('h4', class_='listingCard_title__45XgY listingCard_truncatedText__otzLq').text.strip()\n",
    "    \n",
    "    price = listing.find('div', class_='listingCard_price__N5eJ4').text.strip()\n",
    "    size = listing.find('div', class_='listingCard_spec__iKaqt').text.strip()\n",
    "    rooms = listing.find_all('div', class_='listingCard_spec__iKaqt')[1].text.strip()#.text.strip()\n",
    "    Livingrooms = listing.find_all('div', class_='listingCard_spec__iKaqt')[2].text.strip()\n",
    "    city = listing.find('div', class_='listingCard_city__ApOJt').text.strip()\n",
    "    district = listing.find('div',class_ =\"listingCard_district__5U3jm\").text.strip()\n",
    "    typ = 'villa'\n",
    "    \n",
    "    #roomsn =  rooms.find_next_sibling().text\n",
    "    \n",
    "    allHouses.append([price,rooms,size,Livingrooms,city,district,typ]) \n",
    "    #print(allHouses)"
   ]
  },
  {
   "cell_type": "code",
   "execution_count": null,
   "id": "683ca7d0",
   "metadata": {},
   "outputs": [],
   "source": [
    "url = 'https://sa.aqar.fm/%D9%81%D9%84%D9%84-%D9%84%D9%84%D8%A8%D9%8A%D8%B9/52'\n",
    "response = requests.get(url)"
   ]
  },
  {
   "cell_type": "code",
   "execution_count": null,
   "id": "5474226c",
   "metadata": {},
   "outputs": [],
   "source": [
    "response =response.content\n",
    "soup = BeautifulSoup(response,'html.parser')"
   ]
  },
  {
   "cell_type": "code",
   "execution_count": null,
   "id": "99fe9093",
   "metadata": {},
   "outputs": [],
   "source": [
    "listings = soup.find_all('div', class_='listing_LinkedListingCard__5SRvZ')"
   ]
  },
  {
   "cell_type": "code",
   "execution_count": null,
   "id": "72cec9c4",
   "metadata": {},
   "outputs": [],
   "source": [
    "for listing in listings:\n",
    "    #title = listing.find('h4', class_='listingCard_title__45XgY listingCard_truncatedText__otzLq').text.strip()\n",
    "    \n",
    "    price = listing.find('div', class_='listingCard_price__N5eJ4').text.strip()\n",
    "    size = listing.find('div', class_='listingCard_spec__iKaqt').text.strip()\n",
    "    rooms = listing.find_all('div', class_='listingCard_spec__iKaqt')[1].text.strip()#.text.strip()\n",
    "    Livingrooms = listing.find_all('div', class_='listingCard_spec__iKaqt')[2].text.strip()\n",
    "    city = listing.find('div', class_='listingCard_city__ApOJt').text.strip()\n",
    "    district = listing.find('div',class_ =\"listingCard_district__5U3jm\").text.strip()\n",
    "    typ = 'villa'\n",
    "    \n",
    "    #roomsn =  rooms.find_next_sibling().text\n",
    "    \n",
    "    allHouses.append([price,rooms,size,Livingrooms,city,district,typ]) \n",
    "    #print(allHouses)"
   ]
  },
  {
   "cell_type": "code",
   "execution_count": null,
   "id": "a1d42f48",
   "metadata": {},
   "outputs": [],
   "source": [
    "len(allHouses)"
   ]
  },
  {
   "cell_type": "code",
   "execution_count": null,
   "id": "987e17ef",
   "metadata": {},
   "outputs": [],
   "source": [
    "url = 'https://sa.aqar.fm/%D9%81%D9%84%D9%84-%D9%84%D9%84%D8%A8%D9%8A%D8%B9/53'\n",
    "response = requests.get(url)\n"
   ]
  },
  {
   "cell_type": "code",
   "execution_count": null,
   "id": "51af02c6",
   "metadata": {},
   "outputs": [],
   "source": [
    "response =response.content\n",
    "soup = BeautifulSoup(response,'html.parser')"
   ]
  },
  {
   "cell_type": "code",
   "execution_count": null,
   "id": "8d65a06b",
   "metadata": {},
   "outputs": [],
   "source": [
    "listings = soup.find_all('div', class_='listing_LinkedListingCard__5SRvZ')"
   ]
  },
  {
   "cell_type": "code",
   "execution_count": null,
   "id": "d3c799db",
   "metadata": {},
   "outputs": [],
   "source": [
    "for listing in listings:\n",
    "    #title = listing.find('h4', class_='listingCard_title__45XgY listingCard_truncatedText__otzLq').text.strip()\n",
    "    \n",
    "    price = listing.find('div', class_='listingCard_price__N5eJ4').text.strip()\n",
    "    size = listing.find('div', class_='listingCard_spec__iKaqt').text.strip()\n",
    "    rooms = listing.find_all('div', class_='listingCard_spec__iKaqt')[1].text.strip()#.text.strip()\n",
    "    Livingrooms = listing.find_all('div', class_='listingCard_spec__iKaqt')[2].text.strip()\n",
    "    city = listing.find('div', class_='listingCard_city__ApOJt').text.strip()\n",
    "    district = listing.find('div',class_ =\"listingCard_district__5U3jm\").text.strip()\n",
    "    typ = 'villa'\n",
    "    \n",
    "    #roomsn =  rooms.find_next_sibling().text\n",
    "    \n",
    "    allHouses.append([price,rooms,size,Livingrooms,city,district,typ]) \n",
    "    #print(allHouses)"
   ]
  },
  {
   "cell_type": "code",
   "execution_count": null,
   "id": "e2bfbbbb",
   "metadata": {},
   "outputs": [],
   "source": [
    "url = 'https://sa.aqar.fm/%D9%81%D9%84%D9%84-%D9%84%D9%84%D8%A8%D9%8A%D8%B9/54'\n",
    "response = requests.get(url)\n"
   ]
  },
  {
   "cell_type": "code",
   "execution_count": null,
   "id": "f8e4338a",
   "metadata": {},
   "outputs": [],
   "source": [
    "response =response.content\n",
    "soup = BeautifulSoup(response,'html.parser')"
   ]
  },
  {
   "cell_type": "code",
   "execution_count": null,
   "id": "e7beff1f",
   "metadata": {},
   "outputs": [],
   "source": [
    "listings = soup.find_all('div', class_='listing_LinkedListingCard__5SRvZ')"
   ]
  },
  {
   "cell_type": "code",
   "execution_count": null,
   "id": "c4a50b57",
   "metadata": {},
   "outputs": [],
   "source": [
    "for listing in listings:\n",
    "    #title = listing.find('h4', class_='listingCard_title__45XgY listingCard_truncatedText__otzLq').text.strip()\n",
    "    \n",
    "    price = listing.find('div', class_='listingCard_price__N5eJ4').text.strip()\n",
    "    size = listing.find('div', class_='listingCard_spec__iKaqt').text.strip()\n",
    "    rooms = listing.find_all('div', class_='listingCard_spec__iKaqt')[1].text.strip()#.text.strip()\n",
    "    Livingrooms = listing.find_all('div', class_='listingCard_spec__iKaqt')[2].text.strip()\n",
    "    city = listing.find('div', class_='listingCard_city__ApOJt').text.strip()\n",
    "    district = listing.find('div',class_ =\"listingCard_district__5U3jm\").text.strip()\n",
    "    typ = 'villa'\n",
    "    \n",
    "    #roomsn =  rooms.find_next_sibling().text\n",
    "    \n",
    "    allHouses.append([price,rooms,size,Livingrooms,city,district,typ]) \n",
    "    #print(allHouses)"
   ]
  },
  {
   "cell_type": "code",
   "execution_count": null,
   "id": "2e9515d4",
   "metadata": {},
   "outputs": [],
   "source": [
    "url = 'https://sa.aqar.fm/%D9%81%D9%84%D9%84-%D9%84%D9%84%D8%A8%D9%8A%D8%B9/55'\n",
    "response = requests.get(url)\n"
   ]
  },
  {
   "cell_type": "code",
   "execution_count": null,
   "id": "5e1e05f5",
   "metadata": {},
   "outputs": [],
   "source": [
    "response =response.content\n",
    "soup = BeautifulSoup(response,'html.parser')"
   ]
  },
  {
   "cell_type": "code",
   "execution_count": null,
   "id": "2c8613d8",
   "metadata": {},
   "outputs": [],
   "source": [
    "listings = soup.find_all('div', class_='listing_LinkedListingCard__5SRvZ')"
   ]
  },
  {
   "cell_type": "code",
   "execution_count": null,
   "id": "23b3cf20",
   "metadata": {},
   "outputs": [],
   "source": [
    "for listing in listings:\n",
    "    #title = listing.find('h4', class_='listingCard_title__45XgY listingCard_truncatedText__otzLq').text.strip()\n",
    "    \n",
    "    price = listing.find('div', class_='listingCard_price__N5eJ4').text.strip()\n",
    "    size = listing.find('div', class_='listingCard_spec__iKaqt').text.strip()\n",
    "    rooms = listing.find_all('div', class_='listingCard_spec__iKaqt')[1].text.strip()#.text.strip()\n",
    "    Livingrooms = listing.find_all('div', class_='listingCard_spec__iKaqt')[2].text.strip()\n",
    "    city = listing.find('div', class_='listingCard_city__ApOJt').text.strip()\n",
    "    district = listing.find('div',class_ =\"listingCard_district__5U3jm\").text.strip()\n",
    "    typ = 'villa'\n",
    "    \n",
    "    #roomsn =  rooms.find_next_sibling().text\n",
    "    \n",
    "    allHouses.append([price,rooms,size,Livingrooms,city,district,typ]) \n",
    "    #print(allHouses)"
   ]
  },
  {
   "cell_type": "code",
   "execution_count": null,
   "id": "da8f7ee2",
   "metadata": {},
   "outputs": [],
   "source": [
    "url = 'https://sa.aqar.fm/%D9%81%D9%84%D9%84-%D9%84%D9%84%D8%A8%D9%8A%D8%B9/56'\n",
    "response = requests.get(url)\n"
   ]
  },
  {
   "cell_type": "code",
   "execution_count": null,
   "id": "8670486f",
   "metadata": {},
   "outputs": [],
   "source": [
    "response =response.content\n",
    "soup = BeautifulSoup(response,'html.parser')"
   ]
  },
  {
   "cell_type": "code",
   "execution_count": null,
   "id": "6e200ab1",
   "metadata": {},
   "outputs": [],
   "source": [
    "listings = soup.find_all('div', class_='listing_LinkedListingCard__5SRvZ')"
   ]
  },
  {
   "cell_type": "code",
   "execution_count": null,
   "id": "24c35b86",
   "metadata": {},
   "outputs": [],
   "source": [
    "for listing in listings:\n",
    "    #title = listing.find('h4', class_='listingCard_title__45XgY listingCard_truncatedText__otzLq').text.strip()\n",
    "    \n",
    "    price = listing.find('div', class_='listingCard_price__N5eJ4').text.strip()\n",
    "    size = listing.find('div', class_='listingCard_spec__iKaqt').text.strip()\n",
    "    rooms = listing.find_all('div', class_='listingCard_spec__iKaqt')[1].text.strip()#.text.strip()\n",
    "    Livingrooms = listing.find_all('div', class_='listingCard_spec__iKaqt')[2].text.strip()\n",
    "    city = listing.find('div', class_='listingCard_city__ApOJt').text.strip()\n",
    "    district = listing.find('div',class_ =\"listingCard_district__5U3jm\").text.strip()\n",
    "    typ = 'villa'\n",
    "    \n",
    "    #roomsn =  rooms.find_next_sibling().text\n",
    "    \n",
    "    allHouses.append([price,rooms,size,Livingrooms,city,district,typ]) \n",
    "    #print(allHouses)"
   ]
  },
  {
   "cell_type": "code",
   "execution_count": null,
   "id": "f20a31ec",
   "metadata": {},
   "outputs": [],
   "source": [
    "url = 'https://sa.aqar.fm/%D9%81%D9%84%D9%84-%D9%84%D9%84%D8%A8%D9%8A%D8%B9/57'\n",
    "response = requests.get(url)\n"
   ]
  },
  {
   "cell_type": "code",
   "execution_count": null,
   "id": "ee6ad996",
   "metadata": {},
   "outputs": [],
   "source": [
    "response =response.content\n",
    "soup = BeautifulSoup(response,'html.parser')"
   ]
  },
  {
   "cell_type": "code",
   "execution_count": null,
   "id": "6a1523df",
   "metadata": {},
   "outputs": [],
   "source": [
    "listings = soup.find_all('div', class_='listing_LinkedListingCard__5SRvZ')"
   ]
  },
  {
   "cell_type": "code",
   "execution_count": null,
   "id": "39cc65cb",
   "metadata": {},
   "outputs": [],
   "source": [
    "for listing in listings:\n",
    "    #title = listing.find('h4', class_='listingCard_title__45XgY listingCard_truncatedText__otzLq').text.strip()\n",
    "    \n",
    "    price = listing.find('div', class_='listingCard_price__N5eJ4').text.strip()\n",
    "    size = listing.find('div', class_='listingCard_spec__iKaqt').text.strip()\n",
    "    rooms = listing.find_all('div', class_='listingCard_spec__iKaqt')[1].text.strip()#.text.strip()\n",
    "    Livingrooms = listing.find_all('div', class_='listingCard_spec__iKaqt')[2].text.strip()\n",
    "    city = listing.find('div', class_='listingCard_city__ApOJt').text.strip()\n",
    "    district = listing.find('div',class_ =\"listingCard_district__5U3jm\").text.strip()\n",
    "    typ = 'villa'\n",
    "    \n",
    "    #roomsn =  rooms.find_next_sibling().text\n",
    "    \n",
    "    allHouses.append([price,rooms,size,Livingrooms,city,district,typ]) \n",
    "    #print(allHouses)"
   ]
  },
  {
   "cell_type": "code",
   "execution_count": null,
   "id": "2256e3b7",
   "metadata": {},
   "outputs": [],
   "source": [
    "url = 'https://sa.aqar.fm/%D9%81%D9%84%D9%84-%D9%84%D9%84%D8%A8%D9%8A%D8%B9/58'\n",
    "response = requests.get(url)\n"
   ]
  },
  {
   "cell_type": "code",
   "execution_count": null,
   "id": "ebe214e2",
   "metadata": {},
   "outputs": [],
   "source": [
    "response =response.content\n",
    "soup = BeautifulSoup(response,'html.parser')"
   ]
  },
  {
   "cell_type": "code",
   "execution_count": null,
   "id": "523190eb",
   "metadata": {},
   "outputs": [],
   "source": [
    "listings = soup.find_all('div', class_='listing_LinkedListingCard__5SRvZ')"
   ]
  },
  {
   "cell_type": "code",
   "execution_count": null,
   "id": "0ff7f39c",
   "metadata": {},
   "outputs": [],
   "source": [
    "for listing in listings:\n",
    "    #title = listing.find('h4', class_='listingCard_title__45XgY listingCard_truncatedText__otzLq').text.strip()\n",
    "    \n",
    "    price = listing.find('div', class_='listingCard_price__N5eJ4').text.strip()\n",
    "    size = listing.find('div', class_='listingCard_spec__iKaqt').text.strip()\n",
    "    rooms = listing.find_all('div', class_='listingCard_spec__iKaqt')[1].text.strip()#.text.strip()\n",
    "    Livingrooms = listing.find_all('div', class_='listingCard_spec__iKaqt')[2].text.strip()\n",
    "    city = listing.find('div', class_='listingCard_city__ApOJt').text.strip()\n",
    "    district = listing.find('div',class_ =\"listingCard_district__5U3jm\").text.strip()\n",
    "    typ = 'villa'\n",
    "    \n",
    "    #roomsn =  rooms.find_next_sibling().text\n",
    "    \n",
    "    allHouses.append([price,rooms,size,Livingrooms,city,district,typ]) \n",
    "    #print(allHouses)"
   ]
  },
  {
   "cell_type": "code",
   "execution_count": null,
   "id": "5e9834ab",
   "metadata": {},
   "outputs": [],
   "source": [
    "url = 'https://sa.aqar.fm/%D9%81%D9%84%D9%84-%D9%84%D9%84%D8%A8%D9%8A%D8%B9/59'\n",
    "response = requests.get(url)\n"
   ]
  },
  {
   "cell_type": "code",
   "execution_count": null,
   "id": "b6e5baae",
   "metadata": {},
   "outputs": [],
   "source": [
    "response =response.content\n",
    "soup = BeautifulSoup(response,'html.parser')"
   ]
  },
  {
   "cell_type": "code",
   "execution_count": null,
   "id": "ab0f0d00",
   "metadata": {},
   "outputs": [],
   "source": [
    "listings = soup.find_all('div', class_='listing_LinkedListingCard__5SRvZ')"
   ]
  },
  {
   "cell_type": "code",
   "execution_count": null,
   "id": "7c8e112b",
   "metadata": {},
   "outputs": [],
   "source": [
    "for listing in listings:\n",
    "    #title = listing.find('h4', class_='listingCard_title__45XgY listingCard_truncatedText__otzLq').text.strip()\n",
    "    \n",
    "    price = listing.find('div', class_='listingCard_price__N5eJ4').text.strip()\n",
    "    size = listing.find('div', class_='listingCard_spec__iKaqt').text.strip()\n",
    "    rooms = listing.find_all('div', class_='listingCard_spec__iKaqt')[1].text.strip()#.text.strip()\n",
    "    Livingrooms = listing.find_all('div', class_='listingCard_spec__iKaqt')[2].text.strip()\n",
    "    city = listing.find('div', class_='listingCard_city__ApOJt').text.strip()\n",
    "    district = listing.find('div',class_ =\"listingCard_district__5U3jm\").text.strip()\n",
    "    typ = 'villa'\n",
    "    \n",
    "    #roomsn =  rooms.find_next_sibling().text\n",
    "    \n",
    "    allHouses.append([price,rooms,size,Livingrooms,city,district,typ]) \n",
    "    #print(allHouses)"
   ]
  },
  {
   "cell_type": "code",
   "execution_count": null,
   "id": "ef6dd8e9",
   "metadata": {},
   "outputs": [],
   "source": [
    "url = 'https://sa.aqar.fm/%D9%81%D9%84%D9%84-%D9%84%D9%84%D8%A8%D9%8A%D8%B9/60'\n",
    "response = requests.get(url)\n"
   ]
  },
  {
   "cell_type": "code",
   "execution_count": null,
   "id": "8a3698a8",
   "metadata": {},
   "outputs": [],
   "source": [
    "response =response.content\n",
    "soup = BeautifulSoup(response,'html.parser')"
   ]
  },
  {
   "cell_type": "code",
   "execution_count": null,
   "id": "7bfbe50a",
   "metadata": {},
   "outputs": [],
   "source": [
    "listings = soup.find_all('div', class_='listing_LinkedListingCard__5SRvZ')"
   ]
  },
  {
   "cell_type": "code",
   "execution_count": null,
   "id": "fbc65961",
   "metadata": {},
   "outputs": [],
   "source": [
    "for listing in listings:\n",
    "    #title = listing.find('h4', class_='listingCard_title__45XgY listingCard_truncatedText__otzLq').text.strip()\n",
    "    \n",
    "    price = listing.find('div', class_='listingCard_price__N5eJ4').text.strip()\n",
    "    size = listing.find('div', class_='listingCard_spec__iKaqt').text.strip()\n",
    "    rooms = listing.find_all('div', class_='listingCard_spec__iKaqt')[1].text.strip()#.text.strip()\n",
    "    Livingrooms = listing.find_all('div', class_='listingCard_spec__iKaqt')[2].text.strip()\n",
    "    city = listing.find('div', class_='listingCard_city__ApOJt').text.strip()\n",
    "    district = listing.find('div',class_ =\"listingCard_district__5U3jm\").text.strip()\n",
    "    typ = 'villa'\n",
    "    \n",
    "    #roomsn =  rooms.find_next_sibling().text\n",
    "    \n",
    "    allHouses.append([price,rooms,size,Livingrooms,city,district,typ]) \n",
    "    #print(allHouses)"
   ]
  },
  {
   "cell_type": "code",
   "execution_count": null,
   "id": "51671f11",
   "metadata": {},
   "outputs": [],
   "source": [
    "len(allHouses)"
   ]
  },
  {
   "cell_type": "code",
   "execution_count": 4,
   "id": "a77b3bba",
   "metadata": {},
   "outputs": [
    {
     "ename": "NameError",
     "evalue": "name 'allHouses' is not defined",
     "output_type": "error",
     "traceback": [
      "\u001b[0;31m---------------------------------------------------------------------------\u001b[0m",
      "\u001b[0;31mNameError\u001b[0m                                 Traceback (most recent call last)",
      "Cell \u001b[0;32mIn[4], line 1\u001b[0m\n\u001b[0;32m----> 1\u001b[0m df \u001b[38;5;241m=\u001b[39m pd\u001b[38;5;241m.\u001b[39mDataFrame(\u001b[43mallHouses\u001b[49m, columns\u001b[38;5;241m=\u001b[39m[\u001b[38;5;124m\"\u001b[39m\u001b[38;5;124mPrice\u001b[39m\u001b[38;5;124m\"\u001b[39m,\u001b[38;5;124m\"\u001b[39m\u001b[38;5;124mRooms\u001b[39m\u001b[38;5;124m\"\u001b[39m,\u001b[38;5;124m\"\u001b[39m\u001b[38;5;124mSize\u001b[39m\u001b[38;5;124m\"\u001b[39m,\u001b[38;5;124m\"\u001b[39m\u001b[38;5;124mLivingrooms\u001b[39m\u001b[38;5;124m\"\u001b[39m,\u001b[38;5;124m\"\u001b[39m\u001b[38;5;124mCity\u001b[39m\u001b[38;5;124m\"\u001b[39m,\u001b[38;5;124m\"\u001b[39m\u001b[38;5;124mDistrict\u001b[39m\u001b[38;5;124m\"\u001b[39m,\u001b[38;5;124m\"\u001b[39m\u001b[38;5;124mType\u001b[39m\u001b[38;5;124m\"\u001b[39m])\n\u001b[1;32m      2\u001b[0m df\u001b[38;5;241m.\u001b[39mto_csv(\u001b[38;5;124m\"\u001b[39m\u001b[38;5;124mreal_estate.csv\u001b[39m\u001b[38;5;124m\"\u001b[39m)\n",
      "\u001b[0;31mNameError\u001b[0m: name 'allHouses' is not defined"
     ]
    }
   ],
   "source": [
    "df = pd.DataFrame(allHouses, columns=[\"Price\",\"Rooms\",\"Size\",\"Livingrooms\",\"City\",\"District\",\"Type\"])\n",
    "df.to_csv(\"real_estate.csv\")"
   ]
  },
  {
   "cell_type": "code",
   "execution_count": null,
   "id": "17ea28a8",
   "metadata": {},
   "outputs": [],
   "source": []
  },
  {
   "cell_type": "code",
   "execution_count": null,
   "id": "7bd28b86",
   "metadata": {},
   "outputs": [],
   "source": []
  },
  {
   "cell_type": "code",
   "execution_count": null,
   "id": "a9adef6e",
   "metadata": {},
   "outputs": [],
   "source": []
  },
  {
   "cell_type": "code",
   "execution_count": 13,
   "id": "ab9eec12",
   "metadata": {},
   "outputs": [
    {
     "ename": "ValueError",
     "evalue": "Cannot convert ['3,500,000 ريال', '5', '420 م² |', '2', 'الرياض', 'حي الياسمين', 'villa'] to Excel",
     "output_type": "error",
     "traceback": [
      "\u001b[0;31m---------------------------------------------------------------------------\u001b[0m",
      "\u001b[0;31mValueError\u001b[0m                                Traceback (most recent call last)",
      "Cell \u001b[0;32mIn[13], line 1\u001b[0m\n\u001b[0;32m----> 1\u001b[0m \u001b[43msheet\u001b[49m\u001b[38;5;241;43m.\u001b[39;49m\u001b[43mappend\u001b[49m\u001b[43m(\u001b[49m\u001b[43mallHouses\u001b[49m\u001b[43m)\u001b[49m\n",
      "File \u001b[0;32m~/anaconda3/lib/python3.10/site-packages/openpyxl/worksheet/worksheet.py:665\u001b[0m, in \u001b[0;36mWorksheet.append\u001b[0;34m(self, iterable)\u001b[0m\n\u001b[1;32m    663\u001b[0m             cell\u001b[38;5;241m.\u001b[39mrow \u001b[38;5;241m=\u001b[39m row_idx\n\u001b[1;32m    664\u001b[0m         \u001b[38;5;28;01melse\u001b[39;00m:\n\u001b[0;32m--> 665\u001b[0m             cell \u001b[38;5;241m=\u001b[39m \u001b[43mCell\u001b[49m\u001b[43m(\u001b[49m\u001b[38;5;28;43mself\u001b[39;49m\u001b[43m,\u001b[49m\u001b[43m \u001b[49m\u001b[43mrow\u001b[49m\u001b[38;5;241;43m=\u001b[39;49m\u001b[43mrow_idx\u001b[49m\u001b[43m,\u001b[49m\u001b[43m \u001b[49m\u001b[43mcolumn\u001b[49m\u001b[38;5;241;43m=\u001b[39;49m\u001b[43mcol_idx\u001b[49m\u001b[43m,\u001b[49m\u001b[43m \u001b[49m\u001b[43mvalue\u001b[49m\u001b[38;5;241;43m=\u001b[39;49m\u001b[43mcontent\u001b[49m\u001b[43m)\u001b[49m\n\u001b[1;32m    666\u001b[0m         \u001b[38;5;28mself\u001b[39m\u001b[38;5;241m.\u001b[39m_cells[(row_idx, col_idx)] \u001b[38;5;241m=\u001b[39m cell\n\u001b[1;32m    668\u001b[0m \u001b[38;5;28;01melif\u001b[39;00m \u001b[38;5;28misinstance\u001b[39m(iterable, \u001b[38;5;28mdict\u001b[39m):\n",
      "File \u001b[0;32m~/anaconda3/lib/python3.10/site-packages/openpyxl/cell/cell.py:116\u001b[0m, in \u001b[0;36mCell.__init__\u001b[0;34m(self, worksheet, row, column, value, style_array)\u001b[0m\n\u001b[1;32m    114\u001b[0m \u001b[38;5;28mself\u001b[39m\u001b[38;5;241m.\u001b[39mdata_type \u001b[38;5;241m=\u001b[39m \u001b[38;5;124m'\u001b[39m\u001b[38;5;124mn\u001b[39m\u001b[38;5;124m'\u001b[39m\n\u001b[1;32m    115\u001b[0m \u001b[38;5;28;01mif\u001b[39;00m value \u001b[38;5;129;01mis\u001b[39;00m \u001b[38;5;129;01mnot\u001b[39;00m \u001b[38;5;28;01mNone\u001b[39;00m:\n\u001b[0;32m--> 116\u001b[0m     \u001b[38;5;28mself\u001b[39m\u001b[38;5;241m.\u001b[39mvalue \u001b[38;5;241m=\u001b[39m value\n\u001b[1;32m    117\u001b[0m \u001b[38;5;28mself\u001b[39m\u001b[38;5;241m.\u001b[39m_comment \u001b[38;5;241m=\u001b[39m \u001b[38;5;28;01mNone\u001b[39;00m\n",
      "File \u001b[0;32m~/anaconda3/lib/python3.10/site-packages/openpyxl/cell/cell.py:215\u001b[0m, in \u001b[0;36mCell.value\u001b[0;34m(self, value)\u001b[0m\n\u001b[1;32m    212\u001b[0m \u001b[38;5;129m@value\u001b[39m\u001b[38;5;241m.\u001b[39msetter\n\u001b[1;32m    213\u001b[0m \u001b[38;5;28;01mdef\u001b[39;00m \u001b[38;5;21mvalue\u001b[39m(\u001b[38;5;28mself\u001b[39m, value):\n\u001b[1;32m    214\u001b[0m     \u001b[38;5;124;03m\"\"\"Set the value and infer type and display options.\"\"\"\u001b[39;00m\n\u001b[0;32m--> 215\u001b[0m     \u001b[38;5;28;43mself\u001b[39;49m\u001b[38;5;241;43m.\u001b[39;49m\u001b[43m_bind_value\u001b[49m\u001b[43m(\u001b[49m\u001b[43mvalue\u001b[49m\u001b[43m)\u001b[49m\n",
      "File \u001b[0;32m~/anaconda3/lib/python3.10/site-packages/openpyxl/cell/cell.py:184\u001b[0m, in \u001b[0;36mCell._bind_value\u001b[0;34m(self, value)\u001b[0m\n\u001b[1;32m    181\u001b[0m     dt \u001b[38;5;241m=\u001b[39m get_type(t, value)\n\u001b[1;32m    183\u001b[0m \u001b[38;5;28;01mif\u001b[39;00m dt \u001b[38;5;129;01mis\u001b[39;00m \u001b[38;5;28;01mNone\u001b[39;00m \u001b[38;5;129;01mand\u001b[39;00m value \u001b[38;5;129;01mis\u001b[39;00m \u001b[38;5;129;01mnot\u001b[39;00m \u001b[38;5;28;01mNone\u001b[39;00m:\n\u001b[0;32m--> 184\u001b[0m     \u001b[38;5;28;01mraise\u001b[39;00m \u001b[38;5;167;01mValueError\u001b[39;00m(\u001b[38;5;124m\"\u001b[39m\u001b[38;5;124mCannot convert \u001b[39m\u001b[38;5;132;01m{0!r}\u001b[39;00m\u001b[38;5;124m to Excel\u001b[39m\u001b[38;5;124m\"\u001b[39m\u001b[38;5;241m.\u001b[39mformat(value))\n\u001b[1;32m    186\u001b[0m \u001b[38;5;28;01mif\u001b[39;00m dt:\n\u001b[1;32m    187\u001b[0m     \u001b[38;5;28mself\u001b[39m\u001b[38;5;241m.\u001b[39mdata_type \u001b[38;5;241m=\u001b[39m dt\n",
      "\u001b[0;31mValueError\u001b[0m: Cannot convert ['3,500,000 ريال', '5', '420 م² |', '2', 'الرياض', 'حي الياسمين', 'villa'] to Excel"
     ]
    }
   ],
   "source": []
  },
  {
   "cell_type": "code",
   "execution_count": null,
   "id": "abe08097",
   "metadata": {},
   "outputs": [],
   "source": []
  }
 ],
 "metadata": {
  "kernelspec": {
   "display_name": "Python 3 (ipykernel)",
   "language": "python",
   "name": "python3"
  },
  "language_info": {
   "codemirror_mode": {
    "name": "ipython",
    "version": 3
   },
   "file_extension": ".py",
   "mimetype": "text/x-python",
   "name": "python",
   "nbconvert_exporter": "python",
   "pygments_lexer": "ipython3",
   "version": "3.10.9"
  }
 },
 "nbformat": 4,
 "nbformat_minor": 5
}
